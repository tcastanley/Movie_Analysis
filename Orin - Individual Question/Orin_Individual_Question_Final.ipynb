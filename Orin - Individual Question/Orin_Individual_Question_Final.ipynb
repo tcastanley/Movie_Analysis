{
 "cells": [
  {
   "cell_type": "markdown",
   "metadata": {},
   "source": [
    "# What type of films win the most awards?"
   ]
  },
  {
   "cell_type": "markdown",
   "metadata": {},
   "source": [
    "So our group questions covered the topics concerning profits vs number of international releases, and also production budgets vs Academy Awards. I wanted to expand a bit on the Academy Award topic, given that an award nomination not only greatly increases profits, but heightens the reputation of the film studio. \n",
    "\n",
    "If we could get a bit more insight into what genres of movies are more likely to win an award recently, then we can infer that Microsoft should aim to create a movie of that genre. \n",
    "\n",
    "Let's get started by importing our data."
   ]
  },
  {
   "cell_type": "code",
   "execution_count": 1,
   "metadata": {
    "ExecuteTime": {
     "end_time": "2020-06-22T00:07:48.867457Z",
     "start_time": "2020-06-22T00:07:48.398305Z"
    }
   },
   "outputs": [],
   "source": [
    "import pandas as pd\n",
    "import os\n",
    "import sqlite3"
   ]
  },
  {
   "cell_type": "markdown",
   "metadata": {},
   "source": [
    "## Import Data Tables "
   ]
  },
  {
   "cell_type": "markdown",
   "metadata": {},
   "source": [
    "Let's bring in and view our initial scraped award table that we used in our Group Question"
   ]
  },
  {
   "cell_type": "code",
   "execution_count": 2,
   "metadata": {
    "ExecuteTime": {
     "end_time": "2020-06-22T00:07:49.068516Z",
     "start_time": "2020-06-22T00:07:49.065646Z"
    }
   },
   "outputs": [],
   "source": [
    "conn = sqlite3.connect(\"movies_db.sqlite\") \n",
    "cur = conn.cursor()"
   ]
  },
  {
   "cell_type": "code",
   "execution_count": 3,
   "metadata": {
    "ExecuteTime": {
     "end_time": "2020-06-22T00:07:49.293261Z",
     "start_time": "2020-06-22T00:07:49.283390Z"
    }
   },
   "outputs": [
    {
     "data": {
      "text/plain": [
       "[('imdb_title_crew',),\n",
       " ('tmdb_movies',),\n",
       " ('imdb_title_akas',),\n",
       " ('imdb_title_ratings',),\n",
       " ('imdb_name_basics',),\n",
       " ('imdb_title_basics',),\n",
       " ('tn_movie_budgets',),\n",
       " ('bom_movie_gross',),\n",
       " ('imdb_title_principals',),\n",
       " ('films_by_awards.csv',),\n",
       " ('films_by_awards',),\n",
       " ('films_by_awards1',),\n",
       " ('films_by_awards2',),\n",
       " ('tn_movie_budgets2',),\n",
       " ('tn_movie_budgets_clean',)]"
      ]
     },
     "execution_count": 3,
     "metadata": {},
     "output_type": "execute_result"
    }
   ],
   "source": [
    "cur.execute(\"select name from sqlite_master where type='table';\").fetchall()"
   ]
  },
  {
   "cell_type": "markdown",
   "metadata": {
    "ExecuteTime": {
     "end_time": "2020-06-22T01:10:32.714516Z",
     "start_time": "2020-06-22T01:10:32.710433Z"
    }
   },
   "source": [
    "As we have already created SQL tables in our group question notebook, we will skip to viewing the dataframes from those SQL tables."
   ]
  },
  {
   "cell_type": "code",
   "execution_count": 4,
   "metadata": {
    "ExecuteTime": {
     "end_time": "2020-06-22T00:07:49.534814Z",
     "start_time": "2020-06-22T00:07:49.509403Z"
    }
   },
   "outputs": [
    {
     "data": {
      "text/html": [
       "<div>\n",
       "<style scoped>\n",
       "    .dataframe tbody tr th:only-of-type {\n",
       "        vertical-align: middle;\n",
       "    }\n",
       "\n",
       "    .dataframe tbody tr th {\n",
       "        vertical-align: top;\n",
       "    }\n",
       "\n",
       "    .dataframe thead th {\n",
       "        text-align: right;\n",
       "    }\n",
       "</style>\n",
       "<table border=\"1\" class=\"dataframe\">\n",
       "  <thead>\n",
       "    <tr style=\"text-align: right;\">\n",
       "      <th></th>\n",
       "      <th>index</th>\n",
       "      <th>Unnamed: 0</th>\n",
       "      <th>film</th>\n",
       "      <th>year</th>\n",
       "      <th>awards</th>\n",
       "      <th>nominations</th>\n",
       "    </tr>\n",
       "  </thead>\n",
       "  <tbody>\n",
       "    <tr>\n",
       "      <td>0</td>\n",
       "      <td>0</td>\n",
       "      <td>0</td>\n",
       "      <td>Parasite</td>\n",
       "      <td>2019</td>\n",
       "      <td>4</td>\n",
       "      <td>6</td>\n",
       "    </tr>\n",
       "    <tr>\n",
       "      <td>1</td>\n",
       "      <td>1</td>\n",
       "      <td>1</td>\n",
       "      <td>Ford v Ferrari</td>\n",
       "      <td>2019</td>\n",
       "      <td>2</td>\n",
       "      <td>4</td>\n",
       "    </tr>\n",
       "    <tr>\n",
       "      <td>2</td>\n",
       "      <td>2</td>\n",
       "      <td>2</td>\n",
       "      <td>Learning to Skateboard in a Warzone (If You're...</td>\n",
       "      <td>2019</td>\n",
       "      <td>1</td>\n",
       "      <td>1</td>\n",
       "    </tr>\n",
       "    <tr>\n",
       "      <td>3</td>\n",
       "      <td>3</td>\n",
       "      <td>3</td>\n",
       "      <td>The Neighbors' Window</td>\n",
       "      <td>2019</td>\n",
       "      <td>1</td>\n",
       "      <td>1</td>\n",
       "    </tr>\n",
       "    <tr>\n",
       "      <td>4</td>\n",
       "      <td>4</td>\n",
       "      <td>4</td>\n",
       "      <td>Little Women</td>\n",
       "      <td>2019</td>\n",
       "      <td>1</td>\n",
       "      <td>6</td>\n",
       "    </tr>\n",
       "    <tr>\n",
       "      <td>...</td>\n",
       "      <td>...</td>\n",
       "      <td>...</td>\n",
       "      <td>...</td>\n",
       "      <td>...</td>\n",
       "      <td>...</td>\n",
       "      <td>...</td>\n",
       "    </tr>\n",
       "    <tr>\n",
       "      <td>1311</td>\n",
       "      <td>1311</td>\n",
       "      <td>1311</td>\n",
       "      <td>The Yankee Doodle Mouse</td>\n",
       "      <td>1943</td>\n",
       "      <td>1</td>\n",
       "      <td>1</td>\n",
       "    </tr>\n",
       "    <tr>\n",
       "      <td>1312</td>\n",
       "      <td>1312</td>\n",
       "      <td>1312</td>\n",
       "      <td>The Yearling</td>\n",
       "      <td>1946</td>\n",
       "      <td>2</td>\n",
       "      <td>7</td>\n",
       "    </tr>\n",
       "    <tr>\n",
       "      <td>1313</td>\n",
       "      <td>1313</td>\n",
       "      <td>1313</td>\n",
       "      <td>Yesterday, Today and Tomorrow (Ieri, oggi, dom...</td>\n",
       "      <td>1964</td>\n",
       "      <td>1</td>\n",
       "      <td>1</td>\n",
       "    </tr>\n",
       "    <tr>\n",
       "      <td>1314</td>\n",
       "      <td>1314</td>\n",
       "      <td>1314</td>\n",
       "      <td>You Can't Take It with You</td>\n",
       "      <td>1938</td>\n",
       "      <td>2</td>\n",
       "      <td>7</td>\n",
       "    </tr>\n",
       "    <tr>\n",
       "      <td>1315</td>\n",
       "      <td>1315</td>\n",
       "      <td>1315</td>\n",
       "      <td>Zorba the Greek (Alexis Zorbas)</td>\n",
       "      <td>1964</td>\n",
       "      <td>3</td>\n",
       "      <td>7</td>\n",
       "    </tr>\n",
       "  </tbody>\n",
       "</table>\n",
       "<p>1316 rows × 6 columns</p>\n",
       "</div>"
      ],
      "text/plain": [
       "      index  Unnamed: 0                                               film  \\\n",
       "0         0           0                                           Parasite   \n",
       "1         1           1                                     Ford v Ferrari   \n",
       "2         2           2  Learning to Skateboard in a Warzone (If You're...   \n",
       "3         3           3                              The Neighbors' Window   \n",
       "4         4           4                                       Little Women   \n",
       "...     ...         ...                                                ...   \n",
       "1311   1311        1311                            The Yankee Doodle Mouse   \n",
       "1312   1312        1312                                       The Yearling   \n",
       "1313   1313        1313  Yesterday, Today and Tomorrow (Ieri, oggi, dom...   \n",
       "1314   1314        1314                         You Can't Take It with You   \n",
       "1315   1315        1315                    Zorba the Greek (Alexis Zorbas)   \n",
       "\n",
       "      year awards nominations  \n",
       "0     2019      4           6  \n",
       "1     2019      2           4  \n",
       "2     2019      1           1  \n",
       "3     2019      1           1  \n",
       "4     2019      1           6  \n",
       "...    ...    ...         ...  \n",
       "1311  1943      1           1  \n",
       "1312  1946      2           7  \n",
       "1313  1964      1           1  \n",
       "1314  1938      2           7  \n",
       "1315  1964      3           7  \n",
       "\n",
       "[1316 rows x 6 columns]"
      ]
     },
     "execution_count": 4,
     "metadata": {},
     "output_type": "execute_result"
    }
   ],
   "source": [
    "cur.execute('''SELECT *\n",
    "               FROM films_by_awards2                \n",
    "                ''') \n",
    "\n",
    "nominated_films_df = pd.DataFrame(cur.fetchall())\n",
    "nominated_films_df.columns = [x[0] for x in cur.description]\n",
    "nominated_films_df"
   ]
  },
  {
   "cell_type": "code",
   "execution_count": 5,
   "metadata": {
    "ExecuteTime": {
     "end_time": "2020-06-22T00:07:49.734169Z",
     "start_time": "2020-06-22T00:07:49.726560Z"
    },
    "scrolled": false
   },
   "outputs": [
    {
     "name": "stdout",
     "output_type": "stream",
     "text": [
      "<class 'pandas.core.frame.DataFrame'>\n",
      "RangeIndex: 1316 entries, 0 to 1315\n",
      "Data columns (total 6 columns):\n",
      "index          1316 non-null int64\n",
      "Unnamed: 0     1316 non-null int64\n",
      "film           1316 non-null object\n",
      "year           1316 non-null object\n",
      "awards         1316 non-null object\n",
      "nominations    1316 non-null object\n",
      "dtypes: int64(2), object(4)\n",
      "memory usage: 61.8+ KB\n"
     ]
    }
   ],
   "source": [
    "nominated_films_df.info()\n"
   ]
  },
  {
   "cell_type": "code",
   "execution_count": 6,
   "metadata": {
    "ExecuteTime": {
     "end_time": "2020-06-22T00:07:49.980912Z",
     "start_time": "2020-06-22T00:07:49.975980Z"
    },
    "scrolled": true
   },
   "outputs": [
    {
     "data": {
      "text/plain": [
       "array(['2019', '2018', '2017', '2016', '2015', '2014', '2013', '2012',\n",
       "       '2011', '2010', '2009', '2008', '2007', '2006', '2005', '2004',\n",
       "       '2003', '2002', '2001', '2000', '1999', '1998', '1997', '1996',\n",
       "       '1995', '1994', '1993', '1992', '1991', '1990', '1989', '1988',\n",
       "       '1987', '1986', '1985', '1984', '1983', '1982', '1981', '1980',\n",
       "       '1979', '1978', '1977', '1976', '1975', '1974', '1973', '1972',\n",
       "       '1971', '1970', '1969', '1968', '1967', '1966', '1965', '1927/28',\n",
       "       '1954', '1949', '1938', '1951', '1943', '1960', '1953', '1957',\n",
       "       '1950', '1929/30', '1941', '1958', '1963', '1956', '1945', '1946',\n",
       "       '1936', '1940', '1937', '1947', '1952', '1931/32', '1942', '1964',\n",
       "       '1959', '1948', '1962', '1961', '1928/29', '1955', '1935', '1939',\n",
       "       '1932/33', '1930/31', '1934', '1944'], dtype=object)"
      ]
     },
     "execution_count": 6,
     "metadata": {},
     "output_type": "execute_result"
    }
   ],
   "source": [
    "nominated_films_df['year'].unique()"
   ]
  },
  {
   "cell_type": "markdown",
   "metadata": {},
   "source": [
    "## Cleaning Data"
   ]
  },
  {
   "cell_type": "markdown",
   "metadata": {},
   "source": [
    "Let's clean up these values containing two years, so that we can figure out how many films were awarded most recently (since 2010)."
   ]
  },
  {
   "cell_type": "code",
   "execution_count": 7,
   "metadata": {
    "ExecuteTime": {
     "end_time": "2020-06-22T00:07:50.588835Z",
     "start_time": "2020-06-22T00:07:50.584359Z"
    }
   },
   "outputs": [],
   "source": [
    "value_split = nominated_films_df['year'].str.split('/')"
   ]
  },
  {
   "cell_type": "code",
   "execution_count": 8,
   "metadata": {
    "ExecuteTime": {
     "end_time": "2020-06-22T00:07:50.981664Z",
     "start_time": "2020-06-22T00:07:50.976363Z"
    }
   },
   "outputs": [],
   "source": [
    "nominated_films_df['year'] = value_split.str.get(0).astype('int')"
   ]
  },
  {
   "cell_type": "code",
   "execution_count": 9,
   "metadata": {
    "ExecuteTime": {
     "end_time": "2020-06-22T00:07:51.524927Z",
     "start_time": "2020-06-22T00:07:51.520039Z"
    }
   },
   "outputs": [
    {
     "data": {
      "text/plain": [
       "array([2019, 2018, 2017, 2016, 2015, 2014, 2013, 2012, 2011, 2010, 2009,\n",
       "       2008, 2007, 2006, 2005, 2004, 2003, 2002, 2001, 2000, 1999, 1998,\n",
       "       1997, 1996, 1995, 1994, 1993, 1992, 1991, 1990, 1989, 1988, 1987,\n",
       "       1986, 1985, 1984, 1983, 1982, 1981, 1980, 1979, 1978, 1977, 1976,\n",
       "       1975, 1974, 1973, 1972, 1971, 1970, 1969, 1968, 1967, 1966, 1965,\n",
       "       1927, 1954, 1949, 1938, 1951, 1943, 1960, 1953, 1957, 1950, 1929,\n",
       "       1941, 1958, 1963, 1956, 1945, 1946, 1936, 1940, 1937, 1947, 1952,\n",
       "       1931, 1942, 1964, 1959, 1948, 1962, 1961, 1928, 1955, 1935, 1939,\n",
       "       1932, 1930, 1934, 1944])"
      ]
     },
     "execution_count": 9,
     "metadata": {},
     "output_type": "execute_result"
    }
   ],
   "source": [
    "nominated_films_df['year'].unique()"
   ]
  },
  {
   "cell_type": "markdown",
   "metadata": {},
   "source": [
    "Let's see how many films were awarded since 2010."
   ]
  },
  {
   "cell_type": "code",
   "execution_count": 10,
   "metadata": {
    "ExecuteTime": {
     "end_time": "2020-06-22T00:07:51.872199Z",
     "start_time": "2020-06-22T00:07:51.865463Z"
    }
   },
   "outputs": [
    {
     "data": {
      "text/plain": [
       "False    1180\n",
       "True      136\n",
       "Name: year, dtype: int64"
      ]
     },
     "execution_count": 10,
     "metadata": {},
     "output_type": "execute_result"
    }
   ],
   "source": [
    "newest_films = nominated_films_df['year'] > 2010    \n",
    "newest_films.value_counts()"
   ]
  },
  {
   "cell_type": "markdown",
   "metadata": {},
   "source": [
    "We have 136 films that were awarded since 2010."
   ]
  },
  {
   "cell_type": "markdown",
   "metadata": {},
   "source": [
    "Now let's view a table that contains films and their respective genres since 2010."
   ]
  },
  {
   "cell_type": "code",
   "execution_count": 11,
   "metadata": {
    "ExecuteTime": {
     "end_time": "2020-06-22T00:07:53.372902Z",
     "start_time": "2020-06-22T00:07:52.864726Z"
    },
    "scrolled": false
   },
   "outputs": [
    {
     "data": {
      "text/html": [
       "<div>\n",
       "<style scoped>\n",
       "    .dataframe tbody tr th:only-of-type {\n",
       "        vertical-align: middle;\n",
       "    }\n",
       "\n",
       "    .dataframe tbody tr th {\n",
       "        vertical-align: top;\n",
       "    }\n",
       "\n",
       "    .dataframe thead th {\n",
       "        text-align: right;\n",
       "    }\n",
       "</style>\n",
       "<table border=\"1\" class=\"dataframe\">\n",
       "  <thead>\n",
       "    <tr style=\"text-align: right;\">\n",
       "      <th></th>\n",
       "      <th>tconst</th>\n",
       "      <th>primary_title</th>\n",
       "      <th>original_title</th>\n",
       "      <th>start_year</th>\n",
       "      <th>runtime_minutes</th>\n",
       "      <th>genres</th>\n",
       "    </tr>\n",
       "  </thead>\n",
       "  <tbody>\n",
       "    <tr>\n",
       "      <td>0</td>\n",
       "      <td>tt0146592</td>\n",
       "      <td>Pál Adrienn</td>\n",
       "      <td>Pál Adrienn</td>\n",
       "      <td>2010</td>\n",
       "      <td>136.0</td>\n",
       "      <td>Drama</td>\n",
       "    </tr>\n",
       "    <tr>\n",
       "      <td>1</td>\n",
       "      <td>tt0154039</td>\n",
       "      <td>So Much for Justice!</td>\n",
       "      <td>Oda az igazság</td>\n",
       "      <td>2010</td>\n",
       "      <td>100.0</td>\n",
       "      <td>History</td>\n",
       "    </tr>\n",
       "    <tr>\n",
       "      <td>2</td>\n",
       "      <td>tt0162942</td>\n",
       "      <td>Children of the Green Dragon</td>\n",
       "      <td>A zöld sárkány gyermekei</td>\n",
       "      <td>2010</td>\n",
       "      <td>89.0</td>\n",
       "      <td>Drama</td>\n",
       "    </tr>\n",
       "    <tr>\n",
       "      <td>3</td>\n",
       "      <td>tt0230212</td>\n",
       "      <td>The Final Journey</td>\n",
       "      <td>The Final Journey</td>\n",
       "      <td>2010</td>\n",
       "      <td>120.0</td>\n",
       "      <td>Drama</td>\n",
       "    </tr>\n",
       "    <tr>\n",
       "      <td>4</td>\n",
       "      <td>tt0312305</td>\n",
       "      <td>Quantum Quest: A Cassini Space Odyssey</td>\n",
       "      <td>Quantum Quest: A Cassini Space Odyssey</td>\n",
       "      <td>2010</td>\n",
       "      <td>45.0</td>\n",
       "      <td>Adventure,Animation,Sci-Fi</td>\n",
       "    </tr>\n",
       "    <tr>\n",
       "      <td>...</td>\n",
       "      <td>...</td>\n",
       "      <td>...</td>\n",
       "      <td>...</td>\n",
       "      <td>...</td>\n",
       "      <td>...</td>\n",
       "      <td>...</td>\n",
       "    </tr>\n",
       "    <tr>\n",
       "      <td>146139</td>\n",
       "      <td>tt6149054</td>\n",
       "      <td>Fantastic Beasts and Where to Find Them 5</td>\n",
       "      <td>Fantastic Beasts and Where to Find Them 5</td>\n",
       "      <td>2024</td>\n",
       "      <td>NaN</td>\n",
       "      <td>Adventure,Family,Fantasy</td>\n",
       "    </tr>\n",
       "    <tr>\n",
       "      <td>146140</td>\n",
       "      <td>tt3095356</td>\n",
       "      <td>Avatar 4</td>\n",
       "      <td>Avatar 4</td>\n",
       "      <td>2025</td>\n",
       "      <td>NaN</td>\n",
       "      <td>Action,Adventure,Fantasy</td>\n",
       "    </tr>\n",
       "    <tr>\n",
       "      <td>146141</td>\n",
       "      <td>tt10300398</td>\n",
       "      <td>Untitled Star Wars Film</td>\n",
       "      <td>Untitled Star Wars Film</td>\n",
       "      <td>2026</td>\n",
       "      <td>NaN</td>\n",
       "      <td>Fantasy</td>\n",
       "    </tr>\n",
       "    <tr>\n",
       "      <td>146142</td>\n",
       "      <td>tt5637536</td>\n",
       "      <td>Avatar 5</td>\n",
       "      <td>Avatar 5</td>\n",
       "      <td>2027</td>\n",
       "      <td>NaN</td>\n",
       "      <td>Action,Adventure,Fantasy</td>\n",
       "    </tr>\n",
       "    <tr>\n",
       "      <td>146143</td>\n",
       "      <td>tt5174640</td>\n",
       "      <td>100 Years</td>\n",
       "      <td>100 Years</td>\n",
       "      <td>2115</td>\n",
       "      <td>NaN</td>\n",
       "      <td>Drama</td>\n",
       "    </tr>\n",
       "  </tbody>\n",
       "</table>\n",
       "<p>146144 rows × 6 columns</p>\n",
       "</div>"
      ],
      "text/plain": [
       "            tconst                              primary_title  \\\n",
       "0        tt0146592                                Pál Adrienn   \n",
       "1        tt0154039                       So Much for Justice!   \n",
       "2        tt0162942               Children of the Green Dragon   \n",
       "3        tt0230212                          The Final Journey   \n",
       "4        tt0312305     Quantum Quest: A Cassini Space Odyssey   \n",
       "...            ...                                        ...   \n",
       "146139   tt6149054  Fantastic Beasts and Where to Find Them 5   \n",
       "146140   tt3095356                                   Avatar 4   \n",
       "146141  tt10300398                    Untitled Star Wars Film   \n",
       "146142   tt5637536                                   Avatar 5   \n",
       "146143   tt5174640                                  100 Years   \n",
       "\n",
       "                                   original_title  start_year  \\\n",
       "0                                     Pál Adrienn        2010   \n",
       "1                                  Oda az igazság        2010   \n",
       "2                        A zöld sárkány gyermekei        2010   \n",
       "3                               The Final Journey        2010   \n",
       "4          Quantum Quest: A Cassini Space Odyssey        2010   \n",
       "...                                           ...         ...   \n",
       "146139  Fantastic Beasts and Where to Find Them 5        2024   \n",
       "146140                                   Avatar 4        2025   \n",
       "146141                    Untitled Star Wars Film        2026   \n",
       "146142                                   Avatar 5        2027   \n",
       "146143                                  100 Years        2115   \n",
       "\n",
       "        runtime_minutes                      genres  \n",
       "0                 136.0                       Drama  \n",
       "1                 100.0                     History  \n",
       "2                  89.0                       Drama  \n",
       "3                 120.0                       Drama  \n",
       "4                  45.0  Adventure,Animation,Sci-Fi  \n",
       "...                 ...                         ...  \n",
       "146139              NaN    Adventure,Family,Fantasy  \n",
       "146140              NaN    Action,Adventure,Fantasy  \n",
       "146141              NaN                     Fantasy  \n",
       "146142              NaN    Action,Adventure,Fantasy  \n",
       "146143              NaN                       Drama  \n",
       "\n",
       "[146144 rows x 6 columns]"
      ]
     },
     "execution_count": 11,
     "metadata": {},
     "output_type": "execute_result"
    }
   ],
   "source": [
    "cur.execute('''SELECT *\n",
    "               FROM imdb_title_basics\n",
    "               ORDER BY start_year\n",
    "                ''') \n",
    "\n",
    "movies_df = pd.DataFrame(cur.fetchall())\n",
    "movies_df.columns = [x[0] for x in cur.description]\n",
    "movies_df"
   ]
  },
  {
   "cell_type": "markdown",
   "metadata": {},
   "source": [
    "## Joining Awards Data to Genre Data"
   ]
  },
  {
   "cell_type": "markdown",
   "metadata": {},
   "source": [
    "Let's do an inner-join of this imdb_title_basics table to our Awards data and hopefully we will have genre info for most of the recently-nominated films."
   ]
  },
  {
   "cell_type": "code",
   "execution_count": 12,
   "metadata": {
    "ExecuteTime": {
     "end_time": "2020-06-22T00:07:55.531678Z",
     "start_time": "2020-06-22T00:07:55.252120Z"
    },
    "scrolled": false
   },
   "outputs": [
    {
     "data": {
      "text/html": [
       "<div>\n",
       "<style scoped>\n",
       "    .dataframe tbody tr th:only-of-type {\n",
       "        vertical-align: middle;\n",
       "    }\n",
       "\n",
       "    .dataframe tbody tr th {\n",
       "        vertical-align: top;\n",
       "    }\n",
       "\n",
       "    .dataframe thead th {\n",
       "        text-align: right;\n",
       "    }\n",
       "</style>\n",
       "<table border=\"1\" class=\"dataframe\">\n",
       "  <thead>\n",
       "    <tr style=\"text-align: right;\">\n",
       "      <th></th>\n",
       "      <th>film</th>\n",
       "      <th>year</th>\n",
       "      <th>awards</th>\n",
       "      <th>nominations</th>\n",
       "      <th>genres</th>\n",
       "    </tr>\n",
       "  </thead>\n",
       "  <tbody>\n",
       "    <tr>\n",
       "      <td>0</td>\n",
       "      <td>Parasite</td>\n",
       "      <td>2019</td>\n",
       "      <td>4</td>\n",
       "      <td>6</td>\n",
       "      <td>Action,Horror,Sci-Fi</td>\n",
       "    </tr>\n",
       "    <tr>\n",
       "      <td>1</td>\n",
       "      <td>Parasite</td>\n",
       "      <td>2019</td>\n",
       "      <td>4</td>\n",
       "      <td>6</td>\n",
       "      <td>Drama,Thriller</td>\n",
       "    </tr>\n",
       "    <tr>\n",
       "      <td>2</td>\n",
       "      <td>Ford v Ferrari</td>\n",
       "      <td>2019</td>\n",
       "      <td>2</td>\n",
       "      <td>4</td>\n",
       "      <td>Action,Biography,Drama</td>\n",
       "    </tr>\n",
       "    <tr>\n",
       "      <td>3</td>\n",
       "      <td>Little Women</td>\n",
       "      <td>2019</td>\n",
       "      <td>1</td>\n",
       "      <td>6</td>\n",
       "      <td>Drama,Romance</td>\n",
       "    </tr>\n",
       "    <tr>\n",
       "      <td>4</td>\n",
       "      <td>Jojo Rabbit</td>\n",
       "      <td>2019</td>\n",
       "      <td>1</td>\n",
       "      <td>6</td>\n",
       "      <td>Comedy,Drama,War</td>\n",
       "    </tr>\n",
       "    <tr>\n",
       "      <td>...</td>\n",
       "      <td>...</td>\n",
       "      <td>...</td>\n",
       "      <td>...</td>\n",
       "      <td>...</td>\n",
       "      <td>...</td>\n",
       "    </tr>\n",
       "    <tr>\n",
       "      <td>115</td>\n",
       "      <td>Alice in Wonderland</td>\n",
       "      <td>2010</td>\n",
       "      <td>2</td>\n",
       "      <td>3</td>\n",
       "      <td>Fantasy,Musical</td>\n",
       "    </tr>\n",
       "    <tr>\n",
       "      <td>116</td>\n",
       "      <td>Black Swan</td>\n",
       "      <td>2010</td>\n",
       "      <td>1</td>\n",
       "      <td>5</td>\n",
       "      <td>Drama,Thriller</td>\n",
       "    </tr>\n",
       "    <tr>\n",
       "      <td>117</td>\n",
       "      <td>In a Better World</td>\n",
       "      <td>2010</td>\n",
       "      <td>1</td>\n",
       "      <td>1</td>\n",
       "      <td>Drama,Romance</td>\n",
       "    </tr>\n",
       "    <tr>\n",
       "      <td>118</td>\n",
       "      <td>The Wolfman</td>\n",
       "      <td>2010</td>\n",
       "      <td>1</td>\n",
       "      <td>1</td>\n",
       "      <td>Drama,Fantasy,Horror</td>\n",
       "    </tr>\n",
       "    <tr>\n",
       "      <td>119</td>\n",
       "      <td>Inside Job</td>\n",
       "      <td>2010</td>\n",
       "      <td>1</td>\n",
       "      <td>1</td>\n",
       "      <td>Crime,Documentary</td>\n",
       "    </tr>\n",
       "  </tbody>\n",
       "</table>\n",
       "<p>120 rows × 5 columns</p>\n",
       "</div>"
      ],
      "text/plain": [
       "                    film  year awards nominations                  genres\n",
       "0               Parasite  2019      4           6    Action,Horror,Sci-Fi\n",
       "1               Parasite  2019      4           6          Drama,Thriller\n",
       "2         Ford v Ferrari  2019      2           4  Action,Biography,Drama\n",
       "3           Little Women  2019      1           6           Drama,Romance\n",
       "4            Jojo Rabbit  2019      1           6        Comedy,Drama,War\n",
       "..                   ...   ...    ...         ...                     ...\n",
       "115  Alice in Wonderland  2010      2           3         Fantasy,Musical\n",
       "116           Black Swan  2010      1           5          Drama,Thriller\n",
       "117    In a Better World  2010      1           1           Drama,Romance\n",
       "118          The Wolfman  2010      1           1    Drama,Fantasy,Horror\n",
       "119           Inside Job  2010      1           1       Crime,Documentary\n",
       "\n",
       "[120 rows x 5 columns]"
      ]
     },
     "execution_count": 12,
     "metadata": {},
     "output_type": "execute_result"
    }
   ],
   "source": [
    "cur.execute('''SELECT a.film, a.year, a.awards, a.nominations, b.genres\n",
    "               FROM films_by_awards2 a\n",
    "               JOIN imdb_title_basics b \n",
    "               ON a.film = b.primary_title\n",
    "               AND a.year = b.start_year\n",
    "                ''') \n",
    "\n",
    "awards_to_genres_df = pd.DataFrame(cur.fetchall())\n",
    "awards_to_genres_df.columns = [x[0] for x in cur.description]\n",
    "awards_to_genres_df"
   ]
  },
  {
   "cell_type": "markdown",
   "metadata": {},
   "source": [
    "We are left with 120 rows, and some apparent duplicates. Let's drop those duplicates below:"
   ]
  },
  {
   "cell_type": "markdown",
   "metadata": {},
   "source": [
    "### Cleaning Duplicated Data"
   ]
  },
  {
   "cell_type": "code",
   "execution_count": 13,
   "metadata": {
    "ExecuteTime": {
     "end_time": "2020-06-22T00:07:57.752813Z",
     "start_time": "2020-06-22T00:07:57.747664Z"
    }
   },
   "outputs": [],
   "source": [
    "awards_to_genres_df.drop_duplicates(subset='film', keep='last', inplace=True)"
   ]
  },
  {
   "cell_type": "code",
   "execution_count": 14,
   "metadata": {
    "ExecuteTime": {
     "end_time": "2020-06-22T00:08:01.545607Z",
     "start_time": "2020-06-22T00:08:01.529967Z"
    }
   },
   "outputs": [
    {
     "data": {
      "text/html": [
       "<div>\n",
       "<style scoped>\n",
       "    .dataframe tbody tr th:only-of-type {\n",
       "        vertical-align: middle;\n",
       "    }\n",
       "\n",
       "    .dataframe tbody tr th {\n",
       "        vertical-align: top;\n",
       "    }\n",
       "\n",
       "    .dataframe thead th {\n",
       "        text-align: right;\n",
       "    }\n",
       "</style>\n",
       "<table border=\"1\" class=\"dataframe\">\n",
       "  <thead>\n",
       "    <tr style=\"text-align: right;\">\n",
       "      <th></th>\n",
       "      <th>film</th>\n",
       "      <th>year</th>\n",
       "      <th>awards</th>\n",
       "      <th>nominations</th>\n",
       "      <th>genres</th>\n",
       "    </tr>\n",
       "  </thead>\n",
       "  <tbody>\n",
       "    <tr>\n",
       "      <td>1</td>\n",
       "      <td>Parasite</td>\n",
       "      <td>2019</td>\n",
       "      <td>4</td>\n",
       "      <td>6</td>\n",
       "      <td>Drama,Thriller</td>\n",
       "    </tr>\n",
       "    <tr>\n",
       "      <td>2</td>\n",
       "      <td>Ford v Ferrari</td>\n",
       "      <td>2019</td>\n",
       "      <td>2</td>\n",
       "      <td>4</td>\n",
       "      <td>Action,Biography,Drama</td>\n",
       "    </tr>\n",
       "    <tr>\n",
       "      <td>3</td>\n",
       "      <td>Little Women</td>\n",
       "      <td>2019</td>\n",
       "      <td>1</td>\n",
       "      <td>6</td>\n",
       "      <td>Drama,Romance</td>\n",
       "    </tr>\n",
       "    <tr>\n",
       "      <td>4</td>\n",
       "      <td>Jojo Rabbit</td>\n",
       "      <td>2019</td>\n",
       "      <td>1</td>\n",
       "      <td>6</td>\n",
       "      <td>Comedy,Drama,War</td>\n",
       "    </tr>\n",
       "    <tr>\n",
       "      <td>5</td>\n",
       "      <td>Toy Story 4</td>\n",
       "      <td>2019</td>\n",
       "      <td>1</td>\n",
       "      <td>2</td>\n",
       "      <td>Adventure,Animation,Comedy</td>\n",
       "    </tr>\n",
       "    <tr>\n",
       "      <td>6</td>\n",
       "      <td>Joker</td>\n",
       "      <td>2019</td>\n",
       "      <td>2</td>\n",
       "      <td>11</td>\n",
       "      <td>Crime,Drama,Thriller</td>\n",
       "    </tr>\n",
       "    <tr>\n",
       "      <td>7</td>\n",
       "      <td>1917</td>\n",
       "      <td>2019</td>\n",
       "      <td>3</td>\n",
       "      <td>10</td>\n",
       "      <td>Drama,War</td>\n",
       "    </tr>\n",
       "    <tr>\n",
       "      <td>8</td>\n",
       "      <td>Judy</td>\n",
       "      <td>2019</td>\n",
       "      <td>1</td>\n",
       "      <td>2</td>\n",
       "      <td>Biography,Drama,History</td>\n",
       "    </tr>\n",
       "    <tr>\n",
       "      <td>9</td>\n",
       "      <td>Rocketman</td>\n",
       "      <td>2019</td>\n",
       "      <td>1</td>\n",
       "      <td>1</td>\n",
       "      <td>Biography,Drama,Music</td>\n",
       "    </tr>\n",
       "    <tr>\n",
       "      <td>10</td>\n",
       "      <td>American Factory</td>\n",
       "      <td>2019</td>\n",
       "      <td>1</td>\n",
       "      <td>1</td>\n",
       "      <td>Documentary</td>\n",
       "    </tr>\n",
       "    <tr>\n",
       "      <td>11</td>\n",
       "      <td>Green Book</td>\n",
       "      <td>2018</td>\n",
       "      <td>3</td>\n",
       "      <td>5</td>\n",
       "      <td>Biography,Comedy,Drama</td>\n",
       "    </tr>\n",
       "    <tr>\n",
       "      <td>12</td>\n",
       "      <td>Bohemian Rhapsody</td>\n",
       "      <td>2018</td>\n",
       "      <td>4</td>\n",
       "      <td>5</td>\n",
       "      <td>Biography,Drama,Music</td>\n",
       "    </tr>\n",
       "    <tr>\n",
       "      <td>13</td>\n",
       "      <td>Roma</td>\n",
       "      <td>2018</td>\n",
       "      <td>3</td>\n",
       "      <td>10</td>\n",
       "      <td>Drama</td>\n",
       "    </tr>\n",
       "    <tr>\n",
       "      <td>14</td>\n",
       "      <td>Black Panther</td>\n",
       "      <td>2018</td>\n",
       "      <td>3</td>\n",
       "      <td>7</td>\n",
       "      <td>Action,Adventure,Sci-Fi</td>\n",
       "    </tr>\n",
       "    <tr>\n",
       "      <td>15</td>\n",
       "      <td>The Favourite</td>\n",
       "      <td>2018</td>\n",
       "      <td>1</td>\n",
       "      <td>10</td>\n",
       "      <td>Biography,Drama,History</td>\n",
       "    </tr>\n",
       "    <tr>\n",
       "      <td>16</td>\n",
       "      <td>A Star Is Born</td>\n",
       "      <td>2018</td>\n",
       "      <td>1</td>\n",
       "      <td>8</td>\n",
       "      <td>Drama,Music,Romance</td>\n",
       "    </tr>\n",
       "    <tr>\n",
       "      <td>17</td>\n",
       "      <td>Vice</td>\n",
       "      <td>2018</td>\n",
       "      <td>1</td>\n",
       "      <td>8</td>\n",
       "      <td>Biography,Comedy,Drama</td>\n",
       "    </tr>\n",
       "    <tr>\n",
       "      <td>18</td>\n",
       "      <td>BlacKkKlansman</td>\n",
       "      <td>2018</td>\n",
       "      <td>1</td>\n",
       "      <td>6</td>\n",
       "      <td>Biography,Crime,Drama</td>\n",
       "    </tr>\n",
       "    <tr>\n",
       "      <td>19</td>\n",
       "      <td>First Man</td>\n",
       "      <td>2018</td>\n",
       "      <td>1</td>\n",
       "      <td>4</td>\n",
       "      <td>Biography,Drama,History</td>\n",
       "    </tr>\n",
       "    <tr>\n",
       "      <td>20</td>\n",
       "      <td>If Beale Street Could Talk</td>\n",
       "      <td>2018</td>\n",
       "      <td>1</td>\n",
       "      <td>3</td>\n",
       "      <td>Drama,Romance</td>\n",
       "    </tr>\n",
       "    <tr>\n",
       "      <td>21</td>\n",
       "      <td>Free Solo</td>\n",
       "      <td>2018</td>\n",
       "      <td>1</td>\n",
       "      <td>1</td>\n",
       "      <td>Documentary,Sport</td>\n",
       "    </tr>\n",
       "    <tr>\n",
       "      <td>22</td>\n",
       "      <td>Skin</td>\n",
       "      <td>2018</td>\n",
       "      <td>1</td>\n",
       "      <td>1</td>\n",
       "      <td>Biography,Drama</td>\n",
       "    </tr>\n",
       "    <tr>\n",
       "      <td>23</td>\n",
       "      <td>Spider-Man: Into the Spider-Verse</td>\n",
       "      <td>2018</td>\n",
       "      <td>1</td>\n",
       "      <td>1</td>\n",
       "      <td>Action,Adventure,Animation</td>\n",
       "    </tr>\n",
       "    <tr>\n",
       "      <td>24</td>\n",
       "      <td>The Shape of Water</td>\n",
       "      <td>2017</td>\n",
       "      <td>4</td>\n",
       "      <td>13</td>\n",
       "      <td>Adventure,Drama,Fantasy</td>\n",
       "    </tr>\n",
       "    <tr>\n",
       "      <td>25</td>\n",
       "      <td>Dunkirk</td>\n",
       "      <td>2017</td>\n",
       "      <td>3</td>\n",
       "      <td>8</td>\n",
       "      <td>Action,Drama,History</td>\n",
       "    </tr>\n",
       "    <tr>\n",
       "      <td>26</td>\n",
       "      <td>Three Billboards Outside Ebbing, Missouri</td>\n",
       "      <td>2017</td>\n",
       "      <td>2</td>\n",
       "      <td>7</td>\n",
       "      <td>Crime,Drama</td>\n",
       "    </tr>\n",
       "    <tr>\n",
       "      <td>27</td>\n",
       "      <td>Darkest Hour</td>\n",
       "      <td>2017</td>\n",
       "      <td>2</td>\n",
       "      <td>6</td>\n",
       "      <td>Biography,Drama,History</td>\n",
       "    </tr>\n",
       "    <tr>\n",
       "      <td>28</td>\n",
       "      <td>Blade Runner 2049</td>\n",
       "      <td>2017</td>\n",
       "      <td>2</td>\n",
       "      <td>5</td>\n",
       "      <td>Drama,Mystery,Sci-Fi</td>\n",
       "    </tr>\n",
       "    <tr>\n",
       "      <td>30</td>\n",
       "      <td>Coco</td>\n",
       "      <td>2017</td>\n",
       "      <td>2</td>\n",
       "      <td>2</td>\n",
       "      <td>Horror</td>\n",
       "    </tr>\n",
       "    <tr>\n",
       "      <td>31</td>\n",
       "      <td>Phantom Thread</td>\n",
       "      <td>2017</td>\n",
       "      <td>1</td>\n",
       "      <td>6</td>\n",
       "      <td>Drama,Romance</td>\n",
       "    </tr>\n",
       "    <tr>\n",
       "      <td>32</td>\n",
       "      <td>Call Me by Your Name</td>\n",
       "      <td>2017</td>\n",
       "      <td>1</td>\n",
       "      <td>4</td>\n",
       "      <td>Drama,Romance</td>\n",
       "    </tr>\n",
       "    <tr>\n",
       "      <td>33</td>\n",
       "      <td>Get Out</td>\n",
       "      <td>2017</td>\n",
       "      <td>1</td>\n",
       "      <td>4</td>\n",
       "      <td>Horror,Mystery,Thriller</td>\n",
       "    </tr>\n",
       "    <tr>\n",
       "      <td>34</td>\n",
       "      <td>I, Tonya</td>\n",
       "      <td>2017</td>\n",
       "      <td>1</td>\n",
       "      <td>3</td>\n",
       "      <td>Biography,Comedy,Drama</td>\n",
       "    </tr>\n",
       "    <tr>\n",
       "      <td>35</td>\n",
       "      <td>A Fantastic Woman</td>\n",
       "      <td>2017</td>\n",
       "      <td>1</td>\n",
       "      <td>1</td>\n",
       "      <td>Drama</td>\n",
       "    </tr>\n",
       "    <tr>\n",
       "      <td>37</td>\n",
       "      <td>Icarus</td>\n",
       "      <td>2017</td>\n",
       "      <td>1</td>\n",
       "      <td>1</td>\n",
       "      <td>Sci-Fi</td>\n",
       "    </tr>\n",
       "    <tr>\n",
       "      <td>38</td>\n",
       "      <td>Moonlight</td>\n",
       "      <td>2016</td>\n",
       "      <td>3</td>\n",
       "      <td>8</td>\n",
       "      <td>Drama</td>\n",
       "    </tr>\n",
       "    <tr>\n",
       "      <td>39</td>\n",
       "      <td>La La Land</td>\n",
       "      <td>2016</td>\n",
       "      <td>6</td>\n",
       "      <td>14</td>\n",
       "      <td>Comedy,Drama,Music</td>\n",
       "    </tr>\n",
       "    <tr>\n",
       "      <td>40</td>\n",
       "      <td>Hacksaw Ridge</td>\n",
       "      <td>2016</td>\n",
       "      <td>2</td>\n",
       "      <td>6</td>\n",
       "      <td>Biography,Drama,History</td>\n",
       "    </tr>\n",
       "    <tr>\n",
       "      <td>41</td>\n",
       "      <td>Manchester by the Sea</td>\n",
       "      <td>2016</td>\n",
       "      <td>2</td>\n",
       "      <td>6</td>\n",
       "      <td>Drama</td>\n",
       "    </tr>\n",
       "    <tr>\n",
       "      <td>42</td>\n",
       "      <td>Arrival</td>\n",
       "      <td>2016</td>\n",
       "      <td>1</td>\n",
       "      <td>8</td>\n",
       "      <td>Drama,Mystery,Sci-Fi</td>\n",
       "    </tr>\n",
       "    <tr>\n",
       "      <td>43</td>\n",
       "      <td>Fences</td>\n",
       "      <td>2016</td>\n",
       "      <td>1</td>\n",
       "      <td>4</td>\n",
       "      <td>Drama</td>\n",
       "    </tr>\n",
       "    <tr>\n",
       "      <td>44</td>\n",
       "      <td>Fantastic Beasts and Where to Find Them</td>\n",
       "      <td>2016</td>\n",
       "      <td>1</td>\n",
       "      <td>2</td>\n",
       "      <td>Adventure,Family,Fantasy</td>\n",
       "    </tr>\n",
       "    <tr>\n",
       "      <td>45</td>\n",
       "      <td>The Jungle Book</td>\n",
       "      <td>2016</td>\n",
       "      <td>1</td>\n",
       "      <td>1</td>\n",
       "      <td>Adventure,Drama,Family</td>\n",
       "    </tr>\n",
       "    <tr>\n",
       "      <td>46</td>\n",
       "      <td>O.J.: Made in America</td>\n",
       "      <td>2016</td>\n",
       "      <td>1</td>\n",
       "      <td>1</td>\n",
       "      <td>Biography,Crime,Documentary</td>\n",
       "    </tr>\n",
       "    <tr>\n",
       "      <td>47</td>\n",
       "      <td>The Salesman</td>\n",
       "      <td>2016</td>\n",
       "      <td>1</td>\n",
       "      <td>1</td>\n",
       "      <td>Drama,Thriller</td>\n",
       "    </tr>\n",
       "    <tr>\n",
       "      <td>48</td>\n",
       "      <td>Sing</td>\n",
       "      <td>2016</td>\n",
       "      <td>1</td>\n",
       "      <td>1</td>\n",
       "      <td>Animation,Comedy,Family</td>\n",
       "    </tr>\n",
       "    <tr>\n",
       "      <td>49</td>\n",
       "      <td>Suicide Squad</td>\n",
       "      <td>2016</td>\n",
       "      <td>1</td>\n",
       "      <td>1</td>\n",
       "      <td>Action,Adventure,Fantasy</td>\n",
       "    </tr>\n",
       "    <tr>\n",
       "      <td>50</td>\n",
       "      <td>Zootopia</td>\n",
       "      <td>2016</td>\n",
       "      <td>1</td>\n",
       "      <td>1</td>\n",
       "      <td>Adventure,Animation,Comedy</td>\n",
       "    </tr>\n",
       "    <tr>\n",
       "      <td>52</td>\n",
       "      <td>Spotlight</td>\n",
       "      <td>2015</td>\n",
       "      <td>2</td>\n",
       "      <td>6</td>\n",
       "      <td>Drama</td>\n",
       "    </tr>\n",
       "    <tr>\n",
       "      <td>53</td>\n",
       "      <td>Mad Max: Fury Road</td>\n",
       "      <td>2015</td>\n",
       "      <td>6</td>\n",
       "      <td>10</td>\n",
       "      <td>Action,Adventure,Sci-Fi</td>\n",
       "    </tr>\n",
       "  </tbody>\n",
       "</table>\n",
       "</div>"
      ],
      "text/plain": [
       "                                         film  year awards nominations  \\\n",
       "1                                    Parasite  2019      4           6   \n",
       "2                              Ford v Ferrari  2019      2           4   \n",
       "3                                Little Women  2019      1           6   \n",
       "4                                 Jojo Rabbit  2019      1           6   \n",
       "5                                 Toy Story 4  2019      1           2   \n",
       "6                                       Joker  2019      2          11   \n",
       "7                                        1917  2019      3          10   \n",
       "8                                        Judy  2019      1           2   \n",
       "9                                   Rocketman  2019      1           1   \n",
       "10                           American Factory  2019      1           1   \n",
       "11                                 Green Book  2018      3           5   \n",
       "12                          Bohemian Rhapsody  2018      4           5   \n",
       "13                                       Roma  2018      3          10   \n",
       "14                              Black Panther  2018      3           7   \n",
       "15                              The Favourite  2018      1          10   \n",
       "16                             A Star Is Born  2018      1           8   \n",
       "17                                       Vice  2018      1           8   \n",
       "18                             BlacKkKlansman  2018      1           6   \n",
       "19                                  First Man  2018      1           4   \n",
       "20                 If Beale Street Could Talk  2018      1           3   \n",
       "21                                  Free Solo  2018      1           1   \n",
       "22                                       Skin  2018      1           1   \n",
       "23          Spider-Man: Into the Spider-Verse  2018      1           1   \n",
       "24                         The Shape of Water  2017      4          13   \n",
       "25                                    Dunkirk  2017      3           8   \n",
       "26  Three Billboards Outside Ebbing, Missouri  2017      2           7   \n",
       "27                               Darkest Hour  2017      2           6   \n",
       "28                          Blade Runner 2049  2017      2           5   \n",
       "30                                       Coco  2017      2           2   \n",
       "31                             Phantom Thread  2017      1           6   \n",
       "32                       Call Me by Your Name  2017      1           4   \n",
       "33                                    Get Out  2017      1           4   \n",
       "34                                   I, Tonya  2017      1           3   \n",
       "35                          A Fantastic Woman  2017      1           1   \n",
       "37                                     Icarus  2017      1           1   \n",
       "38                                  Moonlight  2016      3           8   \n",
       "39                                 La La Land  2016      6          14   \n",
       "40                              Hacksaw Ridge  2016      2           6   \n",
       "41                      Manchester by the Sea  2016      2           6   \n",
       "42                                    Arrival  2016      1           8   \n",
       "43                                     Fences  2016      1           4   \n",
       "44    Fantastic Beasts and Where to Find Them  2016      1           2   \n",
       "45                            The Jungle Book  2016      1           1   \n",
       "46                      O.J.: Made in America  2016      1           1   \n",
       "47                               The Salesman  2016      1           1   \n",
       "48                                       Sing  2016      1           1   \n",
       "49                              Suicide Squad  2016      1           1   \n",
       "50                                   Zootopia  2016      1           1   \n",
       "52                                  Spotlight  2015      2           6   \n",
       "53                         Mad Max: Fury Road  2015      6          10   \n",
       "\n",
       "                         genres  \n",
       "1                Drama,Thriller  \n",
       "2        Action,Biography,Drama  \n",
       "3                 Drama,Romance  \n",
       "4              Comedy,Drama,War  \n",
       "5    Adventure,Animation,Comedy  \n",
       "6          Crime,Drama,Thriller  \n",
       "7                     Drama,War  \n",
       "8       Biography,Drama,History  \n",
       "9         Biography,Drama,Music  \n",
       "10                  Documentary  \n",
       "11       Biography,Comedy,Drama  \n",
       "12        Biography,Drama,Music  \n",
       "13                        Drama  \n",
       "14      Action,Adventure,Sci-Fi  \n",
       "15      Biography,Drama,History  \n",
       "16          Drama,Music,Romance  \n",
       "17       Biography,Comedy,Drama  \n",
       "18        Biography,Crime,Drama  \n",
       "19      Biography,Drama,History  \n",
       "20                Drama,Romance  \n",
       "21            Documentary,Sport  \n",
       "22              Biography,Drama  \n",
       "23   Action,Adventure,Animation  \n",
       "24      Adventure,Drama,Fantasy  \n",
       "25         Action,Drama,History  \n",
       "26                  Crime,Drama  \n",
       "27      Biography,Drama,History  \n",
       "28         Drama,Mystery,Sci-Fi  \n",
       "30                       Horror  \n",
       "31                Drama,Romance  \n",
       "32                Drama,Romance  \n",
       "33      Horror,Mystery,Thriller  \n",
       "34       Biography,Comedy,Drama  \n",
       "35                        Drama  \n",
       "37                       Sci-Fi  \n",
       "38                        Drama  \n",
       "39           Comedy,Drama,Music  \n",
       "40      Biography,Drama,History  \n",
       "41                        Drama  \n",
       "42         Drama,Mystery,Sci-Fi  \n",
       "43                        Drama  \n",
       "44     Adventure,Family,Fantasy  \n",
       "45       Adventure,Drama,Family  \n",
       "46  Biography,Crime,Documentary  \n",
       "47               Drama,Thriller  \n",
       "48      Animation,Comedy,Family  \n",
       "49     Action,Adventure,Fantasy  \n",
       "50   Adventure,Animation,Comedy  \n",
       "52                        Drama  \n",
       "53      Action,Adventure,Sci-Fi  "
      ]
     },
     "execution_count": 14,
     "metadata": {},
     "output_type": "execute_result"
    }
   ],
   "source": [
    "awards_to_genres_df[:50]"
   ]
  },
  {
   "cell_type": "markdown",
   "metadata": {},
   "source": [
    "We are now left with the most recent 114 award winning films, and their attributed genres. Not too bad! My general thought for this data is that using the most recent 10 years of films would give a more accurate representation of the distribution of genres that are more likely to get awarded in the near future."
   ]
  },
  {
   "cell_type": "markdown",
   "metadata": {},
   "source": [
    "Let's get to work on creating a column for each genre, starting by splitting each row's list of genres."
   ]
  },
  {
   "cell_type": "markdown",
   "metadata": {},
   "source": [
    "## Reformatting Data "
   ]
  },
  {
   "cell_type": "code",
   "execution_count": 15,
   "metadata": {
    "ExecuteTime": {
     "end_time": "2020-06-22T00:08:07.188780Z",
     "start_time": "2020-06-22T00:08:07.185040Z"
    },
    "scrolled": true
   },
   "outputs": [],
   "source": [
    "awards_to_genres_df['genres'] = awards_to_genres_df['genres'].apply(lambda x: x.split(\",\") if x in x else x)\n",
    "\n",
    "#the above iterates through each rows for genre, splitting from the comma if a comma is contained"
   ]
  },
  {
   "cell_type": "code",
   "execution_count": 37,
   "metadata": {
    "ExecuteTime": {
     "end_time": "2020-06-22T01:21:32.742017Z",
     "start_time": "2020-06-22T01:21:32.736102Z"
    }
   },
   "outputs": [
    {
     "data": {
      "text/plain": [
       "1                 [Drama, Thriller]\n",
       "2        [Action, Biography, Drama]\n",
       "3                  [Drama, Romance]\n",
       "4              [Comedy, Drama, War]\n",
       "5    [Adventure, Animation, Comedy]\n",
       "Name: genres, dtype: object"
      ]
     },
     "execution_count": 37,
     "metadata": {},
     "output_type": "execute_result"
    }
   ],
   "source": [
    "awards_to_genres_df['genres'].head()"
   ]
  },
  {
   "cell_type": "markdown",
   "metadata": {},
   "source": [
    "Let's make a new set, by iterating through each separated value in genres with a for loop"
   ]
  },
  {
   "cell_type": "code",
   "execution_count": 17,
   "metadata": {
    "ExecuteTime": {
     "end_time": "2020-06-22T00:08:11.027318Z",
     "start_time": "2020-06-22T00:08:11.024005Z"
    }
   },
   "outputs": [],
   "source": [
    "all_genres = set()                      \n",
    "for genres in awards_to_genres_df['genres']:\n",
    "    if genres:\n",
    "        all_genres.update(genres)"
   ]
  },
  {
   "cell_type": "code",
   "execution_count": 18,
   "metadata": {
    "ExecuteTime": {
     "end_time": "2020-06-22T00:08:11.855855Z",
     "start_time": "2020-06-22T00:08:11.851974Z"
    },
    "scrolled": true
   },
   "outputs": [
    {
     "data": {
      "text/plain": [
       "{'Action',\n",
       " 'Adventure',\n",
       " 'Animation',\n",
       " 'Biography',\n",
       " 'Comedy',\n",
       " 'Crime',\n",
       " 'Documentary',\n",
       " 'Drama',\n",
       " 'Family',\n",
       " 'Fantasy',\n",
       " 'History',\n",
       " 'Horror',\n",
       " 'Music',\n",
       " 'Musical',\n",
       " 'Mystery',\n",
       " 'Romance',\n",
       " 'Sci-Fi',\n",
       " 'Sport',\n",
       " 'Thriller',\n",
       " 'War',\n",
       " 'Western'}"
      ]
     },
     "execution_count": 18,
     "metadata": {},
     "output_type": "execute_result"
    }
   ],
   "source": [
    "all_genres"
   ]
  },
  {
   "cell_type": "markdown",
   "metadata": {},
   "source": [
    "Now let's iterate through each genre, creating a new column for each iteration (each genre) and assigning it a 0 value"
   ]
  },
  {
   "cell_type": "code",
   "execution_count": 19,
   "metadata": {
    "ExecuteTime": {
     "end_time": "2020-06-22T00:08:13.515097Z",
     "start_time": "2020-06-22T00:08:13.480365Z"
    },
    "scrolled": true
   },
   "outputs": [
    {
     "data": {
      "text/html": [
       "<div>\n",
       "<style scoped>\n",
       "    .dataframe tbody tr th:only-of-type {\n",
       "        vertical-align: middle;\n",
       "    }\n",
       "\n",
       "    .dataframe tbody tr th {\n",
       "        vertical-align: top;\n",
       "    }\n",
       "\n",
       "    .dataframe thead th {\n",
       "        text-align: right;\n",
       "    }\n",
       "</style>\n",
       "<table border=\"1\" class=\"dataframe\">\n",
       "  <thead>\n",
       "    <tr style=\"text-align: right;\">\n",
       "      <th></th>\n",
       "      <th>film</th>\n",
       "      <th>year</th>\n",
       "      <th>awards</th>\n",
       "      <th>nominations</th>\n",
       "      <th>genres</th>\n",
       "      <th>Sport</th>\n",
       "      <th>Musical</th>\n",
       "      <th>Action</th>\n",
       "      <th>Comedy</th>\n",
       "      <th>Thriller</th>\n",
       "      <th>...</th>\n",
       "      <th>Music</th>\n",
       "      <th>Fantasy</th>\n",
       "      <th>Crime</th>\n",
       "      <th>Western</th>\n",
       "      <th>Horror</th>\n",
       "      <th>Mystery</th>\n",
       "      <th>Adventure</th>\n",
       "      <th>Biography</th>\n",
       "      <th>Romance</th>\n",
       "      <th>History</th>\n",
       "    </tr>\n",
       "  </thead>\n",
       "  <tbody>\n",
       "    <tr>\n",
       "      <td>1</td>\n",
       "      <td>Parasite</td>\n",
       "      <td>2019</td>\n",
       "      <td>4</td>\n",
       "      <td>6</td>\n",
       "      <td>[Drama, Thriller]</td>\n",
       "      <td>0.0</td>\n",
       "      <td>0.0</td>\n",
       "      <td>0.0</td>\n",
       "      <td>0.0</td>\n",
       "      <td>0.0</td>\n",
       "      <td>...</td>\n",
       "      <td>0.0</td>\n",
       "      <td>0.0</td>\n",
       "      <td>0.0</td>\n",
       "      <td>0.0</td>\n",
       "      <td>0.0</td>\n",
       "      <td>0.0</td>\n",
       "      <td>0.0</td>\n",
       "      <td>0.0</td>\n",
       "      <td>0.0</td>\n",
       "      <td>0.0</td>\n",
       "    </tr>\n",
       "    <tr>\n",
       "      <td>2</td>\n",
       "      <td>Ford v Ferrari</td>\n",
       "      <td>2019</td>\n",
       "      <td>2</td>\n",
       "      <td>4</td>\n",
       "      <td>[Action, Biography, Drama]</td>\n",
       "      <td>0.0</td>\n",
       "      <td>0.0</td>\n",
       "      <td>0.0</td>\n",
       "      <td>0.0</td>\n",
       "      <td>0.0</td>\n",
       "      <td>...</td>\n",
       "      <td>0.0</td>\n",
       "      <td>0.0</td>\n",
       "      <td>0.0</td>\n",
       "      <td>0.0</td>\n",
       "      <td>0.0</td>\n",
       "      <td>0.0</td>\n",
       "      <td>0.0</td>\n",
       "      <td>0.0</td>\n",
       "      <td>0.0</td>\n",
       "      <td>0.0</td>\n",
       "    </tr>\n",
       "    <tr>\n",
       "      <td>3</td>\n",
       "      <td>Little Women</td>\n",
       "      <td>2019</td>\n",
       "      <td>1</td>\n",
       "      <td>6</td>\n",
       "      <td>[Drama, Romance]</td>\n",
       "      <td>0.0</td>\n",
       "      <td>0.0</td>\n",
       "      <td>0.0</td>\n",
       "      <td>0.0</td>\n",
       "      <td>0.0</td>\n",
       "      <td>...</td>\n",
       "      <td>0.0</td>\n",
       "      <td>0.0</td>\n",
       "      <td>0.0</td>\n",
       "      <td>0.0</td>\n",
       "      <td>0.0</td>\n",
       "      <td>0.0</td>\n",
       "      <td>0.0</td>\n",
       "      <td>0.0</td>\n",
       "      <td>0.0</td>\n",
       "      <td>0.0</td>\n",
       "    </tr>\n",
       "    <tr>\n",
       "      <td>4</td>\n",
       "      <td>Jojo Rabbit</td>\n",
       "      <td>2019</td>\n",
       "      <td>1</td>\n",
       "      <td>6</td>\n",
       "      <td>[Comedy, Drama, War]</td>\n",
       "      <td>0.0</td>\n",
       "      <td>0.0</td>\n",
       "      <td>0.0</td>\n",
       "      <td>0.0</td>\n",
       "      <td>0.0</td>\n",
       "      <td>...</td>\n",
       "      <td>0.0</td>\n",
       "      <td>0.0</td>\n",
       "      <td>0.0</td>\n",
       "      <td>0.0</td>\n",
       "      <td>0.0</td>\n",
       "      <td>0.0</td>\n",
       "      <td>0.0</td>\n",
       "      <td>0.0</td>\n",
       "      <td>0.0</td>\n",
       "      <td>0.0</td>\n",
       "    </tr>\n",
       "    <tr>\n",
       "      <td>5</td>\n",
       "      <td>Toy Story 4</td>\n",
       "      <td>2019</td>\n",
       "      <td>1</td>\n",
       "      <td>2</td>\n",
       "      <td>[Adventure, Animation, Comedy]</td>\n",
       "      <td>0.0</td>\n",
       "      <td>0.0</td>\n",
       "      <td>0.0</td>\n",
       "      <td>0.0</td>\n",
       "      <td>0.0</td>\n",
       "      <td>...</td>\n",
       "      <td>0.0</td>\n",
       "      <td>0.0</td>\n",
       "      <td>0.0</td>\n",
       "      <td>0.0</td>\n",
       "      <td>0.0</td>\n",
       "      <td>0.0</td>\n",
       "      <td>0.0</td>\n",
       "      <td>0.0</td>\n",
       "      <td>0.0</td>\n",
       "      <td>0.0</td>\n",
       "    </tr>\n",
       "  </tbody>\n",
       "</table>\n",
       "<p>5 rows × 26 columns</p>\n",
       "</div>"
      ],
      "text/plain": [
       "             film  year awards nominations                          genres  \\\n",
       "1        Parasite  2019      4           6               [Drama, Thriller]   \n",
       "2  Ford v Ferrari  2019      2           4      [Action, Biography, Drama]   \n",
       "3    Little Women  2019      1           6                [Drama, Romance]   \n",
       "4     Jojo Rabbit  2019      1           6            [Comedy, Drama, War]   \n",
       "5     Toy Story 4  2019      1           2  [Adventure, Animation, Comedy]   \n",
       "\n",
       "   Sport  Musical  Action  Comedy  Thriller  ...  Music  Fantasy  Crime  \\\n",
       "1    0.0      0.0     0.0     0.0       0.0  ...    0.0      0.0    0.0   \n",
       "2    0.0      0.0     0.0     0.0       0.0  ...    0.0      0.0    0.0   \n",
       "3    0.0      0.0     0.0     0.0       0.0  ...    0.0      0.0    0.0   \n",
       "4    0.0      0.0     0.0     0.0       0.0  ...    0.0      0.0    0.0   \n",
       "5    0.0      0.0     0.0     0.0       0.0  ...    0.0      0.0    0.0   \n",
       "\n",
       "   Western  Horror  Mystery  Adventure  Biography  Romance  History  \n",
       "1      0.0     0.0      0.0        0.0        0.0      0.0      0.0  \n",
       "2      0.0     0.0      0.0        0.0        0.0      0.0      0.0  \n",
       "3      0.0     0.0      0.0        0.0        0.0      0.0      0.0  \n",
       "4      0.0     0.0      0.0        0.0        0.0      0.0      0.0  \n",
       "5      0.0     0.0      0.0        0.0        0.0      0.0      0.0  \n",
       "\n",
       "[5 rows x 26 columns]"
      ]
     },
     "execution_count": 19,
     "metadata": {},
     "output_type": "execute_result"
    }
   ],
   "source": [
    "for genre in all_genres:\n",
    "    awards_to_genres_df[genre] = np.zeros(shape=awards_to_genres_df.shape[0])\n",
    "                                \n",
    "awards_to_genres_df.head()"
   ]
  },
  {
   "cell_type": "code",
   "execution_count": 20,
   "metadata": {
    "ExecuteTime": {
     "end_time": "2020-06-22T00:08:14.235724Z",
     "start_time": "2020-06-22T00:08:14.104612Z"
    }
   },
   "outputs": [
    {
     "name": "stdout",
     "output_type": "stream",
     "text": [
      "<class 'pandas.core.frame.DataFrame'>\n",
      "Int64Index: 114 entries, 1 to 119\n",
      "Data columns (total 26 columns):\n",
      "film           114 non-null object\n",
      "year           114 non-null object\n",
      "awards         114 non-null object\n",
      "nominations    114 non-null object\n",
      "genres         114 non-null object\n",
      "Sport          114 non-null float64\n",
      "Musical        114 non-null float64\n",
      "Action         114 non-null float64\n",
      "Comedy         114 non-null float64\n",
      "Thriller       114 non-null float64\n",
      "Drama          114 non-null float64\n",
      "Sci-Fi         114 non-null float64\n",
      "War            114 non-null float64\n",
      "Animation      114 non-null float64\n",
      "Family         114 non-null float64\n",
      "Documentary    114 non-null float64\n",
      "Music          114 non-null float64\n",
      "Fantasy        114 non-null float64\n",
      "Crime          114 non-null float64\n",
      "Western        114 non-null float64\n",
      "Horror         114 non-null float64\n",
      "Mystery        114 non-null float64\n",
      "Adventure      114 non-null float64\n",
      "Biography      114 non-null float64\n",
      "Romance        114 non-null float64\n",
      "History        114 non-null float64\n",
      "dtypes: float64(21), object(5)\n",
      "memory usage: 29.0+ KB\n"
     ]
    }
   ],
   "source": [
    "for index, row in awards_to_genres_df.iterrows():   #iterates through the dataframe rows as pairs of index and row\n",
    "    if row['genres']:                               #if the row contains the genres:\n",
    "        for genre in row['genres']:                 #for each iteration (genre) of the genres list, \n",
    "            awards_to_genres_df.loc[index, genre] = 1                  #the column for that genre get a 1\n",
    "\n",
    "awards_to_genres_df.info()"
   ]
  },
  {
   "cell_type": "markdown",
   "metadata": {},
   "source": [
    "Now all of our values in each column is filled."
   ]
  },
  {
   "cell_type": "code",
   "execution_count": 21,
   "metadata": {
    "ExecuteTime": {
     "end_time": "2020-06-22T00:08:14.605869Z",
     "start_time": "2020-06-22T00:08:14.581475Z"
    }
   },
   "outputs": [
    {
     "data": {
      "text/html": [
       "<div>\n",
       "<style scoped>\n",
       "    .dataframe tbody tr th:only-of-type {\n",
       "        vertical-align: middle;\n",
       "    }\n",
       "\n",
       "    .dataframe tbody tr th {\n",
       "        vertical-align: top;\n",
       "    }\n",
       "\n",
       "    .dataframe thead th {\n",
       "        text-align: right;\n",
       "    }\n",
       "</style>\n",
       "<table border=\"1\" class=\"dataframe\">\n",
       "  <thead>\n",
       "    <tr style=\"text-align: right;\">\n",
       "      <th></th>\n",
       "      <th>film</th>\n",
       "      <th>year</th>\n",
       "      <th>awards</th>\n",
       "      <th>nominations</th>\n",
       "      <th>genres</th>\n",
       "      <th>Sport</th>\n",
       "      <th>Musical</th>\n",
       "      <th>Action</th>\n",
       "      <th>Comedy</th>\n",
       "      <th>Thriller</th>\n",
       "      <th>...</th>\n",
       "      <th>Music</th>\n",
       "      <th>Fantasy</th>\n",
       "      <th>Crime</th>\n",
       "      <th>Western</th>\n",
       "      <th>Horror</th>\n",
       "      <th>Mystery</th>\n",
       "      <th>Adventure</th>\n",
       "      <th>Biography</th>\n",
       "      <th>Romance</th>\n",
       "      <th>History</th>\n",
       "    </tr>\n",
       "  </thead>\n",
       "  <tbody>\n",
       "    <tr>\n",
       "      <td>1</td>\n",
       "      <td>Parasite</td>\n",
       "      <td>2019</td>\n",
       "      <td>4</td>\n",
       "      <td>6</td>\n",
       "      <td>[Drama, Thriller]</td>\n",
       "      <td>0.0</td>\n",
       "      <td>0.0</td>\n",
       "      <td>0.0</td>\n",
       "      <td>0.0</td>\n",
       "      <td>1.0</td>\n",
       "      <td>...</td>\n",
       "      <td>0.0</td>\n",
       "      <td>0.0</td>\n",
       "      <td>0.0</td>\n",
       "      <td>0.0</td>\n",
       "      <td>0.0</td>\n",
       "      <td>0.0</td>\n",
       "      <td>0.0</td>\n",
       "      <td>0.0</td>\n",
       "      <td>0.0</td>\n",
       "      <td>0.0</td>\n",
       "    </tr>\n",
       "    <tr>\n",
       "      <td>2</td>\n",
       "      <td>Ford v Ferrari</td>\n",
       "      <td>2019</td>\n",
       "      <td>2</td>\n",
       "      <td>4</td>\n",
       "      <td>[Action, Biography, Drama]</td>\n",
       "      <td>0.0</td>\n",
       "      <td>0.0</td>\n",
       "      <td>1.0</td>\n",
       "      <td>0.0</td>\n",
       "      <td>0.0</td>\n",
       "      <td>...</td>\n",
       "      <td>0.0</td>\n",
       "      <td>0.0</td>\n",
       "      <td>0.0</td>\n",
       "      <td>0.0</td>\n",
       "      <td>0.0</td>\n",
       "      <td>0.0</td>\n",
       "      <td>0.0</td>\n",
       "      <td>1.0</td>\n",
       "      <td>0.0</td>\n",
       "      <td>0.0</td>\n",
       "    </tr>\n",
       "    <tr>\n",
       "      <td>3</td>\n",
       "      <td>Little Women</td>\n",
       "      <td>2019</td>\n",
       "      <td>1</td>\n",
       "      <td>6</td>\n",
       "      <td>[Drama, Romance]</td>\n",
       "      <td>0.0</td>\n",
       "      <td>0.0</td>\n",
       "      <td>0.0</td>\n",
       "      <td>0.0</td>\n",
       "      <td>0.0</td>\n",
       "      <td>...</td>\n",
       "      <td>0.0</td>\n",
       "      <td>0.0</td>\n",
       "      <td>0.0</td>\n",
       "      <td>0.0</td>\n",
       "      <td>0.0</td>\n",
       "      <td>0.0</td>\n",
       "      <td>0.0</td>\n",
       "      <td>0.0</td>\n",
       "      <td>1.0</td>\n",
       "      <td>0.0</td>\n",
       "    </tr>\n",
       "    <tr>\n",
       "      <td>4</td>\n",
       "      <td>Jojo Rabbit</td>\n",
       "      <td>2019</td>\n",
       "      <td>1</td>\n",
       "      <td>6</td>\n",
       "      <td>[Comedy, Drama, War]</td>\n",
       "      <td>0.0</td>\n",
       "      <td>0.0</td>\n",
       "      <td>0.0</td>\n",
       "      <td>1.0</td>\n",
       "      <td>0.0</td>\n",
       "      <td>...</td>\n",
       "      <td>0.0</td>\n",
       "      <td>0.0</td>\n",
       "      <td>0.0</td>\n",
       "      <td>0.0</td>\n",
       "      <td>0.0</td>\n",
       "      <td>0.0</td>\n",
       "      <td>0.0</td>\n",
       "      <td>0.0</td>\n",
       "      <td>0.0</td>\n",
       "      <td>0.0</td>\n",
       "    </tr>\n",
       "    <tr>\n",
       "      <td>5</td>\n",
       "      <td>Toy Story 4</td>\n",
       "      <td>2019</td>\n",
       "      <td>1</td>\n",
       "      <td>2</td>\n",
       "      <td>[Adventure, Animation, Comedy]</td>\n",
       "      <td>0.0</td>\n",
       "      <td>0.0</td>\n",
       "      <td>0.0</td>\n",
       "      <td>1.0</td>\n",
       "      <td>0.0</td>\n",
       "      <td>...</td>\n",
       "      <td>0.0</td>\n",
       "      <td>0.0</td>\n",
       "      <td>0.0</td>\n",
       "      <td>0.0</td>\n",
       "      <td>0.0</td>\n",
       "      <td>0.0</td>\n",
       "      <td>1.0</td>\n",
       "      <td>0.0</td>\n",
       "      <td>0.0</td>\n",
       "      <td>0.0</td>\n",
       "    </tr>\n",
       "  </tbody>\n",
       "</table>\n",
       "<p>5 rows × 26 columns</p>\n",
       "</div>"
      ],
      "text/plain": [
       "             film  year awards nominations                          genres  \\\n",
       "1        Parasite  2019      4           6               [Drama, Thriller]   \n",
       "2  Ford v Ferrari  2019      2           4      [Action, Biography, Drama]   \n",
       "3    Little Women  2019      1           6                [Drama, Romance]   \n",
       "4     Jojo Rabbit  2019      1           6            [Comedy, Drama, War]   \n",
       "5     Toy Story 4  2019      1           2  [Adventure, Animation, Comedy]   \n",
       "\n",
       "   Sport  Musical  Action  Comedy  Thriller  ...  Music  Fantasy  Crime  \\\n",
       "1    0.0      0.0     0.0     0.0       1.0  ...    0.0      0.0    0.0   \n",
       "2    0.0      0.0     1.0     0.0       0.0  ...    0.0      0.0    0.0   \n",
       "3    0.0      0.0     0.0     0.0       0.0  ...    0.0      0.0    0.0   \n",
       "4    0.0      0.0     0.0     1.0       0.0  ...    0.0      0.0    0.0   \n",
       "5    0.0      0.0     0.0     1.0       0.0  ...    0.0      0.0    0.0   \n",
       "\n",
       "   Western  Horror  Mystery  Adventure  Biography  Romance  History  \n",
       "1      0.0     0.0      0.0        0.0        0.0      0.0      0.0  \n",
       "2      0.0     0.0      0.0        0.0        1.0      0.0      0.0  \n",
       "3      0.0     0.0      0.0        0.0        0.0      1.0      0.0  \n",
       "4      0.0     0.0      0.0        0.0        0.0      0.0      0.0  \n",
       "5      0.0     0.0      0.0        1.0        0.0      0.0      0.0  \n",
       "\n",
       "[5 rows x 26 columns]"
      ]
     },
     "execution_count": 21,
     "metadata": {},
     "output_type": "execute_result"
    }
   ],
   "source": [
    "awards_to_genres_df.head()"
   ]
  },
  {
   "cell_type": "markdown",
   "metadata": {},
   "source": [
    "We can now drop our old column of genre lists."
   ]
  },
  {
   "cell_type": "code",
   "execution_count": 22,
   "metadata": {
    "ExecuteTime": {
     "end_time": "2020-06-22T00:08:15.619614Z",
     "start_time": "2020-06-22T00:08:15.615333Z"
    }
   },
   "outputs": [],
   "source": [
    "awards_to_genres_df2 = awards_to_genres_df.drop(columns = 'genres')"
   ]
  },
  {
   "cell_type": "code",
   "execution_count": 23,
   "metadata": {
    "ExecuteTime": {
     "end_time": "2020-06-22T00:08:16.143336Z",
     "start_time": "2020-06-22T00:08:16.113799Z"
    }
   },
   "outputs": [
    {
     "data": {
      "text/html": [
       "<div>\n",
       "<style scoped>\n",
       "    .dataframe tbody tr th:only-of-type {\n",
       "        vertical-align: middle;\n",
       "    }\n",
       "\n",
       "    .dataframe tbody tr th {\n",
       "        vertical-align: top;\n",
       "    }\n",
       "\n",
       "    .dataframe thead th {\n",
       "        text-align: right;\n",
       "    }\n",
       "</style>\n",
       "<table border=\"1\" class=\"dataframe\">\n",
       "  <thead>\n",
       "    <tr style=\"text-align: right;\">\n",
       "      <th></th>\n",
       "      <th>film</th>\n",
       "      <th>year</th>\n",
       "      <th>awards</th>\n",
       "      <th>nominations</th>\n",
       "      <th>Sport</th>\n",
       "      <th>Musical</th>\n",
       "      <th>Action</th>\n",
       "      <th>Comedy</th>\n",
       "      <th>Thriller</th>\n",
       "      <th>Drama</th>\n",
       "      <th>...</th>\n",
       "      <th>Music</th>\n",
       "      <th>Fantasy</th>\n",
       "      <th>Crime</th>\n",
       "      <th>Western</th>\n",
       "      <th>Horror</th>\n",
       "      <th>Mystery</th>\n",
       "      <th>Adventure</th>\n",
       "      <th>Biography</th>\n",
       "      <th>Romance</th>\n",
       "      <th>History</th>\n",
       "    </tr>\n",
       "  </thead>\n",
       "  <tbody>\n",
       "    <tr>\n",
       "      <td>1</td>\n",
       "      <td>Parasite</td>\n",
       "      <td>2019</td>\n",
       "      <td>4</td>\n",
       "      <td>6</td>\n",
       "      <td>0.0</td>\n",
       "      <td>0.0</td>\n",
       "      <td>0.0</td>\n",
       "      <td>0.0</td>\n",
       "      <td>1.0</td>\n",
       "      <td>1.0</td>\n",
       "      <td>...</td>\n",
       "      <td>0.0</td>\n",
       "      <td>0.0</td>\n",
       "      <td>0.0</td>\n",
       "      <td>0.0</td>\n",
       "      <td>0.0</td>\n",
       "      <td>0.0</td>\n",
       "      <td>0.0</td>\n",
       "      <td>0.0</td>\n",
       "      <td>0.0</td>\n",
       "      <td>0.0</td>\n",
       "    </tr>\n",
       "    <tr>\n",
       "      <td>2</td>\n",
       "      <td>Ford v Ferrari</td>\n",
       "      <td>2019</td>\n",
       "      <td>2</td>\n",
       "      <td>4</td>\n",
       "      <td>0.0</td>\n",
       "      <td>0.0</td>\n",
       "      <td>1.0</td>\n",
       "      <td>0.0</td>\n",
       "      <td>0.0</td>\n",
       "      <td>1.0</td>\n",
       "      <td>...</td>\n",
       "      <td>0.0</td>\n",
       "      <td>0.0</td>\n",
       "      <td>0.0</td>\n",
       "      <td>0.0</td>\n",
       "      <td>0.0</td>\n",
       "      <td>0.0</td>\n",
       "      <td>0.0</td>\n",
       "      <td>1.0</td>\n",
       "      <td>0.0</td>\n",
       "      <td>0.0</td>\n",
       "    </tr>\n",
       "    <tr>\n",
       "      <td>3</td>\n",
       "      <td>Little Women</td>\n",
       "      <td>2019</td>\n",
       "      <td>1</td>\n",
       "      <td>6</td>\n",
       "      <td>0.0</td>\n",
       "      <td>0.0</td>\n",
       "      <td>0.0</td>\n",
       "      <td>0.0</td>\n",
       "      <td>0.0</td>\n",
       "      <td>1.0</td>\n",
       "      <td>...</td>\n",
       "      <td>0.0</td>\n",
       "      <td>0.0</td>\n",
       "      <td>0.0</td>\n",
       "      <td>0.0</td>\n",
       "      <td>0.0</td>\n",
       "      <td>0.0</td>\n",
       "      <td>0.0</td>\n",
       "      <td>0.0</td>\n",
       "      <td>1.0</td>\n",
       "      <td>0.0</td>\n",
       "    </tr>\n",
       "    <tr>\n",
       "      <td>4</td>\n",
       "      <td>Jojo Rabbit</td>\n",
       "      <td>2019</td>\n",
       "      <td>1</td>\n",
       "      <td>6</td>\n",
       "      <td>0.0</td>\n",
       "      <td>0.0</td>\n",
       "      <td>0.0</td>\n",
       "      <td>1.0</td>\n",
       "      <td>0.0</td>\n",
       "      <td>1.0</td>\n",
       "      <td>...</td>\n",
       "      <td>0.0</td>\n",
       "      <td>0.0</td>\n",
       "      <td>0.0</td>\n",
       "      <td>0.0</td>\n",
       "      <td>0.0</td>\n",
       "      <td>0.0</td>\n",
       "      <td>0.0</td>\n",
       "      <td>0.0</td>\n",
       "      <td>0.0</td>\n",
       "      <td>0.0</td>\n",
       "    </tr>\n",
       "    <tr>\n",
       "      <td>5</td>\n",
       "      <td>Toy Story 4</td>\n",
       "      <td>2019</td>\n",
       "      <td>1</td>\n",
       "      <td>2</td>\n",
       "      <td>0.0</td>\n",
       "      <td>0.0</td>\n",
       "      <td>0.0</td>\n",
       "      <td>1.0</td>\n",
       "      <td>0.0</td>\n",
       "      <td>0.0</td>\n",
       "      <td>...</td>\n",
       "      <td>0.0</td>\n",
       "      <td>0.0</td>\n",
       "      <td>0.0</td>\n",
       "      <td>0.0</td>\n",
       "      <td>0.0</td>\n",
       "      <td>0.0</td>\n",
       "      <td>1.0</td>\n",
       "      <td>0.0</td>\n",
       "      <td>0.0</td>\n",
       "      <td>0.0</td>\n",
       "    </tr>\n",
       "    <tr>\n",
       "      <td>...</td>\n",
       "      <td>...</td>\n",
       "      <td>...</td>\n",
       "      <td>...</td>\n",
       "      <td>...</td>\n",
       "      <td>...</td>\n",
       "      <td>...</td>\n",
       "      <td>...</td>\n",
       "      <td>...</td>\n",
       "      <td>...</td>\n",
       "      <td>...</td>\n",
       "      <td>...</td>\n",
       "      <td>...</td>\n",
       "      <td>...</td>\n",
       "      <td>...</td>\n",
       "      <td>...</td>\n",
       "      <td>...</td>\n",
       "      <td>...</td>\n",
       "      <td>...</td>\n",
       "      <td>...</td>\n",
       "      <td>...</td>\n",
       "      <td>...</td>\n",
       "    </tr>\n",
       "    <tr>\n",
       "      <td>115</td>\n",
       "      <td>Alice in Wonderland</td>\n",
       "      <td>2010</td>\n",
       "      <td>2</td>\n",
       "      <td>3</td>\n",
       "      <td>0.0</td>\n",
       "      <td>1.0</td>\n",
       "      <td>0.0</td>\n",
       "      <td>0.0</td>\n",
       "      <td>0.0</td>\n",
       "      <td>0.0</td>\n",
       "      <td>...</td>\n",
       "      <td>0.0</td>\n",
       "      <td>1.0</td>\n",
       "      <td>0.0</td>\n",
       "      <td>0.0</td>\n",
       "      <td>0.0</td>\n",
       "      <td>0.0</td>\n",
       "      <td>0.0</td>\n",
       "      <td>0.0</td>\n",
       "      <td>0.0</td>\n",
       "      <td>0.0</td>\n",
       "    </tr>\n",
       "    <tr>\n",
       "      <td>116</td>\n",
       "      <td>Black Swan</td>\n",
       "      <td>2010</td>\n",
       "      <td>1</td>\n",
       "      <td>5</td>\n",
       "      <td>0.0</td>\n",
       "      <td>0.0</td>\n",
       "      <td>0.0</td>\n",
       "      <td>0.0</td>\n",
       "      <td>1.0</td>\n",
       "      <td>1.0</td>\n",
       "      <td>...</td>\n",
       "      <td>0.0</td>\n",
       "      <td>0.0</td>\n",
       "      <td>0.0</td>\n",
       "      <td>0.0</td>\n",
       "      <td>0.0</td>\n",
       "      <td>0.0</td>\n",
       "      <td>0.0</td>\n",
       "      <td>0.0</td>\n",
       "      <td>0.0</td>\n",
       "      <td>0.0</td>\n",
       "    </tr>\n",
       "    <tr>\n",
       "      <td>117</td>\n",
       "      <td>In a Better World</td>\n",
       "      <td>2010</td>\n",
       "      <td>1</td>\n",
       "      <td>1</td>\n",
       "      <td>0.0</td>\n",
       "      <td>0.0</td>\n",
       "      <td>0.0</td>\n",
       "      <td>0.0</td>\n",
       "      <td>0.0</td>\n",
       "      <td>1.0</td>\n",
       "      <td>...</td>\n",
       "      <td>0.0</td>\n",
       "      <td>0.0</td>\n",
       "      <td>0.0</td>\n",
       "      <td>0.0</td>\n",
       "      <td>0.0</td>\n",
       "      <td>0.0</td>\n",
       "      <td>0.0</td>\n",
       "      <td>0.0</td>\n",
       "      <td>1.0</td>\n",
       "      <td>0.0</td>\n",
       "    </tr>\n",
       "    <tr>\n",
       "      <td>118</td>\n",
       "      <td>The Wolfman</td>\n",
       "      <td>2010</td>\n",
       "      <td>1</td>\n",
       "      <td>1</td>\n",
       "      <td>0.0</td>\n",
       "      <td>0.0</td>\n",
       "      <td>0.0</td>\n",
       "      <td>0.0</td>\n",
       "      <td>0.0</td>\n",
       "      <td>1.0</td>\n",
       "      <td>...</td>\n",
       "      <td>0.0</td>\n",
       "      <td>1.0</td>\n",
       "      <td>0.0</td>\n",
       "      <td>0.0</td>\n",
       "      <td>1.0</td>\n",
       "      <td>0.0</td>\n",
       "      <td>0.0</td>\n",
       "      <td>0.0</td>\n",
       "      <td>0.0</td>\n",
       "      <td>0.0</td>\n",
       "    </tr>\n",
       "    <tr>\n",
       "      <td>119</td>\n",
       "      <td>Inside Job</td>\n",
       "      <td>2010</td>\n",
       "      <td>1</td>\n",
       "      <td>1</td>\n",
       "      <td>0.0</td>\n",
       "      <td>0.0</td>\n",
       "      <td>0.0</td>\n",
       "      <td>0.0</td>\n",
       "      <td>0.0</td>\n",
       "      <td>0.0</td>\n",
       "      <td>...</td>\n",
       "      <td>0.0</td>\n",
       "      <td>0.0</td>\n",
       "      <td>1.0</td>\n",
       "      <td>0.0</td>\n",
       "      <td>0.0</td>\n",
       "      <td>0.0</td>\n",
       "      <td>0.0</td>\n",
       "      <td>0.0</td>\n",
       "      <td>0.0</td>\n",
       "      <td>0.0</td>\n",
       "    </tr>\n",
       "  </tbody>\n",
       "</table>\n",
       "<p>114 rows × 25 columns</p>\n",
       "</div>"
      ],
      "text/plain": [
       "                    film  year awards nominations  Sport  Musical  Action  \\\n",
       "1               Parasite  2019      4           6    0.0      0.0     0.0   \n",
       "2         Ford v Ferrari  2019      2           4    0.0      0.0     1.0   \n",
       "3           Little Women  2019      1           6    0.0      0.0     0.0   \n",
       "4            Jojo Rabbit  2019      1           6    0.0      0.0     0.0   \n",
       "5            Toy Story 4  2019      1           2    0.0      0.0     0.0   \n",
       "..                   ...   ...    ...         ...    ...      ...     ...   \n",
       "115  Alice in Wonderland  2010      2           3    0.0      1.0     0.0   \n",
       "116           Black Swan  2010      1           5    0.0      0.0     0.0   \n",
       "117    In a Better World  2010      1           1    0.0      0.0     0.0   \n",
       "118          The Wolfman  2010      1           1    0.0      0.0     0.0   \n",
       "119           Inside Job  2010      1           1    0.0      0.0     0.0   \n",
       "\n",
       "     Comedy  Thriller  Drama  ...  Music  Fantasy  Crime  Western  Horror  \\\n",
       "1       0.0       1.0    1.0  ...    0.0      0.0    0.0      0.0     0.0   \n",
       "2       0.0       0.0    1.0  ...    0.0      0.0    0.0      0.0     0.0   \n",
       "3       0.0       0.0    1.0  ...    0.0      0.0    0.0      0.0     0.0   \n",
       "4       1.0       0.0    1.0  ...    0.0      0.0    0.0      0.0     0.0   \n",
       "5       1.0       0.0    0.0  ...    0.0      0.0    0.0      0.0     0.0   \n",
       "..      ...       ...    ...  ...    ...      ...    ...      ...     ...   \n",
       "115     0.0       0.0    0.0  ...    0.0      1.0    0.0      0.0     0.0   \n",
       "116     0.0       1.0    1.0  ...    0.0      0.0    0.0      0.0     0.0   \n",
       "117     0.0       0.0    1.0  ...    0.0      0.0    0.0      0.0     0.0   \n",
       "118     0.0       0.0    1.0  ...    0.0      1.0    0.0      0.0     1.0   \n",
       "119     0.0       0.0    0.0  ...    0.0      0.0    1.0      0.0     0.0   \n",
       "\n",
       "     Mystery  Adventure  Biography  Romance  History  \n",
       "1        0.0        0.0        0.0      0.0      0.0  \n",
       "2        0.0        0.0        1.0      0.0      0.0  \n",
       "3        0.0        0.0        0.0      1.0      0.0  \n",
       "4        0.0        0.0        0.0      0.0      0.0  \n",
       "5        0.0        1.0        0.0      0.0      0.0  \n",
       "..       ...        ...        ...      ...      ...  \n",
       "115      0.0        0.0        0.0      0.0      0.0  \n",
       "116      0.0        0.0        0.0      0.0      0.0  \n",
       "117      0.0        0.0        0.0      1.0      0.0  \n",
       "118      0.0        0.0        0.0      0.0      0.0  \n",
       "119      0.0        0.0        0.0      0.0      0.0  \n",
       "\n",
       "[114 rows x 25 columns]"
      ]
     },
     "execution_count": 23,
     "metadata": {},
     "output_type": "execute_result"
    }
   ],
   "source": [
    "awards_to_genres_df2"
   ]
  },
  {
   "cell_type": "markdown",
   "metadata": {},
   "source": [
    "Looking good- let's just quickly check our nominations and awards columns for value cleanliness."
   ]
  },
  {
   "cell_type": "code",
   "execution_count": 24,
   "metadata": {
    "ExecuteTime": {
     "end_time": "2020-06-22T00:08:16.991152Z",
     "start_time": "2020-06-22T00:08:16.986559Z"
    }
   },
   "outputs": [
    {
     "data": {
      "text/plain": [
       "array(['6', '4', '2', '11', '10', '1', '5', '7', '8', '3', '13', '14',\n",
       "       '12', '9'], dtype=object)"
      ]
     },
     "execution_count": 24,
     "metadata": {},
     "output_type": "execute_result"
    }
   ],
   "source": [
    "awards_to_genres_df['nominations'].unique()"
   ]
  },
  {
   "cell_type": "code",
   "execution_count": 25,
   "metadata": {
    "ExecuteTime": {
     "end_time": "2020-06-22T00:08:17.418348Z",
     "start_time": "2020-06-22T00:08:17.414171Z"
    }
   },
   "outputs": [
    {
     "data": {
      "text/plain": [
       "array(['4', '2', '1', '3', '6', '7', '5'], dtype=object)"
      ]
     },
     "execution_count": 25,
     "metadata": {},
     "output_type": "execute_result"
    }
   ],
   "source": [
    "awards_to_genres_df['awards'].unique()"
   ]
  },
  {
   "cell_type": "markdown",
   "metadata": {},
   "source": [
    "Now, let's make a list of each column and assign the genre columns to a variable."
   ]
  },
  {
   "cell_type": "markdown",
   "metadata": {},
   "source": [
    "## Extracting the Specific Data We Need"
   ]
  },
  {
   "cell_type": "code",
   "execution_count": 26,
   "metadata": {
    "ExecuteTime": {
     "end_time": "2020-06-22T00:08:18.270643Z",
     "start_time": "2020-06-22T00:08:18.266413Z"
    }
   },
   "outputs": [
    {
     "data": {
      "text/plain": [
       "['film',\n",
       " 'year',\n",
       " 'awards',\n",
       " 'nominations',\n",
       " 'genres',\n",
       " 'Sport',\n",
       " 'Musical',\n",
       " 'Action',\n",
       " 'Comedy',\n",
       " 'Thriller',\n",
       " 'Drama',\n",
       " 'Sci-Fi',\n",
       " 'War',\n",
       " 'Animation',\n",
       " 'Family',\n",
       " 'Documentary',\n",
       " 'Music',\n",
       " 'Fantasy',\n",
       " 'Crime',\n",
       " 'Western',\n",
       " 'Horror',\n",
       " 'Mystery',\n",
       " 'Adventure',\n",
       " 'Biography',\n",
       " 'Romance',\n",
       " 'History']"
      ]
     },
     "execution_count": 26,
     "metadata": {},
     "output_type": "execute_result"
    }
   ],
   "source": [
    "cols = list(awards_to_genres_df.columns)\n",
    "cols"
   ]
  },
  {
   "cell_type": "code",
   "execution_count": 27,
   "metadata": {
    "ExecuteTime": {
     "end_time": "2020-06-22T00:08:18.733272Z",
     "start_time": "2020-06-22T00:08:18.730615Z"
    }
   },
   "outputs": [],
   "source": [
    "genre_cols = cols[5:]"
   ]
  },
  {
   "cell_type": "markdown",
   "metadata": {},
   "source": [
    "let's create a dictionary of genres to store their respective value counts"
   ]
  },
  {
   "cell_type": "code",
   "execution_count": 38,
   "metadata": {
    "ExecuteTime": {
     "end_time": "2020-06-22T01:29:35.820982Z",
     "start_time": "2020-06-22T01:29:35.810203Z"
    }
   },
   "outputs": [],
   "source": [
    "nominated_genre_count = {}       \n",
    "for col in genre_cols:                       #iterate through the genre cols to only add genres where the count is 1 and add them to a dictionary\n",
    "    count = np.sum(awards_to_genres_df[col] == 1).sum() \n",
    "    nominated_genre_count[col] = count"
   ]
  },
  {
   "cell_type": "code",
   "execution_count": 29,
   "metadata": {
    "ExecuteTime": {
     "end_time": "2020-06-22T00:08:19.996227Z",
     "start_time": "2020-06-22T00:08:19.991737Z"
    },
    "scrolled": true
   },
   "outputs": [
    {
     "data": {
      "text/plain": [
       "{'Sport': 3,\n",
       " 'Musical': 2,\n",
       " 'Action': 12,\n",
       " 'Comedy': 19,\n",
       " 'Thriller': 16,\n",
       " 'Drama': 78,\n",
       " 'Sci-Fi': 9,\n",
       " 'War': 3,\n",
       " 'Animation': 10,\n",
       " 'Family': 5,\n",
       " 'Documentary': 9,\n",
       " 'Music': 8,\n",
       " 'Fantasy': 7,\n",
       " 'Crime': 8,\n",
       " 'Western': 1,\n",
       " 'Horror': 4,\n",
       " 'Mystery': 5,\n",
       " 'Adventure': 24,\n",
       " 'Biography': 32,\n",
       " 'Romance': 14,\n",
       " 'History': 12}"
      ]
     },
     "execution_count": 29,
     "metadata": {},
     "output_type": "execute_result"
    }
   ],
   "source": [
    "nominated_genre_count"
   ]
  },
  {
   "cell_type": "markdown",
   "metadata": {},
   "source": [
    "Now let's sort this dictionary by number of nominations!"
   ]
  },
  {
   "cell_type": "code",
   "execution_count": 30,
   "metadata": {
    "ExecuteTime": {
     "end_time": "2020-06-22T00:08:21.138555Z",
     "start_time": "2020-06-22T00:08:21.134917Z"
    }
   },
   "outputs": [],
   "source": [
    "sorted_genre_count = {k: v for k, v in sorted(nominated_genre_count.items(), key=lambda item: item[1])}\n",
    "\n",
    "#here, we iterated through each key-value pair and assigned the sorting key based on the second [1] item, the value\n"
   ]
  },
  {
   "cell_type": "code",
   "execution_count": 31,
   "metadata": {
    "ExecuteTime": {
     "end_time": "2020-06-22T00:08:21.548373Z",
     "start_time": "2020-06-22T00:08:21.544230Z"
    }
   },
   "outputs": [
    {
     "data": {
      "text/plain": [
       "{'Western': 1,\n",
       " 'Musical': 2,\n",
       " 'Sport': 3,\n",
       " 'War': 3,\n",
       " 'Horror': 4,\n",
       " 'Family': 5,\n",
       " 'Mystery': 5,\n",
       " 'Fantasy': 7,\n",
       " 'Music': 8,\n",
       " 'Crime': 8,\n",
       " 'Sci-Fi': 9,\n",
       " 'Documentary': 9,\n",
       " 'Animation': 10,\n",
       " 'Action': 12,\n",
       " 'History': 12,\n",
       " 'Romance': 14,\n",
       " 'Thriller': 16,\n",
       " 'Comedy': 19,\n",
       " 'Adventure': 24,\n",
       " 'Biography': 32,\n",
       " 'Drama': 78}"
      ]
     },
     "execution_count": 31,
     "metadata": {},
     "output_type": "execute_result"
    }
   ],
   "source": [
    "sorted_genre_count"
   ]
  },
  {
   "cell_type": "markdown",
   "metadata": {},
   "source": [
    "Now we are separating the keys and values of the dictionary for plotting."
   ]
  },
  {
   "cell_type": "code",
   "execution_count": 32,
   "metadata": {
    "ExecuteTime": {
     "end_time": "2020-06-22T00:08:21.998709Z",
     "start_time": "2020-06-22T00:08:21.995983Z"
    }
   },
   "outputs": [],
   "source": [
    "genres = list(sorted_genre_count.keys())\n",
    "number_nominated = list(sorted_genre_count.values())"
   ]
  },
  {
   "cell_type": "markdown",
   "metadata": {},
   "source": [
    "## Exploring Visualization"
   ]
  },
  {
   "cell_type": "code",
   "execution_count": 35,
   "metadata": {
    "ExecuteTime": {
     "end_time": "2020-06-22T00:09:46.772334Z",
     "start_time": "2020-06-22T00:09:46.396410Z"
    }
   },
   "outputs": [
    {
     "data": {
      "image/png": "[encoded data removed]",
      "text/plain": [
       "<Figure size 864x576 with 1 Axes>"
      ]
     },
     "metadata": {},
     "output_type": "display_data"
    }
   ],
   "source": [
    "import seaborn as sns\n",
    "import matplotlib.pyplot as plt\n",
    "sns.set(style=\"darkgrid\", context=\"talk\")\n",
    "\n",
    "f, (ax1) = plt.subplots(figsize=(12, 8), sharex=True)\n",
    "\n",
    "sns.barplot(x=number_nominated, y=genres, palette=(\"rocket_r\"), ax=ax1)\n",
    "ax1.set_ylabel(\"Genres\", fontsize=20)\n",
    "ax1.set_xlabel(\"Number of Films Awarded\")\n",
    "ax1.set_title(\"Number of Academy-Award Winners Since 2010 by Genre\");"
   ]
  },
  {
   "cell_type": "markdown",
   "metadata": {},
   "source": [
    "This chart tells us that Drama films win the most Academy Awards by far! With Biographies and Aventure films following in 2nd and 3rd, respectively.\n",
    "\n",
    "As most films are a combination of 2 or 3 genres, I would suggest Microsoft ties dramatic themes to their films, and not stick by purely action or purely sci-fi for example. "
   ]
  }
 ],
 "metadata": {
  "kernelspec": {
   "display_name": "learn-env",
   "language": "python",
   "name": "learn-env"
  },
  "language_info": {
   "codemirror_mode": {
    "name": "ipython",
    "version": 3
   },
   "file_extension": ".py",
   "mimetype": "text/x-python",
   "name": "python",
   "nbconvert_exporter": "python",
   "pygments_lexer": "ipython3",
   "version": "3.6.9"
  },
  "toc": {
   "base_numbering": 1,
   "nav_menu": {},
   "number_sections": true,
   "sideBar": true,
   "skip_h1_title": false,
   "title_cell": "Table of Contents",
   "title_sidebar": "Contents",
   "toc_cell": false,
   "toc_position": {},
   "toc_section_display": true,
   "toc_window_display": true
  },
  "varInspector": {
   "cols": {
    "lenName": 16,
    "lenType": 16,
    "lenVar": 40
   },
   "kernels_config": {
    "python": {
     "delete_cmd_postfix": "",
     "delete_cmd_prefix": "del ",
     "library": "var_list.py",
     "varRefreshCmd": "print(var_dic_list())"
    },
    "r": {
     "delete_cmd_postfix": ") ",
     "delete_cmd_prefix": "rm(",
     "library": "var_list.r",
     "varRefreshCmd": "cat(var_dic_list()) "
    }
   },
   "types_to_exclude": [
    "module",
    "function",
    "builtin_function_or_method",
    "instance",
    "_Feature"
   ],
   "window_display": false
  }
 },
 "nbformat": 4,
 "nbformat_minor": 2
}

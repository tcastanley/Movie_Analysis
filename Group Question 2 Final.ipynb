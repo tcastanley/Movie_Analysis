{
 "cells": [
  {
   "cell_type": "markdown",
   "metadata": {
    "ExecuteTime": {
     "end_time": "2020-06-20T05:15:24.904627Z",
     "start_time": "2020-06-20T05:15:24.899908Z"
    }
   },
   "source": [
    "# <h1>Group Question 2: Does an Academy Award require a certain budget?<h1>"
   ]
  },
  {
   "cell_type": "markdown",
   "metadata": {},
   "source": [
    "This question explores the relationship between film production budgets and one of the highest-level artistic recognitions for a film, the Academy Award. Since Academy Awards nominations are known to help drive subsequent box-office sales (see [this link](https://knowledge.wharton.upenn.edu/article/oscars-economics/#:~:text=%E2%80%9CAccording%20to%20the%20data%2C%20it,the%20movie%2C%E2%80%9D%20he%20said.&text=%E2%80%9CThere's%20no%20evidence%20that%20%5BOscar,%2C%20your%20salary%20goes%20up.%E2%80%9D)), is there any way we can possibly quantify differences between award-nominated films and non-award nominated films? Can we see how much Microsoft would generally need to spend to create an award-winning film?\n",
    "\n",
    "\n",
    "Let's try to see if, based on our data, making an Academy Award-worthy film requires a certain budget range."
   ]
  },
  {
   "cell_type": "code",
   "execution_count": 3,
   "metadata": {
    "ExecuteTime": {
     "end_time": "2020-06-22T00:16:58.292905Z",
     "start_time": "2020-06-22T00:16:57.943103Z"
    }
   },
   "outputs": [],
   "source": [
    "import pandas as pd\n",
    "import os"
   ]
  },
  {
   "cell_type": "code",
   "execution_count": 4,
   "metadata": {
    "ExecuteTime": {
     "end_time": "2020-06-22T00:16:58.305328Z",
     "start_time": "2020-06-22T00:16:58.294717Z"
    }
   },
   "outputs": [
    {
     "data": {
      "text/plain": [
       "'/Users/orin/Data Science/MODULE 1/Module-1-Project/Movie_Analysis'"
      ]
     },
     "execution_count": 4,
     "metadata": {},
     "output_type": "execute_result"
    }
   ],
   "source": [
    "pwd"
   ]
  },
  {
   "cell_type": "markdown",
   "metadata": {
    "ExecuteTime": {
     "end_time": "2020-06-21T00:39:38.961980Z",
     "start_time": "2020-06-21T00:39:38.959553Z"
    }
   },
   "source": [
    "## Import data"
   ]
  },
  {
   "cell_type": "markdown",
   "metadata": {},
   "source": [
    "Let's batch import our data sets to save some time."
   ]
  },
  {
   "cell_type": "code",
   "execution_count": 5,
   "metadata": {
    "ExecuteTime": {
     "end_time": "2020-06-22T00:16:58.310363Z",
     "start_time": "2020-06-22T00:16:58.307419Z"
    }
   },
   "outputs": [],
   "source": [
    "from glob import glob"
   ]
  },
  {
   "cell_type": "code",
   "execution_count": 6,
   "metadata": {
    "ExecuteTime": {
     "end_time": "2020-06-22T00:16:58.319385Z",
     "start_time": "2020-06-22T00:16:58.312259Z"
    }
   },
   "outputs": [
    {
     "data": {
      "text/plain": [
       "['./zippedData/imdb.title.crew.csv.gz',\n",
       " './zippedData/tmdb.movies.csv.gz',\n",
       " './zippedData/imdb.title.akas.csv.gz',\n",
       " './zippedData/imdb.title.ratings.csv.gz',\n",
       " './zippedData/imdb.name.basics.csv.gz',\n",
       " './zippedData/imdb.title.basics.csv.gz',\n",
       " './zippedData/tn.movie_budgets.csv.gz',\n",
       " './zippedData/bom.movie_gross.csv.gz',\n",
       " './zippedData/imdb.title.principals.csv.gz']"
      ]
     },
     "execution_count": 6,
     "metadata": {},
     "output_type": "execute_result"
    }
   ],
   "source": [
    "csv_files = glob(\"./zippedData/*.csv.gz\")\n",
    "csv_files"
   ]
  },
  {
   "cell_type": "code",
   "execution_count": 7,
   "metadata": {
    "ExecuteTime": {
     "end_time": "2020-06-22T00:16:58.326065Z",
     "start_time": "2020-06-22T00:16:58.321963Z"
    }
   },
   "outputs": [],
   "source": [
    "type(csv_files)\n",
    "d = {}"
   ]
  },
  {
   "cell_type": "code",
   "execution_count": 8,
   "metadata": {
    "ExecuteTime": {
     "end_time": "2020-06-22T00:17:01.536462Z",
     "start_time": "2020-06-22T00:16:58.328183Z"
    }
   },
   "outputs": [],
   "source": [
    "for file in csv_files:              #creating a new dictionary for each .csv file\n",
    "    d[file] = pd.read_csv(file)"
   ]
  },
  {
   "cell_type": "code",
   "execution_count": 9,
   "metadata": {
    "ExecuteTime": {
     "end_time": "2020-06-22T00:17:01.541676Z",
     "start_time": "2020-06-22T00:17:01.537888Z"
    }
   },
   "outputs": [
    {
     "data": {
      "text/plain": [
       "dict_keys(['./zippedData/imdb.title.crew.csv.gz', './zippedData/tmdb.movies.csv.gz', './zippedData/imdb.title.akas.csv.gz', './zippedData/imdb.title.ratings.csv.gz', './zippedData/imdb.name.basics.csv.gz', './zippedData/imdb.title.basics.csv.gz', './zippedData/tn.movie_budgets.csv.gz', './zippedData/bom.movie_gross.csv.gz', './zippedData/imdb.title.principals.csv.gz'])"
      ]
     },
     "execution_count": 9,
     "metadata": {},
     "output_type": "execute_result"
    }
   ],
   "source": [
    "d.keys()"
   ]
  },
  {
   "cell_type": "markdown",
   "metadata": {},
   "source": [
    "## Clean file names"
   ]
  },
  {
   "cell_type": "markdown",
   "metadata": {},
   "source": [
    "Let's clean the file titles, for easier accessibility throughout our EDA, and create their respective dataframes."
   ]
  },
  {
   "cell_type": "code",
   "execution_count": 10,
   "metadata": {
    "ExecuteTime": {
     "end_time": "2020-06-22T00:17:04.866822Z",
     "start_time": "2020-06-22T00:17:01.544617Z"
    }
   },
   "outputs": [],
   "source": [
    "csv_files_dict = {}\n",
    "for filename in csv_files:\n",
    "    filename_cleaned = os.path.basename(filename).replace(\".csv\", \"\").replace(\".\", \"_\").replace('_gz','') # cleaning the filenames\n",
    "    filename_df = pd.read_csv(filename, index_col=0)\n",
    "    csv_files_dict[filename_cleaned] = filename_df"
   ]
  },
  {
   "cell_type": "code",
   "execution_count": 11,
   "metadata": {
    "ExecuteTime": {
     "end_time": "2020-06-22T00:17:04.871921Z",
     "start_time": "2020-06-22T00:17:04.868377Z"
    }
   },
   "outputs": [
    {
     "data": {
      "text/plain": [
       "dict_keys(['imdb_title_crew', 'tmdb_movies', 'imdb_title_akas', 'imdb_title_ratings', 'imdb_name_basics', 'imdb_title_basics', 'tn_movie_budgets', 'bom_movie_gross', 'imdb_title_principals'])"
      ]
     },
     "execution_count": 11,
     "metadata": {},
     "output_type": "execute_result"
    }
   ],
   "source": [
    "csv_files_dict.keys()"
   ]
  },
  {
   "cell_type": "code",
   "execution_count": 12,
   "metadata": {
    "ExecuteTime": {
     "end_time": "2020-06-22T00:17:04.886400Z",
     "start_time": "2020-06-22T00:17:04.873262Z"
    },
    "scrolled": true
   },
   "outputs": [
    {
     "data": {
      "text/html": [
       "<div>\n",
       "<style scoped>\n",
       "    .dataframe tbody tr th:only-of-type {\n",
       "        vertical-align: middle;\n",
       "    }\n",
       "\n",
       "    .dataframe tbody tr th {\n",
       "        vertical-align: top;\n",
       "    }\n",
       "\n",
       "    .dataframe thead th {\n",
       "        text-align: right;\n",
       "    }\n",
       "</style>\n",
       "<table border=\"1\" class=\"dataframe\">\n",
       "  <thead>\n",
       "    <tr style=\"text-align: right;\">\n",
       "      <th></th>\n",
       "      <th>release_date</th>\n",
       "      <th>movie</th>\n",
       "      <th>production_budget</th>\n",
       "      <th>domestic_gross</th>\n",
       "      <th>worldwide_gross</th>\n",
       "    </tr>\n",
       "    <tr>\n",
       "      <th>id</th>\n",
       "      <th></th>\n",
       "      <th></th>\n",
       "      <th></th>\n",
       "      <th></th>\n",
       "      <th></th>\n",
       "    </tr>\n",
       "  </thead>\n",
       "  <tbody>\n",
       "    <tr>\n",
       "      <td>1</td>\n",
       "      <td>Dec 18, 2009</td>\n",
       "      <td>Avatar</td>\n",
       "      <td>$425,000,000</td>\n",
       "      <td>$760,507,625</td>\n",
       "      <td>$2,776,345,279</td>\n",
       "    </tr>\n",
       "    <tr>\n",
       "      <td>2</td>\n",
       "      <td>May 20, 2011</td>\n",
       "      <td>Pirates of the Caribbean: On Stranger Tides</td>\n",
       "      <td>$410,600,000</td>\n",
       "      <td>$241,063,875</td>\n",
       "      <td>$1,045,663,875</td>\n",
       "    </tr>\n",
       "    <tr>\n",
       "      <td>3</td>\n",
       "      <td>Jun 7, 2019</td>\n",
       "      <td>Dark Phoenix</td>\n",
       "      <td>$350,000,000</td>\n",
       "      <td>$42,762,350</td>\n",
       "      <td>$149,762,350</td>\n",
       "    </tr>\n",
       "    <tr>\n",
       "      <td>4</td>\n",
       "      <td>May 1, 2015</td>\n",
       "      <td>Avengers: Age of Ultron</td>\n",
       "      <td>$330,600,000</td>\n",
       "      <td>$459,005,868</td>\n",
       "      <td>$1,403,013,963</td>\n",
       "    </tr>\n",
       "    <tr>\n",
       "      <td>5</td>\n",
       "      <td>Dec 15, 2017</td>\n",
       "      <td>Star Wars Ep. VIII: The Last Jedi</td>\n",
       "      <td>$317,000,000</td>\n",
       "      <td>$620,181,382</td>\n",
       "      <td>$1,316,721,747</td>\n",
       "    </tr>\n",
       "  </tbody>\n",
       "</table>\n",
       "</div>"
      ],
      "text/plain": [
       "    release_date                                        movie  \\\n",
       "id                                                              \n",
       "1   Dec 18, 2009                                       Avatar   \n",
       "2   May 20, 2011  Pirates of the Caribbean: On Stranger Tides   \n",
       "3    Jun 7, 2019                                 Dark Phoenix   \n",
       "4    May 1, 2015                      Avengers: Age of Ultron   \n",
       "5   Dec 15, 2017            Star Wars Ep. VIII: The Last Jedi   \n",
       "\n",
       "   production_budget domestic_gross worldwide_gross  \n",
       "id                                                   \n",
       "1       $425,000,000   $760,507,625  $2,776,345,279  \n",
       "2       $410,600,000   $241,063,875  $1,045,663,875  \n",
       "3       $350,000,000    $42,762,350    $149,762,350  \n",
       "4       $330,600,000   $459,005,868  $1,403,013,963  \n",
       "5       $317,000,000   $620,181,382  $1,316,721,747  "
      ]
     },
     "execution_count": 12,
     "metadata": {},
     "output_type": "execute_result"
    }
   ],
   "source": [
    "csv_files_dict['tn_movie_budgets'].head()"
   ]
  },
  {
   "cell_type": "markdown",
   "metadata": {},
   "source": [
    "## Creating SQL tables from DFs"
   ]
  },
  {
   "cell_type": "code",
   "execution_count": 13,
   "metadata": {
    "ExecuteTime": {
     "end_time": "2020-06-22T00:17:04.891042Z",
     "start_time": "2020-06-22T00:17:04.888283Z"
    }
   },
   "outputs": [],
   "source": [
    "import sqlite3"
   ]
  },
  {
   "cell_type": "code",
   "execution_count": 14,
   "metadata": {
    "ExecuteTime": {
     "end_time": "2020-06-22T00:17:04.895899Z",
     "start_time": "2020-06-22T00:17:04.893049Z"
    }
   },
   "outputs": [],
   "source": [
    "conn = sqlite3.connect(\"movies_db.sqlite\") \n",
    "cur = conn.cursor()"
   ]
  },
  {
   "cell_type": "code",
   "execution_count": 15,
   "metadata": {
    "ExecuteTime": {
     "end_time": "2020-06-22T00:17:04.901233Z",
     "start_time": "2020-06-22T00:17:04.897534Z"
    }
   },
   "outputs": [],
   "source": [
    "def create_sql_table_from_df(df, name, conn):     #batch-creating sql tables from multiple dataframes, with a for loop.\n",
    "    try:\n",
    "        df.to_sql(name, conn)\n",
    "        print(f\"Created table {name}\")\n",
    "    \n",
    "    except Exception as e:\n",
    "        print(f\"could not make table {name}\")\n",
    "        print(e)"
   ]
  },
  {
   "cell_type": "code",
   "execution_count": 16,
   "metadata": {
    "ExecuteTime": {
     "end_time": "2020-06-22T00:17:05.875239Z",
     "start_time": "2020-06-22T00:17:04.903078Z"
    }
   },
   "outputs": [
    {
     "name": "stdout",
     "output_type": "stream",
     "text": [
      "could not make table imdb_title_crew\n",
      "Table 'imdb_title_crew' already exists.\n",
      "could not make table tmdb_movies\n",
      "Table 'tmdb_movies' already exists.\n",
      "could not make table imdb_title_akas\n",
      "Table 'imdb_title_akas' already exists.\n",
      "could not make table imdb_title_ratings\n",
      "Table 'imdb_title_ratings' already exists.\n",
      "could not make table imdb_name_basics\n",
      "Table 'imdb_name_basics' already exists.\n",
      "could not make table imdb_title_basics\n",
      "Table 'imdb_title_basics' already exists.\n",
      "could not make table tn_movie_budgets\n",
      "Table 'tn_movie_budgets' already exists.\n",
      "could not make table bom_movie_gross\n",
      "Table 'bom_movie_gross' already exists.\n",
      "could not make table imdb_title_principals\n",
      "Table 'imdb_title_principals' already exists.\n"
     ]
    }
   ],
   "source": [
    "for name, table in csv_files_dict.items():\n",
    "    create_sql_table_from_df(table, name, conn)"
   ]
  },
  {
   "cell_type": "code",
   "execution_count": 17,
   "metadata": {
    "ExecuteTime": {
     "end_time": "2020-06-22T00:17:05.880832Z",
     "start_time": "2020-06-22T00:17:05.876611Z"
    },
    "scrolled": false
   },
   "outputs": [
    {
     "data": {
      "text/plain": [
       "[('imdb_title_crew',),\n",
       " ('tmdb_movies',),\n",
       " ('imdb_title_akas',),\n",
       " ('imdb_title_ratings',),\n",
       " ('imdb_name_basics',),\n",
       " ('imdb_title_basics',),\n",
       " ('tn_movie_budgets',),\n",
       " ('bom_movie_gross',),\n",
       " ('imdb_title_principals',),\n",
       " ('films_by_awards.csv',),\n",
       " ('films_by_awards',),\n",
       " ('films_by_awards1',),\n",
       " ('films_by_awards2',),\n",
       " ('tn_movie_budgets2',),\n",
       " ('tn_movie_budgets_clean',)]"
      ]
     },
     "execution_count": 17,
     "metadata": {},
     "output_type": "execute_result"
    }
   ],
   "source": [
    "cur.execute(\"select name from sqlite_master where type='table';\").fetchall()"
   ]
  },
  {
   "cell_type": "markdown",
   "metadata": {},
   "source": [
    "For this question, we will be starting with the tn_movie_budgets dataframe, as this dataframe has the higher number of films with monetary information. "
   ]
  },
  {
   "cell_type": "code",
   "execution_count": 18,
   "metadata": {
    "ExecuteTime": {
     "end_time": "2020-06-22T00:17:05.884804Z",
     "start_time": "2020-06-22T00:17:05.882543Z"
    }
   },
   "outputs": [],
   "source": [
    "tn_movie_budgets_df = csv_files_dict['tn_movie_budgets']"
   ]
  },
  {
   "cell_type": "code",
   "execution_count": 19,
   "metadata": {
    "ExecuteTime": {
     "end_time": "2020-06-22T00:17:05.894789Z",
     "start_time": "2020-06-22T00:17:05.886438Z"
    }
   },
   "outputs": [
    {
     "data": {
      "text/html": [
       "<div>\n",
       "<style scoped>\n",
       "    .dataframe tbody tr th:only-of-type {\n",
       "        vertical-align: middle;\n",
       "    }\n",
       "\n",
       "    .dataframe tbody tr th {\n",
       "        vertical-align: top;\n",
       "    }\n",
       "\n",
       "    .dataframe thead th {\n",
       "        text-align: right;\n",
       "    }\n",
       "</style>\n",
       "<table border=\"1\" class=\"dataframe\">\n",
       "  <thead>\n",
       "    <tr style=\"text-align: right;\">\n",
       "      <th></th>\n",
       "      <th>release_date</th>\n",
       "      <th>movie</th>\n",
       "      <th>production_budget</th>\n",
       "      <th>domestic_gross</th>\n",
       "      <th>worldwide_gross</th>\n",
       "    </tr>\n",
       "    <tr>\n",
       "      <th>id</th>\n",
       "      <th></th>\n",
       "      <th></th>\n",
       "      <th></th>\n",
       "      <th></th>\n",
       "      <th></th>\n",
       "    </tr>\n",
       "  </thead>\n",
       "  <tbody>\n",
       "    <tr>\n",
       "      <td>1</td>\n",
       "      <td>Dec 18, 2009</td>\n",
       "      <td>Avatar</td>\n",
       "      <td>$425,000,000</td>\n",
       "      <td>$760,507,625</td>\n",
       "      <td>$2,776,345,279</td>\n",
       "    </tr>\n",
       "    <tr>\n",
       "      <td>2</td>\n",
       "      <td>May 20, 2011</td>\n",
       "      <td>Pirates of the Caribbean: On Stranger Tides</td>\n",
       "      <td>$410,600,000</td>\n",
       "      <td>$241,063,875</td>\n",
       "      <td>$1,045,663,875</td>\n",
       "    </tr>\n",
       "    <tr>\n",
       "      <td>3</td>\n",
       "      <td>Jun 7, 2019</td>\n",
       "      <td>Dark Phoenix</td>\n",
       "      <td>$350,000,000</td>\n",
       "      <td>$42,762,350</td>\n",
       "      <td>$149,762,350</td>\n",
       "    </tr>\n",
       "    <tr>\n",
       "      <td>4</td>\n",
       "      <td>May 1, 2015</td>\n",
       "      <td>Avengers: Age of Ultron</td>\n",
       "      <td>$330,600,000</td>\n",
       "      <td>$459,005,868</td>\n",
       "      <td>$1,403,013,963</td>\n",
       "    </tr>\n",
       "    <tr>\n",
       "      <td>5</td>\n",
       "      <td>Dec 15, 2017</td>\n",
       "      <td>Star Wars Ep. VIII: The Last Jedi</td>\n",
       "      <td>$317,000,000</td>\n",
       "      <td>$620,181,382</td>\n",
       "      <td>$1,316,721,747</td>\n",
       "    </tr>\n",
       "  </tbody>\n",
       "</table>\n",
       "</div>"
      ],
      "text/plain": [
       "    release_date                                        movie  \\\n",
       "id                                                              \n",
       "1   Dec 18, 2009                                       Avatar   \n",
       "2   May 20, 2011  Pirates of the Caribbean: On Stranger Tides   \n",
       "3    Jun 7, 2019                                 Dark Phoenix   \n",
       "4    May 1, 2015                      Avengers: Age of Ultron   \n",
       "5   Dec 15, 2017            Star Wars Ep. VIII: The Last Jedi   \n",
       "\n",
       "   production_budget domestic_gross worldwide_gross  \n",
       "id                                                   \n",
       "1       $425,000,000   $760,507,625  $2,776,345,279  \n",
       "2       $410,600,000   $241,063,875  $1,045,663,875  \n",
       "3       $350,000,000    $42,762,350    $149,762,350  \n",
       "4       $330,600,000   $459,005,868  $1,403,013,963  \n",
       "5       $317,000,000   $620,181,382  $1,316,721,747  "
      ]
     },
     "execution_count": 19,
     "metadata": {},
     "output_type": "execute_result"
    }
   ],
   "source": [
    "tn_movie_budgets_df.head()"
   ]
  },
  {
   "cell_type": "code",
   "execution_count": 20,
   "metadata": {
    "ExecuteTime": {
     "end_time": "2020-06-22T00:17:05.903104Z",
     "start_time": "2020-06-22T00:17:05.895910Z"
    },
    "scrolled": true
   },
   "outputs": [
    {
     "name": "stdout",
     "output_type": "stream",
     "text": [
      "<class 'pandas.core.frame.DataFrame'>\n",
      "Int64Index: 5782 entries, 1 to 82\n",
      "Data columns (total 5 columns):\n",
      "release_date         5782 non-null object\n",
      "movie                5782 non-null object\n",
      "production_budget    5782 non-null object\n",
      "domestic_gross       5782 non-null object\n",
      "worldwide_gross      5782 non-null object\n",
      "dtypes: object(5)\n",
      "memory usage: 271.0+ KB\n"
     ]
    }
   ],
   "source": [
    "tn_movie_budgets_df.info()"
   ]
  },
  {
   "cell_type": "code",
   "execution_count": 21,
   "metadata": {
    "ExecuteTime": {
     "end_time": "2020-06-22T00:17:05.911460Z",
     "start_time": "2020-06-22T00:17:05.904771Z"
    },
    "scrolled": true
   },
   "outputs": [
    {
     "data": {
      "text/plain": [
       "release_date         0\n",
       "movie                0\n",
       "production_budget    0\n",
       "domestic_gross       0\n",
       "worldwide_gross      0\n",
       "dtype: int64"
      ]
     },
     "execution_count": 21,
     "metadata": {},
     "output_type": "execute_result"
    }
   ],
   "source": [
    "tn_movie_budgets_df.isna().sum()"
   ]
  },
  {
   "cell_type": "markdown",
   "metadata": {},
   "source": [
    "## Data Cleaning"
   ]
  },
  {
   "cell_type": "markdown",
   "metadata": {},
   "source": [
    "Let's create a separate column in tn_movie_budgets for release year only. This will help us merge our scraped wikipedia table."
   ]
  },
  {
   "cell_type": "code",
   "execution_count": 22,
   "metadata": {
    "ExecuteTime": {
     "end_time": "2020-06-22T00:17:06.399850Z",
     "start_time": "2020-06-22T00:17:05.913216Z"
    }
   },
   "outputs": [],
   "source": [
    "tn_movie_budgets_df['year'] =  pd.DatetimeIndex(tn_movie_budgets_df['release_date']).year"
   ]
  },
  {
   "cell_type": "code",
   "execution_count": 23,
   "metadata": {
    "ExecuteTime": {
     "end_time": "2020-06-22T00:17:06.409862Z",
     "start_time": "2020-06-22T00:17:06.401101Z"
    },
    "scrolled": true
   },
   "outputs": [
    {
     "data": {
      "text/html": [
       "<div>\n",
       "<style scoped>\n",
       "    .dataframe tbody tr th:only-of-type {\n",
       "        vertical-align: middle;\n",
       "    }\n",
       "\n",
       "    .dataframe tbody tr th {\n",
       "        vertical-align: top;\n",
       "    }\n",
       "\n",
       "    .dataframe thead th {\n",
       "        text-align: right;\n",
       "    }\n",
       "</style>\n",
       "<table border=\"1\" class=\"dataframe\">\n",
       "  <thead>\n",
       "    <tr style=\"text-align: right;\">\n",
       "      <th></th>\n",
       "      <th>release_date</th>\n",
       "      <th>movie</th>\n",
       "      <th>production_budget</th>\n",
       "      <th>domestic_gross</th>\n",
       "      <th>worldwide_gross</th>\n",
       "      <th>year</th>\n",
       "    </tr>\n",
       "    <tr>\n",
       "      <th>id</th>\n",
       "      <th></th>\n",
       "      <th></th>\n",
       "      <th></th>\n",
       "      <th></th>\n",
       "      <th></th>\n",
       "      <th></th>\n",
       "    </tr>\n",
       "  </thead>\n",
       "  <tbody>\n",
       "    <tr>\n",
       "      <td>1</td>\n",
       "      <td>Dec 18, 2009</td>\n",
       "      <td>Avatar</td>\n",
       "      <td>$425,000,000</td>\n",
       "      <td>$760,507,625</td>\n",
       "      <td>$2,776,345,279</td>\n",
       "      <td>2009</td>\n",
       "    </tr>\n",
       "    <tr>\n",
       "      <td>2</td>\n",
       "      <td>May 20, 2011</td>\n",
       "      <td>Pirates of the Caribbean: On Stranger Tides</td>\n",
       "      <td>$410,600,000</td>\n",
       "      <td>$241,063,875</td>\n",
       "      <td>$1,045,663,875</td>\n",
       "      <td>2011</td>\n",
       "    </tr>\n",
       "    <tr>\n",
       "      <td>3</td>\n",
       "      <td>Jun 7, 2019</td>\n",
       "      <td>Dark Phoenix</td>\n",
       "      <td>$350,000,000</td>\n",
       "      <td>$42,762,350</td>\n",
       "      <td>$149,762,350</td>\n",
       "      <td>2019</td>\n",
       "    </tr>\n",
       "    <tr>\n",
       "      <td>4</td>\n",
       "      <td>May 1, 2015</td>\n",
       "      <td>Avengers: Age of Ultron</td>\n",
       "      <td>$330,600,000</td>\n",
       "      <td>$459,005,868</td>\n",
       "      <td>$1,403,013,963</td>\n",
       "      <td>2015</td>\n",
       "    </tr>\n",
       "    <tr>\n",
       "      <td>5</td>\n",
       "      <td>Dec 15, 2017</td>\n",
       "      <td>Star Wars Ep. VIII: The Last Jedi</td>\n",
       "      <td>$317,000,000</td>\n",
       "      <td>$620,181,382</td>\n",
       "      <td>$1,316,721,747</td>\n",
       "      <td>2017</td>\n",
       "    </tr>\n",
       "  </tbody>\n",
       "</table>\n",
       "</div>"
      ],
      "text/plain": [
       "    release_date                                        movie  \\\n",
       "id                                                              \n",
       "1   Dec 18, 2009                                       Avatar   \n",
       "2   May 20, 2011  Pirates of the Caribbean: On Stranger Tides   \n",
       "3    Jun 7, 2019                                 Dark Phoenix   \n",
       "4    May 1, 2015                      Avengers: Age of Ultron   \n",
       "5   Dec 15, 2017            Star Wars Ep. VIII: The Last Jedi   \n",
       "\n",
       "   production_budget domestic_gross worldwide_gross  year  \n",
       "id                                                         \n",
       "1       $425,000,000   $760,507,625  $2,776,345,279  2009  \n",
       "2       $410,600,000   $241,063,875  $1,045,663,875  2011  \n",
       "3       $350,000,000    $42,762,350    $149,762,350  2019  \n",
       "4       $330,600,000   $459,005,868  $1,403,013,963  2015  \n",
       "5       $317,000,000   $620,181,382  $1,316,721,747  2017  "
      ]
     },
     "execution_count": 23,
     "metadata": {},
     "output_type": "execute_result"
    }
   ],
   "source": [
    "tn_movie_budgets_df.head()\n"
   ]
  },
  {
   "cell_type": "markdown",
   "metadata": {
    "ExecuteTime": {
     "end_time": "2020-06-20T19:46:03.317594Z",
     "start_time": "2020-06-20T19:46:03.313243Z"
    }
   },
   "source": [
    "Now let's use a function to clean up our monetary columns, so that we can simply calculate the worldwide profit of each film."
   ]
  },
  {
   "cell_type": "code",
   "execution_count": 24,
   "metadata": {
    "ExecuteTime": {
     "end_time": "2020-06-22T00:17:06.413820Z",
     "start_time": "2020-06-22T00:17:06.411053Z"
    },
    "scrolled": true
   },
   "outputs": [],
   "source": [
    "def convert_amt_to_int(df, col):\n",
    "    df[col] = df[col].str.replace(\"$\", \"\").str.replace(\",\", \"\").astype('int')       #replacing unwanted characters\n",
    "    return df"
   ]
  },
  {
   "cell_type": "code",
   "execution_count": 25,
   "metadata": {
    "ExecuteTime": {
     "end_time": "2020-06-22T00:17:06.437923Z",
     "start_time": "2020-06-22T00:17:06.417401Z"
    }
   },
   "outputs": [],
   "source": [
    "money_cols = ['production_budget', 'domestic_gross', 'worldwide_gross']\n",
    "\n",
    "for col in money_cols:\n",
    "    tn_movie_budgets_df = convert_amt_to_int(tn_movie_budgets_df, col)"
   ]
  },
  {
   "cell_type": "code",
   "execution_count": 26,
   "metadata": {
    "ExecuteTime": {
     "end_time": "2020-06-22T00:17:06.446658Z",
     "start_time": "2020-06-22T00:17:06.440335Z"
    }
   },
   "outputs": [
    {
     "name": "stdout",
     "output_type": "stream",
     "text": [
      "<class 'pandas.core.frame.DataFrame'>\n",
      "Int64Index: 5782 entries, 1 to 82\n",
      "Data columns (total 6 columns):\n",
      "release_date         5782 non-null object\n",
      "movie                5782 non-null object\n",
      "production_budget    5782 non-null int64\n",
      "domestic_gross       5782 non-null int64\n",
      "worldwide_gross      5782 non-null int64\n",
      "year                 5782 non-null int64\n",
      "dtypes: int64(4), object(2)\n",
      "memory usage: 316.2+ KB\n"
     ]
    }
   ],
   "source": [
    "tn_movie_budgets_df.info()"
   ]
  },
  {
   "cell_type": "markdown",
   "metadata": {},
   "source": [
    "Checking values to make sure they are clean"
   ]
  },
  {
   "cell_type": "code",
   "execution_count": 27,
   "metadata": {
    "ExecuteTime": {
     "end_time": "2020-06-22T00:17:06.473731Z",
     "start_time": "2020-06-22T00:17:06.448232Z"
    },
    "scrolled": true
   },
   "outputs": [
    {
     "name": "stdout",
     "output_type": "stream",
     "text": [
      "Viewing values in col: release_date\n",
      "Top 5 values:\n",
      "Dec 31, 2014    0.004151\n",
      "Dec 31, 2015    0.003978\n",
      "Dec 31, 2010    0.002594\n",
      "Dec 31, 2008    0.002421\n",
      "Dec 31, 2009    0.002248\n",
      "Name: release_date, dtype: float64\n",
      "-------------------\n",
      "Viewing values in col: movie\n",
      "Top 5 values:\n",
      "King Kong       0.000519\n",
      "Home            0.000519\n",
      "Halloween       0.000519\n",
      "Poltergeist     0.000346\n",
      "Total Recall    0.000346\n",
      "Name: movie, dtype: float64\n",
      "-------------------\n",
      "Viewing values in col: production_budget\n",
      "Top 5 values:\n",
      "20000000    0.039952\n",
      "10000000    0.036666\n",
      "30000000    0.030612\n",
      "15000000    0.029920\n",
      "25000000    0.029575\n",
      "Name: production_budget, dtype: float64\n",
      "-------------------\n",
      "Viewing values in col: domestic_gross\n",
      "Top 5 values:\n",
      "0           0.094777\n",
      "8000000     0.001557\n",
      "2000000     0.001211\n",
      "7000000     0.001211\n",
      "10000000    0.001038\n",
      "Name: domestic_gross, dtype: float64\n",
      "-------------------\n",
      "Viewing values in col: worldwide_gross\n",
      "Top 5 values:\n",
      "0          0.063473\n",
      "8000000    0.001557\n",
      "7000000    0.001038\n",
      "2000000    0.001038\n",
      "4000000    0.000692\n",
      "Name: worldwide_gross, dtype: float64\n",
      "-------------------\n",
      "Viewing values in col: year\n",
      "Top 5 values:\n",
      "2015    0.058457\n",
      "2010    0.047388\n",
      "2008    0.045659\n",
      "2006    0.044967\n",
      "2014    0.044102\n",
      "Name: year, dtype: float64\n",
      "-------------------\n"
     ]
    }
   ],
   "source": [
    "for col in tn_movie_budgets_df:\n",
    "    print(f'Viewing values in col: {col}')\n",
    "    print(f'Top 5 values:\\n{tn_movie_budgets_df[col].value_counts(normalize = True)[:5]}')\n",
    "    print(\"-------------------\")"
   ]
  },
  {
   "cell_type": "markdown",
   "metadata": {},
   "source": [
    "Making a new columns for worldwide gross profit. Maybe we can test award winners against profit later!"
   ]
  },
  {
   "cell_type": "code",
   "execution_count": 28,
   "metadata": {
    "ExecuteTime": {
     "end_time": "2020-06-22T00:17:06.485925Z",
     "start_time": "2020-06-22T00:17:06.475062Z"
    },
    "scrolled": true
   },
   "outputs": [
    {
     "data": {
      "text/html": [
       "<div>\n",
       "<style scoped>\n",
       "    .dataframe tbody tr th:only-of-type {\n",
       "        vertical-align: middle;\n",
       "    }\n",
       "\n",
       "    .dataframe tbody tr th {\n",
       "        vertical-align: top;\n",
       "    }\n",
       "\n",
       "    .dataframe thead th {\n",
       "        text-align: right;\n",
       "    }\n",
       "</style>\n",
       "<table border=\"1\" class=\"dataframe\">\n",
       "  <thead>\n",
       "    <tr style=\"text-align: right;\">\n",
       "      <th></th>\n",
       "      <th>release_date</th>\n",
       "      <th>movie</th>\n",
       "      <th>production_budget</th>\n",
       "      <th>domestic_gross</th>\n",
       "      <th>worldwide_gross</th>\n",
       "      <th>year</th>\n",
       "      <th>budget_gross_profit</th>\n",
       "    </tr>\n",
       "    <tr>\n",
       "      <th>id</th>\n",
       "      <th></th>\n",
       "      <th></th>\n",
       "      <th></th>\n",
       "      <th></th>\n",
       "      <th></th>\n",
       "      <th></th>\n",
       "      <th></th>\n",
       "    </tr>\n",
       "  </thead>\n",
       "  <tbody>\n",
       "    <tr>\n",
       "      <td>1</td>\n",
       "      <td>Dec 18, 2009</td>\n",
       "      <td>Avatar</td>\n",
       "      <td>425000000</td>\n",
       "      <td>760507625</td>\n",
       "      <td>2776345279</td>\n",
       "      <td>2009</td>\n",
       "      <td>2351345279</td>\n",
       "    </tr>\n",
       "    <tr>\n",
       "      <td>2</td>\n",
       "      <td>May 20, 2011</td>\n",
       "      <td>Pirates of the Caribbean: On Stranger Tides</td>\n",
       "      <td>410600000</td>\n",
       "      <td>241063875</td>\n",
       "      <td>1045663875</td>\n",
       "      <td>2011</td>\n",
       "      <td>635063875</td>\n",
       "    </tr>\n",
       "    <tr>\n",
       "      <td>3</td>\n",
       "      <td>Jun 7, 2019</td>\n",
       "      <td>Dark Phoenix</td>\n",
       "      <td>350000000</td>\n",
       "      <td>42762350</td>\n",
       "      <td>149762350</td>\n",
       "      <td>2019</td>\n",
       "      <td>-200237650</td>\n",
       "    </tr>\n",
       "    <tr>\n",
       "      <td>4</td>\n",
       "      <td>May 1, 2015</td>\n",
       "      <td>Avengers: Age of Ultron</td>\n",
       "      <td>330600000</td>\n",
       "      <td>459005868</td>\n",
       "      <td>1403013963</td>\n",
       "      <td>2015</td>\n",
       "      <td>1072413963</td>\n",
       "    </tr>\n",
       "    <tr>\n",
       "      <td>5</td>\n",
       "      <td>Dec 15, 2017</td>\n",
       "      <td>Star Wars Ep. VIII: The Last Jedi</td>\n",
       "      <td>317000000</td>\n",
       "      <td>620181382</td>\n",
       "      <td>1316721747</td>\n",
       "      <td>2017</td>\n",
       "      <td>999721747</td>\n",
       "    </tr>\n",
       "  </tbody>\n",
       "</table>\n",
       "</div>"
      ],
      "text/plain": [
       "    release_date                                        movie  \\\n",
       "id                                                              \n",
       "1   Dec 18, 2009                                       Avatar   \n",
       "2   May 20, 2011  Pirates of the Caribbean: On Stranger Tides   \n",
       "3    Jun 7, 2019                                 Dark Phoenix   \n",
       "4    May 1, 2015                      Avengers: Age of Ultron   \n",
       "5   Dec 15, 2017            Star Wars Ep. VIII: The Last Jedi   \n",
       "\n",
       "    production_budget  domestic_gross  worldwide_gross  year  \\\n",
       "id                                                             \n",
       "1           425000000       760507625       2776345279  2009   \n",
       "2           410600000       241063875       1045663875  2011   \n",
       "3           350000000        42762350        149762350  2019   \n",
       "4           330600000       459005868       1403013963  2015   \n",
       "5           317000000       620181382       1316721747  2017   \n",
       "\n",
       "    budget_gross_profit  \n",
       "id                       \n",
       "1            2351345279  \n",
       "2             635063875  \n",
       "3            -200237650  \n",
       "4            1072413963  \n",
       "5             999721747  "
      ]
     },
     "execution_count": 28,
     "metadata": {},
     "output_type": "execute_result"
    }
   ],
   "source": [
    "tn_movie_budgets_df['budget_gross_profit'] = tn_movie_budgets_df['worldwide_gross'] - tn_movie_budgets_df['production_budget']\n",
    "tn_movie_budgets_df.head()"
   ]
  },
  {
   "cell_type": "code",
   "execution_count": 29,
   "metadata": {
    "ExecuteTime": {
     "end_time": "2020-06-22T00:17:06.497229Z",
     "start_time": "2020-06-22T00:17:06.487585Z"
    }
   },
   "outputs": [
    {
     "name": "stdout",
     "output_type": "stream",
     "text": [
      "could not make table tn_movie_budgets_clean\n",
      "Table 'tn_movie_budgets_clean' already exists.\n"
     ]
    }
   ],
   "source": [
    "create_sql_table_from_df(tn_movie_budgets_df, 'tn_movie_budgets_clean', conn)"
   ]
  },
  {
   "cell_type": "markdown",
   "metadata": {},
   "source": [
    "## Importing scraped Academy Award table"
   ]
  },
  {
   "cell_type": "markdown",
   "metadata": {},
   "source": [
    "Let's import the dataframe of our scraped Academy-Award winning films, and clean up the column names."
   ]
  },
  {
   "cell_type": "code",
   "execution_count": 30,
   "metadata": {
    "ExecuteTime": {
     "end_time": "2020-06-22T00:17:06.508931Z",
     "start_time": "2020-06-22T00:17:06.498487Z"
    },
    "scrolled": true
   },
   "outputs": [
    {
     "name": "stdout",
     "output_type": "stream",
     "text": [
      "could not make table films_by_awards2\n",
      "Table 'films_by_awards2' already exists.\n"
     ]
    },
    {
     "name": "stderr",
     "output_type": "stream",
     "text": [
      "/Users/orin/opt/anaconda3/envs/learn-env/lib/python3.6/site-packages/pandas/core/generic.py:2712: UserWarning: The spaces in these column names will not be changed. In pandas versions < 0.14, spaces were converted to underscores.\n",
      "  method=method,\n"
     ]
    }
   ],
   "source": [
    "df2 = pd.read_csv('films_by_awards.csv')\n",
    "df2.rename(columns = {\"Film\\n\": \"film\", \"Awards\\n\": \"awards\", \"Nominations\\n\": \"nominations\", \"Year\\n\": \"year\"}, inplace=True)\n",
    "df2\n",
    "create_sql_table_from_df(df2, 'films_by_awards2', conn)"
   ]
  },
  {
   "cell_type": "code",
   "execution_count": 31,
   "metadata": {
    "ExecuteTime": {
     "end_time": "2020-06-22T00:17:06.515959Z",
     "start_time": "2020-06-22T00:17:06.510143Z"
    }
   },
   "outputs": [
    {
     "name": "stdout",
     "output_type": "stream",
     "text": [
      "<class 'pandas.core.frame.DataFrame'>\n",
      "RangeIndex: 1316 entries, 0 to 1315\n",
      "Data columns (total 5 columns):\n",
      "Unnamed: 0     1316 non-null int64\n",
      "film           1316 non-null object\n",
      "year           1316 non-null object\n",
      "awards         1316 non-null object\n",
      "nominations    1316 non-null object\n",
      "dtypes: int64(1), object(4)\n",
      "memory usage: 51.5+ KB\n"
     ]
    }
   ],
   "source": [
    "df2.info()"
   ]
  },
  {
   "cell_type": "markdown",
   "metadata": {},
   "source": [
    "# Joining separate data tables"
   ]
  },
  {
   "cell_type": "markdown",
   "metadata": {},
   "source": [
    "Let's join our Academy Award winner data to our table of gross and profit data."
   ]
  },
  {
   "cell_type": "code",
   "execution_count": 32,
   "metadata": {
    "ExecuteTime": {
     "end_time": "2020-06-22T00:17:06.557312Z",
     "start_time": "2020-06-22T00:17:06.517117Z"
    },
    "scrolled": true
   },
   "outputs": [
    {
     "data": {
      "text/html": [
       "<div>\n",
       "<style scoped>\n",
       "    .dataframe tbody tr th:only-of-type {\n",
       "        vertical-align: middle;\n",
       "    }\n",
       "\n",
       "    .dataframe tbody tr th {\n",
       "        vertical-align: top;\n",
       "    }\n",
       "\n",
       "    .dataframe thead th {\n",
       "        text-align: right;\n",
       "    }\n",
       "</style>\n",
       "<table border=\"1\" class=\"dataframe\">\n",
       "  <thead>\n",
       "    <tr style=\"text-align: right;\">\n",
       "      <th></th>\n",
       "      <th>id</th>\n",
       "      <th>release_date</th>\n",
       "      <th>movie</th>\n",
       "      <th>production_budget</th>\n",
       "      <th>domestic_gross</th>\n",
       "      <th>worldwide_gross</th>\n",
       "      <th>year</th>\n",
       "      <th>budget_gross_profit</th>\n",
       "      <th>awards</th>\n",
       "      <th>nominations</th>\n",
       "    </tr>\n",
       "  </thead>\n",
       "  <tbody>\n",
       "    <tr>\n",
       "      <td>0</td>\n",
       "      <td>1</td>\n",
       "      <td>Dec 18, 2009</td>\n",
       "      <td>Avatar</td>\n",
       "      <td>425000000</td>\n",
       "      <td>760507625</td>\n",
       "      <td>2776345279</td>\n",
       "      <td>2009</td>\n",
       "      <td>2351345279</td>\n",
       "      <td>3</td>\n",
       "      <td>9</td>\n",
       "    </tr>\n",
       "    <tr>\n",
       "      <td>1</td>\n",
       "      <td>43</td>\n",
       "      <td>Dec 19, 1997</td>\n",
       "      <td>Titanic</td>\n",
       "      <td>200000000</td>\n",
       "      <td>659363944</td>\n",
       "      <td>2208208395</td>\n",
       "      <td>1997</td>\n",
       "      <td>2008208395</td>\n",
       "      <td>11</td>\n",
       "      <td>14</td>\n",
       "    </tr>\n",
       "    <tr>\n",
       "      <td>2</td>\n",
       "      <td>7</td>\n",
       "      <td>Apr 27, 2018</td>\n",
       "      <td>Avengers: Infinity War</td>\n",
       "      <td>300000000</td>\n",
       "      <td>678815482</td>\n",
       "      <td>2048134200</td>\n",
       "      <td>2018</td>\n",
       "      <td>1748134200</td>\n",
       "      <td>None</td>\n",
       "      <td>None</td>\n",
       "    </tr>\n",
       "    <tr>\n",
       "      <td>3</td>\n",
       "      <td>6</td>\n",
       "      <td>Dec 18, 2015</td>\n",
       "      <td>Star Wars Ep. VII: The Force Awakens</td>\n",
       "      <td>306000000</td>\n",
       "      <td>936662225</td>\n",
       "      <td>2053311220</td>\n",
       "      <td>2015</td>\n",
       "      <td>1747311220</td>\n",
       "      <td>None</td>\n",
       "      <td>None</td>\n",
       "    </tr>\n",
       "    <tr>\n",
       "      <td>4</td>\n",
       "      <td>34</td>\n",
       "      <td>Jun 12, 2015</td>\n",
       "      <td>Jurassic World</td>\n",
       "      <td>215000000</td>\n",
       "      <td>652270625</td>\n",
       "      <td>1648854864</td>\n",
       "      <td>2015</td>\n",
       "      <td>1433854864</td>\n",
       "      <td>None</td>\n",
       "      <td>None</td>\n",
       "    </tr>\n",
       "  </tbody>\n",
       "</table>\n",
       "</div>"
      ],
      "text/plain": [
       "   id  release_date                                 movie  production_budget  \\\n",
       "0   1  Dec 18, 2009                                Avatar          425000000   \n",
       "1  43  Dec 19, 1997                               Titanic          200000000   \n",
       "2   7  Apr 27, 2018                Avengers: Infinity War          300000000   \n",
       "3   6  Dec 18, 2015  Star Wars Ep. VII: The Force Awakens          306000000   \n",
       "4  34  Jun 12, 2015                        Jurassic World          215000000   \n",
       "\n",
       "   domestic_gross  worldwide_gross  year  budget_gross_profit awards  \\\n",
       "0       760507625       2776345279  2009           2351345279      3   \n",
       "1       659363944       2208208395  1997           2008208395     11   \n",
       "2       678815482       2048134200  2018           1748134200   None   \n",
       "3       936662225       2053311220  2015           1747311220   None   \n",
       "4       652270625       1648854864  2015           1433854864   None   \n",
       "\n",
       "  nominations  \n",
       "0           9  \n",
       "1          14  \n",
       "2        None  \n",
       "3        None  \n",
       "4        None  "
      ]
     },
     "execution_count": 32,
     "metadata": {},
     "output_type": "execute_result"
    }
   ],
   "source": [
    "cur.execute('''SELECT b.*, awards, nominations\n",
    "                FROM tn_movie_budgets_clean b\n",
    "                LEFT JOIN films_by_awards2 a\n",
    "                ON a.film = b.movie\n",
    "                AND a.year = b.year                                \n",
    "                ORDER BY budget_gross_profit DESC                  \n",
    "                ''')                            # we needed to join our scraped table on two conditions, because some \n",
    "                                                #films were created on multiple years with the same name.            \n",
    "awards_to_budget_df = pd.DataFrame(cur.fetchall())\n",
    "awards_to_budget_df.columns = [x[0] for x in cur.description]\n",
    "awards_to_budget_df.head()"
   ]
  },
  {
   "cell_type": "code",
   "execution_count": 33,
   "metadata": {
    "ExecuteTime": {
     "end_time": "2020-06-22T00:17:06.903681Z",
     "start_time": "2020-06-22T00:17:06.558830Z"
    }
   },
   "outputs": [],
   "source": [
    "import seaborn as sns\n",
    "import matplotlib.pyplot as plt\n",
    "%matplotlib inline"
   ]
  },
  {
   "cell_type": "markdown",
   "metadata": {},
   "source": [
    "## Further cleaning of new data"
   ]
  },
  {
   "cell_type": "code",
   "execution_count": 34,
   "metadata": {
    "ExecuteTime": {
     "end_time": "2020-06-22T00:17:06.910456Z",
     "start_time": "2020-06-22T00:17:06.905472Z"
    },
    "scrolled": true
   },
   "outputs": [
    {
     "data": {
      "text/plain": [
       "array(['3', '11', None, '2', '1', '4', '6', '7', '5', '8 (2)', '8',\n",
       "       '4 (1)', '0 (1)', '1 (1)', '9', '0 (2)', '10', '5 (1)', '7 (1)'],\n",
       "      dtype=object)"
      ]
     },
     "execution_count": 34,
     "metadata": {},
     "output_type": "execute_result"
    }
   ],
   "source": [
    "awards_to_budget_df['awards'].unique()"
   ]
  },
  {
   "cell_type": "code",
   "execution_count": 35,
   "metadata": {
    "ExecuteTime": {
     "end_time": "2020-06-22T00:17:06.916166Z",
     "start_time": "2020-06-22T00:17:06.911926Z"
    }
   },
   "outputs": [
    {
     "data": {
      "text/plain": [
       "array(['9', '14', None, '7', '2', '11', '3', '5', '4', '1', '6', '8',\n",
       "       '13', '10', '12', '10[4]\\n', '0', '6[11]\\n'], dtype=object)"
      ]
     },
     "execution_count": 35,
     "metadata": {},
     "output_type": "execute_result"
    }
   ],
   "source": [
    "awards_to_budget_df['nominations'].unique()"
   ]
  },
  {
   "cell_type": "markdown",
   "metadata": {},
   "source": [
    "Let's remove any extra characters included from the Wikipedia table, to leave only the number of competitive awards for each film. Let's also convert any null values to 0, for graphing purposes later on."
   ]
  },
  {
   "cell_type": "code",
   "execution_count": 36,
   "metadata": {
    "ExecuteTime": {
     "end_time": "2020-06-22T00:17:06.920751Z",
     "start_time": "2020-06-22T00:17:06.917681Z"
    }
   },
   "outputs": [],
   "source": [
    "def clean_vals(df, col):\n",
    "    df[col] = df[col].str.rstrip('\\n').str.replace(\"\\(.*\\)\", \"\").fillna(\"0\").astype('int')\n",
    "    return df"
   ]
  },
  {
   "cell_type": "code",
   "execution_count": 37,
   "metadata": {
    "ExecuteTime": {
     "end_time": "2020-06-22T00:17:06.928818Z",
     "start_time": "2020-06-22T00:17:06.922471Z"
    }
   },
   "outputs": [],
   "source": [
    "academy_award_cols = ['awards']\n",
    "\n",
    "for col in academy_award_cols:\n",
    "    awards_to_budget_df = clean_vals(awards_to_budget_df, col)"
   ]
  },
  {
   "cell_type": "code",
   "execution_count": 38,
   "metadata": {
    "ExecuteTime": {
     "end_time": "2020-06-22T00:17:06.933741Z",
     "start_time": "2020-06-22T00:17:06.930004Z"
    },
    "scrolled": true
   },
   "outputs": [
    {
     "data": {
      "text/plain": [
       "array([ 3, 11,  0,  2,  1,  4,  6,  7,  5,  8,  9, 10])"
      ]
     },
     "execution_count": 38,
     "metadata": {},
     "output_type": "execute_result"
    }
   ],
   "source": [
    "awards_to_budget_df['awards'].unique()"
   ]
  },
  {
   "cell_type": "code",
   "execution_count": 39,
   "metadata": {
    "ExecuteTime": {
     "end_time": "2020-06-22T00:17:06.938331Z",
     "start_time": "2020-06-22T00:17:06.934855Z"
    }
   },
   "outputs": [
    {
     "data": {
      "text/plain": [
       "array(['9', '14', None, '7', '2', '11', '3', '5', '4', '1', '6', '8',\n",
       "       '13', '10', '12', '10[4]\\n', '0', '6[11]\\n'], dtype=object)"
      ]
     },
     "execution_count": 39,
     "metadata": {},
     "output_type": "execute_result"
    }
   ],
   "source": [
    "awards_to_budget_df['nominations'].unique()"
   ]
  },
  {
   "cell_type": "markdown",
   "metadata": {
    "ExecuteTime": {
     "end_time": "2020-06-19T17:02:07.473918Z",
     "start_time": "2020-06-19T17:02:07.470005Z"
    }
   },
   "source": [
    "Cleaning the nominations column. This took quite a bit of tries as we tried to separate the \"\\n\" first and then the bracketed footnote. Eventually we stepped back onto a simple but effective solution of dividing the string at the cutoff of our desired value, which was the inner bracket \"[\"\n"
   ]
  },
  {
   "cell_type": "code",
   "execution_count": 40,
   "metadata": {
    "ExecuteTime": {
     "end_time": "2020-06-22T00:17:06.942374Z",
     "start_time": "2020-06-22T00:17:06.939376Z"
    }
   },
   "outputs": [
    {
     "data": {
      "text/plain": [
       "['10', '4]\\n']"
      ]
     },
     "execution_count": 40,
     "metadata": {},
     "output_type": "execute_result"
    }
   ],
   "source": [
    "'10[4]\\n'.split('[')"
   ]
  },
  {
   "cell_type": "code",
   "execution_count": 41,
   "metadata": {
    "ExecuteTime": {
     "end_time": "2020-06-22T00:17:06.947384Z",
     "start_time": "2020-06-22T00:17:06.943612Z"
    }
   },
   "outputs": [],
   "source": [
    "value_split = awards_to_budget_df['nominations'].str.split('[').fillna(\"0\")"
   ]
  },
  {
   "cell_type": "code",
   "execution_count": 42,
   "metadata": {
    "ExecuteTime": {
     "end_time": "2020-06-22T00:17:06.951395Z",
     "start_time": "2020-06-22T00:17:06.948523Z"
    }
   },
   "outputs": [
    {
     "data": {
      "text/plain": [
       "pandas.core.series.Series"
      ]
     },
     "execution_count": 42,
     "metadata": {},
     "output_type": "execute_result"
    }
   ],
   "source": [
    "type(value_split)"
   ]
  },
  {
   "cell_type": "code",
   "execution_count": 43,
   "metadata": {
    "ExecuteTime": {
     "end_time": "2020-06-22T00:17:06.955903Z",
     "start_time": "2020-06-22T00:17:06.952519Z"
    }
   },
   "outputs": [
    {
     "data": {
      "text/plain": [
       "'9'"
      ]
     },
     "execution_count": 43,
     "metadata": {},
     "output_type": "execute_result"
    }
   ],
   "source": [
    "(value_split[0][0])"
   ]
  },
  {
   "cell_type": "markdown",
   "metadata": {},
   "source": [
    "Reassigning the cleaned value back to the 'nominations' column"
   ]
  },
  {
   "cell_type": "code",
   "execution_count": 44,
   "metadata": {
    "ExecuteTime": {
     "end_time": "2020-06-22T00:17:06.964892Z",
     "start_time": "2020-06-22T00:17:06.957244Z"
    }
   },
   "outputs": [],
   "source": [
    "awards_to_budget_df['nominations'] = value_split.str.get(0).astype('int')"
   ]
  },
  {
   "cell_type": "code",
   "execution_count": 45,
   "metadata": {
    "ExecuteTime": {
     "end_time": "2020-06-22T00:17:06.971494Z",
     "start_time": "2020-06-22T00:17:06.966971Z"
    }
   },
   "outputs": [
    {
     "data": {
      "text/plain": [
       "array([ 9, 14,  0,  7,  2, 11,  3,  5,  4,  1,  6,  8, 13, 10, 12])"
      ]
     },
     "execution_count": 45,
     "metadata": {},
     "output_type": "execute_result"
    }
   ],
   "source": [
    "awards_to_budget_df['nominations'].unique()"
   ]
  },
  {
   "cell_type": "markdown",
   "metadata": {},
   "source": [
    "### Cleaning Out Movies that Grossed 0 dollars"
   ]
  },
  {
   "cell_type": "markdown",
   "metadata": {},
   "source": [
    "Remove movies which have not been released yet, or made absolutely no money whatsoever."
   ]
  },
  {
   "cell_type": "code",
   "execution_count": 46,
   "metadata": {
    "ExecuteTime": {
     "end_time": "2020-06-22T00:17:06.989372Z",
     "start_time": "2020-06-22T00:17:06.973464Z"
    }
   },
   "outputs": [
    {
     "data": {
      "text/html": [
       "<div>\n",
       "<style scoped>\n",
       "    .dataframe tbody tr th:only-of-type {\n",
       "        vertical-align: middle;\n",
       "    }\n",
       "\n",
       "    .dataframe tbody tr th {\n",
       "        vertical-align: top;\n",
       "    }\n",
       "\n",
       "    .dataframe thead th {\n",
       "        text-align: right;\n",
       "    }\n",
       "</style>\n",
       "<table border=\"1\" class=\"dataframe\">\n",
       "  <thead>\n",
       "    <tr style=\"text-align: right;\">\n",
       "      <th></th>\n",
       "      <th>id</th>\n",
       "      <th>release_date</th>\n",
       "      <th>movie</th>\n",
       "      <th>production_budget</th>\n",
       "      <th>domestic_gross</th>\n",
       "      <th>worldwide_gross</th>\n",
       "      <th>year</th>\n",
       "      <th>budget_gross_profit</th>\n",
       "      <th>awards</th>\n",
       "      <th>nominations</th>\n",
       "    </tr>\n",
       "  </thead>\n",
       "  <tbody>\n",
       "    <tr>\n",
       "      <td>3658</td>\n",
       "      <td>81</td>\n",
       "      <td>Sep 29, 2015</td>\n",
       "      <td>A Plague So Pleasant</td>\n",
       "      <td>1400</td>\n",
       "      <td>0</td>\n",
       "      <td>0</td>\n",
       "      <td>2015</td>\n",
       "      <td>-1400</td>\n",
       "      <td>0</td>\n",
       "      <td>0</td>\n",
       "    </tr>\n",
       "    <tr>\n",
       "      <td>3663</td>\n",
       "      <td>78</td>\n",
       "      <td>Dec 31, 2018</td>\n",
       "      <td>Red 11</td>\n",
       "      <td>7000</td>\n",
       "      <td>0</td>\n",
       "      <td>0</td>\n",
       "      <td>2018</td>\n",
       "      <td>-7000</td>\n",
       "      <td>0</td>\n",
       "      <td>0</td>\n",
       "    </tr>\n",
       "    <tr>\n",
       "      <td>3667</td>\n",
       "      <td>72</td>\n",
       "      <td>May 19, 2015</td>\n",
       "      <td>Family Motocross</td>\n",
       "      <td>10000</td>\n",
       "      <td>0</td>\n",
       "      <td>0</td>\n",
       "      <td>2015</td>\n",
       "      <td>-10000</td>\n",
       "      <td>0</td>\n",
       "      <td>0</td>\n",
       "    </tr>\n",
       "    <tr>\n",
       "      <td>3669</td>\n",
       "      <td>65</td>\n",
       "      <td>Dec 31, 2007</td>\n",
       "      <td>Tin Can Man</td>\n",
       "      <td>12000</td>\n",
       "      <td>0</td>\n",
       "      <td>0</td>\n",
       "      <td>2007</td>\n",
       "      <td>-12000</td>\n",
       "      <td>0</td>\n",
       "      <td>0</td>\n",
       "    </tr>\n",
       "    <tr>\n",
       "      <td>3673</td>\n",
       "      <td>62</td>\n",
       "      <td>Dec 31, 2014</td>\n",
       "      <td>Stories of Our Lives</td>\n",
       "      <td>15000</td>\n",
       "      <td>0</td>\n",
       "      <td>0</td>\n",
       "      <td>2014</td>\n",
       "      <td>-15000</td>\n",
       "      <td>0</td>\n",
       "      <td>0</td>\n",
       "    </tr>\n",
       "    <tr>\n",
       "      <td>...</td>\n",
       "      <td>...</td>\n",
       "      <td>...</td>\n",
       "      <td>...</td>\n",
       "      <td>...</td>\n",
       "      <td>...</td>\n",
       "      <td>...</td>\n",
       "      <td>...</td>\n",
       "      <td>...</td>\n",
       "      <td>...</td>\n",
       "      <td>...</td>\n",
       "    </tr>\n",
       "    <tr>\n",
       "      <td>5770</td>\n",
       "      <td>72</td>\n",
       "      <td>Dec 31, 2019</td>\n",
       "      <td>355</td>\n",
       "      <td>75000000</td>\n",
       "      <td>0</td>\n",
       "      <td>0</td>\n",
       "      <td>2019</td>\n",
       "      <td>-75000000</td>\n",
       "      <td>0</td>\n",
       "      <td>0</td>\n",
       "    </tr>\n",
       "    <tr>\n",
       "      <td>5773</td>\n",
       "      <td>36</td>\n",
       "      <td>Feb 21, 2020</td>\n",
       "      <td>Call of the Wild</td>\n",
       "      <td>82000000</td>\n",
       "      <td>0</td>\n",
       "      <td>0</td>\n",
       "      <td>2020</td>\n",
       "      <td>-82000000</td>\n",
       "      <td>0</td>\n",
       "      <td>0</td>\n",
       "    </tr>\n",
       "    <tr>\n",
       "      <td>5774</td>\n",
       "      <td>80</td>\n",
       "      <td>Dec 13, 2017</td>\n",
       "      <td>Bright</td>\n",
       "      <td>90000000</td>\n",
       "      <td>0</td>\n",
       "      <td>0</td>\n",
       "      <td>2017</td>\n",
       "      <td>-90000000</td>\n",
       "      <td>0</td>\n",
       "      <td>0</td>\n",
       "    </tr>\n",
       "    <tr>\n",
       "      <td>5775</td>\n",
       "      <td>81</td>\n",
       "      <td>Dec 31, 2019</td>\n",
       "      <td>Army of the Dead</td>\n",
       "      <td>90000000</td>\n",
       "      <td>0</td>\n",
       "      <td>0</td>\n",
       "      <td>2019</td>\n",
       "      <td>-90000000</td>\n",
       "      <td>0</td>\n",
       "      <td>0</td>\n",
       "    </tr>\n",
       "    <tr>\n",
       "      <td>5780</td>\n",
       "      <td>95</td>\n",
       "      <td>Dec 31, 2020</td>\n",
       "      <td>Moonfall</td>\n",
       "      <td>150000000</td>\n",
       "      <td>0</td>\n",
       "      <td>0</td>\n",
       "      <td>2020</td>\n",
       "      <td>-150000000</td>\n",
       "      <td>0</td>\n",
       "      <td>0</td>\n",
       "    </tr>\n",
       "  </tbody>\n",
       "</table>\n",
       "<p>367 rows × 10 columns</p>\n",
       "</div>"
      ],
      "text/plain": [
       "      id  release_date                 movie  production_budget  \\\n",
       "3658  81  Sep 29, 2015  A Plague So Pleasant               1400   \n",
       "3663  78  Dec 31, 2018                Red 11               7000   \n",
       "3667  72  May 19, 2015      Family Motocross              10000   \n",
       "3669  65  Dec 31, 2007           Tin Can Man              12000   \n",
       "3673  62  Dec 31, 2014  Stories of Our Lives              15000   \n",
       "...   ..           ...                   ...                ...   \n",
       "5770  72  Dec 31, 2019                   355           75000000   \n",
       "5773  36  Feb 21, 2020      Call of the Wild           82000000   \n",
       "5774  80  Dec 13, 2017                Bright           90000000   \n",
       "5775  81  Dec 31, 2019      Army of the Dead           90000000   \n",
       "5780  95  Dec 31, 2020              Moonfall          150000000   \n",
       "\n",
       "      domestic_gross  worldwide_gross  year  budget_gross_profit  awards  \\\n",
       "3658               0                0  2015                -1400       0   \n",
       "3663               0                0  2018                -7000       0   \n",
       "3667               0                0  2015               -10000       0   \n",
       "3669               0                0  2007               -12000       0   \n",
       "3673               0                0  2014               -15000       0   \n",
       "...              ...              ...   ...                  ...     ...   \n",
       "5770               0                0  2019            -75000000       0   \n",
       "5773               0                0  2020            -82000000       0   \n",
       "5774               0                0  2017            -90000000       0   \n",
       "5775               0                0  2019            -90000000       0   \n",
       "5780               0                0  2020           -150000000       0   \n",
       "\n",
       "      nominations  \n",
       "3658            0  \n",
       "3663            0  \n",
       "3667            0  \n",
       "3669            0  \n",
       "3673            0  \n",
       "...           ...  \n",
       "5770            0  \n",
       "5773            0  \n",
       "5774            0  \n",
       "5775            0  \n",
       "5780            0  \n",
       "\n",
       "[367 rows x 10 columns]"
      ]
     },
     "execution_count": 46,
     "metadata": {},
     "output_type": "execute_result"
    }
   ],
   "source": [
    "current_movies = awards_to_budget_df[awards_to_budget_df['worldwide_gross'] == 0]\n",
    "current_movies"
   ]
  },
  {
   "cell_type": "code",
   "execution_count": 47,
   "metadata": {
    "ExecuteTime": {
     "end_time": "2020-06-22T00:17:06.995438Z",
     "start_time": "2020-06-22T00:17:06.990553Z"
    }
   },
   "outputs": [],
   "source": [
    "gross_index = awards_to_budget_df[awards_to_budget_df['worldwide_gross'] == 0].index\n",
    "awards_to_budget_df.drop(gross_index, inplace=True)"
   ]
  },
  {
   "cell_type": "code",
   "execution_count": 48,
   "metadata": {
    "ExecuteTime": {
     "end_time": "2020-06-22T00:17:07.002790Z",
     "start_time": "2020-06-22T00:17:06.996551Z"
    }
   },
   "outputs": [
    {
     "name": "stdout",
     "output_type": "stream",
     "text": [
      "<class 'pandas.core.frame.DataFrame'>\n",
      "Int64Index: 5415 entries, 0 to 5781\n",
      "Data columns (total 10 columns):\n",
      "id                     5415 non-null int64\n",
      "release_date           5415 non-null object\n",
      "movie                  5415 non-null object\n",
      "production_budget      5415 non-null int64\n",
      "domestic_gross         5415 non-null int64\n",
      "worldwide_gross        5415 non-null int64\n",
      "year                   5415 non-null int64\n",
      "budget_gross_profit    5415 non-null int64\n",
      "awards                 5415 non-null int64\n",
      "nominations            5415 non-null int64\n",
      "dtypes: int64(8), object(2)\n",
      "memory usage: 465.4+ KB\n"
     ]
    }
   ],
   "source": [
    "awards_to_budget_df.info()"
   ]
  },
  {
   "cell_type": "markdown",
   "metadata": {},
   "source": [
    "## Nominated or Not nominated?"
   ]
  },
  {
   "cell_type": "markdown",
   "metadata": {},
   "source": [
    "Let's create a column for the boolean value of nomination (nominated or not)."
   ]
  },
  {
   "cell_type": "code",
   "execution_count": 49,
   "metadata": {
    "ExecuteTime": {
     "end_time": "2020-06-22T00:17:07.018028Z",
     "start_time": "2020-06-22T00:17:07.004030Z"
    }
   },
   "outputs": [
    {
     "data": {
      "text/html": [
       "<div>\n",
       "<style scoped>\n",
       "    .dataframe tbody tr th:only-of-type {\n",
       "        vertical-align: middle;\n",
       "    }\n",
       "\n",
       "    .dataframe tbody tr th {\n",
       "        vertical-align: top;\n",
       "    }\n",
       "\n",
       "    .dataframe thead th {\n",
       "        text-align: right;\n",
       "    }\n",
       "</style>\n",
       "<table border=\"1\" class=\"dataframe\">\n",
       "  <thead>\n",
       "    <tr style=\"text-align: right;\">\n",
       "      <th></th>\n",
       "      <th>id</th>\n",
       "      <th>release_date</th>\n",
       "      <th>movie</th>\n",
       "      <th>production_budget</th>\n",
       "      <th>domestic_gross</th>\n",
       "      <th>worldwide_gross</th>\n",
       "      <th>year</th>\n",
       "      <th>budget_gross_profit</th>\n",
       "      <th>awards</th>\n",
       "      <th>nominations</th>\n",
       "      <th>nominated</th>\n",
       "    </tr>\n",
       "  </thead>\n",
       "  <tbody>\n",
       "    <tr>\n",
       "      <td>0</td>\n",
       "      <td>1</td>\n",
       "      <td>Dec 18, 2009</td>\n",
       "      <td>Avatar</td>\n",
       "      <td>425000000</td>\n",
       "      <td>760507625</td>\n",
       "      <td>2776345279</td>\n",
       "      <td>2009</td>\n",
       "      <td>2351345279</td>\n",
       "      <td>3</td>\n",
       "      <td>9</td>\n",
       "      <td>True</td>\n",
       "    </tr>\n",
       "    <tr>\n",
       "      <td>1</td>\n",
       "      <td>43</td>\n",
       "      <td>Dec 19, 1997</td>\n",
       "      <td>Titanic</td>\n",
       "      <td>200000000</td>\n",
       "      <td>659363944</td>\n",
       "      <td>2208208395</td>\n",
       "      <td>1997</td>\n",
       "      <td>2008208395</td>\n",
       "      <td>11</td>\n",
       "      <td>14</td>\n",
       "      <td>True</td>\n",
       "    </tr>\n",
       "    <tr>\n",
       "      <td>2</td>\n",
       "      <td>7</td>\n",
       "      <td>Apr 27, 2018</td>\n",
       "      <td>Avengers: Infinity War</td>\n",
       "      <td>300000000</td>\n",
       "      <td>678815482</td>\n",
       "      <td>2048134200</td>\n",
       "      <td>2018</td>\n",
       "      <td>1748134200</td>\n",
       "      <td>0</td>\n",
       "      <td>0</td>\n",
       "      <td>False</td>\n",
       "    </tr>\n",
       "    <tr>\n",
       "      <td>3</td>\n",
       "      <td>6</td>\n",
       "      <td>Dec 18, 2015</td>\n",
       "      <td>Star Wars Ep. VII: The Force Awakens</td>\n",
       "      <td>306000000</td>\n",
       "      <td>936662225</td>\n",
       "      <td>2053311220</td>\n",
       "      <td>2015</td>\n",
       "      <td>1747311220</td>\n",
       "      <td>0</td>\n",
       "      <td>0</td>\n",
       "      <td>False</td>\n",
       "    </tr>\n",
       "    <tr>\n",
       "      <td>4</td>\n",
       "      <td>34</td>\n",
       "      <td>Jun 12, 2015</td>\n",
       "      <td>Jurassic World</td>\n",
       "      <td>215000000</td>\n",
       "      <td>652270625</td>\n",
       "      <td>1648854864</td>\n",
       "      <td>2015</td>\n",
       "      <td>1433854864</td>\n",
       "      <td>0</td>\n",
       "      <td>0</td>\n",
       "      <td>False</td>\n",
       "    </tr>\n",
       "    <tr>\n",
       "      <td>...</td>\n",
       "      <td>...</td>\n",
       "      <td>...</td>\n",
       "      <td>...</td>\n",
       "      <td>...</td>\n",
       "      <td>...</td>\n",
       "      <td>...</td>\n",
       "      <td>...</td>\n",
       "      <td>...</td>\n",
       "      <td>...</td>\n",
       "      <td>...</td>\n",
       "      <td>...</td>\n",
       "    </tr>\n",
       "    <tr>\n",
       "      <td>5776</td>\n",
       "      <td>5</td>\n",
       "      <td>Aug 16, 2002</td>\n",
       "      <td>The Adventures of Pluto Nash</td>\n",
       "      <td>100000000</td>\n",
       "      <td>4411102</td>\n",
       "      <td>7094995</td>\n",
       "      <td>2002</td>\n",
       "      <td>-92905005</td>\n",
       "      <td>0</td>\n",
       "      <td>0</td>\n",
       "      <td>False</td>\n",
       "    </tr>\n",
       "    <tr>\n",
       "      <td>5777</td>\n",
       "      <td>53</td>\n",
       "      <td>Apr 27, 2001</td>\n",
       "      <td>Town &amp; Country</td>\n",
       "      <td>105000000</td>\n",
       "      <td>6712451</td>\n",
       "      <td>10364769</td>\n",
       "      <td>2001</td>\n",
       "      <td>-94635231</td>\n",
       "      <td>0</td>\n",
       "      <td>0</td>\n",
       "      <td>False</td>\n",
       "    </tr>\n",
       "    <tr>\n",
       "      <td>5778</td>\n",
       "      <td>42</td>\n",
       "      <td>Jun 14, 2019</td>\n",
       "      <td>Men in Black: International</td>\n",
       "      <td>110000000</td>\n",
       "      <td>3100000</td>\n",
       "      <td>3100000</td>\n",
       "      <td>2019</td>\n",
       "      <td>-106900000</td>\n",
       "      <td>0</td>\n",
       "      <td>0</td>\n",
       "      <td>False</td>\n",
       "    </tr>\n",
       "    <tr>\n",
       "      <td>5779</td>\n",
       "      <td>94</td>\n",
       "      <td>Mar 11, 2011</td>\n",
       "      <td>Mars Needs Moms</td>\n",
       "      <td>150000000</td>\n",
       "      <td>21392758</td>\n",
       "      <td>39549758</td>\n",
       "      <td>2011</td>\n",
       "      <td>-110450242</td>\n",
       "      <td>0</td>\n",
       "      <td>0</td>\n",
       "      <td>False</td>\n",
       "    </tr>\n",
       "    <tr>\n",
       "      <td>5781</td>\n",
       "      <td>3</td>\n",
       "      <td>Jun 7, 2019</td>\n",
       "      <td>Dark Phoenix</td>\n",
       "      <td>350000000</td>\n",
       "      <td>42762350</td>\n",
       "      <td>149762350</td>\n",
       "      <td>2019</td>\n",
       "      <td>-200237650</td>\n",
       "      <td>0</td>\n",
       "      <td>0</td>\n",
       "      <td>False</td>\n",
       "    </tr>\n",
       "  </tbody>\n",
       "</table>\n",
       "<p>5415 rows × 11 columns</p>\n",
       "</div>"
      ],
      "text/plain": [
       "      id  release_date                                 movie  \\\n",
       "0      1  Dec 18, 2009                                Avatar   \n",
       "1     43  Dec 19, 1997                               Titanic   \n",
       "2      7  Apr 27, 2018                Avengers: Infinity War   \n",
       "3      6  Dec 18, 2015  Star Wars Ep. VII: The Force Awakens   \n",
       "4     34  Jun 12, 2015                        Jurassic World   \n",
       "...   ..           ...                                   ...   \n",
       "5776   5  Aug 16, 2002          The Adventures of Pluto Nash   \n",
       "5777  53  Apr 27, 2001                        Town & Country   \n",
       "5778  42  Jun 14, 2019           Men in Black: International   \n",
       "5779  94  Mar 11, 2011                       Mars Needs Moms   \n",
       "5781   3   Jun 7, 2019                          Dark Phoenix   \n",
       "\n",
       "      production_budget  domestic_gross  worldwide_gross  year  \\\n",
       "0             425000000       760507625       2776345279  2009   \n",
       "1             200000000       659363944       2208208395  1997   \n",
       "2             300000000       678815482       2048134200  2018   \n",
       "3             306000000       936662225       2053311220  2015   \n",
       "4             215000000       652270625       1648854864  2015   \n",
       "...                 ...             ...              ...   ...   \n",
       "5776          100000000         4411102          7094995  2002   \n",
       "5777          105000000         6712451         10364769  2001   \n",
       "5778          110000000         3100000          3100000  2019   \n",
       "5779          150000000        21392758         39549758  2011   \n",
       "5781          350000000        42762350        149762350  2019   \n",
       "\n",
       "      budget_gross_profit  awards  nominations  nominated  \n",
       "0              2351345279       3            9       True  \n",
       "1              2008208395      11           14       True  \n",
       "2              1748134200       0            0      False  \n",
       "3              1747311220       0            0      False  \n",
       "4              1433854864       0            0      False  \n",
       "...                   ...     ...          ...        ...  \n",
       "5776            -92905005       0            0      False  \n",
       "5777            -94635231       0            0      False  \n",
       "5778           -106900000       0            0      False  \n",
       "5779           -110450242       0            0      False  \n",
       "5781           -200237650       0            0      False  \n",
       "\n",
       "[5415 rows x 11 columns]"
      ]
     },
     "execution_count": 49,
     "metadata": {},
     "output_type": "execute_result"
    }
   ],
   "source": [
    "awards_to_budget_df['nominated'] = (awards_to_budget_df['nominations'] > 0)\n",
    "awards_to_budget_df"
   ]
  },
  {
   "cell_type": "markdown",
   "metadata": {},
   "source": [
    "## Stats Check"
   ]
  },
  {
   "cell_type": "markdown",
   "metadata": {},
   "source": [
    "Checking summary statistics to get a feel for the distribution of the sample."
   ]
  },
  {
   "cell_type": "code",
   "execution_count": 50,
   "metadata": {
    "ExecuteTime": {
     "end_time": "2020-06-22T00:17:07.054777Z",
     "start_time": "2020-06-22T00:17:07.019534Z"
    }
   },
   "outputs": [
    {
     "data": {
      "text/html": [
       "<div>\n",
       "<style scoped>\n",
       "    .dataframe tbody tr th:only-of-type {\n",
       "        vertical-align: middle;\n",
       "    }\n",
       "\n",
       "    .dataframe tbody tr th {\n",
       "        vertical-align: top;\n",
       "    }\n",
       "\n",
       "    .dataframe thead th {\n",
       "        text-align: right;\n",
       "    }\n",
       "</style>\n",
       "<table border=\"1\" class=\"dataframe\">\n",
       "  <thead>\n",
       "    <tr style=\"text-align: right;\">\n",
       "      <th></th>\n",
       "      <th>id</th>\n",
       "      <th>production_budget</th>\n",
       "      <th>domestic_gross</th>\n",
       "      <th>worldwide_gross</th>\n",
       "      <th>year</th>\n",
       "      <th>budget_gross_profit</th>\n",
       "      <th>awards</th>\n",
       "      <th>nominations</th>\n",
       "    </tr>\n",
       "  </thead>\n",
       "  <tbody>\n",
       "    <tr>\n",
       "      <td>count</td>\n",
       "      <td>5415.000000</td>\n",
       "      <td>5.415000e+03</td>\n",
       "      <td>5.415000e+03</td>\n",
       "      <td>5.415000e+03</td>\n",
       "      <td>5415.000000</td>\n",
       "      <td>5.415000e+03</td>\n",
       "      <td>5415.000000</td>\n",
       "      <td>5415.000000</td>\n",
       "    </tr>\n",
       "    <tr>\n",
       "      <td>mean</td>\n",
       "      <td>50.227701</td>\n",
       "      <td>3.330801e+07</td>\n",
       "      <td>4.471128e+07</td>\n",
       "      <td>9.768800e+07</td>\n",
       "      <td>2003.599446</td>\n",
       "      <td>6.437999e+07</td>\n",
       "      <td>0.155309</td>\n",
       "      <td>0.373961</td>\n",
       "    </tr>\n",
       "    <tr>\n",
       "      <td>std</td>\n",
       "      <td>28.765167</td>\n",
       "      <td>4.248758e+07</td>\n",
       "      <td>6.960989e+07</td>\n",
       "      <td>1.788591e+08</td>\n",
       "      <td>12.546965</td>\n",
       "      <td>1.498581e+08</td>\n",
       "      <td>0.782424</td>\n",
       "      <td>1.645971</td>\n",
       "    </tr>\n",
       "    <tr>\n",
       "      <td>min</td>\n",
       "      <td>1.000000</td>\n",
       "      <td>1.100000e+03</td>\n",
       "      <td>0.000000e+00</td>\n",
       "      <td>2.600000e+01</td>\n",
       "      <td>1915.000000</td>\n",
       "      <td>-2.002376e+08</td>\n",
       "      <td>0.000000</td>\n",
       "      <td>0.000000</td>\n",
       "    </tr>\n",
       "    <tr>\n",
       "      <td>25%</td>\n",
       "      <td>25.000000</td>\n",
       "      <td>6.000000e+06</td>\n",
       "      <td>3.160708e+06</td>\n",
       "      <td>7.004834e+06</td>\n",
       "      <td>1999.000000</td>\n",
       "      <td>-1.862082e+06</td>\n",
       "      <td>0.000000</td>\n",
       "      <td>0.000000</td>\n",
       "    </tr>\n",
       "    <tr>\n",
       "      <td>50%</td>\n",
       "      <td>50.000000</td>\n",
       "      <td>1.900000e+07</td>\n",
       "      <td>2.030022e+07</td>\n",
       "      <td>3.333987e+07</td>\n",
       "      <td>2006.000000</td>\n",
       "      <td>1.190000e+07</td>\n",
       "      <td>0.000000</td>\n",
       "      <td>0.000000</td>\n",
       "    </tr>\n",
       "    <tr>\n",
       "      <td>75%</td>\n",
       "      <td>75.000000</td>\n",
       "      <td>4.200000e+07</td>\n",
       "      <td>5.578249e+07</td>\n",
       "      <td>1.044590e+08</td>\n",
       "      <td>2012.000000</td>\n",
       "      <td>6.737924e+07</td>\n",
       "      <td>0.000000</td>\n",
       "      <td>0.000000</td>\n",
       "    </tr>\n",
       "    <tr>\n",
       "      <td>max</td>\n",
       "      <td>100.000000</td>\n",
       "      <td>4.250000e+08</td>\n",
       "      <td>9.366622e+08</td>\n",
       "      <td>2.776345e+09</td>\n",
       "      <td>2019.000000</td>\n",
       "      <td>2.351345e+09</td>\n",
       "      <td>11.000000</td>\n",
       "      <td>14.000000</td>\n",
       "    </tr>\n",
       "  </tbody>\n",
       "</table>\n",
       "</div>"
      ],
      "text/plain": [
       "                id  production_budget  domestic_gross  worldwide_gross  \\\n",
       "count  5415.000000       5.415000e+03    5.415000e+03     5.415000e+03   \n",
       "mean     50.227701       3.330801e+07    4.471128e+07     9.768800e+07   \n",
       "std      28.765167       4.248758e+07    6.960989e+07     1.788591e+08   \n",
       "min       1.000000       1.100000e+03    0.000000e+00     2.600000e+01   \n",
       "25%      25.000000       6.000000e+06    3.160708e+06     7.004834e+06   \n",
       "50%      50.000000       1.900000e+07    2.030022e+07     3.333987e+07   \n",
       "75%      75.000000       4.200000e+07    5.578249e+07     1.044590e+08   \n",
       "max     100.000000       4.250000e+08    9.366622e+08     2.776345e+09   \n",
       "\n",
       "              year  budget_gross_profit       awards  nominations  \n",
       "count  5415.000000         5.415000e+03  5415.000000  5415.000000  \n",
       "mean   2003.599446         6.437999e+07     0.155309     0.373961  \n",
       "std      12.546965         1.498581e+08     0.782424     1.645971  \n",
       "min    1915.000000        -2.002376e+08     0.000000     0.000000  \n",
       "25%    1999.000000        -1.862082e+06     0.000000     0.000000  \n",
       "50%    2006.000000         1.190000e+07     0.000000     0.000000  \n",
       "75%    2012.000000         6.737924e+07     0.000000     0.000000  \n",
       "max    2019.000000         2.351345e+09    11.000000    14.000000  "
      ]
     },
     "execution_count": 50,
     "metadata": {},
     "output_type": "execute_result"
    }
   ],
   "source": [
    "awards_to_budget_df.describe()"
   ]
  },
  {
   "cell_type": "markdown",
   "metadata": {},
   "source": [
    "# Exploring Visualizations"
   ]
  },
  {
   "cell_type": "markdown",
   "metadata": {},
   "source": [
    "Let's try to make sense of our data by exploring some visualizations"
   ]
  },
  {
   "cell_type": "markdown",
   "metadata": {},
   "source": [
    "## Awards vs Production Budget"
   ]
  },
  {
   "cell_type": "code",
   "execution_count": 51,
   "metadata": {
    "ExecuteTime": {
     "end_time": "2020-06-22T00:17:07.241189Z",
     "start_time": "2020-06-22T00:17:07.056402Z"
    },
    "scrolled": true
   },
   "outputs": [
    {
     "data": {
      "image/png": "[encoded data removed]",
      "text/plain": [
       "<Figure size 432x432 with 1 Axes>"
      ]
     },
     "metadata": {
      "needs_background": "light"
     },
     "output_type": "display_data"
    }
   ],
   "source": [
    "awards_to_budget_df.plot.scatter(x='awards', y='production_budget', figsize=(6,6))\n",
    "plt.xlabel(\"Number of Awards Won\")\n",
    "plt.ylabel(\"Production Budget (Hundred Million)\")\n",
    "plt.title(\"Number of Awards vs Production Budget\");\n"
   ]
  },
  {
   "cell_type": "markdown",
   "metadata": {
    "ExecuteTime": {
     "end_time": "2020-06-21T01:46:36.416752Z",
     "start_time": "2020-06-21T01:46:36.412888Z"
    }
   },
   "source": [
    "This quick scatter plot shows us that many films with relatively low production budgets were able to not only get nominated but win Academy Awards. "
   ]
  },
  {
   "cell_type": "markdown",
   "metadata": {},
   "source": [
    "Let's make use of seaborn visuals and map a different color to each film based upon the range of release date they fall into."
   ]
  },
  {
   "cell_type": "code",
   "execution_count": 52,
   "metadata": {
    "ExecuteTime": {
     "end_time": "2020-06-22T00:17:07.245157Z",
     "start_time": "2020-06-22T00:17:07.242785Z"
    }
   },
   "outputs": [],
   "source": [
    "import seaborn as sns"
   ]
  },
  {
   "cell_type": "code",
   "execution_count": 53,
   "metadata": {
    "ExecuteTime": {
     "end_time": "2020-06-22T00:17:07.662610Z",
     "start_time": "2020-06-22T00:17:07.246883Z"
    }
   },
   "outputs": [
    {
     "data": {
      "image/png": "[encoded data removed]",
      "text/plain": [
       "<Figure size 648x648 with 1 Axes>"
      ]
     },
     "metadata": {},
     "output_type": "display_data"
    }
   ],
   "source": [
    "sns.set(style=\"darkgrid\")\n",
    "\n",
    "\n",
    "# Draw a scatter plot while assigning point colors and sizes to different\n",
    "# variables in the dataset\n",
    "f, ax = plt.subplots(figsize=(9, 9))\n",
    "sns.despine(f, left=True, bottom=True)\n",
    "sns.scatterplot(x=\"awards\", y=\"production_budget\",\n",
    "                hue=\"year\",\n",
    "                hue_order='year',\n",
    "                sizes=(1, 8), linewidth=0,\n",
    "                data=awards_to_budget_df, ax=ax)\n",
    "\n",
    "ax.set_ylabel(\"Production Budget (Hundred Million)\", fontsize=15)\n",
    "ax.set_xlabel('Number of Awards', fontsize=15)\n",
    "ax.set_title(\"Average Production Budget for Academy Award-Winning Films\", fontsize=15);"
   ]
  },
  {
   "cell_type": "markdown",
   "metadata": {},
   "source": [
    "Here we can see that older Academy Award-winning films generally have lower production budgets. Perhaps earlier film companies had less access to capital investments as the film industry took time to grow in popularity."
   ]
  },
  {
   "cell_type": "markdown",
   "metadata": {},
   "source": [
    "## Nominations vs Production Budget"
   ]
  },
  {
   "cell_type": "markdown",
   "metadata": {},
   "source": [
    "In order to have won an Academy Award, a film must first be nominated for that award. Let's explore those numbers."
   ]
  },
  {
   "cell_type": "code",
   "execution_count": 54,
   "metadata": {
    "ExecuteTime": {
     "end_time": "2020-06-22T00:17:08.072366Z",
     "start_time": "2020-06-22T00:17:07.664276Z"
    },
    "scrolled": false
   },
   "outputs": [
    {
     "data": {
      "image/png": "[encoded data removed]",
      "text/plain": [
       "<Figure size 648x648 with 1 Axes>"
      ]
     },
     "metadata": {},
     "output_type": "display_data"
    }
   ],
   "source": [
    "sns.set(style=\"darkgrid\")\n",
    "\n",
    "\n",
    "# Draw a scatter plot while assigning point colors and sizes to different\n",
    "# variables in the dataset\n",
    "f, ax = plt.subplots(figsize=(9, 9))\n",
    "sns.despine(f, left=True, bottom=True)\n",
    "sns.scatterplot(x=\"nominations\", y=\"production_budget\",\n",
    "                hue=\"year\",\n",
    "                hue_order='year',\n",
    "                sizes=(1, 8), linewidth=0,\n",
    "                data=awards_to_budget_df, ax=ax);\n",
    "\n",
    "ax.set_ylabel(\"Production Budget (Hundred Million)\", fontsize=15)\n",
    "ax.set_xlabel('Number of Nominations', fontsize=15)\n",
    "ax.set_title(\"Average Production Budget for Academy Award-Nominated Films\", fontsize=15);\n"
   ]
  },
  {
   "cell_type": "markdown",
   "metadata": {},
   "source": [
    "There are more films for the nomination categories now. The majority of nominated films seem to spend around $200 Million or less."
   ]
  },
  {
   "cell_type": "markdown",
   "metadata": {},
   "source": [
    "## Nominated or Not vs Production Budget"
   ]
  },
  {
   "cell_type": "markdown",
   "metadata": {
    "ExecuteTime": {
     "end_time": "2020-06-21T02:17:13.039315Z",
     "start_time": "2020-06-21T02:17:13.035444Z"
    }
   },
   "source": [
    "Maybe it would be smarter to try a boxplot in order to better understand the distribution of production budgets against whether they were nominated or not. "
   ]
  },
  {
   "cell_type": "code",
   "execution_count": 55,
   "metadata": {
    "ExecuteTime": {
     "end_time": "2020-06-22T00:17:08.271450Z",
     "start_time": "2020-06-22T00:17:08.073713Z"
    },
    "scrolled": false
   },
   "outputs": [
    {
     "data": {
      "image/png": "[encoded data removed]",
      "text/plain": [
       "<Figure size 864x864 with 1 Axes>"
      ]
     },
     "metadata": {},
     "output_type": "display_data"
    }
   ],
   "source": [
    "\n",
    "f, ax = plt.subplots(figsize=(12, 12))\n",
    "\n",
    "sns.boxplot(x=\"nominated\", y=\"production_budget\",\n",
    "             palette=[\"m\", \"g\"],\n",
    "            data=awards_to_budget_df)\n",
    "\n",
    "ax.set_ylabel(\"Production Budget (Hundred Million)\", fontsize=20)\n",
    "ax.set_xlabel('',)\n",
    "ax.set(xticklabels=[\"Not Nominated\", \"Nominated\"])\n",
    "ax.set_title(\"Average Budget for Academy Award-Nominated Films\", fontsize=20);\n",
    "\n",
    "sns.despine(offset=10, trim=True)"
   ]
  },
  {
   "cell_type": "markdown",
   "metadata": {},
   "source": [
    "## Removing furthest outliers from data"
   ]
  },
  {
   "cell_type": "markdown",
   "metadata": {},
   "source": [
    "The our data is getting crunched by some far-reaching outliers. Let's try removing the the top and bottom 1% of outliers and see if we can get a better idea of the distribution of each category."
   ]
  },
  {
   "cell_type": "code",
   "execution_count": 56,
   "metadata": {
    "ExecuteTime": {
     "end_time": "2020-06-22T00:17:08.282263Z",
     "start_time": "2020-06-22T00:17:08.273400Z"
    },
    "scrolled": true
   },
   "outputs": [
    {
     "name": "stdout",
     "output_type": "stream",
     "text": [
      "Int64Index([   0,    2,    3,    4,    6,   13,   17,   19,   28,   29,   37,\n",
      "              45,   54,   61,   63,   65,   73,   81,   82,   85,   89,  101,\n",
      "             108,  123,  167,  170,  210,  232,  236,  246,  264,  396,  530,\n",
      "             633,  729,  883,  916, 1072, 1708, 2277, 2783, 2942, 3161, 3221,\n",
      "            3292, 3310, 3360, 3383, 3456, 3501, 3518, 3535, 3547, 3559, 3563,\n",
      "            3565, 3574, 3576, 3589, 3590, 3596, 3601, 3602, 3606, 3609, 3613,\n",
      "            3616, 3619, 3623, 3630, 3633, 3638, 3660, 3661, 3662, 3664, 3665,\n",
      "            3666, 3668, 3671, 3675, 3681, 3683, 3689, 3692, 3697, 3700, 3711,\n",
      "            3717, 3718, 3719, 5341, 5781],\n",
      "           dtype='int64')\n"
     ]
    }
   ],
   "source": [
    "budget = awards_to_budget_df['production_budget']\n",
    "removed_outliers = budget.between(budget.quantile(.01), budget.quantile(.99))\n",
    "index_names = awards_to_budget_df[~removed_outliers].index                     # \"~\" is inverting the dataframe\n",
    "print(index_names)"
   ]
  },
  {
   "cell_type": "code",
   "execution_count": 57,
   "metadata": {
    "ExecuteTime": {
     "end_time": "2020-06-22T00:17:08.294208Z",
     "start_time": "2020-06-22T00:17:08.283701Z"
    },
    "scrolled": true
   },
   "outputs": [
    {
     "data": {
      "text/html": [
       "<div>\n",
       "<style scoped>\n",
       "    .dataframe tbody tr th:only-of-type {\n",
       "        vertical-align: middle;\n",
       "    }\n",
       "\n",
       "    .dataframe tbody tr th {\n",
       "        vertical-align: top;\n",
       "    }\n",
       "\n",
       "    .dataframe thead th {\n",
       "        text-align: right;\n",
       "    }\n",
       "</style>\n",
       "<table border=\"1\" class=\"dataframe\">\n",
       "  <thead>\n",
       "    <tr style=\"text-align: right;\">\n",
       "      <th></th>\n",
       "      <th>id</th>\n",
       "      <th>release_date</th>\n",
       "      <th>movie</th>\n",
       "      <th>production_budget</th>\n",
       "      <th>domestic_gross</th>\n",
       "      <th>worldwide_gross</th>\n",
       "      <th>year</th>\n",
       "      <th>budget_gross_profit</th>\n",
       "      <th>awards</th>\n",
       "      <th>nominations</th>\n",
       "      <th>nominated</th>\n",
       "    </tr>\n",
       "  </thead>\n",
       "  <tbody>\n",
       "    <tr>\n",
       "      <td>3717</td>\n",
       "      <td>6</td>\n",
       "      <td>Dec 31, 2011</td>\n",
       "      <td>Absentia</td>\n",
       "      <td>70000</td>\n",
       "      <td>0</td>\n",
       "      <td>8555</td>\n",
       "      <td>2011</td>\n",
       "      <td>-61445</td>\n",
       "      <td>0</td>\n",
       "      <td>0</td>\n",
       "      <td>False</td>\n",
       "    </tr>\n",
       "    <tr>\n",
       "      <td>3718</td>\n",
       "      <td>5</td>\n",
       "      <td>Jan 28, 2005</td>\n",
       "      <td>Peace, Propaganda and the Promised Land</td>\n",
       "      <td>70000</td>\n",
       "      <td>4930</td>\n",
       "      <td>4930</td>\n",
       "      <td>2005</td>\n",
       "      <td>-65070</td>\n",
       "      <td>0</td>\n",
       "      <td>0</td>\n",
       "      <td>False</td>\n",
       "    </tr>\n",
       "    <tr>\n",
       "      <td>3719</td>\n",
       "      <td>2</td>\n",
       "      <td>Jul 17, 2015</td>\n",
       "      <td>Dawn of the Crescent Moon</td>\n",
       "      <td>75000</td>\n",
       "      <td>8799</td>\n",
       "      <td>8799</td>\n",
       "      <td>2015</td>\n",
       "      <td>-66201</td>\n",
       "      <td>0</td>\n",
       "      <td>0</td>\n",
       "      <td>False</td>\n",
       "    </tr>\n",
       "    <tr>\n",
       "      <td>5341</td>\n",
       "      <td>13</td>\n",
       "      <td>Jul 2, 2013</td>\n",
       "      <td>The Lone Ranger</td>\n",
       "      <td>275000000</td>\n",
       "      <td>89302115</td>\n",
       "      <td>260002115</td>\n",
       "      <td>2013</td>\n",
       "      <td>-14997885</td>\n",
       "      <td>0</td>\n",
       "      <td>0</td>\n",
       "      <td>False</td>\n",
       "    </tr>\n",
       "    <tr>\n",
       "      <td>5781</td>\n",
       "      <td>3</td>\n",
       "      <td>Jun 7, 2019</td>\n",
       "      <td>Dark Phoenix</td>\n",
       "      <td>350000000</td>\n",
       "      <td>42762350</td>\n",
       "      <td>149762350</td>\n",
       "      <td>2019</td>\n",
       "      <td>-200237650</td>\n",
       "      <td>0</td>\n",
       "      <td>0</td>\n",
       "      <td>False</td>\n",
       "    </tr>\n",
       "  </tbody>\n",
       "</table>\n",
       "</div>"
      ],
      "text/plain": [
       "      id  release_date                                    movie  \\\n",
       "3717   6  Dec 31, 2011                                 Absentia   \n",
       "3718   5  Jan 28, 2005  Peace, Propaganda and the Promised Land   \n",
       "3719   2  Jul 17, 2015                Dawn of the Crescent Moon   \n",
       "5341  13   Jul 2, 2013                          The Lone Ranger   \n",
       "5781   3   Jun 7, 2019                             Dark Phoenix   \n",
       "\n",
       "      production_budget  domestic_gross  worldwide_gross  year  \\\n",
       "3717              70000               0             8555  2011   \n",
       "3718              70000            4930             4930  2005   \n",
       "3719              75000            8799             8799  2015   \n",
       "5341          275000000        89302115        260002115  2013   \n",
       "5781          350000000        42762350        149762350  2019   \n",
       "\n",
       "      budget_gross_profit  awards  nominations  nominated  \n",
       "3717               -61445       0            0      False  \n",
       "3718               -65070       0            0      False  \n",
       "3719               -66201       0            0      False  \n",
       "5341            -14997885       0            0      False  \n",
       "5781           -200237650       0            0      False  "
      ]
     },
     "execution_count": 57,
     "metadata": {},
     "output_type": "execute_result"
    }
   ],
   "source": [
    "awards_to_budget_df[~removed_outliers].tail()"
   ]
  },
  {
   "cell_type": "code",
   "execution_count": 58,
   "metadata": {
    "ExecuteTime": {
     "end_time": "2020-06-22T00:17:08.299896Z",
     "start_time": "2020-06-22T00:17:08.295863Z"
    },
    "scrolled": true
   },
   "outputs": [],
   "source": [
    "awards_to_budget_df.drop(index_names, inplace=True)"
   ]
  },
  {
   "cell_type": "code",
   "execution_count": 59,
   "metadata": {
    "ExecuteTime": {
     "end_time": "2020-06-22T00:17:08.337263Z",
     "start_time": "2020-06-22T00:17:08.301200Z"
    },
    "scrolled": false
   },
   "outputs": [
    {
     "data": {
      "text/html": [
       "<div>\n",
       "<style scoped>\n",
       "    .dataframe tbody tr th:only-of-type {\n",
       "        vertical-align: middle;\n",
       "    }\n",
       "\n",
       "    .dataframe tbody tr th {\n",
       "        vertical-align: top;\n",
       "    }\n",
       "\n",
       "    .dataframe thead th {\n",
       "        text-align: right;\n",
       "    }\n",
       "</style>\n",
       "<table border=\"1\" class=\"dataframe\">\n",
       "  <thead>\n",
       "    <tr style=\"text-align: right;\">\n",
       "      <th></th>\n",
       "      <th>id</th>\n",
       "      <th>production_budget</th>\n",
       "      <th>domestic_gross</th>\n",
       "      <th>worldwide_gross</th>\n",
       "      <th>year</th>\n",
       "      <th>budget_gross_profit</th>\n",
       "      <th>awards</th>\n",
       "      <th>nominations</th>\n",
       "    </tr>\n",
       "  </thead>\n",
       "  <tbody>\n",
       "    <tr>\n",
       "      <td>count</td>\n",
       "      <td>5322.000000</td>\n",
       "      <td>5.322000e+03</td>\n",
       "      <td>5.322000e+03</td>\n",
       "      <td>5.322000e+03</td>\n",
       "      <td>5322.000000</td>\n",
       "      <td>5.322000e+03</td>\n",
       "      <td>5322.000000</td>\n",
       "      <td>5322.000000</td>\n",
       "    </tr>\n",
       "    <tr>\n",
       "      <td>mean</td>\n",
       "      <td>50.520293</td>\n",
       "      <td>3.189081e+07</td>\n",
       "      <td>4.312545e+07</td>\n",
       "      <td>9.243528e+07</td>\n",
       "      <td>2003.536077</td>\n",
       "      <td>6.054447e+07</td>\n",
       "      <td>0.156520</td>\n",
       "      <td>0.377490</td>\n",
       "    </tr>\n",
       "    <tr>\n",
       "      <td>std</td>\n",
       "      <td>28.757318</td>\n",
       "      <td>3.754145e+07</td>\n",
       "      <td>6.383848e+07</td>\n",
       "      <td>1.589142e+08</td>\n",
       "      <td>12.596656</td>\n",
       "      <td>1.348992e+08</td>\n",
       "      <td>0.786875</td>\n",
       "      <td>1.654448</td>\n",
       "    </tr>\n",
       "    <tr>\n",
       "      <td>min</td>\n",
       "      <td>1.000000</td>\n",
       "      <td>1.000000e+05</td>\n",
       "      <td>0.000000e+00</td>\n",
       "      <td>2.600000e+01</td>\n",
       "      <td>1915.000000</td>\n",
       "      <td>-1.104502e+08</td>\n",
       "      <td>0.000000</td>\n",
       "      <td>0.000000</td>\n",
       "    </tr>\n",
       "    <tr>\n",
       "      <td>25%</td>\n",
       "      <td>26.000000</td>\n",
       "      <td>6.500000e+06</td>\n",
       "      <td>3.395438e+06</td>\n",
       "      <td>7.299368e+06</td>\n",
       "      <td>1999.000000</td>\n",
       "      <td>-1.970613e+06</td>\n",
       "      <td>0.000000</td>\n",
       "      <td>0.000000</td>\n",
       "    </tr>\n",
       "    <tr>\n",
       "      <td>50%</td>\n",
       "      <td>51.000000</td>\n",
       "      <td>1.900000e+07</td>\n",
       "      <td>2.038102e+07</td>\n",
       "      <td>3.342265e+07</td>\n",
       "      <td>2006.000000</td>\n",
       "      <td>1.200527e+07</td>\n",
       "      <td>0.000000</td>\n",
       "      <td>0.000000</td>\n",
       "    </tr>\n",
       "    <tr>\n",
       "      <td>75%</td>\n",
       "      <td>75.000000</td>\n",
       "      <td>4.000000e+07</td>\n",
       "      <td>5.503424e+07</td>\n",
       "      <td>1.030047e+08</td>\n",
       "      <td>2012.000000</td>\n",
       "      <td>6.668358e+07</td>\n",
       "      <td>0.000000</td>\n",
       "      <td>0.000000</td>\n",
       "    </tr>\n",
       "    <tr>\n",
       "      <td>max</td>\n",
       "      <td>100.000000</td>\n",
       "      <td>2.000000e+08</td>\n",
       "      <td>7.000596e+08</td>\n",
       "      <td>2.208208e+09</td>\n",
       "      <td>2019.000000</td>\n",
       "      <td>2.008208e+09</td>\n",
       "      <td>11.000000</td>\n",
       "      <td>14.000000</td>\n",
       "    </tr>\n",
       "  </tbody>\n",
       "</table>\n",
       "</div>"
      ],
      "text/plain": [
       "                id  production_budget  domestic_gross  worldwide_gross  \\\n",
       "count  5322.000000       5.322000e+03    5.322000e+03     5.322000e+03   \n",
       "mean     50.520293       3.189081e+07    4.312545e+07     9.243528e+07   \n",
       "std      28.757318       3.754145e+07    6.383848e+07     1.589142e+08   \n",
       "min       1.000000       1.000000e+05    0.000000e+00     2.600000e+01   \n",
       "25%      26.000000       6.500000e+06    3.395438e+06     7.299368e+06   \n",
       "50%      51.000000       1.900000e+07    2.038102e+07     3.342265e+07   \n",
       "75%      75.000000       4.000000e+07    5.503424e+07     1.030047e+08   \n",
       "max     100.000000       2.000000e+08    7.000596e+08     2.208208e+09   \n",
       "\n",
       "              year  budget_gross_profit       awards  nominations  \n",
       "count  5322.000000         5.322000e+03  5322.000000  5322.000000  \n",
       "mean   2003.536077         6.054447e+07     0.156520     0.377490  \n",
       "std      12.596656         1.348992e+08     0.786875     1.654448  \n",
       "min    1915.000000        -1.104502e+08     0.000000     0.000000  \n",
       "25%    1999.000000        -1.970613e+06     0.000000     0.000000  \n",
       "50%    2006.000000         1.200527e+07     0.000000     0.000000  \n",
       "75%    2012.000000         6.668358e+07     0.000000     0.000000  \n",
       "max    2019.000000         2.008208e+09    11.000000    14.000000  "
      ]
     },
     "execution_count": 59,
     "metadata": {},
     "output_type": "execute_result"
    }
   ],
   "source": [
    "awards_to_budget_df.describe() "
   ]
  },
  {
   "cell_type": "markdown",
   "metadata": {},
   "source": [
    "The summary stats tell us that the mean has gone down slightly. The Max production budget is now only 200 Million, more than half of the highest budget of 425 Million  before."
   ]
  },
  {
   "cell_type": "markdown",
   "metadata": {},
   "source": [
    "# Final Visualizations"
   ]
  },
  {
   "cell_type": "markdown",
   "metadata": {},
   "source": [
    "## New Distribution Boxplot"
   ]
  },
  {
   "cell_type": "code",
   "execution_count": 60,
   "metadata": {
    "ExecuteTime": {
     "end_time": "2020-06-22T00:17:08.535270Z",
     "start_time": "2020-06-22T00:17:08.338823Z"
    }
   },
   "outputs": [
    {
     "data": {
      "image/png": "[encoded data removed]",
      "text/plain": [
       "<Figure size 864x864 with 1 Axes>"
      ]
     },
     "metadata": {},
     "output_type": "display_data"
    }
   ],
   "source": [
    "f, ax = plt.subplots(figsize=(12, 12))\n",
    "\n",
    "\n",
    "sns.boxplot(x=\"nominated\", y=\"production_budget\", palette=[\"m\", \"y\"],\n",
    "            data=awards_to_budget_df, showmeans=True, ax=ax)\n",
    "\n",
    "ax.set(xticklabels=[\"Not Nominated\", \"Nominated\"])\n",
    "\n",
    "\n",
    "\n",
    "ax.set_ylabel(\"Production Budget (Hundred Million)\", fontsize=15)\n",
    "ax.set_xlabel('', fontsize=15)\n",
    "ax.set_title(\"Average Production Budget for Academy Award-Nominated Films\", fontsize=18);"
   ]
  },
  {
   "cell_type": "markdown",
   "metadata": {},
   "source": [
    "Comparing the mean value (green triangle) with the median line, our boxplot shows us that the data set does not have a normal distribution, and is positively skewed. The average budget is still pulled higher by outliers, although the IQR of production_budgets reaches further for nominated films. Perhaps the concentration of older films on the low end of the budget scale is pulling back the median. A logical explanation could be that it costs more money to hire better acting talent, writers, directors, the rest of the professional film crew, special fx etc, which could result in a better chance at an Academy Award."
   ]
  },
  {
   "cell_type": "markdown",
   "metadata": {},
   "source": [
    "## Average Budget vs Nomination Bar Plot"
   ]
  },
  {
   "cell_type": "markdown",
   "metadata": {},
   "source": [
    "Let's try a different visualization of average production budget, and median production budget with a bar plot."
   ]
  },
  {
   "cell_type": "code",
   "execution_count": 61,
   "metadata": {
    "ExecuteTime": {
     "end_time": "2020-06-22T00:17:08.997899Z",
     "start_time": "2020-06-22T00:17:08.536912Z"
    },
    "scrolled": false
   },
   "outputs": [
    {
     "data": {
      "image/png": "[encoded data removed]",
      "text/plain": [
       "<Figure size 720x504 with 1 Axes>"
      ]
     },
     "metadata": {},
     "output_type": "display_data"
    }
   ],
   "source": [
    "sns.set(style=\"white\", context=\"talk\")\n",
    "\n",
    "\n",
    "# Set up the matplotlib figure\n",
    "f, (ax1) = plt.subplots(figsize=(10, 7), sharex=True)\n",
    "\n",
    "# Generate some sequential data\n",
    "x = awards_to_budget_df['nominated']\n",
    "y1 = awards_to_budget_df['production_budget']\n",
    "sns.barplot(x=x, y=y1, palette=\"rocket\", ax=ax1)\n",
    "ax1.axhline(0, color=\"k\", clip_on=False)\n",
    "ax1.set_ylabel(\"Average Production Budget (Hundred Million)\")\n",
    "ax1.set_xlabel('')\n",
    "ax1.set(xticklabels=[\"Not Nominated\", \"Nominated\"])\n",
    "ax1.set_title(\"Average Budget for Academy Award-Nominated Films\");\n",
    "\n",
    "from numpy import median                                                 #\n",
    "x = awards_to_budget_df['nominated']\n",
    "y1 = awards_to_budget_df['production_budget']\n",
    "sns.barplot(x=x, y=y1, palette=\"rocket\", ax=ax1, estimator=median)\n",
    "ax1.axhline(0, color=\"k\", clip_on=False)\n",
    "ax1.set_ylabel(\"Average Production Budget (Hundred Million)\")\n",
    "ax1.set_xlabel('')\n",
    "ax1.set(xticklabels=[\"Not Nominated\", \"Nominated\"])\n",
    "ax1.set_title(\"Average Budget for Academy Award-Nominated Films\");"
   ]
  },
  {
   "cell_type": "markdown",
   "metadata": {},
   "source": [
    "It is easier to see now that the average for production budget is higher for award winning films, however the median budgets are just slightly higher for nominated films. "
   ]
  },
  {
   "cell_type": "markdown",
   "metadata": {},
   "source": [
    "## Average Profit vs Nomination"
   ]
  },
  {
   "cell_type": "markdown",
   "metadata": {},
   "source": [
    "Now let's make a bar plot to see if award-nominated films do in fact make more money."
   ]
  },
  {
   "cell_type": "code",
   "execution_count": 62,
   "metadata": {
    "ExecuteTime": {
     "end_time": "2020-06-22T00:17:09.421768Z",
     "start_time": "2020-06-22T00:17:08.999581Z"
    },
    "scrolled": false
   },
   "outputs": [
    {
     "data": {
      "image/png": "[encoded data removed]",
      "text/plain": [
       "<Figure size 720x504 with 1 Axes>"
      ]
     },
     "metadata": {},
     "output_type": "display_data"
    }
   ],
   "source": [
    "sns.set(style=\"white\", context=\"talk\")\n",
    "\n",
    "\n",
    "# Set up the matplotlib figure\n",
    "f, (ax1) = plt.subplots(figsize=(10, 7), sharex=True)\n",
    "\n",
    "# Generate some sequential data\n",
    "x = awards_to_budget_df['nominated']\n",
    "y1 = awards_to_budget_df['budget_gross_profit']\n",
    "sns.barplot(x=x, y=y1, palette=\"rocket\", ax=ax1)\n",
    "ax1.axhline(0, color=\"k\", clip_on=False)\n",
    "ax1.set_ylabel(\"Average Profit (Hundred Million)\")\n",
    "ax1.set_xlabel('')\n",
    "ax1.set(xticklabels=[\"Not Nominated\", \"Nominated\"])\n",
    "ax1.set_title(\"Average Profit for Academy Award-Nominated Films\");\n",
    "\n",
    "x = awards_to_budget_df['nominated']\n",
    "y1 = awards_to_budget_df['budget_gross_profit']\n",
    "sns.barplot(x=x, y=y1, palette=\"rocket\", ax=ax1, estimator=median)\n",
    "ax1.axhline(0, color=\"k\", clip_on=False)\n",
    "ax1.set_ylabel(\"Average Profit (Hundred Million)\")\n",
    "ax1.set_xlabel('')\n",
    "ax1.set(xticklabels=[\"Not Nominated\", \"Nominated\"])\n",
    "ax1.set_title(\"Average Profit for Academy Award-Nominated Films\");\n"
   ]
  },
  {
   "cell_type": "markdown",
   "metadata": {},
   "source": [
    "This bar plot of average and median profit based on nominations helps us verify that nominated films return much higher profits."
   ]
  },
  {
   "cell_type": "markdown",
   "metadata": {
    "ExecuteTime": {
     "end_time": "2020-06-20T03:11:32.259756Z",
     "start_time": "2020-06-20T03:11:32.255883Z"
    }
   },
   "source": [
    "\n",
    "\n",
    "Our bar plots of budget tells us that, on average, award-nominated films spent more money up front in the production phase. This would suggest that things like higher-quality production, renowned film writers, directors and actors is worth spending more money on. If a film is nominated for an award, the subsequent profits are then boosted substantially. However, considering the positively skewed distribution, it may be worth it to conduct a follow up analysis based only on the most recent films.\n",
    "\n",
    "Future exploration: Are the budget and gross values adjusted for inflation? Could using only more recent films (within the last 20 years) give us more accurate values or perhaps a more normal distribution?"
   ]
  }
 ],
 "metadata": {
  "kernelspec": {
   "display_name": "learn-env",
   "language": "python",
   "name": "learn-env"
  },
  "language_info": {
   "codemirror_mode": {
    "name": "ipython",
    "version": 3
   },
   "file_extension": ".py",
   "mimetype": "text/x-python",
   "name": "python",
   "nbconvert_exporter": "python",
   "pygments_lexer": "ipython3",
   "version": "3.6.9"
  },
  "toc": {
   "base_numbering": 1,
   "nav_menu": {},
   "number_sections": true,
   "sideBar": true,
   "skip_h1_title": false,
   "title_cell": "Table of Contents",
   "title_sidebar": "Contents",
   "toc_cell": false,
   "toc_position": {
    "height": "calc(100% - 180px)",
    "left": "10px",
    "top": "150px",
    "width": "316.797px"
   },
   "toc_section_display": true,
   "toc_window_display": true
  },
  "varInspector": {
   "cols": {
    "lenName": 16,
    "lenType": 16,
    "lenVar": 40
   },
   "kernels_config": {
    "python": {
     "delete_cmd_postfix": "",
     "delete_cmd_prefix": "del ",
     "library": "var_list.py",
     "varRefreshCmd": "print(var_dic_list())"
    },
    "r": {
     "delete_cmd_postfix": ") ",
     "delete_cmd_prefix": "rm(",
     "library": "var_list.r",
     "varRefreshCmd": "cat(var_dic_list()) "
    }
   },
   "types_to_exclude": [
    "module",
    "function",
    "builtin_function_or_method",
    "instance",
    "_Feature"
   ],
   "window_display": false
  }
 },
 "nbformat": 4,
 "nbformat_minor": 2
}

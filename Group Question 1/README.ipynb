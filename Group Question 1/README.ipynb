{
 "cells": [
  {
   "cell_type": "markdown",
   "metadata": {},
   "source": [
    "**These days when a new movie is being released, it isn't a question of IF it will be released in another country, but rather HOW MANY other countries? The question we aim to analyze for Microsoft Entertainment Studios is:**\n",
    "\n",
    "**Are movies that are released in more countries more profitable?**\n",
    "\n",
    "**The findings in this notebook will show that the answer to that question is in fact: yes. This notebook will walk step-by-step through the importing, cleaning, exploration, and visualization processes undertaken to try and answer Microsoft's question and help inform strategic business decisions going forward.**\n",
    "\n",
    "**The data being analyzed are from two sources: IMDB country data per movie and Box Office Mojo revenue and budget information. These datasets have been saved into an SQL database previously and will be imported into this notebook further down.**"
   ]
  },
  {
   "cell_type": "markdown",
   "metadata": {
    "ExecuteTime": {
     "end_time": "2020-06-17T19:39:35.926094Z",
     "start_time": "2020-06-17T19:39:35.920492Z"
    }
   },
   "source": [
    "# Import packages and set SQL cursor"
   ]
  },
  {
   "cell_type": "code",
   "execution_count": 2,
   "metadata": {
    "ExecuteTime": {
     "end_time": "2020-06-22T16:24:41.615475Z",
     "start_time": "2020-06-22T16:24:40.969691Z"
    }
   },
   "outputs": [],
   "source": [
    "import pandas as pd\n",
    "import numpy as np\n",
    "import seaborn as sns\n",
    "import matplotlib.pyplot as plt\n",
    "import sqlite3\n",
    "import os\n",
    "%matplotlib inline\n",
    "\n",
    "conn = sqlite3.connect('movies_db.sqlite')\n",
    "cur = conn.cursor()"
   ]
  },
  {
   "cell_type": "markdown",
   "metadata": {},
   "source": [
    "## Adjust view space"
   ]
  },
  {
   "cell_type": "code",
   "execution_count": 3,
   "metadata": {
    "ExecuteTime": {
     "end_time": "2020-06-22T16:24:41.750637Z",
     "start_time": "2020-06-22T16:24:41.746657Z"
    }
   },
   "outputs": [],
   "source": [
    "pd.set_option('display.max_rows', 500)\n",
    "pd.set_option('display.max_columns', 500)\n",
    "pd.set_option('display.width', 1000)"
   ]
  },
  {
   "cell_type": "markdown",
   "metadata": {},
   "source": [
    "# Bring in data from our SQL database"
   ]
  },
  {
   "cell_type": "markdown",
   "metadata": {},
   "source": [
    "## Creating our Countries per Movie DataFrame"
   ]
  },
  {
   "cell_type": "code",
   "execution_count": 4,
   "metadata": {
    "ExecuteTime": {
     "end_time": "2020-06-22T16:24:42.669579Z",
     "start_time": "2020-06-22T16:24:42.662640Z"
    },
    "scrolled": true
   },
   "outputs": [
    {
     "data": {
      "text/plain": [
       "[('bom_movie_gross',),\n",
       " ('imdb_name_basics',),\n",
       " ('imdb_title_akas',),\n",
       " ('imdb_title_basics',),\n",
       " ('imdb_title_crew',),\n",
       " ('imdb_title_principals',),\n",
       " ('imdb_title_ratings',),\n",
       " ('tmdb_movies',),\n",
       " ('tn_movie_budgets',)]"
      ]
     },
     "execution_count": 4,
     "metadata": {},
     "output_type": "execute_result"
    }
   ],
   "source": [
    "conn.execute(\"select name from sqlite_master where type='table';\").fetchall()"
   ]
  },
  {
   "cell_type": "code",
   "execution_count": 5,
   "metadata": {
    "ExecuteTime": {
     "end_time": "2020-06-22T16:24:43.406178Z",
     "start_time": "2020-06-22T16:24:42.911992Z"
    },
    "scrolled": true
   },
   "outputs": [
    {
     "data": {
      "text/html": [
       "<div>\n",
       "<style scoped>\n",
       "    .dataframe tbody tr th:only-of-type {\n",
       "        vertical-align: middle;\n",
       "    }\n",
       "\n",
       "    .dataframe tbody tr th {\n",
       "        vertical-align: top;\n",
       "    }\n",
       "\n",
       "    .dataframe thead th {\n",
       "        text-align: right;\n",
       "    }\n",
       "</style>\n",
       "<table border=\"1\" class=\"dataframe\">\n",
       "  <thead>\n",
       "    <tr style=\"text-align: right;\">\n",
       "      <th></th>\n",
       "      <th>primary_title</th>\n",
       "      <th>region</th>\n",
       "    </tr>\n",
       "  </thead>\n",
       "  <tbody>\n",
       "    <tr>\n",
       "      <th>0</th>\n",
       "      <td>Sunghursh</td>\n",
       "      <td>IN</td>\n",
       "    </tr>\n",
       "    <tr>\n",
       "      <th>1</th>\n",
       "      <td>Sunghursh</td>\n",
       "      <td>None</td>\n",
       "    </tr>\n",
       "    <tr>\n",
       "      <th>2</th>\n",
       "      <td>Sunghursh</td>\n",
       "      <td>IN</td>\n",
       "    </tr>\n",
       "    <tr>\n",
       "      <th>3</th>\n",
       "      <td>Sunghursh</td>\n",
       "      <td>IN</td>\n",
       "    </tr>\n",
       "    <tr>\n",
       "      <th>4</th>\n",
       "      <td>Sunghursh</td>\n",
       "      <td>IN</td>\n",
       "    </tr>\n",
       "  </tbody>\n",
       "</table>\n",
       "</div>"
      ],
      "text/plain": [
       "  primary_title region\n",
       "0     Sunghursh     IN\n",
       "1     Sunghursh   None\n",
       "2     Sunghursh     IN\n",
       "3     Sunghursh     IN\n",
       "4     Sunghursh     IN"
      ]
     },
     "execution_count": 5,
     "metadata": {},
     "output_type": "execute_result"
    }
   ],
   "source": [
    "cur.execute('''SELECT primary_title, region\n",
    "                FROM imdb_title_akas a\n",
    "                JOIN imdb_title_basics b\n",
    "                ON a.title_id = b.tconst\n",
    "                ;''')\n",
    "df_title_region = pd.DataFrame(cur.fetchall())\n",
    "df_title_region.columns = [x[0] for x in cur.description]\n",
    "df_title_region.head()"
   ]
  },
  {
   "cell_type": "markdown",
   "metadata": {},
   "source": [
    "## Creating our Movie Budgets/Revenues DataFrame "
   ]
  },
  {
   "cell_type": "code",
   "execution_count": 6,
   "metadata": {
    "ExecuteTime": {
     "end_time": "2020-06-22T16:24:43.685089Z",
     "start_time": "2020-06-22T16:24:43.663465Z"
    }
   },
   "outputs": [
    {
     "data": {
      "text/html": [
       "<div>\n",
       "<style scoped>\n",
       "    .dataframe tbody tr th:only-of-type {\n",
       "        vertical-align: middle;\n",
       "    }\n",
       "\n",
       "    .dataframe tbody tr th {\n",
       "        vertical-align: top;\n",
       "    }\n",
       "\n",
       "    .dataframe thead th {\n",
       "        text-align: right;\n",
       "    }\n",
       "</style>\n",
       "<table border=\"1\" class=\"dataframe\">\n",
       "  <thead>\n",
       "    <tr style=\"text-align: right;\">\n",
       "      <th></th>\n",
       "      <th>id</th>\n",
       "      <th>release_date</th>\n",
       "      <th>movie</th>\n",
       "      <th>production_budget</th>\n",
       "      <th>domestic_gross</th>\n",
       "      <th>worldwide_gross</th>\n",
       "    </tr>\n",
       "  </thead>\n",
       "  <tbody>\n",
       "    <tr>\n",
       "      <th>0</th>\n",
       "      <td>1</td>\n",
       "      <td>Dec 18, 2009</td>\n",
       "      <td>Avatar</td>\n",
       "      <td>$425,000,000</td>\n",
       "      <td>$760,507,625</td>\n",
       "      <td>$2,776,345,279</td>\n",
       "    </tr>\n",
       "    <tr>\n",
       "      <th>1</th>\n",
       "      <td>2</td>\n",
       "      <td>May 20, 2011</td>\n",
       "      <td>Pirates of the Caribbean: On Stranger Tides</td>\n",
       "      <td>$410,600,000</td>\n",
       "      <td>$241,063,875</td>\n",
       "      <td>$1,045,663,875</td>\n",
       "    </tr>\n",
       "    <tr>\n",
       "      <th>2</th>\n",
       "      <td>3</td>\n",
       "      <td>Jun 7, 2019</td>\n",
       "      <td>Dark Phoenix</td>\n",
       "      <td>$350,000,000</td>\n",
       "      <td>$42,762,350</td>\n",
       "      <td>$149,762,350</td>\n",
       "    </tr>\n",
       "    <tr>\n",
       "      <th>3</th>\n",
       "      <td>4</td>\n",
       "      <td>May 1, 2015</td>\n",
       "      <td>Avengers: Age of Ultron</td>\n",
       "      <td>$330,600,000</td>\n",
       "      <td>$459,005,868</td>\n",
       "      <td>$1,403,013,963</td>\n",
       "    </tr>\n",
       "    <tr>\n",
       "      <th>4</th>\n",
       "      <td>5</td>\n",
       "      <td>Dec 15, 2017</td>\n",
       "      <td>Star Wars Ep. VIII: The Last Jedi</td>\n",
       "      <td>$317,000,000</td>\n",
       "      <td>$620,181,382</td>\n",
       "      <td>$1,316,721,747</td>\n",
       "    </tr>\n",
       "  </tbody>\n",
       "</table>\n",
       "</div>"
      ],
      "text/plain": [
       "   id  release_date                                        movie production_budget domestic_gross worldwide_gross\n",
       "0   1  Dec 18, 2009                                       Avatar      $425,000,000   $760,507,625  $2,776,345,279\n",
       "1   2  May 20, 2011  Pirates of the Caribbean: On Stranger Tides      $410,600,000   $241,063,875  $1,045,663,875\n",
       "2   3   Jun 7, 2019                                 Dark Phoenix      $350,000,000    $42,762,350    $149,762,350\n",
       "3   4   May 1, 2015                      Avengers: Age of Ultron      $330,600,000   $459,005,868  $1,403,013,963\n",
       "4   5  Dec 15, 2017            Star Wars Ep. VIII: The Last Jedi      $317,000,000   $620,181,382  $1,316,721,747"
      ]
     },
     "execution_count": 6,
     "metadata": {},
     "output_type": "execute_result"
    }
   ],
   "source": [
    "cur.execute('''SELECT * \n",
    "                FROM tn_movie_budgets\n",
    "                ;''')\n",
    "df_movie_moneys = pd.DataFrame(cur.fetchall())\n",
    "df_movie_moneys.columns = [x[0] for x in cur.description]\n",
    "df_movie_moneys.head()"
   ]
  },
  {
   "cell_type": "markdown",
   "metadata": {},
   "source": [
    "# Data Cleaning & Converting "
   ]
  },
  {
   "cell_type": "markdown",
   "metadata": {},
   "source": [
    "## Cleaning & Converting - Country Releases per Movie "
   ]
  },
  {
   "cell_type": "markdown",
   "metadata": {},
   "source": [
    "**Drop 'None' types from the region feature & check the unique values.**"
   ]
  },
  {
   "cell_type": "code",
   "execution_count": 7,
   "metadata": {
    "ExecuteTime": {
     "end_time": "2020-06-22T16:24:45.293355Z",
     "start_time": "2020-06-22T16:24:45.225557Z"
    },
    "scrolled": true
   },
   "outputs": [
    {
     "data": {
      "text/plain": [
       "array(['IN', 'XWW', 'VE', 'PL', 'DE', 'PT', 'BR', 'US', 'GB', 'IT', 'RU',\n",
       "       'AR', 'ES', 'FR', 'CL', 'AU', 'CA', 'NL', 'BG', 'HR', 'HU', 'SE',\n",
       "       'RO', 'HK', 'FI', 'EE', 'DK', 'LT', 'PK', 'GE', 'TR', 'GR', 'IL',\n",
       "       'UY', 'RS', 'SI', 'CZ', 'UA', 'MX', 'JP', 'VN', 'PE', 'AZ', 'LV',\n",
       "       'NO', 'SK', 'AL', 'KR', 'CO', 'EG', 'XEU', 'IR', 'SG', 'BE', 'IS',\n",
       "       'CH', 'BA', 'ZA', 'CN', 'BD', 'LU', 'CU', 'AM', 'AT', 'MK', 'PH',\n",
       "       'XSA', 'BO', 'TW', 'LB', 'PR', 'PA', 'IE', 'MY', 'CM', 'KZ', 'NZ',\n",
       "       'TH', 'ID', 'BY', 'MA', 'CG', 'CR', 'XAS', 'MD', 'PY', 'EC', 'GT',\n",
       "       'DO', 'TZ', 'DZ', 'BS', 'HT', 'JM', 'CY', 'MZ', 'NG', 'SL', 'PG',\n",
       "       'MO', 'MN', 'XYU', 'ET', 'AE', 'PS', 'ZW', 'MW', 'FJ', 'MC', 'IQ',\n",
       "       'SV', 'GL', 'KE', 'CSHH', 'QA', 'AO', 'GP', 'NP', 'ZM', 'AF', 'GH',\n",
       "       'SZ', 'UG', 'CD', 'ME', 'JO', 'KG', 'RW', 'SN', 'LR', 'NI', 'KH',\n",
       "       'AG', 'NE', 'VI', 'LI', 'UZ', 'HN', 'TT', 'BF', 'XKV', 'SUHH',\n",
       "       'TN', 'CSXX', 'LK', 'AN', 'TG', 'BH', 'LS', 'SA', 'SY', 'KW', 'CV',\n",
       "       'MV', 'BB', 'TJ', 'MH', 'BJ', 'XKO', 'ML', 'GA', 'GU', 'BT', 'SD',\n",
       "       'MG', 'CI', 'LA', 'BZ', 'BM', 'MM', 'KP', 'IM', 'AW', 'MT', 'XNA',\n",
       "       'MU', 'AS', 'SR', 'YE', 'SM', 'GW', 'TM', 'NC', 'BN', 'TD', 'KY',\n",
       "       'TO', 'AD', 'TL', 'MR', 'VU', 'OM', 'PF', 'FO', 'XWG', 'RE', 'BI',\n",
       "       'SO', 'MQ', 'AQ', 'GM', 'CF', 'DM', 'KN', 'ER', 'VC', 'WF', 'BUMM',\n",
       "       'LY', 'EH', 'LC', 'SB', 'AI'], dtype=object)"
      ]
     },
     "execution_count": 7,
     "metadata": {},
     "output_type": "execute_result"
    }
   ],
   "source": [
    "df_title_region = df_title_region.dropna()\n",
    "df_title_region['region'].unique()"
   ]
  },
  {
   "cell_type": "markdown",
   "metadata": {},
   "source": [
    "**We noticed that there were different types of country codes in this list. This led to more research to see how one could check that these were all accurate. We found the |pycountry| library, installed it, then imported it below.**"
   ]
  },
  {
   "cell_type": "code",
   "execution_count": 8,
   "metadata": {
    "ExecuteTime": {
     "end_time": "2020-06-22T16:24:46.122101Z",
     "start_time": "2020-06-22T16:24:45.946841Z"
    }
   },
   "outputs": [],
   "source": [
    "import pycountry"
   ]
  },
  {
   "cell_type": "code",
   "execution_count": 9,
   "metadata": {
    "ExecuteTime": {
     "end_time": "2020-06-22T16:24:46.415402Z",
     "start_time": "2020-06-22T16:24:46.292687Z"
    }
   },
   "outputs": [
    {
     "name": "stdout",
     "output_type": "stream",
     "text": [
      "aplha_2    259181\n",
      "alpha_3     19206\n",
      "alpha_4        23\n",
      "Name: alpha_code, dtype: int64\n"
     ]
    },
    {
     "data": {
      "text/html": [
       "<div>\n",
       "<style scoped>\n",
       "    .dataframe tbody tr th:only-of-type {\n",
       "        vertical-align: middle;\n",
       "    }\n",
       "\n",
       "    .dataframe tbody tr th {\n",
       "        vertical-align: top;\n",
       "    }\n",
       "\n",
       "    .dataframe thead th {\n",
       "        text-align: right;\n",
       "    }\n",
       "</style>\n",
       "<table border=\"1\" class=\"dataframe\">\n",
       "  <thead>\n",
       "    <tr style=\"text-align: right;\">\n",
       "      <th></th>\n",
       "      <th>primary_title</th>\n",
       "      <th>region</th>\n",
       "      <th>alpha_code</th>\n",
       "    </tr>\n",
       "  </thead>\n",
       "  <tbody>\n",
       "    <tr>\n",
       "      <th>0</th>\n",
       "      <td>Sunghursh</td>\n",
       "      <td>IN</td>\n",
       "      <td>aplha_2</td>\n",
       "    </tr>\n",
       "    <tr>\n",
       "      <th>2</th>\n",
       "      <td>Sunghursh</td>\n",
       "      <td>IN</td>\n",
       "      <td>aplha_2</td>\n",
       "    </tr>\n",
       "    <tr>\n",
       "      <th>3</th>\n",
       "      <td>Sunghursh</td>\n",
       "      <td>IN</td>\n",
       "      <td>aplha_2</td>\n",
       "    </tr>\n",
       "    <tr>\n",
       "      <th>4</th>\n",
       "      <td>Sunghursh</td>\n",
       "      <td>IN</td>\n",
       "      <td>aplha_2</td>\n",
       "    </tr>\n",
       "    <tr>\n",
       "      <th>5</th>\n",
       "      <td>One Day Before the Rainy Season</td>\n",
       "      <td>XWW</td>\n",
       "      <td>alpha_3</td>\n",
       "    </tr>\n",
       "  </tbody>\n",
       "</table>\n",
       "</div>"
      ],
      "text/plain": [
       "                     primary_title region alpha_code\n",
       "0                        Sunghursh     IN    aplha_2\n",
       "2                        Sunghursh     IN    aplha_2\n",
       "3                        Sunghursh     IN    aplha_2\n",
       "4                        Sunghursh     IN    aplha_2\n",
       "5  One Day Before the Rainy Season    XWW    alpha_3"
      ]
     },
     "execution_count": 9,
     "metadata": {},
     "output_type": "execute_result"
    }
   ],
   "source": [
    "def alpha_code_check(value):\n",
    "    \"\"\"This function takes in a an alpha code country value, determines its\n",
    "    classification, and returns that result.  This function is meant to be \n",
    "    mapped along a DataFrame series.\n",
    "    \n",
    "    Returns:\n",
    "    Assigned categorical value\n",
    "    \n",
    "    Example:\n",
    "    df['region'].map(lambda x: alpha_code_check(x))\"\"\"\n",
    "\n",
    "    if len(value) == 2:\n",
    "        value = 'aplha_2'\n",
    "        return value\n",
    "    elif len(value) == 3:\n",
    "        value = 'alpha_3'\n",
    "        return value\n",
    "    else:\n",
    "        value = 'alpha_4'\n",
    "        return value\n",
    "\n",
    "\n",
    "df_title_region['alpha_code'] = df_title_region['region'].map(lambda x: alpha_code_check(x))\n",
    "print(df_title_region['alpha_code'].value_counts())\n",
    "df_title_region.head()"
   ]
  },
  {
   "cell_type": "markdown",
   "metadata": {},
   "source": [
    "**Great, now we have a new column that identifies the type of alpha code in that row.**\n",
    "\n",
    "**Let's now convert that to a country name using |pycountry|.**"
   ]
  },
  {
   "cell_type": "code",
   "execution_count": 10,
   "metadata": {
    "ExecuteTime": {
     "end_time": "2020-06-22T16:24:47.592374Z",
     "start_time": "2020-06-22T16:24:47.137571Z"
    },
    "scrolled": true
   },
   "outputs": [
    {
     "data": {
      "text/html": [
       "<div>\n",
       "<style scoped>\n",
       "    .dataframe tbody tr th:only-of-type {\n",
       "        vertical-align: middle;\n",
       "    }\n",
       "\n",
       "    .dataframe tbody tr th {\n",
       "        vertical-align: top;\n",
       "    }\n",
       "\n",
       "    .dataframe thead th {\n",
       "        text-align: right;\n",
       "    }\n",
       "</style>\n",
       "<table border=\"1\" class=\"dataframe\">\n",
       "  <thead>\n",
       "    <tr style=\"text-align: right;\">\n",
       "      <th></th>\n",
       "      <th>primary_title</th>\n",
       "      <th>region</th>\n",
       "      <th>alpha_code</th>\n",
       "      <th>country</th>\n",
       "    </tr>\n",
       "  </thead>\n",
       "  <tbody>\n",
       "    <tr>\n",
       "      <th>0</th>\n",
       "      <td>Sunghursh</td>\n",
       "      <td>IN</td>\n",
       "      <td>aplha_2</td>\n",
       "      <td>India</td>\n",
       "    </tr>\n",
       "    <tr>\n",
       "      <th>2</th>\n",
       "      <td>Sunghursh</td>\n",
       "      <td>IN</td>\n",
       "      <td>aplha_2</td>\n",
       "      <td>India</td>\n",
       "    </tr>\n",
       "    <tr>\n",
       "      <th>3</th>\n",
       "      <td>Sunghursh</td>\n",
       "      <td>IN</td>\n",
       "      <td>aplha_2</td>\n",
       "      <td>India</td>\n",
       "    </tr>\n",
       "    <tr>\n",
       "      <th>4</th>\n",
       "      <td>Sunghursh</td>\n",
       "      <td>IN</td>\n",
       "      <td>aplha_2</td>\n",
       "      <td>India</td>\n",
       "    </tr>\n",
       "    <tr>\n",
       "      <th>5</th>\n",
       "      <td>One Day Before the Rainy Season</td>\n",
       "      <td>XWW</td>\n",
       "      <td>alpha_3</td>\n",
       "      <td>None</td>\n",
       "    </tr>\n",
       "  </tbody>\n",
       "</table>\n",
       "</div>"
      ],
      "text/plain": [
       "                     primary_title region alpha_code country\n",
       "0                        Sunghursh     IN    aplha_2   India\n",
       "2                        Sunghursh     IN    aplha_2   India\n",
       "3                        Sunghursh     IN    aplha_2   India\n",
       "4                        Sunghursh     IN    aplha_2   India\n",
       "5  One Day Before the Rainy Season    XWW    alpha_3    None"
      ]
     },
     "execution_count": 10,
     "metadata": {},
     "output_type": "execute_result"
    }
   ],
   "source": [
    "def country_alpha_converter(value):\n",
    "    '''This is a function to map columns and convert values of country alpha \n",
    "    codes to country names.'''\n",
    "    \n",
    "    if len(value) == 2:\n",
    "        x = pycountry.countries.get(alpha_2=value)\n",
    "        if x == None:\n",
    "            return 'None'\n",
    "        return x.name\n",
    "    elif len(value) == 3:\n",
    "        x = pycountry.countries.get(alpha_3=value)\n",
    "        if x == None:\n",
    "            return 'None'\n",
    "        return x.name\n",
    "    else:\n",
    "        x = pycountry.historic_countries.get(alpha_4=value) #old country codes\n",
    "        if x == None:\n",
    "            return 'None'\n",
    "        return x.name\n",
    "\n",
    "df_title_region['country'] = df_title_region['region'].map(lambda x: country_alpha_converter(x))\n",
    "df_title_region.head()"
   ]
  },
  {
   "cell_type": "markdown",
   "metadata": {},
   "source": [
    "**Looks good, though we can clearly see that there are lots of duplicates, as well as a 'None' in the country feature.**"
   ]
  },
  {
   "cell_type": "code",
   "execution_count": 11,
   "metadata": {
    "ExecuteTime": {
     "end_time": "2020-06-22T16:24:47.950303Z",
     "start_time": "2020-06-22T16:24:47.831113Z"
    },
    "scrolled": true
   },
   "outputs": [
    {
     "data": {
      "text/html": [
       "<div>\n",
       "<style scoped>\n",
       "    .dataframe tbody tr th:only-of-type {\n",
       "        vertical-align: middle;\n",
       "    }\n",
       "\n",
       "    .dataframe tbody tr th {\n",
       "        vertical-align: top;\n",
       "    }\n",
       "\n",
       "    .dataframe thead th {\n",
       "        text-align: right;\n",
       "    }\n",
       "</style>\n",
       "<table border=\"1\" class=\"dataframe\">\n",
       "  <thead>\n",
       "    <tr style=\"text-align: right;\">\n",
       "      <th></th>\n",
       "      <th>primary_title</th>\n",
       "      <th>region</th>\n",
       "      <th>alpha_code</th>\n",
       "      <th>country</th>\n",
       "    </tr>\n",
       "  </thead>\n",
       "  <tbody>\n",
       "    <tr>\n",
       "      <th>5</th>\n",
       "      <td>One Day Before the Rainy Season</td>\n",
       "      <td>XWW</td>\n",
       "      <td>alpha_3</td>\n",
       "      <td>None</td>\n",
       "    </tr>\n",
       "    <tr>\n",
       "      <th>26</th>\n",
       "      <td>The Wandering Soap Opera</td>\n",
       "      <td>XWW</td>\n",
       "      <td>alpha_3</td>\n",
       "      <td>None</td>\n",
       "    </tr>\n",
       "    <tr>\n",
       "      <th>47</th>\n",
       "      <td>So Much for Justice!</td>\n",
       "      <td>XWW</td>\n",
       "      <td>alpha_3</td>\n",
       "      <td>None</td>\n",
       "    </tr>\n",
       "    <tr>\n",
       "      <th>56</th>\n",
       "      <td>Children of the Green Dragon</td>\n",
       "      <td>XWW</td>\n",
       "      <td>alpha_3</td>\n",
       "      <td>None</td>\n",
       "    </tr>\n",
       "    <tr>\n",
       "      <th>60</th>\n",
       "      <td>The Tragedy of Man</td>\n",
       "      <td>XWW</td>\n",
       "      <td>alpha_3</td>\n",
       "      <td>None</td>\n",
       "    </tr>\n",
       "  </tbody>\n",
       "</table>\n",
       "</div>"
      ],
      "text/plain": [
       "                      primary_title region alpha_code country\n",
       "5   One Day Before the Rainy Season    XWW    alpha_3    None\n",
       "26         The Wandering Soap Opera    XWW    alpha_3    None\n",
       "47             So Much for Justice!    XWW    alpha_3    None\n",
       "56     Children of the Green Dragon    XWW    alpha_3    None\n",
       "60               The Tragedy of Man    XWW    alpha_3    None"
      ]
     },
     "execution_count": 11,
     "metadata": {},
     "output_type": "execute_result"
    }
   ],
   "source": [
    "df_title_region[(df_title_region['alpha_code'] == 'alpha_3')\n",
    "                | \n",
    "                (df_title_region['alpha_code'] == 'alpha_4')\n",
    "               &\n",
    "               (df_title_region['country'] == 'None')].head()"
   ]
  },
  {
   "cell_type": "markdown",
   "metadata": {},
   "source": [
    "**Based on the information provided above, we can see that a lot of country_codes containing alpha_3 OR alpha_4 also have a 'None' value for their country feature, making these rows essentially useless for this analysis.  To proceed, we will drop all rows with the value of 'None' for the 'country' feature.**"
   ]
  },
  {
   "cell_type": "code",
   "execution_count": 12,
   "metadata": {
    "ExecuteTime": {
     "end_time": "2020-06-22T16:24:48.620390Z",
     "start_time": "2020-06-22T16:24:48.574008Z"
    },
    "scrolled": false
   },
   "outputs": [
    {
     "data": {
      "text/html": [
       "<div>\n",
       "<style scoped>\n",
       "    .dataframe tbody tr th:only-of-type {\n",
       "        vertical-align: middle;\n",
       "    }\n",
       "\n",
       "    .dataframe tbody tr th {\n",
       "        vertical-align: top;\n",
       "    }\n",
       "\n",
       "    .dataframe thead th {\n",
       "        text-align: right;\n",
       "    }\n",
       "</style>\n",
       "<table border=\"1\" class=\"dataframe\">\n",
       "  <thead>\n",
       "    <tr style=\"text-align: right;\">\n",
       "      <th></th>\n",
       "      <th>primary_title</th>\n",
       "      <th>region</th>\n",
       "      <th>alpha_code</th>\n",
       "      <th>country</th>\n",
       "    </tr>\n",
       "  </thead>\n",
       "  <tbody>\n",
       "    <tr>\n",
       "      <th>0</th>\n",
       "      <td>Sunghursh</td>\n",
       "      <td>IN</td>\n",
       "      <td>aplha_2</td>\n",
       "      <td>India</td>\n",
       "    </tr>\n",
       "    <tr>\n",
       "      <th>2</th>\n",
       "      <td>Sunghursh</td>\n",
       "      <td>IN</td>\n",
       "      <td>aplha_2</td>\n",
       "      <td>India</td>\n",
       "    </tr>\n",
       "    <tr>\n",
       "      <th>3</th>\n",
       "      <td>Sunghursh</td>\n",
       "      <td>IN</td>\n",
       "      <td>aplha_2</td>\n",
       "      <td>India</td>\n",
       "    </tr>\n",
       "    <tr>\n",
       "      <th>4</th>\n",
       "      <td>Sunghursh</td>\n",
       "      <td>IN</td>\n",
       "      <td>aplha_2</td>\n",
       "      <td>India</td>\n",
       "    </tr>\n",
       "    <tr>\n",
       "      <th>6</th>\n",
       "      <td>One Day Before the Rainy Season</td>\n",
       "      <td>IN</td>\n",
       "      <td>aplha_2</td>\n",
       "      <td>India</td>\n",
       "    </tr>\n",
       "  </tbody>\n",
       "</table>\n",
       "</div>"
      ],
      "text/plain": [
       "                     primary_title region alpha_code country\n",
       "0                        Sunghursh     IN    aplha_2   India\n",
       "2                        Sunghursh     IN    aplha_2   India\n",
       "3                        Sunghursh     IN    aplha_2   India\n",
       "4                        Sunghursh     IN    aplha_2   India\n",
       "6  One Day Before the Rainy Season     IN    aplha_2   India"
      ]
     },
     "execution_count": 12,
     "metadata": {},
     "output_type": "execute_result"
    }
   ],
   "source": [
    "df_title_region = df_title_region[df_title_region['country'] != 'None']\n",
    "df_title_region.head()"
   ]
  },
  {
   "cell_type": "code",
   "execution_count": 13,
   "metadata": {
    "ExecuteTime": {
     "end_time": "2020-06-22T16:24:49.021251Z",
     "start_time": "2020-06-22T16:24:48.993284Z"
    },
    "scrolled": true
   },
   "outputs": [
    {
     "data": {
      "text/plain": [
       "aplha_2    259176\n",
       "alpha_4        23\n",
       "Name: alpha_code, dtype: int64"
      ]
     },
     "execution_count": 13,
     "metadata": {},
     "output_type": "execute_result"
    }
   ],
   "source": [
    "df_title_region['alpha_code'].value_counts()"
   ]
  },
  {
   "cell_type": "markdown",
   "metadata": {},
   "source": [
    "**Looks like all of the alpha_3 codes went along with the 'none' values. Let's see what we have left for alpha_4 codes.**"
   ]
  },
  {
   "cell_type": "code",
   "execution_count": 14,
   "metadata": {
    "ExecuteTime": {
     "end_time": "2020-06-22T16:24:49.743619Z",
     "start_time": "2020-06-22T16:24:49.714711Z"
    },
    "scrolled": false
   },
   "outputs": [
    {
     "data": {
      "text/html": [
       "<div>\n",
       "<style scoped>\n",
       "    .dataframe tbody tr th:only-of-type {\n",
       "        vertical-align: middle;\n",
       "    }\n",
       "\n",
       "    .dataframe tbody tr th {\n",
       "        vertical-align: top;\n",
       "    }\n",
       "\n",
       "    .dataframe thead th {\n",
       "        text-align: right;\n",
       "    }\n",
       "</style>\n",
       "<table border=\"1\" class=\"dataframe\">\n",
       "  <thead>\n",
       "    <tr style=\"text-align: right;\">\n",
       "      <th></th>\n",
       "      <th>primary_title</th>\n",
       "      <th>region</th>\n",
       "      <th>alpha_code</th>\n",
       "      <th>country</th>\n",
       "    </tr>\n",
       "  </thead>\n",
       "  <tbody>\n",
       "    <tr>\n",
       "      <th>38031</th>\n",
       "      <td>Mumu</td>\n",
       "      <td>CSHH</td>\n",
       "      <td>alpha_4</td>\n",
       "      <td>Czechoslovakia, Czechoslovak Socialist Republic</td>\n",
       "    </tr>\n",
       "    <tr>\n",
       "      <th>60649</th>\n",
       "      <td>Like Crazy</td>\n",
       "      <td>SUHH</td>\n",
       "      <td>alpha_4</td>\n",
       "      <td>USSR, Union of Soviet Socialist Republics</td>\n",
       "    </tr>\n",
       "    <tr>\n",
       "      <th>63250</th>\n",
       "      <td>Battery Man</td>\n",
       "      <td>CSXX</td>\n",
       "      <td>alpha_4</td>\n",
       "      <td>Serbia and Montenegro</td>\n",
       "    </tr>\n",
       "    <tr>\n",
       "      <th>89541</th>\n",
       "      <td>Waldheim-KGB Agent Kurt</td>\n",
       "      <td>CSXX</td>\n",
       "      <td>alpha_4</td>\n",
       "      <td>Serbia and Montenegro</td>\n",
       "    </tr>\n",
       "    <tr>\n",
       "      <th>138179</th>\n",
       "      <td>Albertov Put</td>\n",
       "      <td>CSXX</td>\n",
       "      <td>alpha_4</td>\n",
       "      <td>Serbia and Montenegro</td>\n",
       "    </tr>\n",
       "    <tr>\n",
       "      <th>146591</th>\n",
       "      <td>Kosma</td>\n",
       "      <td>CSXX</td>\n",
       "      <td>alpha_4</td>\n",
       "      <td>Serbia and Montenegro</td>\n",
       "    </tr>\n",
       "    <tr>\n",
       "      <th>153295</th>\n",
       "      <td>Danube Floating Free</td>\n",
       "      <td>CSXX</td>\n",
       "      <td>alpha_4</td>\n",
       "      <td>Serbia and Montenegro</td>\n",
       "    </tr>\n",
       "    <tr>\n",
       "      <th>154420</th>\n",
       "      <td>Drugo ime za slobodu</td>\n",
       "      <td>CSXX</td>\n",
       "      <td>alpha_4</td>\n",
       "      <td>Serbia and Montenegro</td>\n",
       "    </tr>\n",
       "    <tr>\n",
       "      <th>160770</th>\n",
       "      <td>Zivan Makes a Punk Festival</td>\n",
       "      <td>CSXX</td>\n",
       "      <td>alpha_4</td>\n",
       "      <td>Serbia and Montenegro</td>\n",
       "    </tr>\n",
       "    <tr>\n",
       "      <th>165231</th>\n",
       "      <td>Skile</td>\n",
       "      <td>CSXX</td>\n",
       "      <td>alpha_4</td>\n",
       "      <td>Serbia and Montenegro</td>\n",
       "    </tr>\n",
       "    <tr>\n",
       "      <th>166504</th>\n",
       "      <td>Stay Where You Are</td>\n",
       "      <td>CSXX</td>\n",
       "      <td>alpha_4</td>\n",
       "      <td>Serbia and Montenegro</td>\n",
       "    </tr>\n",
       "    <tr>\n",
       "      <th>196688</th>\n",
       "      <td>It's a journey not a destination</td>\n",
       "      <td>CSXX</td>\n",
       "      <td>alpha_4</td>\n",
       "      <td>Serbia and Montenegro</td>\n",
       "    </tr>\n",
       "    <tr>\n",
       "      <th>196689</th>\n",
       "      <td>Summertime Summerfun</td>\n",
       "      <td>CSXX</td>\n",
       "      <td>alpha_4</td>\n",
       "      <td>Serbia and Montenegro</td>\n",
       "    </tr>\n",
       "    <tr>\n",
       "      <th>226314</th>\n",
       "      <td>Jovica and his teeth</td>\n",
       "      <td>CSXX</td>\n",
       "      <td>alpha_4</td>\n",
       "      <td>Serbia and Montenegro</td>\n",
       "    </tr>\n",
       "    <tr>\n",
       "      <th>230436</th>\n",
       "      <td>Celebrating Serbia</td>\n",
       "      <td>CSXX</td>\n",
       "      <td>alpha_4</td>\n",
       "      <td>Serbia and Montenegro</td>\n",
       "    </tr>\n",
       "    <tr>\n",
       "      <th>242486</th>\n",
       "      <td>The Absurd Scam</td>\n",
       "      <td>CSXX</td>\n",
       "      <td>alpha_4</td>\n",
       "      <td>Serbia and Montenegro</td>\n",
       "    </tr>\n",
       "    <tr>\n",
       "      <th>245734</th>\n",
       "      <td>State of soul</td>\n",
       "      <td>CSXX</td>\n",
       "      <td>alpha_4</td>\n",
       "      <td>Serbia and Montenegro</td>\n",
       "    </tr>\n",
       "    <tr>\n",
       "      <th>256314</th>\n",
       "      <td>Controindicazione</td>\n",
       "      <td>CSXX</td>\n",
       "      <td>alpha_4</td>\n",
       "      <td>Serbia and Montenegro</td>\n",
       "    </tr>\n",
       "    <tr>\n",
       "      <th>272535</th>\n",
       "      <td>Prison's Prayer</td>\n",
       "      <td>CSXX</td>\n",
       "      <td>alpha_4</td>\n",
       "      <td>Serbia and Montenegro</td>\n",
       "    </tr>\n",
       "    <tr>\n",
       "      <th>274838</th>\n",
       "      <td>The Taste of the Dhamma</td>\n",
       "      <td>BUMM</td>\n",
       "      <td>alpha_4</td>\n",
       "      <td>Burma, Socialist Republic of the Union of</td>\n",
       "    </tr>\n",
       "    <tr>\n",
       "      <th>279953</th>\n",
       "      <td>The Roots of Maya: Adept</td>\n",
       "      <td>CSXX</td>\n",
       "      <td>alpha_4</td>\n",
       "      <td>Serbia and Montenegro</td>\n",
       "    </tr>\n",
       "    <tr>\n",
       "      <th>312340</th>\n",
       "      <td>Resumption</td>\n",
       "      <td>CSXX</td>\n",
       "      <td>alpha_4</td>\n",
       "      <td>Serbia and Montenegro</td>\n",
       "    </tr>\n",
       "    <tr>\n",
       "      <th>325964</th>\n",
       "      <td>Lijenstina</td>\n",
       "      <td>CSXX</td>\n",
       "      <td>alpha_4</td>\n",
       "      <td>Serbia and Montenegro</td>\n",
       "    </tr>\n",
       "  </tbody>\n",
       "</table>\n",
       "</div>"
      ],
      "text/plain": [
       "                           primary_title region alpha_code                                          country\n",
       "38031                               Mumu   CSHH    alpha_4  Czechoslovakia, Czechoslovak Socialist Republic\n",
       "60649                         Like Crazy   SUHH    alpha_4        USSR, Union of Soviet Socialist Republics\n",
       "63250                        Battery Man   CSXX    alpha_4                            Serbia and Montenegro\n",
       "89541            Waldheim-KGB Agent Kurt   CSXX    alpha_4                            Serbia and Montenegro\n",
       "138179                      Albertov Put   CSXX    alpha_4                            Serbia and Montenegro\n",
       "146591                             Kosma   CSXX    alpha_4                            Serbia and Montenegro\n",
       "153295              Danube Floating Free   CSXX    alpha_4                            Serbia and Montenegro\n",
       "154420              Drugo ime za slobodu   CSXX    alpha_4                            Serbia and Montenegro\n",
       "160770       Zivan Makes a Punk Festival   CSXX    alpha_4                            Serbia and Montenegro\n",
       "165231                             Skile   CSXX    alpha_4                            Serbia and Montenegro\n",
       "166504                Stay Where You Are   CSXX    alpha_4                            Serbia and Montenegro\n",
       "196688  It's a journey not a destination   CSXX    alpha_4                            Serbia and Montenegro\n",
       "196689              Summertime Summerfun   CSXX    alpha_4                            Serbia and Montenegro\n",
       "226314              Jovica and his teeth   CSXX    alpha_4                            Serbia and Montenegro\n",
       "230436                Celebrating Serbia   CSXX    alpha_4                            Serbia and Montenegro\n",
       "242486                   The Absurd Scam   CSXX    alpha_4                            Serbia and Montenegro\n",
       "245734                     State of soul   CSXX    alpha_4                            Serbia and Montenegro\n",
       "256314                 Controindicazione   CSXX    alpha_4                            Serbia and Montenegro\n",
       "272535                   Prison's Prayer   CSXX    alpha_4                            Serbia and Montenegro\n",
       "274838           The Taste of the Dhamma   BUMM    alpha_4        Burma, Socialist Republic of the Union of\n",
       "279953          The Roots of Maya: Adept   CSXX    alpha_4                            Serbia and Montenegro\n",
       "312340                        Resumption   CSXX    alpha_4                            Serbia and Montenegro\n",
       "325964                        Lijenstina   CSXX    alpha_4                            Serbia and Montenegro"
      ]
     },
     "execution_count": 14,
     "metadata": {},
     "output_type": "execute_result"
    }
   ],
   "source": [
    "df_title_region[df_title_region['alpha_code'] == 'alpha_4']"
   ]
  },
  {
   "cell_type": "markdown",
   "metadata": {},
   "source": [
    "**As we can see above, the countries that were assigned alpha_4 codes are no longer officially recognized today.  For this analysis it is okay to remove these from our dataset.**"
   ]
  },
  {
   "cell_type": "code",
   "execution_count": 15,
   "metadata": {
    "ExecuteTime": {
     "end_time": "2020-06-22T16:24:50.715978Z",
     "start_time": "2020-06-22T16:24:50.657097Z"
    },
    "scrolled": true
   },
   "outputs": [
    {
     "data": {
      "text/plain": [
       "aplha_2    259176\n",
       "Name: alpha_code, dtype: int64"
      ]
     },
     "execution_count": 15,
     "metadata": {},
     "output_type": "execute_result"
    }
   ],
   "source": [
    "df_title_region = df_title_region[df_title_region['alpha_code'] != 'alpha_4']\n",
    "df_title_region['alpha_code'].value_counts()"
   ]
  },
  {
   "cell_type": "markdown",
   "metadata": {},
   "source": [
    "**Great, now let's drop the alpha_code and region columns.**"
   ]
  },
  {
   "cell_type": "code",
   "execution_count": 16,
   "metadata": {
    "ExecuteTime": {
     "end_time": "2020-06-22T16:24:51.526025Z",
     "start_time": "2020-06-22T16:24:51.502472Z"
    },
    "scrolled": true
   },
   "outputs": [
    {
     "name": "stdout",
     "output_type": "stream",
     "text": [
      "(259176, 2)\n"
     ]
    },
    {
     "data": {
      "text/html": [
       "<div>\n",
       "<style scoped>\n",
       "    .dataframe tbody tr th:only-of-type {\n",
       "        vertical-align: middle;\n",
       "    }\n",
       "\n",
       "    .dataframe tbody tr th {\n",
       "        vertical-align: top;\n",
       "    }\n",
       "\n",
       "    .dataframe thead th {\n",
       "        text-align: right;\n",
       "    }\n",
       "</style>\n",
       "<table border=\"1\" class=\"dataframe\">\n",
       "  <thead>\n",
       "    <tr style=\"text-align: right;\">\n",
       "      <th></th>\n",
       "      <th>primary_title</th>\n",
       "      <th>country</th>\n",
       "    </tr>\n",
       "  </thead>\n",
       "  <tbody>\n",
       "    <tr>\n",
       "      <th>0</th>\n",
       "      <td>Sunghursh</td>\n",
       "      <td>India</td>\n",
       "    </tr>\n",
       "    <tr>\n",
       "      <th>2</th>\n",
       "      <td>Sunghursh</td>\n",
       "      <td>India</td>\n",
       "    </tr>\n",
       "    <tr>\n",
       "      <th>3</th>\n",
       "      <td>Sunghursh</td>\n",
       "      <td>India</td>\n",
       "    </tr>\n",
       "    <tr>\n",
       "      <th>4</th>\n",
       "      <td>Sunghursh</td>\n",
       "      <td>India</td>\n",
       "    </tr>\n",
       "    <tr>\n",
       "      <th>6</th>\n",
       "      <td>One Day Before the Rainy Season</td>\n",
       "      <td>India</td>\n",
       "    </tr>\n",
       "  </tbody>\n",
       "</table>\n",
       "</div>"
      ],
      "text/plain": [
       "                     primary_title country\n",
       "0                        Sunghursh   India\n",
       "2                        Sunghursh   India\n",
       "3                        Sunghursh   India\n",
       "4                        Sunghursh   India\n",
       "6  One Day Before the Rainy Season   India"
      ]
     },
     "execution_count": 16,
     "metadata": {},
     "output_type": "execute_result"
    }
   ],
   "source": [
    "df_title_region = df_title_region.drop(['alpha_code', 'region'], axis=1)\n",
    "print(df_title_region.shape)\n",
    "df_title_region.head()"
   ]
  },
  {
   "cell_type": "markdown",
   "metadata": {},
   "source": [
    "**OK, so now we are only left with the duplicates. Let's drop them now so that later on our lists of countries (for our country_count feature) will be accurate. Let's also update the name of our DF as well.**"
   ]
  },
  {
   "cell_type": "code",
   "execution_count": 17,
   "metadata": {
    "ExecuteTime": {
     "end_time": "2020-06-22T16:24:52.339292Z",
     "start_time": "2020-06-22T16:24:52.253928Z"
    },
    "scrolled": true
   },
   "outputs": [
    {
     "name": "stdout",
     "output_type": "stream",
     "text": [
      "(237752, 2)\n"
     ]
    },
    {
     "data": {
      "text/html": [
       "<div>\n",
       "<style scoped>\n",
       "    .dataframe tbody tr th:only-of-type {\n",
       "        vertical-align: middle;\n",
       "    }\n",
       "\n",
       "    .dataframe tbody tr th {\n",
       "        vertical-align: top;\n",
       "    }\n",
       "\n",
       "    .dataframe thead th {\n",
       "        text-align: right;\n",
       "    }\n",
       "</style>\n",
       "<table border=\"1\" class=\"dataframe\">\n",
       "  <thead>\n",
       "    <tr style=\"text-align: right;\">\n",
       "      <th></th>\n",
       "      <th>primary_title</th>\n",
       "      <th>country</th>\n",
       "    </tr>\n",
       "  </thead>\n",
       "  <tbody>\n",
       "    <tr>\n",
       "      <th>0</th>\n",
       "      <td>Sunghursh</td>\n",
       "      <td>India</td>\n",
       "    </tr>\n",
       "    <tr>\n",
       "      <th>6</th>\n",
       "      <td>One Day Before the Rainy Season</td>\n",
       "      <td>India</td>\n",
       "    </tr>\n",
       "    <tr>\n",
       "      <th>9</th>\n",
       "      <td>The Other Side of the Wind</td>\n",
       "      <td>Venezuela, Bolivarian Republic of</td>\n",
       "    </tr>\n",
       "    <tr>\n",
       "      <th>10</th>\n",
       "      <td>The Other Side of the Wind</td>\n",
       "      <td>Poland</td>\n",
       "    </tr>\n",
       "    <tr>\n",
       "      <th>11</th>\n",
       "      <td>The Other Side of the Wind</td>\n",
       "      <td>Germany</td>\n",
       "    </tr>\n",
       "  </tbody>\n",
       "</table>\n",
       "</div>"
      ],
      "text/plain": [
       "                      primary_title                            country\n",
       "0                         Sunghursh                              India\n",
       "6   One Day Before the Rainy Season                              India\n",
       "9        The Other Side of the Wind  Venezuela, Bolivarian Republic of\n",
       "10       The Other Side of the Wind                             Poland\n",
       "11       The Other Side of the Wind                            Germany"
      ]
     },
     "execution_count": 17,
     "metadata": {},
     "output_type": "execute_result"
    }
   ],
   "source": [
    "df_title_country = df_title_region.drop_duplicates()\n",
    "print(df_title_country.shape)\n",
    "df_title_country.head()"
   ]
  },
  {
   "cell_type": "markdown",
   "metadata": {},
   "source": [
    "**Dropped about 20K duplicates, very nice.  Now let's build out our feature containing a list of each country per movie.**"
   ]
  },
  {
   "cell_type": "code",
   "execution_count": 18,
   "metadata": {
    "ExecuteTime": {
     "end_time": "2020-06-22T16:24:59.482351Z",
     "start_time": "2020-06-22T16:24:52.988900Z"
    },
    "scrolled": false
   },
   "outputs": [
    {
     "name": "stdout",
     "output_type": "stream",
     "text": [
      "(114284, 2)\n"
     ]
    },
    {
     "data": {
      "text/html": [
       "<div>\n",
       "<style scoped>\n",
       "    .dataframe tbody tr th:only-of-type {\n",
       "        vertical-align: middle;\n",
       "    }\n",
       "\n",
       "    .dataframe tbody tr th {\n",
       "        vertical-align: top;\n",
       "    }\n",
       "\n",
       "    .dataframe thead th {\n",
       "        text-align: right;\n",
       "    }\n",
       "</style>\n",
       "<table border=\"1\" class=\"dataframe\">\n",
       "  <thead>\n",
       "    <tr style=\"text-align: right;\">\n",
       "      <th></th>\n",
       "      <th>primary_title</th>\n",
       "      <th>country_list</th>\n",
       "    </tr>\n",
       "  </thead>\n",
       "  <tbody>\n",
       "    <tr>\n",
       "      <th>0</th>\n",
       "      <td>!Women Art Revolution</td>\n",
       "      <td>[Russian Federation, United States]</td>\n",
       "    </tr>\n",
       "    <tr>\n",
       "      <th>1</th>\n",
       "      <td>#1 Serial Killer</td>\n",
       "      <td>[United States]</td>\n",
       "    </tr>\n",
       "    <tr>\n",
       "      <th>2</th>\n",
       "      <td>#5</td>\n",
       "      <td>[United States]</td>\n",
       "    </tr>\n",
       "    <tr>\n",
       "      <th>3</th>\n",
       "      <td>#50Fathers</td>\n",
       "      <td>[United States]</td>\n",
       "    </tr>\n",
       "    <tr>\n",
       "      <th>4</th>\n",
       "      <td>#66</td>\n",
       "      <td>[Indonesia]</td>\n",
       "    </tr>\n",
       "  </tbody>\n",
       "</table>\n",
       "</div>"
      ],
      "text/plain": [
       "           primary_title                         country_list\n",
       "0  !Women Art Revolution  [Russian Federation, United States]\n",
       "1       #1 Serial Killer                      [United States]\n",
       "2                     #5                      [United States]\n",
       "3             #50Fathers                      [United States]\n",
       "4                    #66                          [Indonesia]"
      ]
     },
     "execution_count": 18,
     "metadata": {},
     "output_type": "execute_result"
    }
   ],
   "source": [
    "df_title_countrylist = df_title_country.groupby('primary_title')['country'].apply(list).reset_index(name='country_list')\n",
    "print(df_title_countrylist.shape)\n",
    "df_title_countrylist.head()"
   ]
  },
  {
   "cell_type": "markdown",
   "metadata": {},
   "source": [
    "**We are now down to 114,284 rows, and with the cleaning that we have done up to this point, it seems fair to assume that all of these movies are unique, but just to be safe, lets check with the .value_counts() method.**"
   ]
  },
  {
   "cell_type": "code",
   "execution_count": 19,
   "metadata": {
    "ExecuteTime": {
     "end_time": "2020-06-22T16:24:59.773590Z",
     "start_time": "2020-06-22T16:24:59.691773Z"
    },
    "scrolled": true
   },
   "outputs": [
    {
     "data": {
      "text/plain": [
       "Pyro Smugglers                                   1\n",
       "Living in Seduced Circumstances                  1\n",
       "Muhurlu Kosk                                     1\n",
       "24/7/365: The Evolution of Emergency Medicine    1\n",
       "For Old Time Sake                                1\n",
       "Name: primary_title, dtype: int64"
      ]
     },
     "execution_count": 19,
     "metadata": {},
     "output_type": "execute_result"
    }
   ],
   "source": [
    "df_title_countrylist['primary_title'].value_counts().head()"
   ]
  },
  {
   "cell_type": "markdown",
   "metadata": {},
   "source": [
    "**Perfect!  Next we are going to make a simple feature that counts the number of countries each movie was released in.  This is easily achieved by calculating the length of the country_list feature for each movie using some nice list comprehension. Then update the DF name to be a bit more descriptive.**"
   ]
  },
  {
   "cell_type": "code",
   "execution_count": 20,
   "metadata": {
    "ExecuteTime": {
     "end_time": "2020-06-22T16:24:59.976014Z",
     "start_time": "2020-06-22T16:24:59.972024Z"
    }
   },
   "outputs": [
    {
     "data": {
      "text/plain": [
       "'C:\\\\Users\\\\tcast\\\\Data Science Program\\\\Module 1\\\\Mod 1 Project - Movie Analysis\\\\Movie_Analysis\\\\Group Question 1'"
      ]
     },
     "execution_count": 20,
     "metadata": {},
     "output_type": "execute_result"
    }
   ],
   "source": [
    "pwd"
   ]
  },
  {
   "cell_type": "code",
   "execution_count": 24,
   "metadata": {
    "ExecuteTime": {
     "end_time": "2020-06-22T16:27:18.223261Z",
     "start_time": "2020-06-22T16:27:17.800052Z"
    },
    "scrolled": true
   },
   "outputs": [],
   "source": [
    "df_title_countrylist['country_count'] = [len(x) for x in df_title_countrylist['country_list']]\n",
    "df_title_countrylist_count = df_title_countrylist\n",
    "df_title_countrylist_count.to_csv(r'C:\\Users\\tcast\\Data Science Program\\Module 1\\Mod 1 Project - Movie Analysis\\Movie_Analysis\\Group Question 1\\CLEAN-title_countrylist_count.csv')\n",
    "# df_title_countrylist_count.head()"
   ]
  },
  {
   "cell_type": "markdown",
   "metadata": {},
   "source": [
    "**Here we are going to subset the dataframe.  We are going to do so based on whether a movie was either a domestic or international release.  This significant because we will be able to compare these two different release types in the future should we have any questions involving the two.  We will create the domestic dataframe by filtering for movies whose country_count feature has a value of 1.**"
   ]
  },
  {
   "cell_type": "code",
   "execution_count": 25,
   "metadata": {
    "ExecuteTime": {
     "end_time": "2020-06-22T16:27:21.372273Z",
     "start_time": "2020-06-22T16:27:21.325350Z"
    },
    "scrolled": true
   },
   "outputs": [
    {
     "data": {
      "text/html": [
       "<div>\n",
       "<style scoped>\n",
       "    .dataframe tbody tr th:only-of-type {\n",
       "        vertical-align: middle;\n",
       "    }\n",
       "\n",
       "    .dataframe tbody tr th {\n",
       "        vertical-align: top;\n",
       "    }\n",
       "\n",
       "    .dataframe thead th {\n",
       "        text-align: right;\n",
       "    }\n",
       "</style>\n",
       "<table border=\"1\" class=\"dataframe\">\n",
       "  <thead>\n",
       "    <tr style=\"text-align: right;\">\n",
       "      <th></th>\n",
       "      <th>primary_title</th>\n",
       "      <th>country_list</th>\n",
       "    </tr>\n",
       "  </thead>\n",
       "  <tbody>\n",
       "    <tr>\n",
       "      <th>1</th>\n",
       "      <td>#1 Serial Killer</td>\n",
       "      <td>United States</td>\n",
       "    </tr>\n",
       "    <tr>\n",
       "      <th>2</th>\n",
       "      <td>#5</td>\n",
       "      <td>United States</td>\n",
       "    </tr>\n",
       "    <tr>\n",
       "      <th>3</th>\n",
       "      <td>#50Fathers</td>\n",
       "      <td>United States</td>\n",
       "    </tr>\n",
       "    <tr>\n",
       "      <th>4</th>\n",
       "      <td>#66</td>\n",
       "      <td>Indonesia</td>\n",
       "    </tr>\n",
       "    <tr>\n",
       "      <th>5</th>\n",
       "      <td>#BKKY</td>\n",
       "      <td>Thailand</td>\n",
       "    </tr>\n",
       "  </tbody>\n",
       "</table>\n",
       "</div>"
      ],
      "text/plain": [
       "      primary_title   country_list\n",
       "1  #1 Serial Killer  United States\n",
       "2                #5  United States\n",
       "3        #50Fathers  United States\n",
       "4               #66      Indonesia\n",
       "5             #BKKY       Thailand"
      ]
     },
     "execution_count": 25,
     "metadata": {},
     "output_type": "execute_result"
    }
   ],
   "source": [
    "df_domestic_title_country = df_title_countrylist_count[\n",
    "    df_title_countrylist_count[\n",
    "        'country_count'\n",
    "    ] == 1\n",
    "]\n",
    "\n",
    "df_domestic_title_country = df_domestic_title_country.drop('country_count', axis=1)\n",
    "# Reassigned variable to avoid 'A value is trying to be set on a copy of a slice from a DataFrame.' error.\n",
    "df_domestic_title_country['country_list'] = df_domestic_title_country['country_list'].map(lambda x: ''.join(x))\n",
    "df_domestic_title_country.head()"
   ]
  },
  {
   "cell_type": "markdown",
   "metadata": {},
   "source": [
    "**Great, now we can see all of the domestic movie releases. If we want to, we can also group this dataframe by its country feature and create a list of domestic movies released in each one respectively.**"
   ]
  },
  {
   "cell_type": "code",
   "execution_count": 26,
   "metadata": {
    "ExecuteTime": {
     "end_time": "2020-06-22T16:27:21.938500Z",
     "start_time": "2020-06-22T16:27:21.898599Z"
    },
    "scrolled": true
   },
   "outputs": [
    {
     "data": {
      "text/html": [
       "<div>\n",
       "<style scoped>\n",
       "    .dataframe tbody tr th:only-of-type {\n",
       "        vertical-align: middle;\n",
       "    }\n",
       "\n",
       "    .dataframe tbody tr th {\n",
       "        vertical-align: top;\n",
       "    }\n",
       "\n",
       "    .dataframe thead th {\n",
       "        text-align: right;\n",
       "    }\n",
       "</style>\n",
       "<table border=\"1\" class=\"dataframe\">\n",
       "  <thead>\n",
       "    <tr style=\"text-align: right;\">\n",
       "      <th></th>\n",
       "      <th>country_list</th>\n",
       "      <th>movie_list</th>\n",
       "    </tr>\n",
       "  </thead>\n",
       "  <tbody>\n",
       "    <tr>\n",
       "      <th>0</th>\n",
       "      <td>Afghanistan</td>\n",
       "      <td>[A Man's Desire for Fifth Wife, Afghanistan, A...</td>\n",
       "    </tr>\n",
       "    <tr>\n",
       "      <th>1</th>\n",
       "      <td>Albania</td>\n",
       "      <td>[6 Idiotet, A Shelter Among the Clouds, Albani...</td>\n",
       "    </tr>\n",
       "    <tr>\n",
       "      <th>2</th>\n",
       "      <td>Algeria</td>\n",
       "      <td>[Abd El-Kader, Africa Is Back, Azib Zamoum, a ...</td>\n",
       "    </tr>\n",
       "    <tr>\n",
       "      <th>3</th>\n",
       "      <td>American Samoa</td>\n",
       "      <td>[Pacmakman, Seki A Oe: A Crazy Samoan Love Sto...</td>\n",
       "    </tr>\n",
       "    <tr>\n",
       "      <th>4</th>\n",
       "      <td>Andorra</td>\n",
       "      <td>[73', Impacto]</td>\n",
       "    </tr>\n",
       "  </tbody>\n",
       "</table>\n",
       "</div>"
      ],
      "text/plain": [
       "     country_list                                         movie_list\n",
       "0     Afghanistan  [A Man's Desire for Fifth Wife, Afghanistan, A...\n",
       "1         Albania  [6 Idiotet, A Shelter Among the Clouds, Albani...\n",
       "2         Algeria  [Abd El-Kader, Africa Is Back, Azib Zamoum, a ...\n",
       "3  American Samoa  [Pacmakman, Seki A Oe: A Crazy Samoan Love Sto...\n",
       "4         Andorra                                     [73', Impacto]"
      ]
     },
     "execution_count": 26,
     "metadata": {},
     "output_type": "execute_result"
    }
   ],
   "source": [
    "df_domestic_country_movie_list = df_domestic_title_country.groupby('country_list')['primary_title'].apply(list).reset_index(name='movie_list')\n",
    "df_domestic_country_movie_list.head()"
   ]
  },
  {
   "cell_type": "markdown",
   "metadata": {},
   "source": [
    "**Or we can just see how many domestic movies per country without a list of titles.  We can rearrange this as needed to prepare for a future merge or join with another dataset.**"
   ]
  },
  {
   "cell_type": "code",
   "execution_count": 27,
   "metadata": {
    "ExecuteTime": {
     "end_time": "2020-06-22T16:27:22.411234Z",
     "start_time": "2020-06-22T16:27:22.393283Z"
    }
   },
   "outputs": [
    {
     "data": {
      "text/html": [
       "<div>\n",
       "<style scoped>\n",
       "    .dataframe tbody tr th:only-of-type {\n",
       "        vertical-align: middle;\n",
       "    }\n",
       "\n",
       "    .dataframe tbody tr th {\n",
       "        vertical-align: top;\n",
       "    }\n",
       "\n",
       "    .dataframe thead th {\n",
       "        text-align: right;\n",
       "    }\n",
       "</style>\n",
       "<table border=\"1\" class=\"dataframe\">\n",
       "  <thead>\n",
       "    <tr style=\"text-align: right;\">\n",
       "      <th></th>\n",
       "      <th>movies_per_country</th>\n",
       "    </tr>\n",
       "    <tr>\n",
       "      <th>country_list</th>\n",
       "      <th></th>\n",
       "    </tr>\n",
       "  </thead>\n",
       "  <tbody>\n",
       "    <tr>\n",
       "      <th>Afghanistan</th>\n",
       "      <td>29</td>\n",
       "    </tr>\n",
       "    <tr>\n",
       "      <th>Albania</th>\n",
       "      <td>35</td>\n",
       "    </tr>\n",
       "    <tr>\n",
       "      <th>Algeria</th>\n",
       "      <td>42</td>\n",
       "    </tr>\n",
       "    <tr>\n",
       "      <th>American Samoa</th>\n",
       "      <td>3</td>\n",
       "    </tr>\n",
       "    <tr>\n",
       "      <th>Andorra</th>\n",
       "      <td>2</td>\n",
       "    </tr>\n",
       "  </tbody>\n",
       "</table>\n",
       "</div>"
      ],
      "text/plain": [
       "                movies_per_country\n",
       "country_list                      \n",
       "Afghanistan                     29\n",
       "Albania                         35\n",
       "Algeria                         42\n",
       "American Samoa                   3\n",
       "Andorra                          2"
      ]
     },
     "execution_count": 27,
     "metadata": {},
     "output_type": "execute_result"
    }
   ],
   "source": [
    "df_dom_movies_per_country = df_domestic_title_country\n",
    "df_dom_movies_per_country['movies_per_country'] = 1\n",
    "df_dom_movies_per_country = df_domestic_title_country.groupby('country_list').sum()\n",
    "df_dom_movies_per_country.head()"
   ]
  },
  {
   "cell_type": "markdown",
   "metadata": {},
   "source": [
    "**Now we are going to create out dataframe of international movies, those with more than 1 in their country_count feature.\n",
    "We then reset the index just to make it look nicer, and to lessen any potential merge or join issues later.**"
   ]
  },
  {
   "cell_type": "code",
   "execution_count": 28,
   "metadata": {
    "ExecuteTime": {
     "end_time": "2020-06-22T16:27:22.901922Z",
     "start_time": "2020-06-22T16:27:22.885964Z"
    }
   },
   "outputs": [
    {
     "data": {
      "text/html": [
       "<div>\n",
       "<style scoped>\n",
       "    .dataframe tbody tr th:only-of-type {\n",
       "        vertical-align: middle;\n",
       "    }\n",
       "\n",
       "    .dataframe tbody tr th {\n",
       "        vertical-align: top;\n",
       "    }\n",
       "\n",
       "    .dataframe thead th {\n",
       "        text-align: right;\n",
       "    }\n",
       "</style>\n",
       "<table border=\"1\" class=\"dataframe\">\n",
       "  <thead>\n",
       "    <tr style=\"text-align: right;\">\n",
       "      <th></th>\n",
       "      <th>primary_title</th>\n",
       "      <th>country_list</th>\n",
       "      <th>country_count</th>\n",
       "    </tr>\n",
       "  </thead>\n",
       "  <tbody>\n",
       "    <tr>\n",
       "      <th>0</th>\n",
       "      <td>!Women Art Revolution</td>\n",
       "      <td>[Russian Federation, United States]</td>\n",
       "      <td>2</td>\n",
       "    </tr>\n",
       "    <tr>\n",
       "      <th>1</th>\n",
       "      <td>#Female Pleasure</td>\n",
       "      <td>[Lithuania, Poland, Germany, Switzerland, Spain]</td>\n",
       "      <td>5</td>\n",
       "    </tr>\n",
       "    <tr>\n",
       "      <th>2</th>\n",
       "      <td>#FollowFriday</td>\n",
       "      <td>[United States, France, Brazil]</td>\n",
       "      <td>3</td>\n",
       "    </tr>\n",
       "    <tr>\n",
       "      <th>3</th>\n",
       "      <td>#Horror</td>\n",
       "      <td>[United States, Russian Federation]</td>\n",
       "      <td>2</td>\n",
       "    </tr>\n",
       "    <tr>\n",
       "      <th>4</th>\n",
       "      <td>#REALITYHIGH</td>\n",
       "      <td>[United States, Russian Federation]</td>\n",
       "      <td>2</td>\n",
       "    </tr>\n",
       "  </tbody>\n",
       "</table>\n",
       "</div>"
      ],
      "text/plain": [
       "           primary_title                                      country_list  country_count\n",
       "0  !Women Art Revolution               [Russian Federation, United States]              2\n",
       "1       #Female Pleasure  [Lithuania, Poland, Germany, Switzerland, Spain]              5\n",
       "2          #FollowFriday                   [United States, France, Brazil]              3\n",
       "3                #Horror               [United States, Russian Federation]              2\n",
       "4           #REALITYHIGH               [United States, Russian Federation]              2"
      ]
     },
     "execution_count": 28,
     "metadata": {},
     "output_type": "execute_result"
    }
   ],
   "source": [
    "df_int_title_clist_ccount = df_title_countrylist_count[\n",
    "    df_title_countrylist_count[\n",
    "        'country_count'\n",
    "    ] > 1\n",
    "]\n",
    "\n",
    "df_int_title_clist_ccount = df_int_title_clist_ccount.reset_index().drop('index', axis=1)\n",
    "df_int_title_clist_ccount.head()"
   ]
  },
  {
   "cell_type": "markdown",
   "metadata": {},
   "source": [
    "## Cleaning & Converting - Domestic & International Budgets/Revenues"
   ]
  },
  {
   "cell_type": "markdown",
   "metadata": {},
   "source": [
    "**Let's have a loser look at this dataset and see if anything stands out.**"
   ]
  },
  {
   "cell_type": "code",
   "execution_count": 29,
   "metadata": {
    "ExecuteTime": {
     "end_time": "2020-06-22T16:27:24.283009Z",
     "start_time": "2020-06-22T16:27:24.273030Z"
    },
    "scrolled": false
   },
   "outputs": [
    {
     "name": "stdout",
     "output_type": "stream",
     "text": [
      "<class 'pandas.core.frame.DataFrame'>\n",
      "RangeIndex: 5782 entries, 0 to 5781\n",
      "Data columns (total 6 columns):\n",
      "id                   5782 non-null int64\n",
      "release_date         5782 non-null object\n",
      "movie                5782 non-null object\n",
      "production_budget    5782 non-null object\n",
      "domestic_gross       5782 non-null object\n",
      "worldwide_gross      5782 non-null object\n",
      "dtypes: int64(1), object(5)\n",
      "memory usage: 271.1+ KB\n",
      "None\n"
     ]
    }
   ],
   "source": [
    "print(df_movie_moneys.info())"
   ]
  },
  {
   "cell_type": "code",
   "execution_count": 30,
   "metadata": {
    "ExecuteTime": {
     "end_time": "2020-06-22T16:27:24.905800Z",
     "start_time": "2020-06-22T16:27:24.897822Z"
    },
    "scrolled": true
   },
   "outputs": [
    {
     "data": {
      "text/html": [
       "<div>\n",
       "<style scoped>\n",
       "    .dataframe tbody tr th:only-of-type {\n",
       "        vertical-align: middle;\n",
       "    }\n",
       "\n",
       "    .dataframe tbody tr th {\n",
       "        vertical-align: top;\n",
       "    }\n",
       "\n",
       "    .dataframe thead th {\n",
       "        text-align: right;\n",
       "    }\n",
       "</style>\n",
       "<table border=\"1\" class=\"dataframe\">\n",
       "  <thead>\n",
       "    <tr style=\"text-align: right;\">\n",
       "      <th></th>\n",
       "      <th>id</th>\n",
       "      <th>release_date</th>\n",
       "      <th>movie</th>\n",
       "      <th>production_budget</th>\n",
       "      <th>domestic_gross</th>\n",
       "      <th>worldwide_gross</th>\n",
       "    </tr>\n",
       "  </thead>\n",
       "  <tbody>\n",
       "    <tr>\n",
       "      <th>0</th>\n",
       "      <td>1</td>\n",
       "      <td>Dec 18, 2009</td>\n",
       "      <td>Avatar</td>\n",
       "      <td>$425,000,000</td>\n",
       "      <td>$760,507,625</td>\n",
       "      <td>$2,776,345,279</td>\n",
       "    </tr>\n",
       "    <tr>\n",
       "      <th>1</th>\n",
       "      <td>2</td>\n",
       "      <td>May 20, 2011</td>\n",
       "      <td>Pirates of the Caribbean: On Stranger Tides</td>\n",
       "      <td>$410,600,000</td>\n",
       "      <td>$241,063,875</td>\n",
       "      <td>$1,045,663,875</td>\n",
       "    </tr>\n",
       "    <tr>\n",
       "      <th>2</th>\n",
       "      <td>3</td>\n",
       "      <td>Jun 7, 2019</td>\n",
       "      <td>Dark Phoenix</td>\n",
       "      <td>$350,000,000</td>\n",
       "      <td>$42,762,350</td>\n",
       "      <td>$149,762,350</td>\n",
       "    </tr>\n",
       "    <tr>\n",
       "      <th>3</th>\n",
       "      <td>4</td>\n",
       "      <td>May 1, 2015</td>\n",
       "      <td>Avengers: Age of Ultron</td>\n",
       "      <td>$330,600,000</td>\n",
       "      <td>$459,005,868</td>\n",
       "      <td>$1,403,013,963</td>\n",
       "    </tr>\n",
       "    <tr>\n",
       "      <th>4</th>\n",
       "      <td>5</td>\n",
       "      <td>Dec 15, 2017</td>\n",
       "      <td>Star Wars Ep. VIII: The Last Jedi</td>\n",
       "      <td>$317,000,000</td>\n",
       "      <td>$620,181,382</td>\n",
       "      <td>$1,316,721,747</td>\n",
       "    </tr>\n",
       "  </tbody>\n",
       "</table>\n",
       "</div>"
      ],
      "text/plain": [
       "   id  release_date                                        movie production_budget domestic_gross worldwide_gross\n",
       "0   1  Dec 18, 2009                                       Avatar      $425,000,000   $760,507,625  $2,776,345,279\n",
       "1   2  May 20, 2011  Pirates of the Caribbean: On Stranger Tides      $410,600,000   $241,063,875  $1,045,663,875\n",
       "2   3   Jun 7, 2019                                 Dark Phoenix      $350,000,000    $42,762,350    $149,762,350\n",
       "3   4   May 1, 2015                      Avengers: Age of Ultron      $330,600,000   $459,005,868  $1,403,013,963\n",
       "4   5  Dec 15, 2017            Star Wars Ep. VIII: The Last Jedi      $317,000,000   $620,181,382  $1,316,721,747"
      ]
     },
     "execution_count": 30,
     "metadata": {},
     "output_type": "execute_result"
    }
   ],
   "source": [
    "df_movie_moneys.head()"
   ]
  },
  {
   "cell_type": "markdown",
   "metadata": {},
   "source": [
    "**Let's drop the 'id' column here.**"
   ]
  },
  {
   "cell_type": "code",
   "execution_count": 31,
   "metadata": {
    "ExecuteTime": {
     "end_time": "2020-06-22T16:27:25.468297Z",
     "start_time": "2020-06-22T16:27:25.459322Z"
    }
   },
   "outputs": [
    {
     "data": {
      "text/html": [
       "<div>\n",
       "<style scoped>\n",
       "    .dataframe tbody tr th:only-of-type {\n",
       "        vertical-align: middle;\n",
       "    }\n",
       "\n",
       "    .dataframe tbody tr th {\n",
       "        vertical-align: top;\n",
       "    }\n",
       "\n",
       "    .dataframe thead th {\n",
       "        text-align: right;\n",
       "    }\n",
       "</style>\n",
       "<table border=\"1\" class=\"dataframe\">\n",
       "  <thead>\n",
       "    <tr style=\"text-align: right;\">\n",
       "      <th></th>\n",
       "      <th>release_date</th>\n",
       "      <th>movie</th>\n",
       "      <th>production_budget</th>\n",
       "      <th>domestic_gross</th>\n",
       "      <th>worldwide_gross</th>\n",
       "    </tr>\n",
       "  </thead>\n",
       "  <tbody>\n",
       "    <tr>\n",
       "      <th>0</th>\n",
       "      <td>Dec 18, 2009</td>\n",
       "      <td>Avatar</td>\n",
       "      <td>$425,000,000</td>\n",
       "      <td>$760,507,625</td>\n",
       "      <td>$2,776,345,279</td>\n",
       "    </tr>\n",
       "    <tr>\n",
       "      <th>1</th>\n",
       "      <td>May 20, 2011</td>\n",
       "      <td>Pirates of the Caribbean: On Stranger Tides</td>\n",
       "      <td>$410,600,000</td>\n",
       "      <td>$241,063,875</td>\n",
       "      <td>$1,045,663,875</td>\n",
       "    </tr>\n",
       "    <tr>\n",
       "      <th>2</th>\n",
       "      <td>Jun 7, 2019</td>\n",
       "      <td>Dark Phoenix</td>\n",
       "      <td>$350,000,000</td>\n",
       "      <td>$42,762,350</td>\n",
       "      <td>$149,762,350</td>\n",
       "    </tr>\n",
       "    <tr>\n",
       "      <th>3</th>\n",
       "      <td>May 1, 2015</td>\n",
       "      <td>Avengers: Age of Ultron</td>\n",
       "      <td>$330,600,000</td>\n",
       "      <td>$459,005,868</td>\n",
       "      <td>$1,403,013,963</td>\n",
       "    </tr>\n",
       "    <tr>\n",
       "      <th>4</th>\n",
       "      <td>Dec 15, 2017</td>\n",
       "      <td>Star Wars Ep. VIII: The Last Jedi</td>\n",
       "      <td>$317,000,000</td>\n",
       "      <td>$620,181,382</td>\n",
       "      <td>$1,316,721,747</td>\n",
       "    </tr>\n",
       "  </tbody>\n",
       "</table>\n",
       "</div>"
      ],
      "text/plain": [
       "   release_date                                        movie production_budget domestic_gross worldwide_gross\n",
       "0  Dec 18, 2009                                       Avatar      $425,000,000   $760,507,625  $2,776,345,279\n",
       "1  May 20, 2011  Pirates of the Caribbean: On Stranger Tides      $410,600,000   $241,063,875  $1,045,663,875\n",
       "2   Jun 7, 2019                                 Dark Phoenix      $350,000,000    $42,762,350    $149,762,350\n",
       "3   May 1, 2015                      Avengers: Age of Ultron      $330,600,000   $459,005,868  $1,403,013,963\n",
       "4  Dec 15, 2017            Star Wars Ep. VIII: The Last Jedi      $317,000,000   $620,181,382  $1,316,721,747"
      ]
     },
     "execution_count": 31,
     "metadata": {},
     "output_type": "execute_result"
    }
   ],
   "source": [
    "df_movie_moneys = df_movie_moneys.drop('id', axis=1)\n",
    "df_movie_moneys.head()"
   ]
  },
  {
   "cell_type": "markdown",
   "metadata": {},
   "source": [
    "**Clean and convert the 'production_budget', 'domestic_gross', and 'worldwide_gross' columns from strings to floats using the function created below**"
   ]
  },
  {
   "cell_type": "code",
   "execution_count": 32,
   "metadata": {
    "ExecuteTime": {
     "end_time": "2020-06-22T16:27:26.504837Z",
     "start_time": "2020-06-22T16:27:26.469844Z"
    },
    "scrolled": false
   },
   "outputs": [
    {
     "data": {
      "text/html": [
       "<div>\n",
       "<style scoped>\n",
       "    .dataframe tbody tr th:only-of-type {\n",
       "        vertical-align: middle;\n",
       "    }\n",
       "\n",
       "    .dataframe tbody tr th {\n",
       "        vertical-align: top;\n",
       "    }\n",
       "\n",
       "    .dataframe thead th {\n",
       "        text-align: right;\n",
       "    }\n",
       "</style>\n",
       "<table border=\"1\" class=\"dataframe\">\n",
       "  <thead>\n",
       "    <tr style=\"text-align: right;\">\n",
       "      <th></th>\n",
       "      <th>release_date</th>\n",
       "      <th>movie</th>\n",
       "      <th>production_budget</th>\n",
       "      <th>domestic_gross</th>\n",
       "      <th>worldwide_gross</th>\n",
       "    </tr>\n",
       "  </thead>\n",
       "  <tbody>\n",
       "    <tr>\n",
       "      <th>0</th>\n",
       "      <td>Dec 18, 2009</td>\n",
       "      <td>Avatar</td>\n",
       "      <td>425000000.0</td>\n",
       "      <td>760507625.0</td>\n",
       "      <td>2.776345e+09</td>\n",
       "    </tr>\n",
       "    <tr>\n",
       "      <th>1</th>\n",
       "      <td>May 20, 2011</td>\n",
       "      <td>Pirates of the Caribbean: On Stranger Tides</td>\n",
       "      <td>410600000.0</td>\n",
       "      <td>241063875.0</td>\n",
       "      <td>1.045664e+09</td>\n",
       "    </tr>\n",
       "    <tr>\n",
       "      <th>2</th>\n",
       "      <td>Jun 7, 2019</td>\n",
       "      <td>Dark Phoenix</td>\n",
       "      <td>350000000.0</td>\n",
       "      <td>42762350.0</td>\n",
       "      <td>1.497624e+08</td>\n",
       "    </tr>\n",
       "    <tr>\n",
       "      <th>3</th>\n",
       "      <td>May 1, 2015</td>\n",
       "      <td>Avengers: Age of Ultron</td>\n",
       "      <td>330600000.0</td>\n",
       "      <td>459005868.0</td>\n",
       "      <td>1.403014e+09</td>\n",
       "    </tr>\n",
       "    <tr>\n",
       "      <th>4</th>\n",
       "      <td>Dec 15, 2017</td>\n",
       "      <td>Star Wars Ep. VIII: The Last Jedi</td>\n",
       "      <td>317000000.0</td>\n",
       "      <td>620181382.0</td>\n",
       "      <td>1.316722e+09</td>\n",
       "    </tr>\n",
       "  </tbody>\n",
       "</table>\n",
       "</div>"
      ],
      "text/plain": [
       "   release_date                                        movie  production_budget  domestic_gross  worldwide_gross\n",
       "0  Dec 18, 2009                                       Avatar        425000000.0     760507625.0     2.776345e+09\n",
       "1  May 20, 2011  Pirates of the Caribbean: On Stranger Tides        410600000.0     241063875.0     1.045664e+09\n",
       "2   Jun 7, 2019                                 Dark Phoenix        350000000.0      42762350.0     1.497624e+08\n",
       "3   May 1, 2015                      Avengers: Age of Ultron        330600000.0     459005868.0     1.403014e+09\n",
       "4  Dec 15, 2017            Star Wars Ep. VIII: The Last Jedi        317000000.0     620181382.0     1.316722e+09"
      ]
     },
     "execution_count": 32,
     "metadata": {},
     "output_type": "execute_result"
    }
   ],
   "source": [
    "def string_to_float_converter(value, to_replace=None, new_value='', new_dtype=float):\n",
    "    \n",
    "    '''This function cleans and converts any column of strings with UP TO 3\n",
    "    variables at a time. This function is designed to be mapped along columns\n",
    "    in a Pandas DataFrame and takes in a (value) and the desired string characters\n",
    "    to be replacesd (to_replace). By default, new_value is: '' and new_dtype \n",
    "    is: 'float', though they may be changed as required.\n",
    "    \n",
    "    Returns:\n",
    "    A cleaned and converted value.\n",
    "    \n",
    "    Example: \n",
    "    df['col'].map(lambda x: string_to_float_converter(x, ['$',',','&']))''' \n",
    "    \n",
    "    if type(to_replace) == list:\n",
    "        n = len(to_replace)\n",
    "        if n == 2:\n",
    "            return new_dtype(value.replace(to_replace[0], new_value).replace(to_replace[1], new_value))\n",
    "        if n == 3:\n",
    "            return new_dtype(value.replace(to_replace[0], new_value).replace(to_replace[1], new_value).replace(to_replace[2]))\n",
    "    else:\n",
    "        return new_dtype(value.replace(to_replace, new_value))\n",
    "\n",
    "df_movie_moneys['worldwide_gross'] = df_movie_moneys['worldwide_gross'].map(lambda x: string_to_float_converter(x, to_replace=['$',',']))\n",
    "df_movie_moneys['production_budget'] = df_movie_moneys['production_budget'].map(lambda x: string_to_float_converter(x, to_replace=['$',',']))\n",
    "df_movie_moneys['domestic_gross'] = df_movie_moneys['domestic_gross'].map(lambda x: string_to_float_converter(x, to_replace=['$',',']))\n",
    "\n",
    "df_movie_moneys.head()"
   ]
  },
  {
   "cell_type": "markdown",
   "metadata": {},
   "source": [
    "**Convert the 'release_date' column to pandas datetime objects.**"
   ]
  },
  {
   "cell_type": "code",
   "execution_count": 33,
   "metadata": {
    "ExecuteTime": {
     "end_time": "2020-06-22T16:27:30.109374Z",
     "start_time": "2020-06-22T16:27:29.565784Z"
    },
    "scrolled": true
   },
   "outputs": [
    {
     "data": {
      "text/html": [
       "<div>\n",
       "<style scoped>\n",
       "    .dataframe tbody tr th:only-of-type {\n",
       "        vertical-align: middle;\n",
       "    }\n",
       "\n",
       "    .dataframe tbody tr th {\n",
       "        vertical-align: top;\n",
       "    }\n",
       "\n",
       "    .dataframe thead th {\n",
       "        text-align: right;\n",
       "    }\n",
       "</style>\n",
       "<table border=\"1\" class=\"dataframe\">\n",
       "  <thead>\n",
       "    <tr style=\"text-align: right;\">\n",
       "      <th></th>\n",
       "      <th>release_date</th>\n",
       "      <th>movie</th>\n",
       "      <th>production_budget</th>\n",
       "      <th>domestic_gross</th>\n",
       "      <th>worldwide_gross</th>\n",
       "    </tr>\n",
       "  </thead>\n",
       "  <tbody>\n",
       "    <tr>\n",
       "      <th>0</th>\n",
       "      <td>2009-12-18</td>\n",
       "      <td>Avatar</td>\n",
       "      <td>425000000.0</td>\n",
       "      <td>760507625.0</td>\n",
       "      <td>2.776345e+09</td>\n",
       "    </tr>\n",
       "    <tr>\n",
       "      <th>1</th>\n",
       "      <td>2011-05-20</td>\n",
       "      <td>Pirates of the Caribbean: On Stranger Tides</td>\n",
       "      <td>410600000.0</td>\n",
       "      <td>241063875.0</td>\n",
       "      <td>1.045664e+09</td>\n",
       "    </tr>\n",
       "    <tr>\n",
       "      <th>2</th>\n",
       "      <td>2019-06-07</td>\n",
       "      <td>Dark Phoenix</td>\n",
       "      <td>350000000.0</td>\n",
       "      <td>42762350.0</td>\n",
       "      <td>1.497624e+08</td>\n",
       "    </tr>\n",
       "    <tr>\n",
       "      <th>3</th>\n",
       "      <td>2015-05-01</td>\n",
       "      <td>Avengers: Age of Ultron</td>\n",
       "      <td>330600000.0</td>\n",
       "      <td>459005868.0</td>\n",
       "      <td>1.403014e+09</td>\n",
       "    </tr>\n",
       "    <tr>\n",
       "      <th>4</th>\n",
       "      <td>2017-12-15</td>\n",
       "      <td>Star Wars Ep. VIII: The Last Jedi</td>\n",
       "      <td>317000000.0</td>\n",
       "      <td>620181382.0</td>\n",
       "      <td>1.316722e+09</td>\n",
       "    </tr>\n",
       "  </tbody>\n",
       "</table>\n",
       "</div>"
      ],
      "text/plain": [
       "  release_date                                        movie  production_budget  domestic_gross  worldwide_gross\n",
       "0   2009-12-18                                       Avatar        425000000.0     760507625.0     2.776345e+09\n",
       "1   2011-05-20  Pirates of the Caribbean: On Stranger Tides        410600000.0     241063875.0     1.045664e+09\n",
       "2   2019-06-07                                 Dark Phoenix        350000000.0      42762350.0     1.497624e+08\n",
       "3   2015-05-01                      Avengers: Age of Ultron        330600000.0     459005868.0     1.403014e+09\n",
       "4   2017-12-15            Star Wars Ep. VIII: The Last Jedi        317000000.0     620181382.0     1.316722e+09"
      ]
     },
     "execution_count": 33,
     "metadata": {},
     "output_type": "execute_result"
    }
   ],
   "source": [
    "df_movie_moneys['release_date'] = pd.to_datetime(df_movie_moneys['release_date'])\n",
    "df_movie_moneys.head()"
   ]
  },
  {
   "cell_type": "markdown",
   "metadata": {},
   "source": [
    "**Excellent, now let's have a closer look at our numeric columns.**"
   ]
  },
  {
   "cell_type": "code",
   "execution_count": 34,
   "metadata": {
    "ExecuteTime": {
     "end_time": "2020-06-22T16:27:30.691817Z",
     "start_time": "2020-06-22T16:27:30.672826Z"
    },
    "scrolled": true
   },
   "outputs": [
    {
     "name": "stdout",
     "output_type": "stream",
     "text": [
      "(5782, 5)\n"
     ]
    },
    {
     "data": {
      "text/html": [
       "<div>\n",
       "<style scoped>\n",
       "    .dataframe tbody tr th:only-of-type {\n",
       "        vertical-align: middle;\n",
       "    }\n",
       "\n",
       "    .dataframe tbody tr th {\n",
       "        vertical-align: top;\n",
       "    }\n",
       "\n",
       "    .dataframe thead th {\n",
       "        text-align: right;\n",
       "    }\n",
       "</style>\n",
       "<table border=\"1\" class=\"dataframe\">\n",
       "  <thead>\n",
       "    <tr style=\"text-align: right;\">\n",
       "      <th></th>\n",
       "      <th>production_budget</th>\n",
       "      <th>domestic_gross</th>\n",
       "      <th>worldwide_gross</th>\n",
       "    </tr>\n",
       "  </thead>\n",
       "  <tbody>\n",
       "    <tr>\n",
       "      <th>count</th>\n",
       "      <td>5.782000e+03</td>\n",
       "      <td>5.782000e+03</td>\n",
       "      <td>5.782000e+03</td>\n",
       "    </tr>\n",
       "    <tr>\n",
       "      <th>mean</th>\n",
       "      <td>3.158776e+07</td>\n",
       "      <td>4.187333e+07</td>\n",
       "      <td>9.148746e+07</td>\n",
       "    </tr>\n",
       "    <tr>\n",
       "      <th>std</th>\n",
       "      <td>4.181208e+07</td>\n",
       "      <td>6.824060e+07</td>\n",
       "      <td>1.747200e+08</td>\n",
       "    </tr>\n",
       "    <tr>\n",
       "      <th>min</th>\n",
       "      <td>1.100000e+03</td>\n",
       "      <td>0.000000e+00</td>\n",
       "      <td>0.000000e+00</td>\n",
       "    </tr>\n",
       "    <tr>\n",
       "      <th>25%</th>\n",
       "      <td>5.000000e+06</td>\n",
       "      <td>1.429534e+06</td>\n",
       "      <td>4.125415e+06</td>\n",
       "    </tr>\n",
       "    <tr>\n",
       "      <th>50%</th>\n",
       "      <td>1.700000e+07</td>\n",
       "      <td>1.722594e+07</td>\n",
       "      <td>2.798445e+07</td>\n",
       "    </tr>\n",
       "    <tr>\n",
       "      <th>75%</th>\n",
       "      <td>4.000000e+07</td>\n",
       "      <td>5.234866e+07</td>\n",
       "      <td>9.764584e+07</td>\n",
       "    </tr>\n",
       "    <tr>\n",
       "      <th>max</th>\n",
       "      <td>4.250000e+08</td>\n",
       "      <td>9.366622e+08</td>\n",
       "      <td>2.776345e+09</td>\n",
       "    </tr>\n",
       "  </tbody>\n",
       "</table>\n",
       "</div>"
      ],
      "text/plain": [
       "       production_budget  domestic_gross  worldwide_gross\n",
       "count       5.782000e+03    5.782000e+03     5.782000e+03\n",
       "mean        3.158776e+07    4.187333e+07     9.148746e+07\n",
       "std         4.181208e+07    6.824060e+07     1.747200e+08\n",
       "min         1.100000e+03    0.000000e+00     0.000000e+00\n",
       "25%         5.000000e+06    1.429534e+06     4.125415e+06\n",
       "50%         1.700000e+07    1.722594e+07     2.798445e+07\n",
       "75%         4.000000e+07    5.234866e+07     9.764584e+07\n",
       "max         4.250000e+08    9.366622e+08     2.776345e+09"
      ]
     },
     "execution_count": 34,
     "metadata": {},
     "output_type": "execute_result"
    }
   ],
   "source": [
    "print(df_movie_moneys.shape)\n",
    "df_movie_moneys.describe()"
   ]
  },
  {
   "cell_type": "markdown",
   "metadata": {},
   "source": [
    "**Lots to see here.  The first thing to notice is the 0 values in the 'domestic_gross' and 'worldwide_gross' columns.  Let's have a look at what kinds of movies fit this criteria before we decide how to proceed.**"
   ]
  },
  {
   "cell_type": "code",
   "execution_count": 35,
   "metadata": {
    "ExecuteTime": {
     "end_time": "2020-06-22T16:27:31.206399Z",
     "start_time": "2020-06-22T16:27:31.193434Z"
    }
   },
   "outputs": [
    {
     "name": "stdout",
     "output_type": "stream",
     "text": [
      "(548, 5)\n"
     ]
    },
    {
     "data": {
      "text/html": [
       "<div>\n",
       "<style scoped>\n",
       "    .dataframe tbody tr th:only-of-type {\n",
       "        vertical-align: middle;\n",
       "    }\n",
       "\n",
       "    .dataframe tbody tr th {\n",
       "        vertical-align: top;\n",
       "    }\n",
       "\n",
       "    .dataframe thead th {\n",
       "        text-align: right;\n",
       "    }\n",
       "</style>\n",
       "<table border=\"1\" class=\"dataframe\">\n",
       "  <thead>\n",
       "    <tr style=\"text-align: right;\">\n",
       "      <th></th>\n",
       "      <th>release_date</th>\n",
       "      <th>movie</th>\n",
       "      <th>production_budget</th>\n",
       "      <th>domestic_gross</th>\n",
       "      <th>worldwide_gross</th>\n",
       "    </tr>\n",
       "  </thead>\n",
       "  <tbody>\n",
       "    <tr>\n",
       "      <th>194</th>\n",
       "      <td>2020-12-31</td>\n",
       "      <td>Moonfall</td>\n",
       "      <td>150000000.0</td>\n",
       "      <td>0.0</td>\n",
       "      <td>0.0</td>\n",
       "    </tr>\n",
       "    <tr>\n",
       "      <th>479</th>\n",
       "      <td>2017-12-13</td>\n",
       "      <td>Bright</td>\n",
       "      <td>90000000.0</td>\n",
       "      <td>0.0</td>\n",
       "      <td>0.0</td>\n",
       "    </tr>\n",
       "    <tr>\n",
       "      <th>480</th>\n",
       "      <td>2019-12-31</td>\n",
       "      <td>Army of the Dead</td>\n",
       "      <td>90000000.0</td>\n",
       "      <td>0.0</td>\n",
       "      <td>0.0</td>\n",
       "    </tr>\n",
       "    <tr>\n",
       "      <th>535</th>\n",
       "      <td>2020-02-21</td>\n",
       "      <td>Call of the Wild</td>\n",
       "      <td>82000000.0</td>\n",
       "      <td>0.0</td>\n",
       "      <td>0.0</td>\n",
       "    </tr>\n",
       "    <tr>\n",
       "      <th>617</th>\n",
       "      <td>2012-12-31</td>\n",
       "      <td>AstÃ©rix et ObÃ©lix: Au service de Sa MajestÃ©</td>\n",
       "      <td>77600000.0</td>\n",
       "      <td>0.0</td>\n",
       "      <td>60680125.0</td>\n",
       "    </tr>\n",
       "  </tbody>\n",
       "</table>\n",
       "</div>"
      ],
      "text/plain": [
       "    release_date                                           movie  production_budget  domestic_gross  worldwide_gross\n",
       "194   2020-12-31                                        Moonfall        150000000.0             0.0              0.0\n",
       "479   2017-12-13                                          Bright         90000000.0             0.0              0.0\n",
       "480   2019-12-31                                Army of the Dead         90000000.0             0.0              0.0\n",
       "535   2020-02-21                                Call of the Wild         82000000.0             0.0              0.0\n",
       "617   2012-12-31  AstÃ©rix et ObÃ©lix: Au service de Sa MajestÃ©         77600000.0             0.0       60680125.0"
      ]
     },
     "execution_count": 35,
     "metadata": {},
     "output_type": "execute_result"
    }
   ],
   "source": [
    "print(df_movie_moneys[(df_movie_moneys['worldwide_gross'] == 0)\n",
    "                                  |\n",
    "                                  (df_movie_moneys['domestic_gross'] == 0)].shape)\n",
    "df_movie_moneys[(df_movie_moneys['worldwide_gross'] == 0)\n",
    "                                  |\n",
    "                                  (df_movie_moneys['domestic_gross'] == 0)].head()"
   ]
  },
  {
   "cell_type": "markdown",
   "metadata": {},
   "source": [
    "**If we sort by 'release_date' then we can see that some of these movies have not even been released yet.  Furthermore, there are release dates that have since passed and yet these movies still have no financial information.  Finally we have some examples of movies where they have a 'worldwide_gross' figure, yet no 'domestic_gross' figure.  I can think of no good, or logical reason as to why this may be the case other than error in the data, therefore we will drop these rows.  This constitutes a drop of 10% of our data, though it is likely that most of these movies we did not have country information for either.**"
   ]
  },
  {
   "cell_type": "code",
   "execution_count": 36,
   "metadata": {
    "ExecuteTime": {
     "end_time": "2020-06-22T16:27:32.026324Z",
     "start_time": "2020-06-22T16:27:32.002331Z"
    },
    "scrolled": false
   },
   "outputs": [
    {
     "name": "stdout",
     "output_type": "stream",
     "text": [
      "       production_budget  domestic_gross  worldwide_gross\n",
      "count       5.234000e+03    5.234000e+03     5.234000e+03\n",
      "mean        3.403348e+07    4.625747e+07     1.007615e+08\n",
      "std         4.296048e+07    7.029651e+07     1.811226e+08\n",
      "min         1.100000e+03    3.880000e+02     4.010000e+02\n",
      "25%         6.500000e+06    4.289718e+06     8.142571e+06\n",
      "50%         2.000000e+07    2.198422e+07     3.543844e+07\n",
      "75%         4.500000e+07    5.756598e+07     1.093357e+08\n",
      "max         4.250000e+08    9.366622e+08     2.776345e+09\n",
      "(5234, 5)\n"
     ]
    },
    {
     "data": {
      "text/html": [
       "<div>\n",
       "<style scoped>\n",
       "    .dataframe tbody tr th:only-of-type {\n",
       "        vertical-align: middle;\n",
       "    }\n",
       "\n",
       "    .dataframe tbody tr th {\n",
       "        vertical-align: top;\n",
       "    }\n",
       "\n",
       "    .dataframe thead th {\n",
       "        text-align: right;\n",
       "    }\n",
       "</style>\n",
       "<table border=\"1\" class=\"dataframe\">\n",
       "  <thead>\n",
       "    <tr style=\"text-align: right;\">\n",
       "      <th></th>\n",
       "      <th>release_date</th>\n",
       "      <th>movie</th>\n",
       "      <th>production_budget</th>\n",
       "      <th>domestic_gross</th>\n",
       "      <th>worldwide_gross</th>\n",
       "    </tr>\n",
       "  </thead>\n",
       "  <tbody>\n",
       "    <tr>\n",
       "      <th>0</th>\n",
       "      <td>2009-12-18</td>\n",
       "      <td>Avatar</td>\n",
       "      <td>425000000.0</td>\n",
       "      <td>760507625.0</td>\n",
       "      <td>2.776345e+09</td>\n",
       "    </tr>\n",
       "    <tr>\n",
       "      <th>1</th>\n",
       "      <td>2011-05-20</td>\n",
       "      <td>Pirates of the Caribbean: On Stranger Tides</td>\n",
       "      <td>410600000.0</td>\n",
       "      <td>241063875.0</td>\n",
       "      <td>1.045664e+09</td>\n",
       "    </tr>\n",
       "    <tr>\n",
       "      <th>2</th>\n",
       "      <td>2019-06-07</td>\n",
       "      <td>Dark Phoenix</td>\n",
       "      <td>350000000.0</td>\n",
       "      <td>42762350.0</td>\n",
       "      <td>1.497624e+08</td>\n",
       "    </tr>\n",
       "    <tr>\n",
       "      <th>3</th>\n",
       "      <td>2015-05-01</td>\n",
       "      <td>Avengers: Age of Ultron</td>\n",
       "      <td>330600000.0</td>\n",
       "      <td>459005868.0</td>\n",
       "      <td>1.403014e+09</td>\n",
       "    </tr>\n",
       "    <tr>\n",
       "      <th>4</th>\n",
       "      <td>2017-12-15</td>\n",
       "      <td>Star Wars Ep. VIII: The Last Jedi</td>\n",
       "      <td>317000000.0</td>\n",
       "      <td>620181382.0</td>\n",
       "      <td>1.316722e+09</td>\n",
       "    </tr>\n",
       "  </tbody>\n",
       "</table>\n",
       "</div>"
      ],
      "text/plain": [
       "  release_date                                        movie  production_budget  domestic_gross  worldwide_gross\n",
       "0   2009-12-18                                       Avatar        425000000.0     760507625.0     2.776345e+09\n",
       "1   2011-05-20  Pirates of the Caribbean: On Stranger Tides        410600000.0     241063875.0     1.045664e+09\n",
       "2   2019-06-07                                 Dark Phoenix        350000000.0      42762350.0     1.497624e+08\n",
       "3   2015-05-01                      Avengers: Age of Ultron        330600000.0     459005868.0     1.403014e+09\n",
       "4   2017-12-15            Star Wars Ep. VIII: The Last Jedi        317000000.0     620181382.0     1.316722e+09"
      ]
     },
     "execution_count": 36,
     "metadata": {},
     "output_type": "execute_result"
    }
   ],
   "source": [
    "df_movie_moneys = df_movie_moneys[(df_movie_moneys['worldwide_gross'] != 0)\n",
    "                                  &\n",
    "                                  (df_movie_moneys['domestic_gross'] != 0)]\n",
    "print(df_movie_moneys.describe())\n",
    "print(df_movie_moneys.shape)\n",
    "df_movie_moneys.head()"
   ]
  },
  {
   "cell_type": "markdown",
   "metadata": {},
   "source": [
    "**Finally, lets's change the feature name from 'movie' to 'primary_title' so as to make future merges less stressful!**"
   ]
  },
  {
   "cell_type": "code",
   "execution_count": 38,
   "metadata": {
    "ExecuteTime": {
     "end_time": "2020-06-22T16:27:48.103280Z",
     "start_time": "2020-06-22T16:27:48.043440Z"
    },
    "scrolled": false
   },
   "outputs": [
    {
     "data": {
      "text/html": [
       "<div>\n",
       "<style scoped>\n",
       "    .dataframe tbody tr th:only-of-type {\n",
       "        vertical-align: middle;\n",
       "    }\n",
       "\n",
       "    .dataframe tbody tr th {\n",
       "        vertical-align: top;\n",
       "    }\n",
       "\n",
       "    .dataframe thead th {\n",
       "        text-align: right;\n",
       "    }\n",
       "</style>\n",
       "<table border=\"1\" class=\"dataframe\">\n",
       "  <thead>\n",
       "    <tr style=\"text-align: right;\">\n",
       "      <th></th>\n",
       "      <th>release_date</th>\n",
       "      <th>primary_title</th>\n",
       "      <th>production_budget</th>\n",
       "      <th>domestic_gross</th>\n",
       "      <th>worldwide_gross</th>\n",
       "    </tr>\n",
       "  </thead>\n",
       "  <tbody>\n",
       "    <tr>\n",
       "      <th>0</th>\n",
       "      <td>2009-12-18</td>\n",
       "      <td>Avatar</td>\n",
       "      <td>425000000.0</td>\n",
       "      <td>760507625.0</td>\n",
       "      <td>2.776345e+09</td>\n",
       "    </tr>\n",
       "    <tr>\n",
       "      <th>1</th>\n",
       "      <td>2011-05-20</td>\n",
       "      <td>Pirates of the Caribbean: On Stranger Tides</td>\n",
       "      <td>410600000.0</td>\n",
       "      <td>241063875.0</td>\n",
       "      <td>1.045664e+09</td>\n",
       "    </tr>\n",
       "    <tr>\n",
       "      <th>2</th>\n",
       "      <td>2019-06-07</td>\n",
       "      <td>Dark Phoenix</td>\n",
       "      <td>350000000.0</td>\n",
       "      <td>42762350.0</td>\n",
       "      <td>1.497624e+08</td>\n",
       "    </tr>\n",
       "    <tr>\n",
       "      <th>3</th>\n",
       "      <td>2015-05-01</td>\n",
       "      <td>Avengers: Age of Ultron</td>\n",
       "      <td>330600000.0</td>\n",
       "      <td>459005868.0</td>\n",
       "      <td>1.403014e+09</td>\n",
       "    </tr>\n",
       "    <tr>\n",
       "      <th>4</th>\n",
       "      <td>2017-12-15</td>\n",
       "      <td>Star Wars Ep. VIII: The Last Jedi</td>\n",
       "      <td>317000000.0</td>\n",
       "      <td>620181382.0</td>\n",
       "      <td>1.316722e+09</td>\n",
       "    </tr>\n",
       "  </tbody>\n",
       "</table>\n",
       "</div>"
      ],
      "text/plain": [
       "  release_date                                primary_title  production_budget  domestic_gross  worldwide_gross\n",
       "0   2009-12-18                                       Avatar        425000000.0     760507625.0     2.776345e+09\n",
       "1   2011-05-20  Pirates of the Caribbean: On Stranger Tides        410600000.0     241063875.0     1.045664e+09\n",
       "2   2019-06-07                                 Dark Phoenix        350000000.0      42762350.0     1.497624e+08\n",
       "3   2015-05-01                      Avengers: Age of Ultron        330600000.0     459005868.0     1.403014e+09\n",
       "4   2017-12-15            Star Wars Ep. VIII: The Last Jedi        317000000.0     620181382.0     1.316722e+09"
      ]
     },
     "execution_count": 38,
     "metadata": {},
     "output_type": "execute_result"
    }
   ],
   "source": [
    "df_movie_moneys = df_movie_moneys.rename(columns={'movie':'primary_title'})\n",
    "df_movie_moneys.to_csv(r'C:\\Users\\tcast\\Data Science Program\\Module 1\\Mod 1 Project - Movie Analysis\\Movie_Analysis\\Group Question 1\\CLEAN-BOM_budget_revenues.csv')\n",
    "df_movie_moneys.head()"
   ]
  },
  {
   "cell_type": "markdown",
   "metadata": {},
   "source": [
    "**We have left the rest of the outlier data in for now so that we can have a better look at the data through EDA before determining the best method of dealing with them.**"
   ]
  },
  {
   "cell_type": "markdown",
   "metadata": {},
   "source": [
    "# Exploration, Feature Engineering, and Visualizations"
   ]
  },
  {
   "cell_type": "markdown",
   "metadata": {},
   "source": [
    "## Bringing the data together"
   ]
  },
  {
   "cell_type": "markdown",
   "metadata": {},
   "source": [
    "**The first step in our Data Exploration & Feature Engineering Phase will be to bring our data together and start to have a look at what stands out.**"
   ]
  },
  {
   "cell_type": "code",
   "execution_count": 39,
   "metadata": {
    "ExecuteTime": {
     "end_time": "2020-06-22T16:27:50.509274Z",
     "start_time": "2020-06-22T16:27:50.479383Z"
    },
    "scrolled": true
   },
   "outputs": [
    {
     "name": "stdout",
     "output_type": "stream",
     "text": [
      "(1760, 7)\n"
     ]
    },
    {
     "data": {
      "text/html": [
       "<div>\n",
       "<style scoped>\n",
       "    .dataframe tbody tr th:only-of-type {\n",
       "        vertical-align: middle;\n",
       "    }\n",
       "\n",
       "    .dataframe tbody tr th {\n",
       "        vertical-align: top;\n",
       "    }\n",
       "\n",
       "    .dataframe thead th {\n",
       "        text-align: right;\n",
       "    }\n",
       "</style>\n",
       "<table border=\"1\" class=\"dataframe\">\n",
       "  <thead>\n",
       "    <tr style=\"text-align: right;\">\n",
       "      <th></th>\n",
       "      <th>release_date</th>\n",
       "      <th>primary_title</th>\n",
       "      <th>production_budget</th>\n",
       "      <th>domestic_gross</th>\n",
       "      <th>worldwide_gross</th>\n",
       "      <th>country_list</th>\n",
       "      <th>country_count</th>\n",
       "    </tr>\n",
       "  </thead>\n",
       "  <tbody>\n",
       "    <tr>\n",
       "      <th>0</th>\n",
       "      <td>2011-05-20</td>\n",
       "      <td>Pirates of the Caribbean: On Stranger Tides</td>\n",
       "      <td>410600000.0</td>\n",
       "      <td>241063875.0</td>\n",
       "      <td>1.045664e+09</td>\n",
       "      <td>[Japan, Sweden, Peru, Ukraine, United States, ...</td>\n",
       "      <td>39</td>\n",
       "    </tr>\n",
       "    <tr>\n",
       "      <th>1</th>\n",
       "      <td>2019-06-07</td>\n",
       "      <td>Dark Phoenix</td>\n",
       "      <td>350000000.0</td>\n",
       "      <td>42762350.0</td>\n",
       "      <td>1.497624e+08</td>\n",
       "      <td>[France, Mexico, Italy, Poland, Hungary, Portu...</td>\n",
       "      <td>32</td>\n",
       "    </tr>\n",
       "    <tr>\n",
       "      <th>2</th>\n",
       "      <td>2015-05-01</td>\n",
       "      <td>Avengers: Age of Ultron</td>\n",
       "      <td>330600000.0</td>\n",
       "      <td>459005868.0</td>\n",
       "      <td>1.403014e+09</td>\n",
       "      <td>[Azerbaijan, Peru, United States, Israel, Mexi...</td>\n",
       "      <td>34</td>\n",
       "    </tr>\n",
       "    <tr>\n",
       "      <th>3</th>\n",
       "      <td>2018-04-27</td>\n",
       "      <td>Avengers: Infinity War</td>\n",
       "      <td>300000000.0</td>\n",
       "      <td>678815482.0</td>\n",
       "      <td>2.048134e+09</td>\n",
       "      <td>[Argentina, Spain, Serbia, United States, Czec...</td>\n",
       "      <td>31</td>\n",
       "    </tr>\n",
       "    <tr>\n",
       "      <th>4</th>\n",
       "      <td>2017-11-17</td>\n",
       "      <td>Justice League</td>\n",
       "      <td>300000000.0</td>\n",
       "      <td>229024295.0</td>\n",
       "      <td>6.559452e+08</td>\n",
       "      <td>[Serbia, Argentina, United States, Hungary, Vi...</td>\n",
       "      <td>29</td>\n",
       "    </tr>\n",
       "  </tbody>\n",
       "</table>\n",
       "</div>"
      ],
      "text/plain": [
       "  release_date                                primary_title  production_budget  domestic_gross  worldwide_gross                                       country_list  country_count\n",
       "0   2011-05-20  Pirates of the Caribbean: On Stranger Tides        410600000.0     241063875.0     1.045664e+09  [Japan, Sweden, Peru, Ukraine, United States, ...             39\n",
       "1   2019-06-07                                 Dark Phoenix        350000000.0      42762350.0     1.497624e+08  [France, Mexico, Italy, Poland, Hungary, Portu...             32\n",
       "2   2015-05-01                      Avengers: Age of Ultron        330600000.0     459005868.0     1.403014e+09  [Azerbaijan, Peru, United States, Israel, Mexi...             34\n",
       "3   2018-04-27                       Avengers: Infinity War        300000000.0     678815482.0     2.048134e+09  [Argentina, Spain, Serbia, United States, Czec...             31\n",
       "4   2017-11-17                               Justice League        300000000.0     229024295.0     6.559452e+08  [Serbia, Argentina, United States, Hungary, Vi...             29"
      ]
     },
     "execution_count": 39,
     "metadata": {},
     "output_type": "execute_result"
    }
   ],
   "source": [
    "df_int_movies_analysis_inner = df_movie_moneys.merge(df_int_title_clist_ccount, on='primary_title')\n",
    "print(df_int_movies_analysis_inner.shape)\n",
    "df_int_movies_analysis_inner.head()"
   ]
  },
  {
   "cell_type": "markdown",
   "metadata": {},
   "source": [
    "## Feature Engineering - Adding more metrics"
   ]
  },
  {
   "cell_type": "markdown",
   "metadata": {},
   "source": [
    "### Foreign Gross, Net Revenue, and Return on Investment"
   ]
  },
  {
   "cell_type": "markdown",
   "metadata": {},
   "source": [
    "**Great! We are now down to our ~1800 rows.  This is less than half of the original 'bom_movies_gross' data set but we now have a lot more accurate information about each movie.  Before we look at any relationships, let's add a few more important features to this dataset.  Our question is surrounding profitability so it makes sense to add in features related to that measurement.  Let's add a foreign_gross', 'net_revenue', and 'return_on_investment' each to this dataset.**"
   ]
  },
  {
   "cell_type": "code",
   "execution_count": 40,
   "metadata": {
    "ExecuteTime": {
     "end_time": "2020-06-22T16:27:51.633674Z",
     "start_time": "2020-06-22T16:27:51.615128Z"
    },
    "scrolled": false
   },
   "outputs": [
    {
     "data": {
      "text/html": [
       "<div>\n",
       "<style scoped>\n",
       "    .dataframe tbody tr th:only-of-type {\n",
       "        vertical-align: middle;\n",
       "    }\n",
       "\n",
       "    .dataframe tbody tr th {\n",
       "        vertical-align: top;\n",
       "    }\n",
       "\n",
       "    .dataframe thead th {\n",
       "        text-align: right;\n",
       "    }\n",
       "</style>\n",
       "<table border=\"1\" class=\"dataframe\">\n",
       "  <thead>\n",
       "    <tr style=\"text-align: right;\">\n",
       "      <th></th>\n",
       "      <th>release_date</th>\n",
       "      <th>primary_title</th>\n",
       "      <th>production_budget</th>\n",
       "      <th>domestic_gross</th>\n",
       "      <th>worldwide_gross</th>\n",
       "      <th>country_list</th>\n",
       "      <th>country_count</th>\n",
       "      <th>foreign_gross</th>\n",
       "      <th>net_revenue</th>\n",
       "      <th>return_on_investment</th>\n",
       "    </tr>\n",
       "  </thead>\n",
       "  <tbody>\n",
       "    <tr>\n",
       "      <th>0</th>\n",
       "      <td>2011-05-20</td>\n",
       "      <td>Pirates of the Caribbean: On Stranger Tides</td>\n",
       "      <td>410600000.0</td>\n",
       "      <td>241063875.0</td>\n",
       "      <td>1.045664e+09</td>\n",
       "      <td>[Japan, Sweden, Peru, Ukraine, United States, ...</td>\n",
       "      <td>39</td>\n",
       "      <td>8.046000e+08</td>\n",
       "      <td>6.350639e+08</td>\n",
       "      <td>1.546673</td>\n",
       "    </tr>\n",
       "    <tr>\n",
       "      <th>1</th>\n",
       "      <td>2019-06-07</td>\n",
       "      <td>Dark Phoenix</td>\n",
       "      <td>350000000.0</td>\n",
       "      <td>42762350.0</td>\n",
       "      <td>1.497624e+08</td>\n",
       "      <td>[France, Mexico, Italy, Poland, Hungary, Portu...</td>\n",
       "      <td>32</td>\n",
       "      <td>1.070000e+08</td>\n",
       "      <td>-2.002376e+08</td>\n",
       "      <td>-0.572108</td>\n",
       "    </tr>\n",
       "    <tr>\n",
       "      <th>2</th>\n",
       "      <td>2015-05-01</td>\n",
       "      <td>Avengers: Age of Ultron</td>\n",
       "      <td>330600000.0</td>\n",
       "      <td>459005868.0</td>\n",
       "      <td>1.403014e+09</td>\n",
       "      <td>[Azerbaijan, Peru, United States, Israel, Mexi...</td>\n",
       "      <td>34</td>\n",
       "      <td>9.440081e+08</td>\n",
       "      <td>1.072414e+09</td>\n",
       "      <td>3.243841</td>\n",
       "    </tr>\n",
       "    <tr>\n",
       "      <th>3</th>\n",
       "      <td>2018-04-27</td>\n",
       "      <td>Avengers: Infinity War</td>\n",
       "      <td>300000000.0</td>\n",
       "      <td>678815482.0</td>\n",
       "      <td>2.048134e+09</td>\n",
       "      <td>[Argentina, Spain, Serbia, United States, Czec...</td>\n",
       "      <td>31</td>\n",
       "      <td>1.369319e+09</td>\n",
       "      <td>1.748134e+09</td>\n",
       "      <td>5.827114</td>\n",
       "    </tr>\n",
       "    <tr>\n",
       "      <th>4</th>\n",
       "      <td>2017-11-17</td>\n",
       "      <td>Justice League</td>\n",
       "      <td>300000000.0</td>\n",
       "      <td>229024295.0</td>\n",
       "      <td>6.559452e+08</td>\n",
       "      <td>[Serbia, Argentina, United States, Hungary, Vi...</td>\n",
       "      <td>29</td>\n",
       "      <td>4.269209e+08</td>\n",
       "      <td>3.559452e+08</td>\n",
       "      <td>1.186484</td>\n",
       "    </tr>\n",
       "  </tbody>\n",
       "</table>\n",
       "</div>"
      ],
      "text/plain": [
       "  release_date                                primary_title  production_budget  domestic_gross  worldwide_gross                                       country_list  country_count  foreign_gross   net_revenue  return_on_investment\n",
       "0   2011-05-20  Pirates of the Caribbean: On Stranger Tides        410600000.0     241063875.0     1.045664e+09  [Japan, Sweden, Peru, Ukraine, United States, ...             39   8.046000e+08  6.350639e+08              1.546673\n",
       "1   2019-06-07                                 Dark Phoenix        350000000.0      42762350.0     1.497624e+08  [France, Mexico, Italy, Poland, Hungary, Portu...             32   1.070000e+08 -2.002376e+08             -0.572108\n",
       "2   2015-05-01                      Avengers: Age of Ultron        330600000.0     459005868.0     1.403014e+09  [Azerbaijan, Peru, United States, Israel, Mexi...             34   9.440081e+08  1.072414e+09              3.243841\n",
       "3   2018-04-27                       Avengers: Infinity War        300000000.0     678815482.0     2.048134e+09  [Argentina, Spain, Serbia, United States, Czec...             31   1.369319e+09  1.748134e+09              5.827114\n",
       "4   2017-11-17                               Justice League        300000000.0     229024295.0     6.559452e+08  [Serbia, Argentina, United States, Hungary, Vi...             29   4.269209e+08  3.559452e+08              1.186484"
      ]
     },
     "execution_count": 40,
     "metadata": {},
     "output_type": "execute_result"
    }
   ],
   "source": [
    "df_int_movies_analysis_inner['foreign_gross'] = df_int_movies_analysis_inner[\n",
    "    'worldwide_gross'] - df_int_movies_analysis_inner['domestic_gross']\n",
    "\n",
    "df_int_movies_analysis_inner['net_revenue'] = df_int_movies_analysis_inner[\n",
    "    'worldwide_gross'] - df_int_movies_analysis_inner['production_budget']\n",
    "\n",
    "df_int_movies_analysis_inner['return_on_investment'] = (\n",
    "    (df_int_movies_analysis_inner[\n",
    "        'worldwide_gross'] - df_int_movies_analysis_inner[\n",
    "        'production_budget'])/df_int_movies_analysis_inner[\n",
    "        'production_budget'])\n",
    "\n",
    "df_int_movies_analysis_inner.head()"
   ]
  },
  {
   "cell_type": "markdown",
   "metadata": {},
   "source": [
    "### Add profit/loss feature"
   ]
  },
  {
   "cell_type": "code",
   "execution_count": 41,
   "metadata": {
    "ExecuteTime": {
     "end_time": "2020-06-22T16:27:52.542604Z",
     "start_time": "2020-06-22T16:27:52.526646Z"
    }
   },
   "outputs": [
    {
     "data": {
      "text/html": [
       "<div>\n",
       "<style scoped>\n",
       "    .dataframe tbody tr th:only-of-type {\n",
       "        vertical-align: middle;\n",
       "    }\n",
       "\n",
       "    .dataframe tbody tr th {\n",
       "        vertical-align: top;\n",
       "    }\n",
       "\n",
       "    .dataframe thead th {\n",
       "        text-align: right;\n",
       "    }\n",
       "</style>\n",
       "<table border=\"1\" class=\"dataframe\">\n",
       "  <thead>\n",
       "    <tr style=\"text-align: right;\">\n",
       "      <th></th>\n",
       "      <th>release_date</th>\n",
       "      <th>primary_title</th>\n",
       "      <th>production_budget</th>\n",
       "      <th>domestic_gross</th>\n",
       "      <th>worldwide_gross</th>\n",
       "      <th>country_list</th>\n",
       "      <th>country_count</th>\n",
       "      <th>foreign_gross</th>\n",
       "      <th>net_revenue</th>\n",
       "      <th>return_on_investment</th>\n",
       "      <th>profit/loss</th>\n",
       "    </tr>\n",
       "  </thead>\n",
       "  <tbody>\n",
       "    <tr>\n",
       "      <th>0</th>\n",
       "      <td>2011-05-20</td>\n",
       "      <td>Pirates of the Caribbean: On Stranger Tides</td>\n",
       "      <td>410600000.0</td>\n",
       "      <td>241063875.0</td>\n",
       "      <td>1.045664e+09</td>\n",
       "      <td>[Japan, Sweden, Peru, Ukraine, United States, ...</td>\n",
       "      <td>39</td>\n",
       "      <td>8.046000e+08</td>\n",
       "      <td>6.350639e+08</td>\n",
       "      <td>1.546673</td>\n",
       "      <td>profit</td>\n",
       "    </tr>\n",
       "    <tr>\n",
       "      <th>1</th>\n",
       "      <td>2019-06-07</td>\n",
       "      <td>Dark Phoenix</td>\n",
       "      <td>350000000.0</td>\n",
       "      <td>42762350.0</td>\n",
       "      <td>1.497624e+08</td>\n",
       "      <td>[France, Mexico, Italy, Poland, Hungary, Portu...</td>\n",
       "      <td>32</td>\n",
       "      <td>1.070000e+08</td>\n",
       "      <td>-2.002376e+08</td>\n",
       "      <td>-0.572108</td>\n",
       "      <td>loss</td>\n",
       "    </tr>\n",
       "    <tr>\n",
       "      <th>2</th>\n",
       "      <td>2015-05-01</td>\n",
       "      <td>Avengers: Age of Ultron</td>\n",
       "      <td>330600000.0</td>\n",
       "      <td>459005868.0</td>\n",
       "      <td>1.403014e+09</td>\n",
       "      <td>[Azerbaijan, Peru, United States, Israel, Mexi...</td>\n",
       "      <td>34</td>\n",
       "      <td>9.440081e+08</td>\n",
       "      <td>1.072414e+09</td>\n",
       "      <td>3.243841</td>\n",
       "      <td>profit</td>\n",
       "    </tr>\n",
       "    <tr>\n",
       "      <th>3</th>\n",
       "      <td>2018-04-27</td>\n",
       "      <td>Avengers: Infinity War</td>\n",
       "      <td>300000000.0</td>\n",
       "      <td>678815482.0</td>\n",
       "      <td>2.048134e+09</td>\n",
       "      <td>[Argentina, Spain, Serbia, United States, Czec...</td>\n",
       "      <td>31</td>\n",
       "      <td>1.369319e+09</td>\n",
       "      <td>1.748134e+09</td>\n",
       "      <td>5.827114</td>\n",
       "      <td>profit</td>\n",
       "    </tr>\n",
       "    <tr>\n",
       "      <th>4</th>\n",
       "      <td>2017-11-17</td>\n",
       "      <td>Justice League</td>\n",
       "      <td>300000000.0</td>\n",
       "      <td>229024295.0</td>\n",
       "      <td>6.559452e+08</td>\n",
       "      <td>[Serbia, Argentina, United States, Hungary, Vi...</td>\n",
       "      <td>29</td>\n",
       "      <td>4.269209e+08</td>\n",
       "      <td>3.559452e+08</td>\n",
       "      <td>1.186484</td>\n",
       "      <td>profit</td>\n",
       "    </tr>\n",
       "  </tbody>\n",
       "</table>\n",
       "</div>"
      ],
      "text/plain": [
       "  release_date                                primary_title  production_budget  domestic_gross  worldwide_gross                                       country_list  country_count  foreign_gross   net_revenue  return_on_investment profit/loss\n",
       "0   2011-05-20  Pirates of the Caribbean: On Stranger Tides        410600000.0     241063875.0     1.045664e+09  [Japan, Sweden, Peru, Ukraine, United States, ...             39   8.046000e+08  6.350639e+08              1.546673      profit\n",
       "1   2019-06-07                                 Dark Phoenix        350000000.0      42762350.0     1.497624e+08  [France, Mexico, Italy, Poland, Hungary, Portu...             32   1.070000e+08 -2.002376e+08             -0.572108        loss\n",
       "2   2015-05-01                      Avengers: Age of Ultron        330600000.0     459005868.0     1.403014e+09  [Azerbaijan, Peru, United States, Israel, Mexi...             34   9.440081e+08  1.072414e+09              3.243841      profit\n",
       "3   2018-04-27                       Avengers: Infinity War        300000000.0     678815482.0     2.048134e+09  [Argentina, Spain, Serbia, United States, Czec...             31   1.369319e+09  1.748134e+09              5.827114      profit\n",
       "4   2017-11-17                               Justice League        300000000.0     229024295.0     6.559452e+08  [Serbia, Argentina, United States, Hungary, Vi...             29   4.269209e+08  3.559452e+08              1.186484      profit"
      ]
     },
     "execution_count": 41,
     "metadata": {},
     "output_type": "execute_result"
    }
   ],
   "source": [
    "def profit_loss_function(ROI):\n",
    "    \n",
    "    '''This function takes in an ROI and determins if it value constitues a \n",
    "    profit or a loss on a particular investment.\n",
    "    \n",
    "    Returns:\n",
    "    str 'profit' or 'loss'\n",
    "    \n",
    "    Eg:\n",
    "    INPUT:\n",
    "    profit_loss_function(1.5)\n",
    "    \n",
    "    OUTPUT:\n",
    "    'profit'\n",
    "    '''\n",
    "    \n",
    "    if ROI == 0:\n",
    "        x = 'break-even'\n",
    "    if ROI > 0:\n",
    "        x = 'profit'\n",
    "    else:\n",
    "        x = 'loss'\n",
    "    return x\n",
    "        \n",
    "df_int_movies_analysis_inner['profit/loss'] = df_int_movies_analysis_inner['return_on_investment'].map(lambda x: profit_loss_function(x))\n",
    "df_int_movies_analysis_inner.head()"
   ]
  },
  {
   "cell_type": "markdown",
   "metadata": {},
   "source": [
    "### Category Feature - Country Bins"
   ]
  },
  {
   "cell_type": "code",
   "execution_count": 42,
   "metadata": {
    "ExecuteTime": {
     "end_time": "2020-06-22T16:27:55.985230Z",
     "start_time": "2020-06-22T16:27:55.968233Z"
    }
   },
   "outputs": [
    {
     "data": {
      "text/html": [
       "<div>\n",
       "<style scoped>\n",
       "    .dataframe tbody tr th:only-of-type {\n",
       "        vertical-align: middle;\n",
       "    }\n",
       "\n",
       "    .dataframe tbody tr th {\n",
       "        vertical-align: top;\n",
       "    }\n",
       "\n",
       "    .dataframe thead th {\n",
       "        text-align: right;\n",
       "    }\n",
       "</style>\n",
       "<table border=\"1\" class=\"dataframe\">\n",
       "  <thead>\n",
       "    <tr style=\"text-align: right;\">\n",
       "      <th></th>\n",
       "      <th>release_date</th>\n",
       "      <th>primary_title</th>\n",
       "      <th>production_budget</th>\n",
       "      <th>domestic_gross</th>\n",
       "      <th>worldwide_gross</th>\n",
       "      <th>country_list</th>\n",
       "      <th>country_count</th>\n",
       "      <th>foreign_gross</th>\n",
       "      <th>net_revenue</th>\n",
       "      <th>return_on_investment</th>\n",
       "      <th>profit/loss</th>\n",
       "      <th>country_count_category</th>\n",
       "    </tr>\n",
       "  </thead>\n",
       "  <tbody>\n",
       "    <tr>\n",
       "      <th>0</th>\n",
       "      <td>2011-05-20</td>\n",
       "      <td>Pirates of the Caribbean: On Stranger Tides</td>\n",
       "      <td>410600000.0</td>\n",
       "      <td>241063875.0</td>\n",
       "      <td>1.045664e+09</td>\n",
       "      <td>[Japan, Sweden, Peru, Ukraine, United States, ...</td>\n",
       "      <td>39</td>\n",
       "      <td>8.046000e+08</td>\n",
       "      <td>6.350639e+08</td>\n",
       "      <td>1.546673</td>\n",
       "      <td>profit</td>\n",
       "      <td>31 - 40</td>\n",
       "    </tr>\n",
       "    <tr>\n",
       "      <th>1</th>\n",
       "      <td>2019-06-07</td>\n",
       "      <td>Dark Phoenix</td>\n",
       "      <td>350000000.0</td>\n",
       "      <td>42762350.0</td>\n",
       "      <td>1.497624e+08</td>\n",
       "      <td>[France, Mexico, Italy, Poland, Hungary, Portu...</td>\n",
       "      <td>32</td>\n",
       "      <td>1.070000e+08</td>\n",
       "      <td>-2.002376e+08</td>\n",
       "      <td>-0.572108</td>\n",
       "      <td>loss</td>\n",
       "      <td>31 - 40</td>\n",
       "    </tr>\n",
       "    <tr>\n",
       "      <th>2</th>\n",
       "      <td>2015-05-01</td>\n",
       "      <td>Avengers: Age of Ultron</td>\n",
       "      <td>330600000.0</td>\n",
       "      <td>459005868.0</td>\n",
       "      <td>1.403014e+09</td>\n",
       "      <td>[Azerbaijan, Peru, United States, Israel, Mexi...</td>\n",
       "      <td>34</td>\n",
       "      <td>9.440081e+08</td>\n",
       "      <td>1.072414e+09</td>\n",
       "      <td>3.243841</td>\n",
       "      <td>profit</td>\n",
       "      <td>31 - 40</td>\n",
       "    </tr>\n",
       "    <tr>\n",
       "      <th>3</th>\n",
       "      <td>2018-04-27</td>\n",
       "      <td>Avengers: Infinity War</td>\n",
       "      <td>300000000.0</td>\n",
       "      <td>678815482.0</td>\n",
       "      <td>2.048134e+09</td>\n",
       "      <td>[Argentina, Spain, Serbia, United States, Czec...</td>\n",
       "      <td>31</td>\n",
       "      <td>1.369319e+09</td>\n",
       "      <td>1.748134e+09</td>\n",
       "      <td>5.827114</td>\n",
       "      <td>profit</td>\n",
       "      <td>31 - 40</td>\n",
       "    </tr>\n",
       "    <tr>\n",
       "      <th>4</th>\n",
       "      <td>2017-11-17</td>\n",
       "      <td>Justice League</td>\n",
       "      <td>300000000.0</td>\n",
       "      <td>229024295.0</td>\n",
       "      <td>6.559452e+08</td>\n",
       "      <td>[Serbia, Argentina, United States, Hungary, Vi...</td>\n",
       "      <td>29</td>\n",
       "      <td>4.269209e+08</td>\n",
       "      <td>3.559452e+08</td>\n",
       "      <td>1.186484</td>\n",
       "      <td>profit</td>\n",
       "      <td>21 - 30</td>\n",
       "    </tr>\n",
       "  </tbody>\n",
       "</table>\n",
       "</div>"
      ],
      "text/plain": [
       "  release_date                                primary_title  production_budget  domestic_gross  worldwide_gross                                       country_list  country_count  foreign_gross   net_revenue  return_on_investment profit/loss country_count_category\n",
       "0   2011-05-20  Pirates of the Caribbean: On Stranger Tides        410600000.0     241063875.0     1.045664e+09  [Japan, Sweden, Peru, Ukraine, United States, ...             39   8.046000e+08  6.350639e+08              1.546673      profit                31 - 40\n",
       "1   2019-06-07                                 Dark Phoenix        350000000.0      42762350.0     1.497624e+08  [France, Mexico, Italy, Poland, Hungary, Portu...             32   1.070000e+08 -2.002376e+08             -0.572108        loss                31 - 40\n",
       "2   2015-05-01                      Avengers: Age of Ultron        330600000.0     459005868.0     1.403014e+09  [Azerbaijan, Peru, United States, Israel, Mexi...             34   9.440081e+08  1.072414e+09              3.243841      profit                31 - 40\n",
       "3   2018-04-27                       Avengers: Infinity War        300000000.0     678815482.0     2.048134e+09  [Argentina, Spain, Serbia, United States, Czec...             31   1.369319e+09  1.748134e+09              5.827114      profit                31 - 40\n",
       "4   2017-11-17                               Justice League        300000000.0     229024295.0     6.559452e+08  [Serbia, Argentina, United States, Hungary, Vi...             29   4.269209e+08  3.559452e+08              1.186484      profit                21 - 30"
      ]
     },
     "execution_count": 42,
     "metadata": {},
     "output_type": "execute_result"
    }
   ],
   "source": [
    "def country_count_category(value):\n",
    "    '''This function is meant to be mapped along a DataFrame series.  It is \n",
    "    specifically meant to take in a country_count value from a dataframe and \n",
    "    assigns it to the appropriate category.  These categories can be \n",
    "    manipulated as needed, see the commented out potential changes below.\n",
    "    \n",
    "    Returns:\n",
    "    Assigned categorical value\n",
    "    \n",
    "    Example:\n",
    "    df['country_count'].map(lambda x: country_count_category(x))'''\n",
    "    \n",
    "    if value <=10:\n",
    "        value = '2 - 10'\n",
    "    elif value > 10 and value <= 20:\n",
    "        value = '11 - 20'\n",
    "    elif value > 20 and value <= 30:\n",
    "        value = '21 - 30'\n",
    "    elif value > 30 and value <= 40:\n",
    "        value = '31 - 40'\n",
    "    else: \n",
    "#         value > 40 and value <= 50:\n",
    "        value = '41 +'\n",
    "#     elif value > 50 and value <= 60:\n",
    "#         value = '51 - 60'\n",
    "#     else: \n",
    "#         value = '61 +'\n",
    "    return value\n",
    "    \n",
    "df_int_movies_analysis_inner['country_count_category'] = df_int_movies_analysis_inner['country_count'].map(lambda x: country_count_category(x))\n",
    "df_int_movies_analysis_inner.head()"
   ]
  },
  {
   "cell_type": "markdown",
   "metadata": {},
   "source": [
    "  **That was easy! Now that we have the features that we would liketo see, let's start out with Seaborn's .pairplot and see what kinds of relationships exist.** "
   ]
  },
  {
   "cell_type": "markdown",
   "metadata": {},
   "source": [
    "## Pairplot - Initial Visualization"
   ]
  },
  {
   "cell_type": "code",
   "execution_count": 43,
   "metadata": {
    "ExecuteTime": {
     "end_time": "2020-06-22T16:28:08.557410Z",
     "start_time": "2020-06-22T16:27:56.774325Z"
    },
    "scrolled": false
   },
   "outputs": [
    {
     "name": "stderr",
     "output_type": "stream",
     "text": [
      "C:\\Users\\tcast\\anaconda3\\envs\\learn-env\\lib\\site-packages\\scipy\\stats\\stats.py:1713: FutureWarning: Using a non-tuple sequence for multidimensional indexing is deprecated; use `arr[tuple(seq)]` instead of `arr[seq]`. In the future this will be interpreted as an array index, `arr[np.array(seq)]`, which will result either in an error or a different result.\n",
      "  return np.add.reduce(sorted[indexer] * weights, axis=axis) / sumval\n"
     ]
    },
    {
     "data": {
      "image/png": "[encoded data removed]",
      "text/plain": [
       "<Figure size 1260x1260 with 56 Axes>"
      ]
     },
     "metadata": {},
     "output_type": "display_data"
    }
   ],
   "source": [
    "sns.set(context='notebook', style='darkgrid', color_codes=True, palette='muted')\n",
    "\n",
    "sns.pairplot(df_int_movies_analysis_inner, kind='reg');"
   ]
  },
  {
   "cell_type": "markdown",
   "metadata": {},
   "source": [
    "**This is great! On our first look we can already see that a positive relationship exists between 'country_count' and our gross figures. Though remember, our question is interested in profitability, not just revenue. The last column on the above matrix shows a very wide range of potential profitability, however the direction that is it going is great! We also observe that there are A LOT of positively-skewed features for budget and revenue distributions.**\n",
    "\n",
    "**Next, let's take a closer look at our individual features using a boxplot to help us better contextualize the outliers.** "
   ]
  },
  {
   "cell_type": "markdown",
   "metadata": {},
   "source": [
    "## Boxplot - Outlier Identification"
   ]
  },
  {
   "cell_type": "code",
   "execution_count": 44,
   "metadata": {
    "ExecuteTime": {
     "end_time": "2020-06-22T16:28:09.673425Z",
     "start_time": "2020-06-22T16:28:09.330342Z"
    },
    "scrolled": false
   },
   "outputs": [
    {
     "data": {
      "image/png": "[encoded data removed]",
      "text/plain": [
       "<Figure size 1080x720 with 5 Axes>"
      ]
     },
     "metadata": {},
     "output_type": "display_data"
    }
   ],
   "source": [
    "fig, (ax1, ax2, ax3, ax4, ax5) = plt.subplots(ncols=5, figsize=(15,10), sharey=True)\n",
    "\n",
    "ax_list = [ax1, ax2, ax3, ax4, ax5]\n",
    "x = [df_int_movies_analysis_inner['production_budget'],\n",
    "     df_int_movies_analysis_inner['domestic_gross'],\n",
    "     df_int_movies_analysis_inner['worldwide_gross'],\n",
    "     df_int_movies_analysis_inner['foreign_gross'],\n",
    "     df_int_movies_analysis_inner['net_revenue']]\n",
    "\n",
    "\n",
    "for n in range(1,6):\n",
    "    ax = ax_list[n-1]\n",
    "    x_new = x[n-1]\n",
    "    sns.set_style('darkgrid')\n",
    "    sns.boxplot(x_new, ax=ax, orient='v')"
   ]
  },
  {
   "cell_type": "markdown",
   "metadata": {},
   "source": [
    "**Whoa! Looks like the data here are littered with outliers on the positive end of the spectrum.  Let's try a few different techniques and see which ones result in a more normalized distribution!**"
   ]
  },
  {
   "cell_type": "markdown",
   "metadata": {},
   "source": [
    "## Outlier Exploration & Visualizations"
   ]
  },
  {
   "cell_type": "markdown",
   "metadata": {},
   "source": [
    "**Let's create a new dataframe to use for the following EDA purposes since we have so many outliers in our original dataset.**"
   ]
  },
  {
   "cell_type": "code",
   "execution_count": 45,
   "metadata": {
    "ExecuteTime": {
     "end_time": "2020-06-22T16:28:10.497508Z",
     "start_time": "2020-06-22T16:28:10.482548Z"
    },
    "scrolled": false
   },
   "outputs": [
    {
     "name": "stdout",
     "output_type": "stream",
     "text": [
      "(1760, 12)\n"
     ]
    },
    {
     "data": {
      "text/html": [
       "<div>\n",
       "<style scoped>\n",
       "    .dataframe tbody tr th:only-of-type {\n",
       "        vertical-align: middle;\n",
       "    }\n",
       "\n",
       "    .dataframe tbody tr th {\n",
       "        vertical-align: top;\n",
       "    }\n",
       "\n",
       "    .dataframe thead th {\n",
       "        text-align: right;\n",
       "    }\n",
       "</style>\n",
       "<table border=\"1\" class=\"dataframe\">\n",
       "  <thead>\n",
       "    <tr style=\"text-align: right;\">\n",
       "      <th></th>\n",
       "      <th>release_date</th>\n",
       "      <th>primary_title</th>\n",
       "      <th>production_budget</th>\n",
       "      <th>domestic_gross</th>\n",
       "      <th>worldwide_gross</th>\n",
       "      <th>country_list</th>\n",
       "      <th>country_count</th>\n",
       "      <th>foreign_gross</th>\n",
       "      <th>net_revenue</th>\n",
       "      <th>return_on_investment</th>\n",
       "      <th>profit/loss</th>\n",
       "      <th>country_count_category</th>\n",
       "    </tr>\n",
       "  </thead>\n",
       "  <tbody>\n",
       "    <tr>\n",
       "      <th>0</th>\n",
       "      <td>2011-05-20</td>\n",
       "      <td>Pirates of the Caribbean: On Stranger Tides</td>\n",
       "      <td>410600000.0</td>\n",
       "      <td>241063875.0</td>\n",
       "      <td>1.045664e+09</td>\n",
       "      <td>[Japan, Sweden, Peru, Ukraine, United States, ...</td>\n",
       "      <td>39</td>\n",
       "      <td>8.046000e+08</td>\n",
       "      <td>6.350639e+08</td>\n",
       "      <td>1.546673</td>\n",
       "      <td>profit</td>\n",
       "      <td>31 - 40</td>\n",
       "    </tr>\n",
       "    <tr>\n",
       "      <th>1</th>\n",
       "      <td>2019-06-07</td>\n",
       "      <td>Dark Phoenix</td>\n",
       "      <td>350000000.0</td>\n",
       "      <td>42762350.0</td>\n",
       "      <td>1.497624e+08</td>\n",
       "      <td>[France, Mexico, Italy, Poland, Hungary, Portu...</td>\n",
       "      <td>32</td>\n",
       "      <td>1.070000e+08</td>\n",
       "      <td>-2.002376e+08</td>\n",
       "      <td>-0.572108</td>\n",
       "      <td>loss</td>\n",
       "      <td>31 - 40</td>\n",
       "    </tr>\n",
       "    <tr>\n",
       "      <th>2</th>\n",
       "      <td>2015-05-01</td>\n",
       "      <td>Avengers: Age of Ultron</td>\n",
       "      <td>330600000.0</td>\n",
       "      <td>459005868.0</td>\n",
       "      <td>1.403014e+09</td>\n",
       "      <td>[Azerbaijan, Peru, United States, Israel, Mexi...</td>\n",
       "      <td>34</td>\n",
       "      <td>9.440081e+08</td>\n",
       "      <td>1.072414e+09</td>\n",
       "      <td>3.243841</td>\n",
       "      <td>profit</td>\n",
       "      <td>31 - 40</td>\n",
       "    </tr>\n",
       "    <tr>\n",
       "      <th>3</th>\n",
       "      <td>2018-04-27</td>\n",
       "      <td>Avengers: Infinity War</td>\n",
       "      <td>300000000.0</td>\n",
       "      <td>678815482.0</td>\n",
       "      <td>2.048134e+09</td>\n",
       "      <td>[Argentina, Spain, Serbia, United States, Czec...</td>\n",
       "      <td>31</td>\n",
       "      <td>1.369319e+09</td>\n",
       "      <td>1.748134e+09</td>\n",
       "      <td>5.827114</td>\n",
       "      <td>profit</td>\n",
       "      <td>31 - 40</td>\n",
       "    </tr>\n",
       "    <tr>\n",
       "      <th>4</th>\n",
       "      <td>2017-11-17</td>\n",
       "      <td>Justice League</td>\n",
       "      <td>300000000.0</td>\n",
       "      <td>229024295.0</td>\n",
       "      <td>6.559452e+08</td>\n",
       "      <td>[Serbia, Argentina, United States, Hungary, Vi...</td>\n",
       "      <td>29</td>\n",
       "      <td>4.269209e+08</td>\n",
       "      <td>3.559452e+08</td>\n",
       "      <td>1.186484</td>\n",
       "      <td>profit</td>\n",
       "      <td>21 - 30</td>\n",
       "    </tr>\n",
       "  </tbody>\n",
       "</table>\n",
       "</div>"
      ],
      "text/plain": [
       "  release_date                                primary_title  production_budget  domestic_gross  worldwide_gross                                       country_list  country_count  foreign_gross   net_revenue  return_on_investment profit/loss country_count_category\n",
       "0   2011-05-20  Pirates of the Caribbean: On Stranger Tides        410600000.0     241063875.0     1.045664e+09  [Japan, Sweden, Peru, Ukraine, United States, ...             39   8.046000e+08  6.350639e+08              1.546673      profit                31 - 40\n",
       "1   2019-06-07                                 Dark Phoenix        350000000.0      42762350.0     1.497624e+08  [France, Mexico, Italy, Poland, Hungary, Portu...             32   1.070000e+08 -2.002376e+08             -0.572108        loss                31 - 40\n",
       "2   2015-05-01                      Avengers: Age of Ultron        330600000.0     459005868.0     1.403014e+09  [Azerbaijan, Peru, United States, Israel, Mexi...             34   9.440081e+08  1.072414e+09              3.243841      profit                31 - 40\n",
       "3   2018-04-27                       Avengers: Infinity War        300000000.0     678815482.0     2.048134e+09  [Argentina, Spain, Serbia, United States, Czec...             31   1.369319e+09  1.748134e+09              5.827114      profit                31 - 40\n",
       "4   2017-11-17                               Justice League        300000000.0     229024295.0     6.559452e+08  [Serbia, Argentina, United States, Hungary, Vi...             29   4.269209e+08  3.559452e+08              1.186484      profit                21 - 30"
      ]
     },
     "execution_count": 45,
     "metadata": {},
     "output_type": "execute_result"
    }
   ],
   "source": [
    "df_int_movies_analysis_inner_cleaned = df_int_movies_analysis_inner.copy()\n",
    "print(df_int_movies_analysis_inner_cleaned.shape)\n",
    "df_int_movies_analysis_inner_cleaned.head()"
   ]
  },
  {
   "cell_type": "markdown",
   "metadata": {},
   "source": [
    "**The feature that looks like it contains the most egregious amount of outliers is 'worldwide_gross'. Let's see how the data are affected when we start to preform some outlier cleaning in the cell below.  Let's write a function in the following cell that will take in information about how we want to adjust our dataframe using quantiles. This function will allow us to perform quick EDA, and if we see something that we like, we can just re-define a new dataframe as needed.**"
   ]
  },
  {
   "cell_type": "markdown",
   "metadata": {},
   "source": [
    "##  Function - Quantile Column Cleaning"
   ]
  },
  {
   "cell_type": "code",
   "execution_count": 46,
   "metadata": {
    "ExecuteTime": {
     "end_time": "2020-06-22T16:28:25.268594Z",
     "start_time": "2020-06-22T16:28:25.248554Z"
    },
    "scrolled": false
   },
   "outputs": [
    {
     "name": "stdout",
     "output_type": "stream",
     "text": [
      "(1408, 12)\n"
     ]
    },
    {
     "data": {
      "text/html": [
       "<div>\n",
       "<style scoped>\n",
       "    .dataframe tbody tr th:only-of-type {\n",
       "        vertical-align: middle;\n",
       "    }\n",
       "\n",
       "    .dataframe tbody tr th {\n",
       "        vertical-align: top;\n",
       "    }\n",
       "\n",
       "    .dataframe thead th {\n",
       "        text-align: right;\n",
       "    }\n",
       "</style>\n",
       "<table border=\"1\" class=\"dataframe\">\n",
       "  <thead>\n",
       "    <tr style=\"text-align: right;\">\n",
       "      <th></th>\n",
       "      <th>release_date</th>\n",
       "      <th>primary_title</th>\n",
       "      <th>production_budget</th>\n",
       "      <th>domestic_gross</th>\n",
       "      <th>worldwide_gross</th>\n",
       "      <th>country_list</th>\n",
       "      <th>country_count</th>\n",
       "      <th>foreign_gross</th>\n",
       "      <th>net_revenue</th>\n",
       "      <th>return_on_investment</th>\n",
       "      <th>profit/loss</th>\n",
       "      <th>country_count_category</th>\n",
       "    </tr>\n",
       "  </thead>\n",
       "  <tbody>\n",
       "    <tr>\n",
       "      <th>1</th>\n",
       "      <td>2019-06-07</td>\n",
       "      <td>Dark Phoenix</td>\n",
       "      <td>350000000.0</td>\n",
       "      <td>42762350.0</td>\n",
       "      <td>149762350.0</td>\n",
       "      <td>[France, Mexico, Italy, Poland, Hungary, Portu...</td>\n",
       "      <td>32</td>\n",
       "      <td>107000000.0</td>\n",
       "      <td>-200237650.0</td>\n",
       "      <td>-0.572108</td>\n",
       "      <td>loss</td>\n",
       "      <td>31 - 40</td>\n",
       "    </tr>\n",
       "    <tr>\n",
       "      <th>8</th>\n",
       "      <td>2013-07-02</td>\n",
       "      <td>The Lone Ranger</td>\n",
       "      <td>275000000.0</td>\n",
       "      <td>89302115.0</td>\n",
       "      <td>260002115.0</td>\n",
       "      <td>[Italy, Ukraine, Slovakia, Venezuela, Bolivari...</td>\n",
       "      <td>33</td>\n",
       "      <td>170700000.0</td>\n",
       "      <td>-14997885.0</td>\n",
       "      <td>-0.054538</td>\n",
       "      <td>loss</td>\n",
       "      <td>31 - 40</td>\n",
       "    </tr>\n",
       "    <tr>\n",
       "      <th>9</th>\n",
       "      <td>2012-03-09</td>\n",
       "      <td>John Carter</td>\n",
       "      <td>275000000.0</td>\n",
       "      <td>73058679.0</td>\n",
       "      <td>282778100.0</td>\n",
       "      <td>[Ukraine, United States, Argentina, India, Lit...</td>\n",
       "      <td>28</td>\n",
       "      <td>209719421.0</td>\n",
       "      <td>7778100.0</td>\n",
       "      <td>0.028284</td>\n",
       "      <td>profit</td>\n",
       "      <td>21 - 30</td>\n",
       "    </tr>\n",
       "    <tr>\n",
       "      <th>19</th>\n",
       "      <td>1998-08-14</td>\n",
       "      <td>The Avengers</td>\n",
       "      <td>60000000.0</td>\n",
       "      <td>23385416.0</td>\n",
       "      <td>48585416.0</td>\n",
       "      <td>[Peru, Turkey, Mexico, Slovakia, Colombia, Swe...</td>\n",
       "      <td>39</td>\n",
       "      <td>25200000.0</td>\n",
       "      <td>-11414584.0</td>\n",
       "      <td>-0.190243</td>\n",
       "      <td>loss</td>\n",
       "      <td>31 - 40</td>\n",
       "    </tr>\n",
       "    <tr>\n",
       "      <th>22</th>\n",
       "      <td>2012-05-18</td>\n",
       "      <td>Battleship</td>\n",
       "      <td>220000000.0</td>\n",
       "      <td>65233400.0</td>\n",
       "      <td>313477717.0</td>\n",
       "      <td>[Uruguay, Greece, Viet Nam, Lithuania, Colombi...</td>\n",
       "      <td>25</td>\n",
       "      <td>248244317.0</td>\n",
       "      <td>93477717.0</td>\n",
       "      <td>0.424899</td>\n",
       "      <td>profit</td>\n",
       "      <td>21 - 30</td>\n",
       "    </tr>\n",
       "  </tbody>\n",
       "</table>\n",
       "</div>"
      ],
      "text/plain": [
       "   release_date    primary_title  production_budget  domestic_gross  worldwide_gross                                       country_list  country_count  foreign_gross  net_revenue  return_on_investment profit/loss country_count_category\n",
       "1    2019-06-07     Dark Phoenix        350000000.0      42762350.0      149762350.0  [France, Mexico, Italy, Poland, Hungary, Portu...             32    107000000.0 -200237650.0             -0.572108        loss                31 - 40\n",
       "8    2013-07-02  The Lone Ranger        275000000.0      89302115.0      260002115.0  [Italy, Ukraine, Slovakia, Venezuela, Bolivari...             33    170700000.0  -14997885.0             -0.054538        loss                31 - 40\n",
       "9    2012-03-09      John Carter        275000000.0      73058679.0      282778100.0  [Ukraine, United States, Argentina, India, Lit...             28    209719421.0    7778100.0              0.028284      profit                21 - 30\n",
       "19   1998-08-14     The Avengers         60000000.0      23385416.0       48585416.0  [Peru, Turkey, Mexico, Slovakia, Colombia, Swe...             39     25200000.0  -11414584.0             -0.190243        loss                31 - 40\n",
       "22   2012-05-18       Battleship        220000000.0      65233400.0      313477717.0  [Uruguay, Greece, Viet Nam, Lithuania, Colombi...             25    248244317.0   93477717.0              0.424899      profit                21 - 30"
      ]
     },
     "execution_count": 46,
     "metadata": {},
     "output_type": "execute_result"
    }
   ],
   "source": [
    "def between_quantile_col_cleaner(df, colname, lower_quantile, upper_quantile):\n",
    "    \n",
    "    '''This function\\'s purpose is to address outliers in data.  This funciton\n",
    "    takes in a dataframe, column name, and both lower/upper quantiles to keep\n",
    "    data using the .between method.\n",
    "    \n",
    "    Returns:\n",
    "    Dataframe\n",
    "    \n",
    "    Example:\n",
    "    between_quantile_cleaner(df_cars, 'type', 0.05, 0.95)'''\n",
    "    \n",
    "    column_total = df[colname]\n",
    "    \n",
    "    column_remaining = column_total.between(\n",
    "        column_total.quantile\n",
    "        (\n",
    "            lower_quantile\n",
    "        ),\n",
    "        column_total.quantile\n",
    "        (\n",
    "            upper_quantile\n",
    "        ))\n",
    "    df = df.iloc[column_remaining[column_remaining].index]\n",
    "    print(df.shape)\n",
    "    return df\n",
    "\n",
    "between_quantile_col_cleaner(df_int_movies_analysis_inner_cleaned, 'worldwide_gross', .10, .90).head()"
   ]
  },
  {
   "cell_type": "markdown",
   "metadata": {},
   "source": [
    "## Funtion - Quantile Column Cleaning (Removed Rows)"
   ]
  },
  {
   "cell_type": "markdown",
   "metadata": {},
   "source": [
    "**Here is a function that shows us the movies that were dropped.  This is a useful function as it allows us to see which movies don't make the cleaning-cut!**"
   ]
  },
  {
   "cell_type": "code",
   "execution_count": 47,
   "metadata": {
    "ExecuteTime": {
     "end_time": "2020-06-22T16:28:27.123239Z",
     "start_time": "2020-06-22T16:28:27.102269Z"
    },
    "scrolled": false
   },
   "outputs": [
    {
     "name": "stdout",
     "output_type": "stream",
     "text": [
      "(352, 12)\n"
     ]
    },
    {
     "data": {
      "text/html": [
       "<div>\n",
       "<style scoped>\n",
       "    .dataframe tbody tr th:only-of-type {\n",
       "        vertical-align: middle;\n",
       "    }\n",
       "\n",
       "    .dataframe tbody tr th {\n",
       "        vertical-align: top;\n",
       "    }\n",
       "\n",
       "    .dataframe thead th {\n",
       "        text-align: right;\n",
       "    }\n",
       "</style>\n",
       "<table border=\"1\" class=\"dataframe\">\n",
       "  <thead>\n",
       "    <tr style=\"text-align: right;\">\n",
       "      <th></th>\n",
       "      <th>release_date</th>\n",
       "      <th>primary_title</th>\n",
       "      <th>production_budget</th>\n",
       "      <th>domestic_gross</th>\n",
       "      <th>worldwide_gross</th>\n",
       "      <th>country_list</th>\n",
       "      <th>country_count</th>\n",
       "      <th>foreign_gross</th>\n",
       "      <th>net_revenue</th>\n",
       "      <th>return_on_investment</th>\n",
       "      <th>profit/loss</th>\n",
       "      <th>country_count_category</th>\n",
       "    </tr>\n",
       "  </thead>\n",
       "  <tbody>\n",
       "    <tr>\n",
       "      <th>0</th>\n",
       "      <td>2011-05-20</td>\n",
       "      <td>Pirates of the Caribbean: On Stranger Tides</td>\n",
       "      <td>410600000.0</td>\n",
       "      <td>241063875.0</td>\n",
       "      <td>1.045664e+09</td>\n",
       "      <td>[Japan, Sweden, Peru, Ukraine, United States, ...</td>\n",
       "      <td>39</td>\n",
       "      <td>8.046000e+08</td>\n",
       "      <td>6.350639e+08</td>\n",
       "      <td>1.546673</td>\n",
       "      <td>profit</td>\n",
       "      <td>31 - 40</td>\n",
       "    </tr>\n",
       "    <tr>\n",
       "      <th>2</th>\n",
       "      <td>2015-05-01</td>\n",
       "      <td>Avengers: Age of Ultron</td>\n",
       "      <td>330600000.0</td>\n",
       "      <td>459005868.0</td>\n",
       "      <td>1.403014e+09</td>\n",
       "      <td>[Azerbaijan, Peru, United States, Israel, Mexi...</td>\n",
       "      <td>34</td>\n",
       "      <td>9.440081e+08</td>\n",
       "      <td>1.072414e+09</td>\n",
       "      <td>3.243841</td>\n",
       "      <td>profit</td>\n",
       "      <td>31 - 40</td>\n",
       "    </tr>\n",
       "    <tr>\n",
       "      <th>3</th>\n",
       "      <td>2018-04-27</td>\n",
       "      <td>Avengers: Infinity War</td>\n",
       "      <td>300000000.0</td>\n",
       "      <td>678815482.0</td>\n",
       "      <td>2.048134e+09</td>\n",
       "      <td>[Argentina, Spain, Serbia, United States, Czec...</td>\n",
       "      <td>31</td>\n",
       "      <td>1.369319e+09</td>\n",
       "      <td>1.748134e+09</td>\n",
       "      <td>5.827114</td>\n",
       "      <td>profit</td>\n",
       "      <td>31 - 40</td>\n",
       "    </tr>\n",
       "    <tr>\n",
       "      <th>4</th>\n",
       "      <td>2017-11-17</td>\n",
       "      <td>Justice League</td>\n",
       "      <td>300000000.0</td>\n",
       "      <td>229024295.0</td>\n",
       "      <td>6.559452e+08</td>\n",
       "      <td>[Serbia, Argentina, United States, Hungary, Vi...</td>\n",
       "      <td>29</td>\n",
       "      <td>4.269209e+08</td>\n",
       "      <td>3.559452e+08</td>\n",
       "      <td>1.186484</td>\n",
       "      <td>profit</td>\n",
       "      <td>21 - 30</td>\n",
       "    </tr>\n",
       "    <tr>\n",
       "      <th>5</th>\n",
       "      <td>2015-11-06</td>\n",
       "      <td>Spectre</td>\n",
       "      <td>300000000.0</td>\n",
       "      <td>200074175.0</td>\n",
       "      <td>8.796209e+08</td>\n",
       "      <td>[Bulgaria, Portugal, Serbia, Russian Federatio...</td>\n",
       "      <td>29</td>\n",
       "      <td>6.795467e+08</td>\n",
       "      <td>5.796209e+08</td>\n",
       "      <td>1.932070</td>\n",
       "      <td>profit</td>\n",
       "      <td>21 - 30</td>\n",
       "    </tr>\n",
       "  </tbody>\n",
       "</table>\n",
       "</div>"
      ],
      "text/plain": [
       "  release_date                                primary_title  production_budget  domestic_gross  worldwide_gross                                       country_list  country_count  foreign_gross   net_revenue  return_on_investment profit/loss country_count_category\n",
       "0   2011-05-20  Pirates of the Caribbean: On Stranger Tides        410600000.0     241063875.0     1.045664e+09  [Japan, Sweden, Peru, Ukraine, United States, ...             39   8.046000e+08  6.350639e+08              1.546673      profit                31 - 40\n",
       "2   2015-05-01                      Avengers: Age of Ultron        330600000.0     459005868.0     1.403014e+09  [Azerbaijan, Peru, United States, Israel, Mexi...             34   9.440081e+08  1.072414e+09              3.243841      profit                31 - 40\n",
       "3   2018-04-27                       Avengers: Infinity War        300000000.0     678815482.0     2.048134e+09  [Argentina, Spain, Serbia, United States, Czec...             31   1.369319e+09  1.748134e+09              5.827114      profit                31 - 40\n",
       "4   2017-11-17                               Justice League        300000000.0     229024295.0     6.559452e+08  [Serbia, Argentina, United States, Hungary, Vi...             29   4.269209e+08  3.559452e+08              1.186484      profit                21 - 30\n",
       "5   2015-11-06                                      Spectre        300000000.0     200074175.0     8.796209e+08  [Bulgaria, Portugal, Serbia, Russian Federatio...             29   6.795467e+08  5.796209e+08              1.932070      profit                21 - 30"
      ]
     },
     "execution_count": 47,
     "metadata": {},
     "output_type": "execute_result"
    }
   ],
   "source": [
    "def between_quantile_col_removed(df, colname, lower_quantile, upper_quantile):\n",
    "    \n",
    "    '''This function\\'s purpose is to address outliers in data.  This funciton\n",
    "    takes in a dataframe, column name, and both lower/upper quantiles to keep\n",
    "    data using the .between method.\n",
    "    \n",
    "    Returns:\n",
    "    Dataframe\n",
    "    \n",
    "    Example:\n",
    "    between_quantile_cleaner(df_cars, 'type', 0.05, 0.95)'''\n",
    "    \n",
    "    column_total = df[colname]\n",
    "    \n",
    "    column_remaining = column_total.between(\n",
    "        column_total.quantile\n",
    "        (\n",
    "            lower_quantile\n",
    "        ),\n",
    "        column_total.quantile\n",
    "        (\n",
    "            upper_quantile\n",
    "        ))\n",
    "    df = df.drop(column_remaining[column_remaining].index)\n",
    "    print(df.shape)\n",
    "    return df\n",
    "\n",
    "between_quantile_col_removed(df_int_movies_analysis_inner_cleaned, 'worldwide_gross', .10, .90).head()"
   ]
  },
  {
   "cell_type": "markdown",
   "metadata": {},
   "source": [
    "## Boxplot - Box Office Numbers w/ Outlier Manipulation"
   ]
  },
  {
   "cell_type": "markdown",
   "metadata": {},
   "source": [
    " **Ok, let's have a look at our data now using our new function and see how the below plots change. The data between the 10th and 90th percentile looks the most reasonable for this visualization.**"
   ]
  },
  {
   "cell_type": "code",
   "execution_count": 48,
   "metadata": {
    "ExecuteTime": {
     "end_time": "2020-06-22T16:28:39.774365Z",
     "start_time": "2020-06-22T16:28:39.426794Z"
    },
    "scrolled": false
   },
   "outputs": [
    {
     "name": "stdout",
     "output_type": "stream",
     "text": [
      "(1408, 12)\n"
     ]
    },
    {
     "data": {
      "image/png": "[encoded data removed]",
      "text/plain": [
       "<Figure size 1080x720 with 5 Axes>"
      ]
     },
     "metadata": {},
     "output_type": "display_data"
    }
   ],
   "source": [
    "df_int_movies_analysis_inner_cleaned_boxtest = between_quantile_col_cleaner(\n",
    "    df_int_movies_analysis_inner_cleaned,\n",
    "    'worldwide_gross',\n",
    "    .10,\n",
    "    .90)\n",
    "\n",
    "fig, (ax1, ax2, ax3, ax4, ax5) = plt.subplots(ncols=5, sharey=True, figsize=(15,10))\n",
    "\n",
    "ax_list = [ax1, ax2, ax3, ax4, ax5]\n",
    "x = [df_int_movies_analysis_inner_cleaned_boxtest['production_budget'],\n",
    "     df_int_movies_analysis_inner_cleaned_boxtest['domestic_gross'],\n",
    "     df_int_movies_analysis_inner_cleaned_boxtest['worldwide_gross'],\n",
    "     df_int_movies_analysis_inner_cleaned_boxtest['foreign_gross'],\n",
    "     df_int_movies_analysis_inner_cleaned_boxtest['net_revenue']]\n",
    "\n",
    "for n in range(1,6):\n",
    "    ax = ax_list[n-1]\n",
    "    x_new = x[n-1]\n",
    "    sns.set_style('darkgrid');\n",
    "    sns.boxplot(x_new, ax=ax, orient='v', showmeans=True, color='lightpink');"
   ]
  },
  {
   "cell_type": "markdown",
   "metadata": {},
   "source": [
    "## Countplot - Countries Per Movie w/ Outlier Manipulation"
   ]
  },
  {
   "cell_type": "markdown",
   "metadata": {},
   "source": [
    "**Now lets do the same testing but with a countplot.  This visual looks quite similar regardless of the manner with which it was sliced.  Therefore the full dataset was chosen for the best representation of this visual.**"
   ]
  },
  {
   "cell_type": "code",
   "execution_count": 49,
   "metadata": {
    "ExecuteTime": {
     "end_time": "2020-06-22T16:28:45.639388Z",
     "start_time": "2020-06-22T16:28:45.226254Z"
    },
    "scrolled": false
   },
   "outputs": [
    {
     "data": {
      "image/png": "[encoded data removed]",
      "text/plain": [
       "<Figure size 1080x720 with 1 Axes>"
      ]
     },
     "metadata": {},
     "output_type": "display_data"
    }
   ],
   "source": [
    "df_int_movies_analysis_inner_cleaned_histtest = df_int_movies_analysis_inner_cleaned\n",
    "\n",
    "# between_quantile_col_cleaner(\n",
    "#     df_int_movies_analysis_inner_cleaned,\n",
    "#     'worldwide_gross',\n",
    "#     .10,\n",
    "#     .90)\n",
    "\n",
    "plt.figure(figsize=(15,10))\n",
    "\n",
    "column = df_int_movies_analysis_inner_cleaned_histtest['country_count']\n",
    "\n",
    "sns.countplot(x=column,\n",
    "              data=df_int_movies_analysis_inner_cleaned_histtest,\n",
    "              saturation=2,\n",
    "              palette=\"rocket\");\n",
    "\n",
    "plt.ylabel('Number of Movies', fontsize=23)\n",
    "plt.xlabel('Number of Countries', fontsize=23)\n",
    "plt.title('Countries Per Movie - Countplot Distribution', fontsize=30, pad=10, loc='right');"
   ]
  },
  {
   "cell_type": "markdown",
   "metadata": {},
   "source": [
    "# Microsoft Question Visualization & Conclusion"
   ]
  },
  {
   "cell_type": "markdown",
   "metadata": {},
   "source": [
    "**Okay, now for the last step.  We have seen above how the data can change depending on how we treat our outliers.  Let's now aim to answer the big question:**\n",
    "\n",
    "**Are movies that are released in more countries more profitable?**\n",
    "\n",
    "**Let's create two more plots and put them side by side.  The firs plot will look at the costs of producing these movies, as well as how much money the tend to bring back in.  The second plot will look at the number of movies that come out of the international scene with either a profit or a loss.  The following plots will use the MEDIAN as its estimator fucntion as it is the best tool we have to combat against the many outliers that remain.**\n",
    "\n",
    "**These last two visualizations will be shown using the data from the 1st to 99th percentile. There were some variations in the plotting depending on how the dataset was sliced, but the reasons were mostly due to not having a large sample size of movies in over 40 coutnries.  Therefore we chose to stick with the subset below in the end.**"
   ]
  },
  {
   "cell_type": "code",
   "execution_count": 50,
   "metadata": {
    "ExecuteTime": {
     "end_time": "2020-06-22T16:28:48.609842Z",
     "start_time": "2020-06-22T16:28:48.251169Z"
    },
    "scrolled": false
   },
   "outputs": [
    {
     "name": "stdout",
     "output_type": "stream",
     "text": [
      "(1724, 12)\n"
     ]
    },
    {
     "data": {
      "image/png": "[encoded data removed]",
      "text/plain": [
       "<Figure size 1296x720 with 2 Axes>"
      ]
     },
     "metadata": {},
     "output_type": "display_data"
    }
   ],
   "source": [
    "df_int_movies_analysis_inner_cleaned_bartest = between_quantile_col_cleaner(\n",
    "    df_int_movies_analysis_inner_cleaned,\n",
    "    'worldwide_gross',\n",
    "    .01,\n",
    "    .99)\n",
    "\n",
    "fig = plt.figure(figsize=(18,10));\n",
    "sns.set(style='darkgrid');\n",
    "order = ['2 - 10', '11 - 20', '21 - 30', '31 - 40', '41 +']\n",
    "#  - 50', '51 - 60', '61 +'\n",
    "\n",
    "ax1 = fig.add_subplot(121)\n",
    "\n",
    "sns.set_color_codes('pastel')\n",
    "sns.pointplot(x='country_count_category',\n",
    "            y='worldwide_gross',\n",
    "            data=df_int_movies_analysis_inner_cleaned_bartest,\n",
    "            color='b',\n",
    "            order=order,\n",
    "            estimator=np.median,\n",
    "            ax=ax1,\n",
    "            ci=None);\n",
    "\n",
    "sns.set_color_codes('pastel')\n",
    "sns.pointplot(x='country_count_category',\n",
    "            y='net_revenue',\n",
    "            data=df_int_movies_analysis_inner_cleaned_bartest,\n",
    "            color='g',\n",
    "            order=order,\n",
    "            estimator=np.median,\n",
    "            ax=ax1,\n",
    "            ci=None);\n",
    "\n",
    "sns.set_color_codes('muted')\n",
    "sns.pointplot(x='country_count_category',\n",
    "            y='production_budget',\n",
    "            data=df_int_movies_analysis_inner_cleaned_bartest,\n",
    "            color='r',\n",
    "            order=order,\n",
    "            estimator=np.median,\n",
    "            ax=ax1,\n",
    "            ci=None);\n",
    "\n",
    "plt.title('International Movie Costs vs. Revenues ', fontsize=25, loc='center', pad=15);\n",
    "plt.legend(['Worldwide Gross', 'Net Revenue', 'Production Budget'], frameon=False, fontsize=17, loc='upper left');\n",
    "plt.ylabel('Hundreds of Millions (Median)', fontsize=22);\n",
    "plt.xlabel('Number of Country Releases', fontsize=20);\n",
    "plt.xticks(fontsize=18);\n",
    "plt.yticks(fontsize=18);\n",
    "\n",
    "ax2 = fig.add_subplot(122)\n",
    "\n",
    "# sns.set_color_codes('pastel')\n",
    "# sns.barplot(x='country_count_category',\n",
    "#             y='foreign_gross',\n",
    "#             data=df_int_movies_analysis_inner_cleaned_bartest,\n",
    "#             color='orange',\n",
    "#             order=order,\n",
    "#             estimator=np.median,\n",
    "#             ax=ax2,\n",
    "#             ci=None);\n",
    "\n",
    "sns.barplot(x='country_count_category',\n",
    "            y='return_on_investment',\n",
    "            data=df_int_movies_analysis_inner_cleaned_bartest,\n",
    "            order=order,\n",
    "            estimator=np.median,\n",
    "            ax=ax2,\n",
    "            ci=None,\n",
    "            saturation=20,\n",
    "            hue='profit/loss',\n",
    "            hue_order=['loss', 'profit']);\n",
    "\n",
    "# sns.set_color_codes('pastel')\n",
    "# sns.pointplot(x='country_count_category',\n",
    "#             y='net_revenue',\n",
    "#             data=df_int_movies_analysis_inner_cleaned_bartest,\n",
    "#             color='darkgreen',\n",
    "#             order=order,\n",
    "#             estimator=np.median,\n",
    "#             ax=ax2,\n",
    "#             ci=None);\n",
    "\n",
    "plt.title('International Profits vs. Losses', fontsize=25, loc='right', pad=15);\n",
    "plt.legend(['Loss', 'Profit'], frameon=False, fontsize=20, loc='upper left');\n",
    "plt.ylabel('Return on Investment (Median)', fontsize=22);\n",
    "plt.xlabel('Number of Country Releases', fontsize=20);\n",
    "plt.xticks(fontsize=18);\n",
    "plt.yticks(fontsize=18);"
   ]
  },
  {
   "cell_type": "markdown",
   "metadata": {},
   "source": [
    "# Observation Conclusions\n",
    "**These last two visualizations paint the picture quite clearly that in fact yes, movies that are released in more countries are generally more profitable.  We can also make some conclusions about the risks involved in making movies that are meant to be for a global audience.**"
   ]
  },
  {
   "cell_type": "markdown",
   "metadata": {},
   "source": [
    "# Future Work Recommendations\n",
    "**- To take this analysis further, it would have been great to see more accurate information for country counts per movie. If we had a better picture about not just which countries, but the timing of the release in each subsequent country, then a lot of work could be done in determining the best time to release and where.**\n",
    "\n",
    "**- Additionally, more detailed information about the distribution of the revenue between each country would have been very insightful.  This could have led to observations surrounding each country and their consumption patterns and preferences.**"
   ]
  },
  {
   "cell_type": "markdown",
   "metadata": {},
   "source": [
    "# * * Bonus * * - \"Domestic\" Movie Country Count Estimator"
   ]
  },
  {
   "cell_type": "markdown",
   "metadata": {},
   "source": [
    "**As we can see below, the IMDB database was not as accurate as we would have liked.  Avatar is still the largest movie ever made in almost all aspects, yet it has a country list consisting only of Japan.  We thought it would be interesting to see, based on the cleaning of the previous data, if we could predict the number of movies that a country was released in based on its financial metrics.  Below we have made a function to check against the 'worldwide_gross' value, though this function could easily be altered to measure against any of the numerical features.**"
   ]
  },
  {
   "cell_type": "code",
   "execution_count": 51,
   "metadata": {
    "ExecuteTime": {
     "end_time": "2020-06-22T16:28:52.731970Z",
     "start_time": "2020-06-22T16:28:52.678162Z"
    },
    "scrolled": false
   },
   "outputs": [
    {
     "data": {
      "text/html": [
       "<div>\n",
       "<style scoped>\n",
       "    .dataframe tbody tr th:only-of-type {\n",
       "        vertical-align: middle;\n",
       "    }\n",
       "\n",
       "    .dataframe tbody tr th {\n",
       "        vertical-align: top;\n",
       "    }\n",
       "\n",
       "    .dataframe thead th {\n",
       "        text-align: right;\n",
       "    }\n",
       "</style>\n",
       "<table border=\"1\" class=\"dataframe\">\n",
       "  <thead>\n",
       "    <tr style=\"text-align: right;\">\n",
       "      <th></th>\n",
       "      <th>release_date</th>\n",
       "      <th>primary_title</th>\n",
       "      <th>production_budget</th>\n",
       "      <th>domestic_gross</th>\n",
       "      <th>worldwide_gross</th>\n",
       "      <th>country_list</th>\n",
       "      <th>movies_per_country</th>\n",
       "      <th>return_on_investment</th>\n",
       "      <th>profit/loss</th>\n",
       "      <th>foreign_gross</th>\n",
       "    </tr>\n",
       "  </thead>\n",
       "  <tbody>\n",
       "    <tr>\n",
       "      <th>0</th>\n",
       "      <td>2009-12-18</td>\n",
       "      <td>Avatar</td>\n",
       "      <td>425000000.0</td>\n",
       "      <td>760507625.0</td>\n",
       "      <td>2.776345e+09</td>\n",
       "      <td>Japan</td>\n",
       "      <td>1</td>\n",
       "      <td>5.532577</td>\n",
       "      <td>profit</td>\n",
       "      <td>2.015838e+09</td>\n",
       "    </tr>\n",
       "    <tr>\n",
       "      <th>1</th>\n",
       "      <td>1997-12-19</td>\n",
       "      <td>Titanic</td>\n",
       "      <td>200000000.0</td>\n",
       "      <td>659363944.0</td>\n",
       "      <td>2.208208e+09</td>\n",
       "      <td>United Kingdom</td>\n",
       "      <td>1</td>\n",
       "      <td>10.041042</td>\n",
       "      <td>profit</td>\n",
       "      <td>1.548844e+09</td>\n",
       "    </tr>\n",
       "    <tr>\n",
       "      <th>7</th>\n",
       "      <td>2009-12-25</td>\n",
       "      <td>Sherlock Holmes</td>\n",
       "      <td>90000000.0</td>\n",
       "      <td>209028679.0</td>\n",
       "      <td>4.984382e+08</td>\n",
       "      <td>United States</td>\n",
       "      <td>1</td>\n",
       "      <td>4.538202</td>\n",
       "      <td>profit</td>\n",
       "      <td>2.894095e+08</td>\n",
       "    </tr>\n",
       "    <tr>\n",
       "      <th>5</th>\n",
       "      <td>2000-05-05</td>\n",
       "      <td>Gladiator</td>\n",
       "      <td>103000000.0</td>\n",
       "      <td>187683805.0</td>\n",
       "      <td>4.576838e+08</td>\n",
       "      <td>Australia</td>\n",
       "      <td>1</td>\n",
       "      <td>3.443532</td>\n",
       "      <td>profit</td>\n",
       "      <td>2.700000e+08</td>\n",
       "    </tr>\n",
       "    <tr>\n",
       "      <th>8</th>\n",
       "      <td>2000-12-22</td>\n",
       "      <td>Cast Away</td>\n",
       "      <td>85000000.0</td>\n",
       "      <td>233632142.0</td>\n",
       "      <td>4.272305e+08</td>\n",
       "      <td>Puerto Rico</td>\n",
       "      <td>1</td>\n",
       "      <td>4.026241</td>\n",
       "      <td>profit</td>\n",
       "      <td>1.935984e+08</td>\n",
       "    </tr>\n",
       "  </tbody>\n",
       "</table>\n",
       "</div>"
      ],
      "text/plain": [
       "  release_date    primary_title  production_budget  domestic_gross  worldwide_gross    country_list  movies_per_country  return_on_investment profit/loss  foreign_gross\n",
       "0   2009-12-18           Avatar        425000000.0     760507625.0     2.776345e+09           Japan                   1              5.532577      profit   2.015838e+09\n",
       "1   1997-12-19          Titanic        200000000.0     659363944.0     2.208208e+09  United Kingdom                   1             10.041042      profit   1.548844e+09\n",
       "7   2009-12-25  Sherlock Holmes         90000000.0     209028679.0     4.984382e+08   United States                   1              4.538202      profit   2.894095e+08\n",
       "5   2000-05-05        Gladiator        103000000.0     187683805.0     4.576838e+08       Australia                   1              3.443532      profit   2.700000e+08\n",
       "8   2000-12-22        Cast Away         85000000.0     233632142.0     4.272305e+08     Puerto Rico                   1              4.026241      profit   1.935984e+08"
      ]
     },
     "execution_count": 51,
     "metadata": {},
     "output_type": "execute_result"
    }
   ],
   "source": [
    "df_domestic_country_check = df_movie_moneys.merge(df_domestic_title_country, on='primary_title')\n",
    "\n",
    "df_domestic_country_check = df_domestic_country_check.sort_values('worldwide_gross', ascending=False)\n",
    "\n",
    "df_domestic_country_check['return_on_investment'] = (\n",
    "    (df_domestic_country_check['worldwide_gross'] - \n",
    "     df_domestic_country_check['production_budget']) / \n",
    "    df_domestic_country_check['production_budget'])\n",
    "\n",
    "df_domestic_country_check['profit/loss'] = df_domestic_country_check[\n",
    "    'return_on_investment'].map(lambda x: profit_loss_function(x))\n",
    "\n",
    "df_domestic_country_check['foreign_gross'] = df_domestic_country_check[\n",
    "    'worldwide_gross'] - df_domestic_country_check['domestic_gross']\n",
    "\n",
    "df_int_movies_analysis_inner['net_revenue'] = df_int_movies_analysis_inner[\n",
    "    'worldwide_gross'] - df_int_movies_analysis_inner['production_budget']\n",
    "\n",
    "df_domestic_country_check.head()"
   ]
  },
  {
   "cell_type": "code",
   "execution_count": 52,
   "metadata": {
    "ExecuteTime": {
     "end_time": "2020-06-22T16:28:54.772286Z",
     "start_time": "2020-06-22T16:28:54.755296Z"
    }
   },
   "outputs": [
    {
     "data": {
      "text/html": [
       "<div>\n",
       "<style scoped>\n",
       "    .dataframe tbody tr th:only-of-type {\n",
       "        vertical-align: middle;\n",
       "    }\n",
       "\n",
       "    .dataframe tbody tr th {\n",
       "        vertical-align: top;\n",
       "    }\n",
       "\n",
       "    .dataframe thead th {\n",
       "        text-align: right;\n",
       "    }\n",
       "</style>\n",
       "<table border=\"1\" class=\"dataframe\">\n",
       "  <thead>\n",
       "    <tr style=\"text-align: right;\">\n",
       "      <th></th>\n",
       "      <th>production_budget</th>\n",
       "      <th>domestic_gross</th>\n",
       "      <th>worldwide_gross</th>\n",
       "      <th>country_count</th>\n",
       "      <th>foreign_gross</th>\n",
       "      <th>net_revenue</th>\n",
       "      <th>return_on_investment</th>\n",
       "    </tr>\n",
       "    <tr>\n",
       "      <th>country_count_category</th>\n",
       "      <th></th>\n",
       "      <th></th>\n",
       "      <th></th>\n",
       "      <th></th>\n",
       "      <th></th>\n",
       "      <th></th>\n",
       "      <th></th>\n",
       "    </tr>\n",
       "  </thead>\n",
       "  <tbody>\n",
       "    <tr>\n",
       "      <th>11 - 20</th>\n",
       "      <td>10600000.0</td>\n",
       "      <td>7710234.0</td>\n",
       "      <td>13019253.0</td>\n",
       "      <td>16.0</td>\n",
       "      <td>2828779.0</td>\n",
       "      <td>1927779.0</td>\n",
       "      <td>0.209835</td>\n",
       "    </tr>\n",
       "    <tr>\n",
       "      <th>2 - 10</th>\n",
       "      <td>8000000.0</td>\n",
       "      <td>4829804.0</td>\n",
       "      <td>7263222.0</td>\n",
       "      <td>5.0</td>\n",
       "      <td>98053.0</td>\n",
       "      <td>-204.5</td>\n",
       "      <td>-0.001842</td>\n",
       "    </tr>\n",
       "    <tr>\n",
       "      <th>21 - 30</th>\n",
       "      <td>30000000.0</td>\n",
       "      <td>35599744.5</td>\n",
       "      <td>70671126.0</td>\n",
       "      <td>26.0</td>\n",
       "      <td>31200720.0</td>\n",
       "      <td>38215892.0</td>\n",
       "      <td>1.433405</td>\n",
       "    </tr>\n",
       "    <tr>\n",
       "      <th>31 - 40</th>\n",
       "      <td>75000000.0</td>\n",
       "      <td>89302115.0</td>\n",
       "      <td>260002115.0</td>\n",
       "      <td>33.0</td>\n",
       "      <td>154599082.0</td>\n",
       "      <td>167023808.0</td>\n",
       "      <td>2.594978</td>\n",
       "    </tr>\n",
       "    <tr>\n",
       "      <th>41 +</th>\n",
       "      <td>187500000.0</td>\n",
       "      <td>246200985.0</td>\n",
       "      <td>899906806.5</td>\n",
       "      <td>43.5</td>\n",
       "      <td>575300946.5</td>\n",
       "      <td>687406806.5</td>\n",
       "      <td>3.799302</td>\n",
       "    </tr>\n",
       "  </tbody>\n",
       "</table>\n",
       "</div>"
      ],
      "text/plain": [
       "                        production_budget  domestic_gross  worldwide_gross  country_count  foreign_gross  net_revenue  return_on_investment\n",
       "country_count_category                                                                                                                     \n",
       "11 - 20                        10600000.0       7710234.0       13019253.0           16.0      2828779.0    1927779.0              0.209835\n",
       "2 - 10                          8000000.0       4829804.0        7263222.0            5.0        98053.0       -204.5             -0.001842\n",
       "21 - 30                        30000000.0      35599744.5       70671126.0           26.0     31200720.0   38215892.0              1.433405\n",
       "31 - 40                        75000000.0      89302115.0      260002115.0           33.0    154599082.0  167023808.0              2.594978\n",
       "41 +                          187500000.0     246200985.0      899906806.5           43.5    575300946.5  687406806.5              3.799302"
      ]
     },
     "execution_count": 52,
     "metadata": {},
     "output_type": "execute_result"
    }
   ],
   "source": [
    "df_int_movies_analysis_inner_cleaned.groupby('country_count_category').median()"
   ]
  },
  {
   "cell_type": "markdown",
   "metadata": {},
   "source": [
    "**The function below is based on the above table, replace the values as needed to switch between features to compare.**"
   ]
  },
  {
   "cell_type": "code",
   "execution_count": 53,
   "metadata": {
    "ExecuteTime": {
     "end_time": "2020-06-22T16:28:57.049667Z",
     "start_time": "2020-06-22T16:28:57.036703Z"
    }
   },
   "outputs": [
    {
     "name": "stdout",
     "output_type": "stream",
     "text": [
      "Hmmmm, I'm thinking this movie was released in 41 + countries.\n"
     ]
    }
   ],
   "source": [
    "def domestic_movie_guess(movie):\n",
    "    \n",
    "    '''This function takes in the name of a movie (string) from the \n",
    "    df_domestic_country_check dataset and returns an estimate of the number of\n",
    "    countries that the movie was released in.'''\n",
    "    \n",
    "    dom_df = df_domestic_country_check\n",
    "    int_df = df_int_movies_analysis_inner_cleaned\n",
    "    \n",
    "    country_prob_list = df_int_movies_analysis_inner_cleaned.groupby('country_count_category').median()['worldwide_gross']\n",
    "#     print(country_prob_list)\n",
    "    \n",
    "    country_prob_list_keys = list(country_prob_list.keys())\n",
    "#     print(country_prob_list_keys)\n",
    "    \n",
    "    country_prob_list_values = list(country_prob_list.unique())\n",
    "#     print(country_prob_list_values)\n",
    "    \n",
    "    prob_dict = {}\n",
    "    \n",
    "#     for i in country_prob_list_values:\n",
    "#         prob_dict[i] = country_prob_list_values[i]\n",
    "    prob_dict['7263222.0'] = '10 or less'\n",
    "    prob_dict['13019253.0'] = '11 - 20'\n",
    "    prob_dict['70671126.0'] = '21 - 30'\n",
    "    prob_dict['260002115.0'] = '31 - 40'\n",
    "    prob_dict['899906806.5'] = '41 +'\n",
    "#     print(prob_dict)\n",
    "    \n",
    "    worldwide_gross = int(dom_df[dom_df['primary_title'] == movie]['worldwide_gross'].unique())\n",
    "#     print(worldwide_gross)\n",
    "\n",
    "    for i in country_prob_list_values:\n",
    "        n = 0\n",
    "        if worldwide_gross > country_prob_list_values[-1]:\n",
    "            return country_prob_list_keys[-1]\n",
    "        elif i < worldwide_gross:\n",
    "#             print('passed')\n",
    "            continue\n",
    "        else:\n",
    "            return print('Hmmmm, I\\'m thinking this movie was released in {} countries.'.format(prob_dict[str(i)]))\n",
    "        \n",
    "    \n",
    "domestic_movie_guess('Cast Away')"
   ]
  },
  {
   "cell_type": "markdown",
   "metadata": {},
   "source": [
    "**Feel free to check out your favourite  movie source online to compare the results!** "
   ]
  }
 ],
 "metadata": {
  "kernelspec": {
   "display_name": "Python [conda env:learn-env] *",
   "language": "python",
   "name": "conda-env-learn-env-py"
  },
  "language_info": {
   "codemirror_mode": {
    "name": "ipython",
    "version": 3
   },
   "file_extension": ".py",
   "mimetype": "text/x-python",
   "name": "python",
   "nbconvert_exporter": "python",
   "pygments_lexer": "ipython3",
   "version": "3.6.6"
  },
  "toc": {
   "base_numbering": 1,
   "nav_menu": {},
   "number_sections": true,
   "sideBar": true,
   "skip_h1_title": false,
   "title_cell": "Table of Contents",
   "title_sidebar": "Contents",
   "toc_cell": false,
   "toc_position": {
    "height": "calc(100% - 180px)",
    "left": "10px",
    "top": "150px",
    "width": "437.167px"
   },
   "toc_section_display": true,
   "toc_window_display": true
  },
  "varInspector": {
   "cols": {
    "lenName": 16,
    "lenType": 16,
    "lenVar": 40
   },
   "kernels_config": {
    "python": {
     "delete_cmd_postfix": "",
     "delete_cmd_prefix": "del ",
     "library": "var_list.py",
     "varRefreshCmd": "print(var_dic_list())"
    },
    "r": {
     "delete_cmd_postfix": ") ",
     "delete_cmd_prefix": "rm(",
     "library": "var_list.r",
     "varRefreshCmd": "cat(var_dic_list()) "
    }
   },
   "types_to_exclude": [
    "module",
    "function",
    "builtin_function_or_method",
    "instance",
    "_Feature"
   ],
   "window_display": false
  }
 },
 "nbformat": 4,
 "nbformat_minor": 2
}

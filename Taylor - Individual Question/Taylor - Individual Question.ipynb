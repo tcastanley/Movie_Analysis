{
 "cells": [
  {
   "cell_type": "code",
   "execution_count": null,
   "metadata": {},
   "outputs": [],
   "source": [
    "## Final Project Submission\n",
    "\n",
    "Please fill out:\n",
    "* Student name: \n",
    "* Student pace: self paced / part time / full time\n",
    "* Scheduled project review date/time: \n",
    "* Instructor name: \n",
    "* Blog post URL:"
   ]
  },
  {
   "cell_type": "code",
   "execution_count": null,
   "metadata": {},
   "outputs": [],
   "source": []
  },
  {
   "cell_type": "code",
   "execution_count": null,
   "metadata": {},
   "outputs": [],
   "source": []
  },
  {
   "cell_type": "code",
   "execution_count": null,
   "metadata": {},
   "outputs": [],
   "source": []
  },
  {
   "cell_type": "code",
   "execution_count": null,
   "metadata": {},
   "outputs": [],
   "source": [
    "df_domestic_country_check = df_movie_moneys.merge(df_domestic_title_country, on='primary_title')\n",
    "df_domestic_country_check = df_domestic_country_check.sort_values('worldwide_gross', ascending=False)\n",
    "df_domestic_country_check['return_on_investment'] = ((df_domestic_country_check['worldwide_gross'] - df_domestic_country_check['production_budget'])/df_domestic_country_check['production_budget'])\n",
    "df_domestic_country_check['profit/loss'] = df_int_movies_analysis_inner['return_on_investment'].map(lambda x: profit_loss_function(x))\n",
    "\n",
    "df_domestic_country_check"
   ]
  },
  {
   "cell_type": "code",
   "execution_count": null,
   "metadata": {},
   "outputs": [],
   "source": [
    "country_prob_list = df_int_movies_analysis_inner_cleaned.groupby('country_count_category').median()\n",
    "# ['worldwide_gross']\n",
    "country_prob_list \n",
    "\n",
    "# = country_prob_list.keys()\n",
    "# country_prob_list_values = list(country_prob_list.unique())\n",
    "# country_prob_list_values"
   ]
  },
  {
   "cell_type": "code",
   "execution_count": null,
   "metadata": {},
   "outputs": [],
   "source": [
    "between_quantile_col_cleaner(\n",
    "    df_int_movies_analysis_inner_cleaned,\n",
    "    'worldwide_gross',\n",
    "    .01,\n",
    "    .99)"
   ]
  },
  {
   "cell_type": "code",
   "execution_count": null,
   "metadata": {},
   "outputs": [],
   "source": [
    "sns.countplot(x='country_count_category',\n",
    "            data=df_int_movies_analysis_inner_cleaned_bartest,\n",
    "            color='orange');"
   ]
  },
  {
   "cell_type": "code",
   "execution_count": null,
   "metadata": {},
   "outputs": [],
   "source": [
    "Above we can see that 2, and 3 countries rank quite high on the list.  We can also see that 4 and 5 aren't far behind.\n",
    "Let's take a closer looks at those movies and see if there is anything special about those few countries"
   ]
  },
  {
   "cell_type": "code",
   "execution_count": null,
   "metadata": {},
   "outputs": [],
   "source": [
    "len(df_int_movies_analysis_inner_cleaned[\n",
    "    df_int_movies_analysis_inner_cleaned['country_count'] <= 3])"
   ]
  },
  {
   "cell_type": "code",
   "execution_count": null,
   "metadata": {},
   "outputs": [],
   "source": [
    "ccount_cleaning = df_int_movies_analysis_inner_cleaned[\n",
    "    (df_int_movies_analysis_inner_cleaned['country_count'] <= 3)\n",
    "&\n",
    "(df_int_movies_analysis_inner_cleaned['foreign_gross'] > df_int_movies_analysis_inner_cleaned['domestic_gross'])]\n",
    "print(ccount_cleaning.shape)\n",
    "ccount_cleaning"
   ]
  },
  {
   "cell_type": "code",
   "execution_count": null,
   "metadata": {},
   "outputs": [],
   "source": [
    "df_int_movies_analysis_inner_cleaned['country_count'].sort_values(ascending=False)"
   ]
  },
  {
   "cell_type": "code",
   "execution_count": null,
   "metadata": {},
   "outputs": [],
   "source": [
    "df_int_movies_analysis_inner_cleaned.describe()"
   ]
  },
  {
   "cell_type": "code",
   "execution_count": null,
   "metadata": {},
   "outputs": [],
   "source": []
  },
  {
   "cell_type": "code",
   "execution_count": null,
   "metadata": {},
   "outputs": [],
   "source": []
  }
 ],
 "metadata": {
  "kernelspec": {
   "display_name": "Python [conda env:learn-env] *",
   "language": "python",
   "name": "conda-env-learn-env-py"
  },
  "language_info": {
   "codemirror_mode": {
    "name": "ipython",
    "version": 3
   },
   "file_extension": ".py",
   "mimetype": "text/x-python",
   "name": "python",
   "nbconvert_exporter": "python",
   "pygments_lexer": "ipython3",
   "version": "3.6.6"
  },
  "toc": {
   "base_numbering": 1,
   "nav_menu": {},
   "number_sections": true,
   "sideBar": true,
   "skip_h1_title": false,
   "title_cell": "Table of Contents",
   "title_sidebar": "Contents",
   "toc_cell": false,
   "toc_position": {},
   "toc_section_display": true,
   "toc_window_display": false
  },
  "varInspector": {
   "cols": {
    "lenName": 16,
    "lenType": 16,
    "lenVar": 40
   },
   "kernels_config": {
    "python": {
     "delete_cmd_postfix": "",
     "delete_cmd_prefix": "del ",
     "library": "var_list.py",
     "varRefreshCmd": "print(var_dic_list())"
    },
    "r": {
     "delete_cmd_postfix": ") ",
     "delete_cmd_prefix": "rm(",
     "library": "var_list.r",
     "varRefreshCmd": "cat(var_dic_list()) "
    }
   },
   "types_to_exclude": [
    "module",
    "function",
    "builtin_function_or_method",
    "instance",
    "_Feature"
   ],
   "window_display": false
  }
 },
 "nbformat": 4,
 "nbformat_minor": 2
}

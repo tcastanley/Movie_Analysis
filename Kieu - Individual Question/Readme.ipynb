{
 "cells": [
  {
   "cell_type": "markdown",
   "metadata": {},
   "source": [
    "## Readme"
   ]
  },
  {
   "attachments": {},
   "cell_type": "markdown",
   "metadata": {},
   "source": [
    "**The format for the readme should be as follows**:\n",
    "\n",
    "* **Goals and Objectives**:\n",
    "    The goal of the project is to provide Mircosoft with a recomnaded list of genres and what the typical budget for each genres. \n",
    "    \n",
    "    The data is genreated from: \n",
    "        Box Office Mojo\n",
    "        IMDB\n",
    "        Rotten Tomatoes\n",
    "        TheMovieDB.org\n",
    "\n",
    "* **For each question**:\n",
    "    Question 1: what are the 3 top genres and who are the top 3 producers and writers?\n",
    "    \n",
    "     1. Describe the EDA done to get the data, include any table joins performed and any sort of cleaning.\n",
    "    \n",
    "    To get the data, the following data cleaning was done:\n",
    "    \n",
    "        1, Converted the data type from string to float\n",
    "        \n",
    "        2, Join imdb_title_basics with imdb_title_ratings by the tconst column. Converted genres to string and splited the genres into a list for each row. \n",
    "        \n",
    "        3. Join this table with the budgets table by title.\n",
    "        \n",
    "        4. Select only column of interest which are genres, averge rating, numvotes and  find the means.\n",
    "        \n",
    "        5. Sort to get a list of genres by numvotes. The numvotes should correspond to their popularity.\n",
    "        \n",
    "        6. Repeat the same process to find out the budgets for each genres.\n",
    "        \n",
    "        7. Repeat step 1 to 6 with the writers and procuders to get the top writers and producers using title budget table with imbd_title_crew table. \n",
    "        \n",
    "    Question 2: what the target production budget should be?\n",
    "  \n",
    "        To find the production budget for the genres of interest, I used the table created in step 3 and select only the genres to find out the average budgets for each using \".iloc\" method. \n",
    "    \n",
    "\n",
    "    2. Note down any findings/recommendations/future work you may have\n",
    "        1. List all the data needed for the project.\n",
    "        2. Create a flow chart starting with the end goal. Update the chart nescessary to reflect the most current findings. Make changes to the plan if nescessary.\n",
    "        3. Keep track of the time spent on each part of the project and set out daily goal to acheive.\n",
    "        4. Communicate with the team regard of any changes in the plan. \n",
    "        5. Keep track of a list of common coding mistakes to avoid or debug \n",
    "* Command to convert jupyter notebook to markdown file:\n",
    "    ```jupyter nbconvert --to markdown notebookname.ipynb```\n",
    "    "
   ]
  }
 ],
 "metadata": {
  "kernelspec": {
   "display_name": "Python 3",
   "language": "python",
   "name": "python3"
  },
  "language_info": {
   "codemirror_mode": {
    "name": "ipython",
    "version": 3
   },
   "file_extension": ".py",
   "mimetype": "text/x-python",
   "name": "python",
   "nbconvert_exporter": "python",
   "pygments_lexer": "ipython3",
   "version": "3.6.9"
  },
  "toc": {
   "base_numbering": 1,
   "nav_menu": {},
   "number_sections": true,
   "sideBar": true,
   "skip_h1_title": false,
   "title_cell": "Table of Contents",
   "title_sidebar": "Contents",
   "toc_cell": false,
   "toc_position": {},
   "toc_section_display": true,
   "toc_window_display": false
  },
  "varInspector": {
   "cols": {
    "lenName": 16,
    "lenType": 16,
    "lenVar": 40
   },
   "kernels_config": {
    "python": {
     "delete_cmd_postfix": "",
     "delete_cmd_prefix": "del ",
     "library": "var_list.py",
     "varRefreshCmd": "print(var_dic_list())"
    },
    "r": {
     "delete_cmd_postfix": ") ",
     "delete_cmd_prefix": "rm(",
     "library": "var_list.r",
     "varRefreshCmd": "cat(var_dic_list()) "
    }
   },
   "types_to_exclude": [
    "module",
    "function",
    "builtin_function_or_method",
    "instance",
    "_Feature"
   ],
   "window_display": false
  }
 },
 "nbformat": 4,
 "nbformat_minor": 2
}
